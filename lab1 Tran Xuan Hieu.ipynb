{
  "nbformat": 4,
  "nbformat_minor": 0,
  "metadata": {
    "celltoolbar": "Nbtutor - export exercises",
    "kernelspec": {
      "display_name": "Python 3",
      "language": "python",
      "name": "python3"
    },
    "language_info": {
      "codemirror_mode": {
        "name": "ipython",
        "version": 3
      },
      "file_extension": ".py",
      "mimetype": "text/x-python",
      "name": "python",
      "nbconvert_exporter": "python",
      "pygments_lexer": "ipython3",
      "version": "3.5.2"
    },
    "colab": {
      "name": "lab1-pandas- Indexing and selecting data.ipynb",
      "provenance": [],
      "collapsed_sections": [],
      "toc_visible": true
    }
  },
  "cells": [
    {
      "cell_type": "markdown",
      "metadata": {
        "id": "M17FEUHm7eEo"
      },
      "source": [
        "# Indexing and selecting data"
      ]
    },
    {
      "cell_type": "code",
      "metadata": {
        "id": "9mm367S37eEu"
      },
      "source": [
        "%matplotlib inline\n",
        "\n",
        "import pandas as pd\n",
        "import numpy as np\n",
        "import matplotlib.pyplot as plt\n",
        "try:\n",
        "    import seaborn\n",
        "except ImportError:\n",
        "    pass"
      ],
      "execution_count": 63,
      "outputs": []
    },
    {
      "cell_type": "code",
      "metadata": {
        "id": "BjhpFU1H7eE9",
        "colab": {
          "base_uri": "https://localhost:8080/",
          "height": 198
        },
        "outputId": "b6bd4291-2a7b-4a67-f297-46db179365b4"
      },
      "source": [
        "# redefining the example objects\n",
        "\n",
        "# series\n",
        "population = pd.Series({'Germany': 81.3, 'Belgium': 11.3, 'France': 64.3, \n",
        "                        'United Kingdom': 64.9, 'Netherlands': 16.9})\n",
        "\n",
        "# dataframe\n",
        "data = {'country': ['Belgium', 'France', 'Germany', 'Netherlands', 'United Kingdom'],\n",
        "        'population': [11.3, 64.3, 81.3, 16.9, 64.9],\n",
        "        'area': [30510, 671308, 357050, 41526, 244820],\n",
        "        'capital': ['Brussels', 'Paris', 'Berlin', 'Amsterdam', 'London']}\n",
        "countries = pd.DataFrame(data)\n",
        "countries"
      ],
      "execution_count": 64,
      "outputs": [
        {
          "output_type": "execute_result",
          "data": {
            "text/html": [
              "<div>\n",
              "<style scoped>\n",
              "    .dataframe tbody tr th:only-of-type {\n",
              "        vertical-align: middle;\n",
              "    }\n",
              "\n",
              "    .dataframe tbody tr th {\n",
              "        vertical-align: top;\n",
              "    }\n",
              "\n",
              "    .dataframe thead th {\n",
              "        text-align: right;\n",
              "    }\n",
              "</style>\n",
              "<table border=\"1\" class=\"dataframe\">\n",
              "  <thead>\n",
              "    <tr style=\"text-align: right;\">\n",
              "      <th></th>\n",
              "      <th>country</th>\n",
              "      <th>population</th>\n",
              "      <th>area</th>\n",
              "      <th>capital</th>\n",
              "    </tr>\n",
              "  </thead>\n",
              "  <tbody>\n",
              "    <tr>\n",
              "      <th>0</th>\n",
              "      <td>Belgium</td>\n",
              "      <td>11.3</td>\n",
              "      <td>30510</td>\n",
              "      <td>Brussels</td>\n",
              "    </tr>\n",
              "    <tr>\n",
              "      <th>1</th>\n",
              "      <td>France</td>\n",
              "      <td>64.3</td>\n",
              "      <td>671308</td>\n",
              "      <td>Paris</td>\n",
              "    </tr>\n",
              "    <tr>\n",
              "      <th>2</th>\n",
              "      <td>Germany</td>\n",
              "      <td>81.3</td>\n",
              "      <td>357050</td>\n",
              "      <td>Berlin</td>\n",
              "    </tr>\n",
              "    <tr>\n",
              "      <th>3</th>\n",
              "      <td>Netherlands</td>\n",
              "      <td>16.9</td>\n",
              "      <td>41526</td>\n",
              "      <td>Amsterdam</td>\n",
              "    </tr>\n",
              "    <tr>\n",
              "      <th>4</th>\n",
              "      <td>United Kingdom</td>\n",
              "      <td>64.9</td>\n",
              "      <td>244820</td>\n",
              "      <td>London</td>\n",
              "    </tr>\n",
              "  </tbody>\n",
              "</table>\n",
              "</div>"
            ],
            "text/plain": [
              "          country  population    area    capital\n",
              "0         Belgium        11.3   30510   Brussels\n",
              "1          France        64.3  671308      Paris\n",
              "2         Germany        81.3  357050     Berlin\n",
              "3     Netherlands        16.9   41526  Amsterdam\n",
              "4  United Kingdom        64.9  244820     London"
            ]
          },
          "metadata": {
            "tags": []
          },
          "execution_count": 64
        }
      ]
    },
    {
      "cell_type": "markdown",
      "metadata": {
        "id": "nzNofi3Z7eFG"
      },
      "source": [
        "Setting the index to the country names:"
      ]
    },
    {
      "cell_type": "code",
      "metadata": {
        "id": "8a0EyTNl7eFH",
        "colab": {
          "base_uri": "https://localhost:8080/",
          "height": 228
        },
        "outputId": "94671189-a5fd-4154-d2f5-6e6d4ae83182"
      },
      "source": [
        "countries = countries.set_index('country')\n",
        "countries"
      ],
      "execution_count": 65,
      "outputs": [
        {
          "output_type": "execute_result",
          "data": {
            "text/html": [
              "<div>\n",
              "<style scoped>\n",
              "    .dataframe tbody tr th:only-of-type {\n",
              "        vertical-align: middle;\n",
              "    }\n",
              "\n",
              "    .dataframe tbody tr th {\n",
              "        vertical-align: top;\n",
              "    }\n",
              "\n",
              "    .dataframe thead th {\n",
              "        text-align: right;\n",
              "    }\n",
              "</style>\n",
              "<table border=\"1\" class=\"dataframe\">\n",
              "  <thead>\n",
              "    <tr style=\"text-align: right;\">\n",
              "      <th></th>\n",
              "      <th>population</th>\n",
              "      <th>area</th>\n",
              "      <th>capital</th>\n",
              "    </tr>\n",
              "    <tr>\n",
              "      <th>country</th>\n",
              "      <th></th>\n",
              "      <th></th>\n",
              "      <th></th>\n",
              "    </tr>\n",
              "  </thead>\n",
              "  <tbody>\n",
              "    <tr>\n",
              "      <th>Belgium</th>\n",
              "      <td>11.3</td>\n",
              "      <td>30510</td>\n",
              "      <td>Brussels</td>\n",
              "    </tr>\n",
              "    <tr>\n",
              "      <th>France</th>\n",
              "      <td>64.3</td>\n",
              "      <td>671308</td>\n",
              "      <td>Paris</td>\n",
              "    </tr>\n",
              "    <tr>\n",
              "      <th>Germany</th>\n",
              "      <td>81.3</td>\n",
              "      <td>357050</td>\n",
              "      <td>Berlin</td>\n",
              "    </tr>\n",
              "    <tr>\n",
              "      <th>Netherlands</th>\n",
              "      <td>16.9</td>\n",
              "      <td>41526</td>\n",
              "      <td>Amsterdam</td>\n",
              "    </tr>\n",
              "    <tr>\n",
              "      <th>United Kingdom</th>\n",
              "      <td>64.9</td>\n",
              "      <td>244820</td>\n",
              "      <td>London</td>\n",
              "    </tr>\n",
              "  </tbody>\n",
              "</table>\n",
              "</div>"
            ],
            "text/plain": [
              "                population    area    capital\n",
              "country                                      \n",
              "Belgium               11.3   30510   Brussels\n",
              "France                64.3  671308      Paris\n",
              "Germany               81.3  357050     Berlin\n",
              "Netherlands           16.9   41526  Amsterdam\n",
              "United Kingdom        64.9  244820     London"
            ]
          },
          "metadata": {
            "tags": []
          },
          "execution_count": 65
        }
      ]
    },
    {
      "cell_type": "markdown",
      "metadata": {
        "id": "OBlIAJX87eGL"
      },
      "source": [
        "## Some notes on selecting data\n",
        "\n",
        "One of pandas' basic features is the labeling of rows and columns, but this makes indexing also a bit more complex compared to numpy. We now have to distuinguish between:\n",
        "\n",
        "- selection by label\n",
        "- selection by position."
      ]
    },
    {
      "cell_type": "markdown",
      "metadata": {
        "id": "gx0lt3Mn7eGM"
      },
      "source": [
        "### `data[]` provides some convenience shortcuts "
      ]
    },
    {
      "cell_type": "markdown",
      "metadata": {
        "id": "BN684rj37eGN"
      },
      "source": [
        "For a DataFrame, basic indexing selects the columns.\n",
        "\n",
        "Selecting a single column:"
      ]
    },
    {
      "cell_type": "code",
      "metadata": {
        "id": "TvqerHKR7eGO",
        "colab": {
          "base_uri": "https://localhost:8080/"
        },
        "outputId": "1fc7187f-3d0e-4f18-a417-ee4f344af591"
      },
      "source": [
        "countries['area']"
      ],
      "execution_count": 66,
      "outputs": [
        {
          "output_type": "execute_result",
          "data": {
            "text/plain": [
              "country\n",
              "Belgium            30510\n",
              "France            671308\n",
              "Germany           357050\n",
              "Netherlands        41526\n",
              "United Kingdom    244820\n",
              "Name: area, dtype: int64"
            ]
          },
          "metadata": {
            "tags": []
          },
          "execution_count": 66
        }
      ]
    },
    {
      "cell_type": "markdown",
      "metadata": {
        "id": "OOuYuysR7eGT"
      },
      "source": [
        "or multiple columns:"
      ]
    },
    {
      "cell_type": "code",
      "metadata": {
        "id": "BlHQgS8J7eGU",
        "colab": {
          "base_uri": "https://localhost:8080/",
          "height": 228
        },
        "outputId": "5bb86fe4-d21c-4aea-ee91-ab1ebcbea9d8"
      },
      "source": [
        "countries[['area', 'population']]"
      ],
      "execution_count": 67,
      "outputs": [
        {
          "output_type": "execute_result",
          "data": {
            "text/html": [
              "<div>\n",
              "<style scoped>\n",
              "    .dataframe tbody tr th:only-of-type {\n",
              "        vertical-align: middle;\n",
              "    }\n",
              "\n",
              "    .dataframe tbody tr th {\n",
              "        vertical-align: top;\n",
              "    }\n",
              "\n",
              "    .dataframe thead th {\n",
              "        text-align: right;\n",
              "    }\n",
              "</style>\n",
              "<table border=\"1\" class=\"dataframe\">\n",
              "  <thead>\n",
              "    <tr style=\"text-align: right;\">\n",
              "      <th></th>\n",
              "      <th>area</th>\n",
              "      <th>population</th>\n",
              "    </tr>\n",
              "    <tr>\n",
              "      <th>country</th>\n",
              "      <th></th>\n",
              "      <th></th>\n",
              "    </tr>\n",
              "  </thead>\n",
              "  <tbody>\n",
              "    <tr>\n",
              "      <th>Belgium</th>\n",
              "      <td>30510</td>\n",
              "      <td>11.3</td>\n",
              "    </tr>\n",
              "    <tr>\n",
              "      <th>France</th>\n",
              "      <td>671308</td>\n",
              "      <td>64.3</td>\n",
              "    </tr>\n",
              "    <tr>\n",
              "      <th>Germany</th>\n",
              "      <td>357050</td>\n",
              "      <td>81.3</td>\n",
              "    </tr>\n",
              "    <tr>\n",
              "      <th>Netherlands</th>\n",
              "      <td>41526</td>\n",
              "      <td>16.9</td>\n",
              "    </tr>\n",
              "    <tr>\n",
              "      <th>United Kingdom</th>\n",
              "      <td>244820</td>\n",
              "      <td>64.9</td>\n",
              "    </tr>\n",
              "  </tbody>\n",
              "</table>\n",
              "</div>"
            ],
            "text/plain": [
              "                  area  population\n",
              "country                           \n",
              "Belgium          30510        11.3\n",
              "France          671308        64.3\n",
              "Germany         357050        81.3\n",
              "Netherlands      41526        16.9\n",
              "United Kingdom  244820        64.9"
            ]
          },
          "metadata": {
            "tags": []
          },
          "execution_count": 67
        }
      ]
    },
    {
      "cell_type": "markdown",
      "metadata": {
        "id": "4lx383MP7eGY"
      },
      "source": [
        "But, slicing accesses the rows:"
      ]
    },
    {
      "cell_type": "code",
      "metadata": {
        "id": "v3t35jYH7eGZ",
        "colab": {
          "base_uri": "https://localhost:8080/",
          "height": 168
        },
        "outputId": "de2e85dc-0ad1-4854-9545-15359e12fa4f"
      },
      "source": [
        "countries['France':'Netherlands']"
      ],
      "execution_count": 68,
      "outputs": [
        {
          "output_type": "execute_result",
          "data": {
            "text/html": [
              "<div>\n",
              "<style scoped>\n",
              "    .dataframe tbody tr th:only-of-type {\n",
              "        vertical-align: middle;\n",
              "    }\n",
              "\n",
              "    .dataframe tbody tr th {\n",
              "        vertical-align: top;\n",
              "    }\n",
              "\n",
              "    .dataframe thead th {\n",
              "        text-align: right;\n",
              "    }\n",
              "</style>\n",
              "<table border=\"1\" class=\"dataframe\">\n",
              "  <thead>\n",
              "    <tr style=\"text-align: right;\">\n",
              "      <th></th>\n",
              "      <th>population</th>\n",
              "      <th>area</th>\n",
              "      <th>capital</th>\n",
              "    </tr>\n",
              "    <tr>\n",
              "      <th>country</th>\n",
              "      <th></th>\n",
              "      <th></th>\n",
              "      <th></th>\n",
              "    </tr>\n",
              "  </thead>\n",
              "  <tbody>\n",
              "    <tr>\n",
              "      <th>France</th>\n",
              "      <td>64.3</td>\n",
              "      <td>671308</td>\n",
              "      <td>Paris</td>\n",
              "    </tr>\n",
              "    <tr>\n",
              "      <th>Germany</th>\n",
              "      <td>81.3</td>\n",
              "      <td>357050</td>\n",
              "      <td>Berlin</td>\n",
              "    </tr>\n",
              "    <tr>\n",
              "      <th>Netherlands</th>\n",
              "      <td>16.9</td>\n",
              "      <td>41526</td>\n",
              "      <td>Amsterdam</td>\n",
              "    </tr>\n",
              "  </tbody>\n",
              "</table>\n",
              "</div>"
            ],
            "text/plain": [
              "             population    area    capital\n",
              "country                                   \n",
              "France             64.3  671308      Paris\n",
              "Germany            81.3  357050     Berlin\n",
              "Netherlands        16.9   41526  Amsterdam"
            ]
          },
          "metadata": {
            "tags": []
          },
          "execution_count": 68
        }
      ]
    },
    {
      "cell_type": "markdown",
      "metadata": {
        "id": "1y3nvZEj7eGf"
      },
      "source": [
        "<div class=\"alert alert-danger\">\n",
        "    <b>NOTE</b>: Unlike slicing in numpy, the end label is **included**.\n",
        "</div>"
      ]
    },
    {
      "cell_type": "markdown",
      "metadata": {
        "id": "b2dUtycQ7eGg"
      },
      "source": [
        "So as a summary, `[]` provides the following convenience shortcuts:\n",
        "\n",
        "- Series: selecting a label: `s[label]`\n",
        "- DataFrame: selecting a single or multiple columns: `df['col']` or `df[['col1', 'col2']]`\n",
        "- DataFrame: slicing the rows: `df['row_label1':'row_label2']` or `df[mask]`"
      ]
    },
    {
      "cell_type": "markdown",
      "metadata": {
        "id": "UU8ycQRZ7eGh"
      },
      "source": [
        "### Systematic indexing with `loc` and `iloc`"
      ]
    },
    {
      "cell_type": "markdown",
      "metadata": {
        "id": "5vvY3QnL7eGi"
      },
      "source": [
        "When using `[]` like above, you can only select from one axis at once (rows or columns, not both). For more advanced indexing, you have some extra attributes:\n",
        "    \n",
        "* `loc`: selection by label\n",
        "* `iloc`: selection by position\n",
        "\n",
        "These methods index the different dimensions of the frame:\n",
        "\n",
        "* `df.loc[row_indexer, column_indexer]`\n",
        "* `df.iloc[row_indexer, column_indexer]`"
      ]
    },
    {
      "cell_type": "markdown",
      "metadata": {
        "id": "JywUZCgo7eGj"
      },
      "source": [
        "Selecting a single element:"
      ]
    },
    {
      "cell_type": "code",
      "metadata": {
        "id": "EqbVHYzd7eGk",
        "colab": {
          "base_uri": "https://localhost:8080/"
        },
        "outputId": "a8f42b86-1278-4f8e-8cd2-6c49b5f82ddc"
      },
      "source": [
        "countries.loc['Germany', 'area']"
      ],
      "execution_count": 69,
      "outputs": [
        {
          "output_type": "execute_result",
          "data": {
            "text/plain": [
              "357050"
            ]
          },
          "metadata": {
            "tags": []
          },
          "execution_count": 69
        }
      ]
    },
    {
      "cell_type": "markdown",
      "metadata": {
        "id": "mWq4Cjsk7eGo"
      },
      "source": [
        "But the row or column indexer can also be a list, slice, boolean array, .."
      ]
    },
    {
      "cell_type": "code",
      "metadata": {
        "id": "-Zm-QWCI7eGp",
        "colab": {
          "base_uri": "https://localhost:8080/",
          "height": 138
        },
        "outputId": "cc418a71-f41d-4d02-be20-59e3748e352f"
      },
      "source": [
        "countries.loc['France':'Germany', ['area', 'population']]"
      ],
      "execution_count": 70,
      "outputs": [
        {
          "output_type": "execute_result",
          "data": {
            "text/html": [
              "<div>\n",
              "<style scoped>\n",
              "    .dataframe tbody tr th:only-of-type {\n",
              "        vertical-align: middle;\n",
              "    }\n",
              "\n",
              "    .dataframe tbody tr th {\n",
              "        vertical-align: top;\n",
              "    }\n",
              "\n",
              "    .dataframe thead th {\n",
              "        text-align: right;\n",
              "    }\n",
              "</style>\n",
              "<table border=\"1\" class=\"dataframe\">\n",
              "  <thead>\n",
              "    <tr style=\"text-align: right;\">\n",
              "      <th></th>\n",
              "      <th>area</th>\n",
              "      <th>population</th>\n",
              "    </tr>\n",
              "    <tr>\n",
              "      <th>country</th>\n",
              "      <th></th>\n",
              "      <th></th>\n",
              "    </tr>\n",
              "  </thead>\n",
              "  <tbody>\n",
              "    <tr>\n",
              "      <th>France</th>\n",
              "      <td>671308</td>\n",
              "      <td>64.3</td>\n",
              "    </tr>\n",
              "    <tr>\n",
              "      <th>Germany</th>\n",
              "      <td>357050</td>\n",
              "      <td>81.3</td>\n",
              "    </tr>\n",
              "  </tbody>\n",
              "</table>\n",
              "</div>"
            ],
            "text/plain": [
              "           area  population\n",
              "country                    \n",
              "France   671308        64.3\n",
              "Germany  357050        81.3"
            ]
          },
          "metadata": {
            "tags": []
          },
          "execution_count": 70
        }
      ]
    },
    {
      "cell_type": "markdown",
      "metadata": {
        "id": "rDuf2FnF7eGt"
      },
      "source": [
        "---\n",
        "Selecting by position with `iloc` works similar as indexing numpy arrays:"
      ]
    },
    {
      "cell_type": "code",
      "metadata": {
        "id": "X9MGBwHO7eGu",
        "colab": {
          "base_uri": "https://localhost:8080/",
          "height": 138
        },
        "outputId": "990268e0-97fb-4a0f-b193-0438e62c81f9"
      },
      "source": [
        "countries.iloc[0:2,1:3]"
      ],
      "execution_count": 71,
      "outputs": [
        {
          "output_type": "execute_result",
          "data": {
            "text/html": [
              "<div>\n",
              "<style scoped>\n",
              "    .dataframe tbody tr th:only-of-type {\n",
              "        vertical-align: middle;\n",
              "    }\n",
              "\n",
              "    .dataframe tbody tr th {\n",
              "        vertical-align: top;\n",
              "    }\n",
              "\n",
              "    .dataframe thead th {\n",
              "        text-align: right;\n",
              "    }\n",
              "</style>\n",
              "<table border=\"1\" class=\"dataframe\">\n",
              "  <thead>\n",
              "    <tr style=\"text-align: right;\">\n",
              "      <th></th>\n",
              "      <th>area</th>\n",
              "      <th>capital</th>\n",
              "    </tr>\n",
              "    <tr>\n",
              "      <th>country</th>\n",
              "      <th></th>\n",
              "      <th></th>\n",
              "    </tr>\n",
              "  </thead>\n",
              "  <tbody>\n",
              "    <tr>\n",
              "      <th>Belgium</th>\n",
              "      <td>30510</td>\n",
              "      <td>Brussels</td>\n",
              "    </tr>\n",
              "    <tr>\n",
              "      <th>France</th>\n",
              "      <td>671308</td>\n",
              "      <td>Paris</td>\n",
              "    </tr>\n",
              "  </tbody>\n",
              "</table>\n",
              "</div>"
            ],
            "text/plain": [
              "           area   capital\n",
              "country                  \n",
              "Belgium   30510  Brussels\n",
              "France   671308     Paris"
            ]
          },
          "metadata": {
            "tags": []
          },
          "execution_count": 71
        }
      ]
    },
    {
      "cell_type": "markdown",
      "metadata": {
        "id": "RDwXyyPJ7eGz"
      },
      "source": [
        "The different indexing methods can also be used to assign data:"
      ]
    },
    {
      "cell_type": "code",
      "metadata": {
        "id": "Xqo7q2fh7eG0"
      },
      "source": [
        "countries2 = countries.copy()\n",
        "countries2.loc['Belgium':'Germany', 'population'] = 10"
      ],
      "execution_count": 72,
      "outputs": []
    },
    {
      "cell_type": "code",
      "metadata": {
        "id": "r14SJps87eG5",
        "colab": {
          "base_uri": "https://localhost:8080/",
          "height": 228
        },
        "outputId": "0552ed94-6a8f-42fb-f8ae-6dccaf7452fc"
      },
      "source": [
        "countries2"
      ],
      "execution_count": 73,
      "outputs": [
        {
          "output_type": "execute_result",
          "data": {
            "text/html": [
              "<div>\n",
              "<style scoped>\n",
              "    .dataframe tbody tr th:only-of-type {\n",
              "        vertical-align: middle;\n",
              "    }\n",
              "\n",
              "    .dataframe tbody tr th {\n",
              "        vertical-align: top;\n",
              "    }\n",
              "\n",
              "    .dataframe thead th {\n",
              "        text-align: right;\n",
              "    }\n",
              "</style>\n",
              "<table border=\"1\" class=\"dataframe\">\n",
              "  <thead>\n",
              "    <tr style=\"text-align: right;\">\n",
              "      <th></th>\n",
              "      <th>population</th>\n",
              "      <th>area</th>\n",
              "      <th>capital</th>\n",
              "    </tr>\n",
              "    <tr>\n",
              "      <th>country</th>\n",
              "      <th></th>\n",
              "      <th></th>\n",
              "      <th></th>\n",
              "    </tr>\n",
              "  </thead>\n",
              "  <tbody>\n",
              "    <tr>\n",
              "      <th>Belgium</th>\n",
              "      <td>10.0</td>\n",
              "      <td>30510</td>\n",
              "      <td>Brussels</td>\n",
              "    </tr>\n",
              "    <tr>\n",
              "      <th>France</th>\n",
              "      <td>10.0</td>\n",
              "      <td>671308</td>\n",
              "      <td>Paris</td>\n",
              "    </tr>\n",
              "    <tr>\n",
              "      <th>Germany</th>\n",
              "      <td>10.0</td>\n",
              "      <td>357050</td>\n",
              "      <td>Berlin</td>\n",
              "    </tr>\n",
              "    <tr>\n",
              "      <th>Netherlands</th>\n",
              "      <td>16.9</td>\n",
              "      <td>41526</td>\n",
              "      <td>Amsterdam</td>\n",
              "    </tr>\n",
              "    <tr>\n",
              "      <th>United Kingdom</th>\n",
              "      <td>64.9</td>\n",
              "      <td>244820</td>\n",
              "      <td>London</td>\n",
              "    </tr>\n",
              "  </tbody>\n",
              "</table>\n",
              "</div>"
            ],
            "text/plain": [
              "                population    area    capital\n",
              "country                                      \n",
              "Belgium               10.0   30510   Brussels\n",
              "France                10.0  671308      Paris\n",
              "Germany               10.0  357050     Berlin\n",
              "Netherlands           16.9   41526  Amsterdam\n",
              "United Kingdom        64.9  244820     London"
            ]
          },
          "metadata": {
            "tags": []
          },
          "execution_count": 73
        }
      ]
    },
    {
      "cell_type": "markdown",
      "metadata": {
        "id": "cn4a2fSm7eG9"
      },
      "source": [
        "## Boolean indexing (filtering)"
      ]
    },
    {
      "cell_type": "markdown",
      "metadata": {
        "id": "N8vUWwrV7eG-"
      },
      "source": [
        "Often, you want to select rows based on a certain condition. This can be done with 'boolean indexing' (like a where clause in SQL). \n",
        "\n",
        "The indexer (or boolean mask) should be 1-dimensional and the same length as the thing being indexed."
      ]
    },
    {
      "cell_type": "code",
      "metadata": {
        "id": "TXd0jiMC7eHA",
        "colab": {
          "base_uri": "https://localhost:8080/"
        },
        "outputId": "d6cd11e5-8c3b-4e99-e6ee-f587cb0e6ce3"
      },
      "source": [
        "countries['area'] > 100000"
      ],
      "execution_count": 74,
      "outputs": [
        {
          "output_type": "execute_result",
          "data": {
            "text/plain": [
              "country\n",
              "Belgium           False\n",
              "France             True\n",
              "Germany            True\n",
              "Netherlands       False\n",
              "United Kingdom     True\n",
              "Name: area, dtype: bool"
            ]
          },
          "metadata": {
            "tags": []
          },
          "execution_count": 74
        }
      ]
    },
    {
      "cell_type": "code",
      "metadata": {
        "id": "VJhYWzaM7eHE",
        "colab": {
          "base_uri": "https://localhost:8080/",
          "height": 168
        },
        "outputId": "db9e3796-fab9-44b2-f193-3c2fd44585e8"
      },
      "source": [
        "countries[countries['area'] > 100000]"
      ],
      "execution_count": 75,
      "outputs": [
        {
          "output_type": "execute_result",
          "data": {
            "text/html": [
              "<div>\n",
              "<style scoped>\n",
              "    .dataframe tbody tr th:only-of-type {\n",
              "        vertical-align: middle;\n",
              "    }\n",
              "\n",
              "    .dataframe tbody tr th {\n",
              "        vertical-align: top;\n",
              "    }\n",
              "\n",
              "    .dataframe thead th {\n",
              "        text-align: right;\n",
              "    }\n",
              "</style>\n",
              "<table border=\"1\" class=\"dataframe\">\n",
              "  <thead>\n",
              "    <tr style=\"text-align: right;\">\n",
              "      <th></th>\n",
              "      <th>population</th>\n",
              "      <th>area</th>\n",
              "      <th>capital</th>\n",
              "    </tr>\n",
              "    <tr>\n",
              "      <th>country</th>\n",
              "      <th></th>\n",
              "      <th></th>\n",
              "      <th></th>\n",
              "    </tr>\n",
              "  </thead>\n",
              "  <tbody>\n",
              "    <tr>\n",
              "      <th>France</th>\n",
              "      <td>64.3</td>\n",
              "      <td>671308</td>\n",
              "      <td>Paris</td>\n",
              "    </tr>\n",
              "    <tr>\n",
              "      <th>Germany</th>\n",
              "      <td>81.3</td>\n",
              "      <td>357050</td>\n",
              "      <td>Berlin</td>\n",
              "    </tr>\n",
              "    <tr>\n",
              "      <th>United Kingdom</th>\n",
              "      <td>64.9</td>\n",
              "      <td>244820</td>\n",
              "      <td>London</td>\n",
              "    </tr>\n",
              "  </tbody>\n",
              "</table>\n",
              "</div>"
            ],
            "text/plain": [
              "                population    area capital\n",
              "country                                   \n",
              "France                64.3  671308   Paris\n",
              "Germany               81.3  357050  Berlin\n",
              "United Kingdom        64.9  244820  London"
            ]
          },
          "metadata": {
            "tags": []
          },
          "execution_count": 75
        }
      ]
    },
    {
      "cell_type": "markdown",
      "metadata": {
        "id": "FWghqh7h7eHI"
      },
      "source": [
        "---\n",
        "\n",
        "<div class=\"alert alert-success\">\n",
        "    <b>EXERCISE</b>: Add a column `density` with the population density (note: population column is expressed in millions)\n",
        "</div>"
      ]
    },
    {
      "cell_type": "code",
      "metadata": {
        "clear_cell": true,
        "id": "CXbh_LLs7eHJ",
        "colab": {
          "base_uri": "https://localhost:8080/",
          "height": 228
        },
        "outputId": "ca7593aa-4029-4bc6-9d94-c09c41a4880d"
      },
      "source": [
        "countries['density']= countries['population']*1000000/countries['area']\r\n",
        "countries"
      ],
      "execution_count": 76,
      "outputs": [
        {
          "output_type": "execute_result",
          "data": {
            "text/html": [
              "<div>\n",
              "<style scoped>\n",
              "    .dataframe tbody tr th:only-of-type {\n",
              "        vertical-align: middle;\n",
              "    }\n",
              "\n",
              "    .dataframe tbody tr th {\n",
              "        vertical-align: top;\n",
              "    }\n",
              "\n",
              "    .dataframe thead th {\n",
              "        text-align: right;\n",
              "    }\n",
              "</style>\n",
              "<table border=\"1\" class=\"dataframe\">\n",
              "  <thead>\n",
              "    <tr style=\"text-align: right;\">\n",
              "      <th></th>\n",
              "      <th>population</th>\n",
              "      <th>area</th>\n",
              "      <th>capital</th>\n",
              "      <th>density</th>\n",
              "    </tr>\n",
              "    <tr>\n",
              "      <th>country</th>\n",
              "      <th></th>\n",
              "      <th></th>\n",
              "      <th></th>\n",
              "      <th></th>\n",
              "    </tr>\n",
              "  </thead>\n",
              "  <tbody>\n",
              "    <tr>\n",
              "      <th>Belgium</th>\n",
              "      <td>11.3</td>\n",
              "      <td>30510</td>\n",
              "      <td>Brussels</td>\n",
              "      <td>370.370370</td>\n",
              "    </tr>\n",
              "    <tr>\n",
              "      <th>France</th>\n",
              "      <td>64.3</td>\n",
              "      <td>671308</td>\n",
              "      <td>Paris</td>\n",
              "      <td>95.783158</td>\n",
              "    </tr>\n",
              "    <tr>\n",
              "      <th>Germany</th>\n",
              "      <td>81.3</td>\n",
              "      <td>357050</td>\n",
              "      <td>Berlin</td>\n",
              "      <td>227.699202</td>\n",
              "    </tr>\n",
              "    <tr>\n",
              "      <th>Netherlands</th>\n",
              "      <td>16.9</td>\n",
              "      <td>41526</td>\n",
              "      <td>Amsterdam</td>\n",
              "      <td>406.973944</td>\n",
              "    </tr>\n",
              "    <tr>\n",
              "      <th>United Kingdom</th>\n",
              "      <td>64.9</td>\n",
              "      <td>244820</td>\n",
              "      <td>London</td>\n",
              "      <td>265.092721</td>\n",
              "    </tr>\n",
              "  </tbody>\n",
              "</table>\n",
              "</div>"
            ],
            "text/plain": [
              "                population    area    capital     density\n",
              "country                                                  \n",
              "Belgium               11.3   30510   Brussels  370.370370\n",
              "France                64.3  671308      Paris   95.783158\n",
              "Germany               81.3  357050     Berlin  227.699202\n",
              "Netherlands           16.9   41526  Amsterdam  406.973944\n",
              "United Kingdom        64.9  244820     London  265.092721"
            ]
          },
          "metadata": {
            "tags": []
          },
          "execution_count": 76
        }
      ]
    },
    {
      "cell_type": "markdown",
      "metadata": {
        "id": "xqF39-if7eHP"
      },
      "source": [
        "<div class=\"alert alert-success\">\n",
        "    <b>EXERCISE</b>: Select the capital and the population column of those countries where the density is larger than 300\n",
        "</div>"
      ]
    },
    {
      "cell_type": "code",
      "metadata": {
        "clear_cell": true,
        "id": "BYQXqCHk7eHQ",
        "colab": {
          "base_uri": "https://localhost:8080/",
          "height": 138
        },
        "outputId": "ec9947fb-1419-4811-af10-dd775497cf7b"
      },
      "source": [
        "countries[countries['density']>300]"
      ],
      "execution_count": 77,
      "outputs": [
        {
          "output_type": "execute_result",
          "data": {
            "text/html": [
              "<div>\n",
              "<style scoped>\n",
              "    .dataframe tbody tr th:only-of-type {\n",
              "        vertical-align: middle;\n",
              "    }\n",
              "\n",
              "    .dataframe tbody tr th {\n",
              "        vertical-align: top;\n",
              "    }\n",
              "\n",
              "    .dataframe thead th {\n",
              "        text-align: right;\n",
              "    }\n",
              "</style>\n",
              "<table border=\"1\" class=\"dataframe\">\n",
              "  <thead>\n",
              "    <tr style=\"text-align: right;\">\n",
              "      <th></th>\n",
              "      <th>population</th>\n",
              "      <th>area</th>\n",
              "      <th>capital</th>\n",
              "      <th>density</th>\n",
              "    </tr>\n",
              "    <tr>\n",
              "      <th>country</th>\n",
              "      <th></th>\n",
              "      <th></th>\n",
              "      <th></th>\n",
              "      <th></th>\n",
              "    </tr>\n",
              "  </thead>\n",
              "  <tbody>\n",
              "    <tr>\n",
              "      <th>Belgium</th>\n",
              "      <td>11.3</td>\n",
              "      <td>30510</td>\n",
              "      <td>Brussels</td>\n",
              "      <td>370.370370</td>\n",
              "    </tr>\n",
              "    <tr>\n",
              "      <th>Netherlands</th>\n",
              "      <td>16.9</td>\n",
              "      <td>41526</td>\n",
              "      <td>Amsterdam</td>\n",
              "      <td>406.973944</td>\n",
              "    </tr>\n",
              "  </tbody>\n",
              "</table>\n",
              "</div>"
            ],
            "text/plain": [
              "             population   area    capital     density\n",
              "country                                              \n",
              "Belgium            11.3  30510   Brussels  370.370370\n",
              "Netherlands        16.9  41526  Amsterdam  406.973944"
            ]
          },
          "metadata": {
            "tags": []
          },
          "execution_count": 77
        }
      ]
    },
    {
      "cell_type": "markdown",
      "metadata": {
        "id": "ISrv0LXd7eHV"
      },
      "source": [
        "<div class=\"alert alert-success\">\n",
        "    <b>EXERCISE</b>: Add a column 'density_ratio' with the ratio of the density to the mean density\n",
        "</div>"
      ]
    },
    {
      "cell_type": "code",
      "metadata": {
        "clear_cell": true,
        "id": "1yvAkSQf7eHW",
        "colab": {
          "base_uri": "https://localhost:8080/",
          "height": 228
        },
        "outputId": "0ee5e75f-5ea0-4389-ecab-d337dcd245ff"
      },
      "source": [
        "countries['density_ratio']= countries['density']/countries['density'].mean()\r\n",
        "countries"
      ],
      "execution_count": 78,
      "outputs": [
        {
          "output_type": "execute_result",
          "data": {
            "text/html": [
              "<div>\n",
              "<style scoped>\n",
              "    .dataframe tbody tr th:only-of-type {\n",
              "        vertical-align: middle;\n",
              "    }\n",
              "\n",
              "    .dataframe tbody tr th {\n",
              "        vertical-align: top;\n",
              "    }\n",
              "\n",
              "    .dataframe thead th {\n",
              "        text-align: right;\n",
              "    }\n",
              "</style>\n",
              "<table border=\"1\" class=\"dataframe\">\n",
              "  <thead>\n",
              "    <tr style=\"text-align: right;\">\n",
              "      <th></th>\n",
              "      <th>population</th>\n",
              "      <th>area</th>\n",
              "      <th>capital</th>\n",
              "      <th>density</th>\n",
              "      <th>density_ratio</th>\n",
              "    </tr>\n",
              "    <tr>\n",
              "      <th>country</th>\n",
              "      <th></th>\n",
              "      <th></th>\n",
              "      <th></th>\n",
              "      <th></th>\n",
              "      <th></th>\n",
              "    </tr>\n",
              "  </thead>\n",
              "  <tbody>\n",
              "    <tr>\n",
              "      <th>Belgium</th>\n",
              "      <td>11.3</td>\n",
              "      <td>30510</td>\n",
              "      <td>Brussels</td>\n",
              "      <td>370.370370</td>\n",
              "      <td>1.355755</td>\n",
              "    </tr>\n",
              "    <tr>\n",
              "      <th>France</th>\n",
              "      <td>64.3</td>\n",
              "      <td>671308</td>\n",
              "      <td>Paris</td>\n",
              "      <td>95.783158</td>\n",
              "      <td>0.350618</td>\n",
              "    </tr>\n",
              "    <tr>\n",
              "      <th>Germany</th>\n",
              "      <td>81.3</td>\n",
              "      <td>357050</td>\n",
              "      <td>Berlin</td>\n",
              "      <td>227.699202</td>\n",
              "      <td>0.833502</td>\n",
              "    </tr>\n",
              "    <tr>\n",
              "      <th>Netherlands</th>\n",
              "      <td>16.9</td>\n",
              "      <td>41526</td>\n",
              "      <td>Amsterdam</td>\n",
              "      <td>406.973944</td>\n",
              "      <td>1.489744</td>\n",
              "    </tr>\n",
              "    <tr>\n",
              "      <th>United Kingdom</th>\n",
              "      <td>64.9</td>\n",
              "      <td>244820</td>\n",
              "      <td>London</td>\n",
              "      <td>265.092721</td>\n",
              "      <td>0.970382</td>\n",
              "    </tr>\n",
              "  </tbody>\n",
              "</table>\n",
              "</div>"
            ],
            "text/plain": [
              "                population    area    capital     density  density_ratio\n",
              "country                                                                 \n",
              "Belgium               11.3   30510   Brussels  370.370370       1.355755\n",
              "France                64.3  671308      Paris   95.783158       0.350618\n",
              "Germany               81.3  357050     Berlin  227.699202       0.833502\n",
              "Netherlands           16.9   41526  Amsterdam  406.973944       1.489744\n",
              "United Kingdom        64.9  244820     London  265.092721       0.970382"
            ]
          },
          "metadata": {
            "tags": []
          },
          "execution_count": 78
        }
      ]
    },
    {
      "cell_type": "markdown",
      "metadata": {
        "id": "iO-lqpvH7eHa"
      },
      "source": [
        "<div class=\"alert alert-success\">\n",
        "    <b>EXERCISE</b>: Change the capital of the UK to Cambridge\n",
        "</div>"
      ]
    },
    {
      "cell_type": "code",
      "metadata": {
        "clear_cell": true,
        "id": "k6RF6Tx87eHb",
        "colab": {
          "base_uri": "https://localhost:8080/",
          "height": 228
        },
        "outputId": "433fa255-f74f-4487-9e3e-5cc930f59289"
      },
      "source": [
        "countries.loc['United Kingdom', 'capital']= 'Cambridge'\r\n",
        "countries"
      ],
      "execution_count": 79,
      "outputs": [
        {
          "output_type": "execute_result",
          "data": {
            "text/html": [
              "<div>\n",
              "<style scoped>\n",
              "    .dataframe tbody tr th:only-of-type {\n",
              "        vertical-align: middle;\n",
              "    }\n",
              "\n",
              "    .dataframe tbody tr th {\n",
              "        vertical-align: top;\n",
              "    }\n",
              "\n",
              "    .dataframe thead th {\n",
              "        text-align: right;\n",
              "    }\n",
              "</style>\n",
              "<table border=\"1\" class=\"dataframe\">\n",
              "  <thead>\n",
              "    <tr style=\"text-align: right;\">\n",
              "      <th></th>\n",
              "      <th>population</th>\n",
              "      <th>area</th>\n",
              "      <th>capital</th>\n",
              "      <th>density</th>\n",
              "      <th>density_ratio</th>\n",
              "    </tr>\n",
              "    <tr>\n",
              "      <th>country</th>\n",
              "      <th></th>\n",
              "      <th></th>\n",
              "      <th></th>\n",
              "      <th></th>\n",
              "      <th></th>\n",
              "    </tr>\n",
              "  </thead>\n",
              "  <tbody>\n",
              "    <tr>\n",
              "      <th>Belgium</th>\n",
              "      <td>11.3</td>\n",
              "      <td>30510</td>\n",
              "      <td>Brussels</td>\n",
              "      <td>370.370370</td>\n",
              "      <td>1.355755</td>\n",
              "    </tr>\n",
              "    <tr>\n",
              "      <th>France</th>\n",
              "      <td>64.3</td>\n",
              "      <td>671308</td>\n",
              "      <td>Paris</td>\n",
              "      <td>95.783158</td>\n",
              "      <td>0.350618</td>\n",
              "    </tr>\n",
              "    <tr>\n",
              "      <th>Germany</th>\n",
              "      <td>81.3</td>\n",
              "      <td>357050</td>\n",
              "      <td>Berlin</td>\n",
              "      <td>227.699202</td>\n",
              "      <td>0.833502</td>\n",
              "    </tr>\n",
              "    <tr>\n",
              "      <th>Netherlands</th>\n",
              "      <td>16.9</td>\n",
              "      <td>41526</td>\n",
              "      <td>Amsterdam</td>\n",
              "      <td>406.973944</td>\n",
              "      <td>1.489744</td>\n",
              "    </tr>\n",
              "    <tr>\n",
              "      <th>United Kingdom</th>\n",
              "      <td>64.9</td>\n",
              "      <td>244820</td>\n",
              "      <td>Cambridge</td>\n",
              "      <td>265.092721</td>\n",
              "      <td>0.970382</td>\n",
              "    </tr>\n",
              "  </tbody>\n",
              "</table>\n",
              "</div>"
            ],
            "text/plain": [
              "                population    area    capital     density  density_ratio\n",
              "country                                                                 \n",
              "Belgium               11.3   30510   Brussels  370.370370       1.355755\n",
              "France                64.3  671308      Paris   95.783158       0.350618\n",
              "Germany               81.3  357050     Berlin  227.699202       0.833502\n",
              "Netherlands           16.9   41526  Amsterdam  406.973944       1.489744\n",
              "United Kingdom        64.9  244820  Cambridge  265.092721       0.970382"
            ]
          },
          "metadata": {
            "tags": []
          },
          "execution_count": 79
        }
      ]
    },
    {
      "cell_type": "markdown",
      "metadata": {
        "collapsed": true,
        "id": "KLj5K2qG7eHp"
      },
      "source": [
        "<div class=\"alert alert-success\">\n",
        "    <b>EXERCISE</b>: Select all countries whose population density is between 100 and 300 people/km²\n",
        "</div>"
      ]
    },
    {
      "cell_type": "code",
      "metadata": {
        "clear_cell": true,
        "id": "pn8hQVlV7eHq",
        "colab": {
          "base_uri": "https://localhost:8080/",
          "height": 138
        },
        "outputId": "92408c8e-7dc9-419b-d17e-142a5012faaa"
      },
      "source": [
        "countries[(countries['density'] > 100) & (countries['density']<300)]"
      ],
      "execution_count": 80,
      "outputs": [
        {
          "output_type": "execute_result",
          "data": {
            "text/html": [
              "<div>\n",
              "<style scoped>\n",
              "    .dataframe tbody tr th:only-of-type {\n",
              "        vertical-align: middle;\n",
              "    }\n",
              "\n",
              "    .dataframe tbody tr th {\n",
              "        vertical-align: top;\n",
              "    }\n",
              "\n",
              "    .dataframe thead th {\n",
              "        text-align: right;\n",
              "    }\n",
              "</style>\n",
              "<table border=\"1\" class=\"dataframe\">\n",
              "  <thead>\n",
              "    <tr style=\"text-align: right;\">\n",
              "      <th></th>\n",
              "      <th>population</th>\n",
              "      <th>area</th>\n",
              "      <th>capital</th>\n",
              "      <th>density</th>\n",
              "      <th>density_ratio</th>\n",
              "    </tr>\n",
              "    <tr>\n",
              "      <th>country</th>\n",
              "      <th></th>\n",
              "      <th></th>\n",
              "      <th></th>\n",
              "      <th></th>\n",
              "      <th></th>\n",
              "    </tr>\n",
              "  </thead>\n",
              "  <tbody>\n",
              "    <tr>\n",
              "      <th>Germany</th>\n",
              "      <td>81.3</td>\n",
              "      <td>357050</td>\n",
              "      <td>Berlin</td>\n",
              "      <td>227.699202</td>\n",
              "      <td>0.833502</td>\n",
              "    </tr>\n",
              "    <tr>\n",
              "      <th>United Kingdom</th>\n",
              "      <td>64.9</td>\n",
              "      <td>244820</td>\n",
              "      <td>Cambridge</td>\n",
              "      <td>265.092721</td>\n",
              "      <td>0.970382</td>\n",
              "    </tr>\n",
              "  </tbody>\n",
              "</table>\n",
              "</div>"
            ],
            "text/plain": [
              "                population    area    capital     density  density_ratio\n",
              "country                                                                 \n",
              "Germany               81.3  357050     Berlin  227.699202       0.833502\n",
              "United Kingdom        64.9  244820  Cambridge  265.092721       0.970382"
            ]
          },
          "metadata": {
            "tags": []
          },
          "execution_count": 80
        }
      ]
    },
    {
      "cell_type": "markdown",
      "metadata": {
        "collapsed": true,
        "id": "8mvaxp5p7eHs"
      },
      "source": [
        "## Some other useful methods: `isin` and string methods"
      ]
    },
    {
      "cell_type": "markdown",
      "metadata": {
        "id": "z91aJbp87eHs"
      },
      "source": [
        "The `isin` method of Series is very useful to select rows that may contain certain values:"
      ]
    },
    {
      "cell_type": "code",
      "metadata": {
        "id": "ipuz5XRN7eHt",
        "colab": {
          "base_uri": "https://localhost:8080/"
        },
        "outputId": "085be908-3b44-40f5-ff2b-4e4a2c57e386"
      },
      "source": [
        "s = countries['capital']\r\n",
        "s"
      ],
      "execution_count": 81,
      "outputs": [
        {
          "output_type": "execute_result",
          "data": {
            "text/plain": [
              "country\n",
              "Belgium            Brussels\n",
              "France                Paris\n",
              "Germany              Berlin\n",
              "Netherlands       Amsterdam\n",
              "United Kingdom    Cambridge\n",
              "Name: capital, dtype: object"
            ]
          },
          "metadata": {
            "tags": []
          },
          "execution_count": 81
        }
      ]
    },
    {
      "cell_type": "code",
      "metadata": {
        "id": "ckOs5aNb7eHw"
      },
      "source": [
        "s.isin?"
      ],
      "execution_count": 82,
      "outputs": []
    },
    {
      "cell_type": "code",
      "metadata": {
        "id": "uSMbV_aG7eH3",
        "colab": {
          "base_uri": "https://localhost:8080/"
        },
        "outputId": "9a638050-ac85-42ae-97ae-d8aca7931a38"
      },
      "source": [
        "s.isin(['Berlin', 'London'])"
      ],
      "execution_count": 83,
      "outputs": [
        {
          "output_type": "execute_result",
          "data": {
            "text/plain": [
              "country\n",
              "Belgium           False\n",
              "France            False\n",
              "Germany            True\n",
              "Netherlands       False\n",
              "United Kingdom    False\n",
              "Name: capital, dtype: bool"
            ]
          },
          "metadata": {
            "tags": []
          },
          "execution_count": 83
        }
      ]
    },
    {
      "cell_type": "markdown",
      "metadata": {
        "id": "REyn-CG97eH5"
      },
      "source": [
        "This can then be used to filter the dataframe with boolean indexing:"
      ]
    },
    {
      "cell_type": "code",
      "metadata": {
        "id": "ZWfQdygT7eH6",
        "colab": {
          "base_uri": "https://localhost:8080/",
          "height": 108
        },
        "outputId": "abbcc4e3-768c-4263-e5c9-c51e58ec7edd"
      },
      "source": [
        "countries[countries['capital'].isin(['Berlin', 'London'])]"
      ],
      "execution_count": 84,
      "outputs": [
        {
          "output_type": "execute_result",
          "data": {
            "text/html": [
              "<div>\n",
              "<style scoped>\n",
              "    .dataframe tbody tr th:only-of-type {\n",
              "        vertical-align: middle;\n",
              "    }\n",
              "\n",
              "    .dataframe tbody tr th {\n",
              "        vertical-align: top;\n",
              "    }\n",
              "\n",
              "    .dataframe thead th {\n",
              "        text-align: right;\n",
              "    }\n",
              "</style>\n",
              "<table border=\"1\" class=\"dataframe\">\n",
              "  <thead>\n",
              "    <tr style=\"text-align: right;\">\n",
              "      <th></th>\n",
              "      <th>population</th>\n",
              "      <th>area</th>\n",
              "      <th>capital</th>\n",
              "      <th>density</th>\n",
              "      <th>density_ratio</th>\n",
              "    </tr>\n",
              "    <tr>\n",
              "      <th>country</th>\n",
              "      <th></th>\n",
              "      <th></th>\n",
              "      <th></th>\n",
              "      <th></th>\n",
              "      <th></th>\n",
              "    </tr>\n",
              "  </thead>\n",
              "  <tbody>\n",
              "    <tr>\n",
              "      <th>Germany</th>\n",
              "      <td>81.3</td>\n",
              "      <td>357050</td>\n",
              "      <td>Berlin</td>\n",
              "      <td>227.699202</td>\n",
              "      <td>0.833502</td>\n",
              "    </tr>\n",
              "  </tbody>\n",
              "</table>\n",
              "</div>"
            ],
            "text/plain": [
              "         population    area capital     density  density_ratio\n",
              "country                                                       \n",
              "Germany        81.3  357050  Berlin  227.699202       0.833502"
            ]
          },
          "metadata": {
            "tags": []
          },
          "execution_count": 84
        }
      ]
    },
    {
      "cell_type": "markdown",
      "metadata": {
        "id": "EUGSiU6Y7eH8"
      },
      "source": [
        "Let's say we want to select all data for which the capital starts with a 'B'. In Python, when having a string, we could use the `startswith` method:"
      ]
    },
    {
      "cell_type": "code",
      "metadata": {
        "id": "Dofc5yy17eH9",
        "colab": {
          "base_uri": "https://localhost:8080/"
        },
        "outputId": "6386b849-5c14-433c-a55a-50d16d7e8018"
      },
      "source": [
        "'Berlin'.startswith('B')"
      ],
      "execution_count": 85,
      "outputs": [
        {
          "output_type": "execute_result",
          "data": {
            "text/plain": [
              "True"
            ]
          },
          "metadata": {
            "tags": []
          },
          "execution_count": 85
        }
      ]
    },
    {
      "cell_type": "markdown",
      "metadata": {
        "id": "e63xE3d57eH_"
      },
      "source": [
        "In pandas, these are available on a Series through the `str` namespace:"
      ]
    },
    {
      "cell_type": "code",
      "metadata": {
        "id": "iWLhAtk57eH_",
        "colab": {
          "base_uri": "https://localhost:8080/"
        },
        "outputId": "ea07ebfa-a56c-4330-d609-b4a644510008"
      },
      "source": [
        "countries['capital'].str.startswith('B')"
      ],
      "execution_count": 86,
      "outputs": [
        {
          "output_type": "execute_result",
          "data": {
            "text/plain": [
              "country\n",
              "Belgium            True\n",
              "France            False\n",
              "Germany            True\n",
              "Netherlands       False\n",
              "United Kingdom    False\n",
              "Name: capital, dtype: bool"
            ]
          },
          "metadata": {
            "tags": []
          },
          "execution_count": 86
        }
      ]
    },
    {
      "cell_type": "markdown",
      "metadata": {
        "id": "oD6g6eaU7eIC"
      },
      "source": [
        "<div class=\"alert alert-success\">\n",
        "    <b>EXERCISE</b>: Select all countries that have capital names with more than 7 characters\n",
        "</div>"
      ]
    },
    {
      "cell_type": "code",
      "metadata": {
        "clear_cell": true,
        "id": "MJ1N4Ql77eID",
        "colab": {
          "base_uri": "https://localhost:8080/",
          "height": 168
        },
        "outputId": "443ce8d8-ddec-46ec-9dcb-d7399f8d5e52"
      },
      "source": [
        "cap_name = countries[countries['capital'].str.len()>7]\r\n",
        "cap_name"
      ],
      "execution_count": 87,
      "outputs": [
        {
          "output_type": "execute_result",
          "data": {
            "text/html": [
              "<div>\n",
              "<style scoped>\n",
              "    .dataframe tbody tr th:only-of-type {\n",
              "        vertical-align: middle;\n",
              "    }\n",
              "\n",
              "    .dataframe tbody tr th {\n",
              "        vertical-align: top;\n",
              "    }\n",
              "\n",
              "    .dataframe thead th {\n",
              "        text-align: right;\n",
              "    }\n",
              "</style>\n",
              "<table border=\"1\" class=\"dataframe\">\n",
              "  <thead>\n",
              "    <tr style=\"text-align: right;\">\n",
              "      <th></th>\n",
              "      <th>population</th>\n",
              "      <th>area</th>\n",
              "      <th>capital</th>\n",
              "      <th>density</th>\n",
              "      <th>density_ratio</th>\n",
              "    </tr>\n",
              "    <tr>\n",
              "      <th>country</th>\n",
              "      <th></th>\n",
              "      <th></th>\n",
              "      <th></th>\n",
              "      <th></th>\n",
              "      <th></th>\n",
              "    </tr>\n",
              "  </thead>\n",
              "  <tbody>\n",
              "    <tr>\n",
              "      <th>Belgium</th>\n",
              "      <td>11.3</td>\n",
              "      <td>30510</td>\n",
              "      <td>Brussels</td>\n",
              "      <td>370.370370</td>\n",
              "      <td>1.355755</td>\n",
              "    </tr>\n",
              "    <tr>\n",
              "      <th>Netherlands</th>\n",
              "      <td>16.9</td>\n",
              "      <td>41526</td>\n",
              "      <td>Amsterdam</td>\n",
              "      <td>406.973944</td>\n",
              "      <td>1.489744</td>\n",
              "    </tr>\n",
              "    <tr>\n",
              "      <th>United Kingdom</th>\n",
              "      <td>64.9</td>\n",
              "      <td>244820</td>\n",
              "      <td>Cambridge</td>\n",
              "      <td>265.092721</td>\n",
              "      <td>0.970382</td>\n",
              "    </tr>\n",
              "  </tbody>\n",
              "</table>\n",
              "</div>"
            ],
            "text/plain": [
              "                population    area    capital     density  density_ratio\n",
              "country                                                                 \n",
              "Belgium               11.3   30510   Brussels  370.370370       1.355755\n",
              "Netherlands           16.9   41526  Amsterdam  406.973944       1.489744\n",
              "United Kingdom        64.9  244820  Cambridge  265.092721       0.970382"
            ]
          },
          "metadata": {
            "tags": []
          },
          "execution_count": 87
        }
      ]
    },
    {
      "cell_type": "markdown",
      "metadata": {
        "id": "Nnuv8zHE7eIF"
      },
      "source": [
        "<div class=\"alert alert-success\">\n",
        "    <b>EXERCISE</b>: Select all countries that have capital names that contain the character sequence 'am'\n",
        "</div>"
      ]
    },
    {
      "cell_type": "code",
      "metadata": {
        "clear_cell": true,
        "id": "4m_cu0Mu7eIF",
        "colab": {
          "base_uri": "https://localhost:8080/",
          "height": 138
        },
        "outputId": "2f007921-d99c-462e-b984-d6a9cd6165c6"
      },
      "source": [
        "d = countries[countries['capital'].str.contains('am')]\r\n",
        "d"
      ],
      "execution_count": 88,
      "outputs": [
        {
          "output_type": "execute_result",
          "data": {
            "text/html": [
              "<div>\n",
              "<style scoped>\n",
              "    .dataframe tbody tr th:only-of-type {\n",
              "        vertical-align: middle;\n",
              "    }\n",
              "\n",
              "    .dataframe tbody tr th {\n",
              "        vertical-align: top;\n",
              "    }\n",
              "\n",
              "    .dataframe thead th {\n",
              "        text-align: right;\n",
              "    }\n",
              "</style>\n",
              "<table border=\"1\" class=\"dataframe\">\n",
              "  <thead>\n",
              "    <tr style=\"text-align: right;\">\n",
              "      <th></th>\n",
              "      <th>population</th>\n",
              "      <th>area</th>\n",
              "      <th>capital</th>\n",
              "      <th>density</th>\n",
              "      <th>density_ratio</th>\n",
              "    </tr>\n",
              "    <tr>\n",
              "      <th>country</th>\n",
              "      <th></th>\n",
              "      <th></th>\n",
              "      <th></th>\n",
              "      <th></th>\n",
              "      <th></th>\n",
              "    </tr>\n",
              "  </thead>\n",
              "  <tbody>\n",
              "    <tr>\n",
              "      <th>Netherlands</th>\n",
              "      <td>16.9</td>\n",
              "      <td>41526</td>\n",
              "      <td>Amsterdam</td>\n",
              "      <td>406.973944</td>\n",
              "      <td>1.489744</td>\n",
              "    </tr>\n",
              "    <tr>\n",
              "      <th>United Kingdom</th>\n",
              "      <td>64.9</td>\n",
              "      <td>244820</td>\n",
              "      <td>Cambridge</td>\n",
              "      <td>265.092721</td>\n",
              "      <td>0.970382</td>\n",
              "    </tr>\n",
              "  </tbody>\n",
              "</table>\n",
              "</div>"
            ],
            "text/plain": [
              "                population    area    capital     density  density_ratio\n",
              "country                                                                 \n",
              "Netherlands           16.9   41526  Amsterdam  406.973944       1.489744\n",
              "United Kingdom        64.9  244820  Cambridge  265.092721       0.970382"
            ]
          },
          "metadata": {
            "tags": []
          },
          "execution_count": 88
        }
      ]
    },
    {
      "cell_type": "markdown",
      "metadata": {
        "id": "6x6790zt7eII"
      },
      "source": [
        "## Pitfall: chained indexing (and the 'SettingWithCopyWarning')"
      ]
    },
    {
      "cell_type": "code",
      "metadata": {
        "id": "-Xj8JfYv7eII"
      },
      "source": [
        "countries.loc['Belgium', 'capital'] = 'Ghent' "
      ],
      "execution_count": 89,
      "outputs": []
    },
    {
      "cell_type": "code",
      "metadata": {
        "id": "exKBTjNv7eIK",
        "colab": {
          "base_uri": "https://localhost:8080/",
          "height": 228
        },
        "outputId": "03a962a8-41b2-41aa-bb36-f2eddfae7071"
      },
      "source": [
        "countries"
      ],
      "execution_count": 90,
      "outputs": [
        {
          "output_type": "execute_result",
          "data": {
            "text/html": [
              "<div>\n",
              "<style scoped>\n",
              "    .dataframe tbody tr th:only-of-type {\n",
              "        vertical-align: middle;\n",
              "    }\n",
              "\n",
              "    .dataframe tbody tr th {\n",
              "        vertical-align: top;\n",
              "    }\n",
              "\n",
              "    .dataframe thead th {\n",
              "        text-align: right;\n",
              "    }\n",
              "</style>\n",
              "<table border=\"1\" class=\"dataframe\">\n",
              "  <thead>\n",
              "    <tr style=\"text-align: right;\">\n",
              "      <th></th>\n",
              "      <th>population</th>\n",
              "      <th>area</th>\n",
              "      <th>capital</th>\n",
              "      <th>density</th>\n",
              "      <th>density_ratio</th>\n",
              "    </tr>\n",
              "    <tr>\n",
              "      <th>country</th>\n",
              "      <th></th>\n",
              "      <th></th>\n",
              "      <th></th>\n",
              "      <th></th>\n",
              "      <th></th>\n",
              "    </tr>\n",
              "  </thead>\n",
              "  <tbody>\n",
              "    <tr>\n",
              "      <th>Belgium</th>\n",
              "      <td>11.3</td>\n",
              "      <td>30510</td>\n",
              "      <td>Ghent</td>\n",
              "      <td>370.370370</td>\n",
              "      <td>1.355755</td>\n",
              "    </tr>\n",
              "    <tr>\n",
              "      <th>France</th>\n",
              "      <td>64.3</td>\n",
              "      <td>671308</td>\n",
              "      <td>Paris</td>\n",
              "      <td>95.783158</td>\n",
              "      <td>0.350618</td>\n",
              "    </tr>\n",
              "    <tr>\n",
              "      <th>Germany</th>\n",
              "      <td>81.3</td>\n",
              "      <td>357050</td>\n",
              "      <td>Berlin</td>\n",
              "      <td>227.699202</td>\n",
              "      <td>0.833502</td>\n",
              "    </tr>\n",
              "    <tr>\n",
              "      <th>Netherlands</th>\n",
              "      <td>16.9</td>\n",
              "      <td>41526</td>\n",
              "      <td>Amsterdam</td>\n",
              "      <td>406.973944</td>\n",
              "      <td>1.489744</td>\n",
              "    </tr>\n",
              "    <tr>\n",
              "      <th>United Kingdom</th>\n",
              "      <td>64.9</td>\n",
              "      <td>244820</td>\n",
              "      <td>Cambridge</td>\n",
              "      <td>265.092721</td>\n",
              "      <td>0.970382</td>\n",
              "    </tr>\n",
              "  </tbody>\n",
              "</table>\n",
              "</div>"
            ],
            "text/plain": [
              "                population    area    capital     density  density_ratio\n",
              "country                                                                 \n",
              "Belgium               11.3   30510      Ghent  370.370370       1.355755\n",
              "France                64.3  671308      Paris   95.783158       0.350618\n",
              "Germany               81.3  357050     Berlin  227.699202       0.833502\n",
              "Netherlands           16.9   41526  Amsterdam  406.973944       1.489744\n",
              "United Kingdom        64.9  244820  Cambridge  265.092721       0.970382"
            ]
          },
          "metadata": {
            "tags": []
          },
          "execution_count": 90
        }
      ]
    },
    {
      "cell_type": "code",
      "metadata": {
        "id": "qXf2Je6K7eIM",
        "colab": {
          "base_uri": "https://localhost:8080/"
        },
        "outputId": "64a1261e-5f9f-4d4d-b0a3-625d6491ec2e"
      },
      "source": [
        "countries['capital']['Belgium'] = 'Antwerp' "
      ],
      "execution_count": 91,
      "outputs": [
        {
          "output_type": "stream",
          "text": [
            "/usr/local/lib/python3.7/dist-packages/ipykernel_launcher.py:1: SettingWithCopyWarning: \n",
            "A value is trying to be set on a copy of a slice from a DataFrame\n",
            "\n",
            "See the caveats in the documentation: https://pandas.pydata.org/pandas-docs/stable/user_guide/indexing.html#returning-a-view-versus-a-copy\n",
            "  \"\"\"Entry point for launching an IPython kernel.\n"
          ],
          "name": "stderr"
        }
      ]
    },
    {
      "cell_type": "code",
      "metadata": {
        "id": "0nFmi9sC7eIO",
        "colab": {
          "base_uri": "https://localhost:8080/",
          "height": 228
        },
        "outputId": "9eaacce8-ee41-4cbb-ad71-ec9ad5e59cef"
      },
      "source": [
        "countries"
      ],
      "execution_count": 92,
      "outputs": [
        {
          "output_type": "execute_result",
          "data": {
            "text/html": [
              "<div>\n",
              "<style scoped>\n",
              "    .dataframe tbody tr th:only-of-type {\n",
              "        vertical-align: middle;\n",
              "    }\n",
              "\n",
              "    .dataframe tbody tr th {\n",
              "        vertical-align: top;\n",
              "    }\n",
              "\n",
              "    .dataframe thead th {\n",
              "        text-align: right;\n",
              "    }\n",
              "</style>\n",
              "<table border=\"1\" class=\"dataframe\">\n",
              "  <thead>\n",
              "    <tr style=\"text-align: right;\">\n",
              "      <th></th>\n",
              "      <th>population</th>\n",
              "      <th>area</th>\n",
              "      <th>capital</th>\n",
              "      <th>density</th>\n",
              "      <th>density_ratio</th>\n",
              "    </tr>\n",
              "    <tr>\n",
              "      <th>country</th>\n",
              "      <th></th>\n",
              "      <th></th>\n",
              "      <th></th>\n",
              "      <th></th>\n",
              "      <th></th>\n",
              "    </tr>\n",
              "  </thead>\n",
              "  <tbody>\n",
              "    <tr>\n",
              "      <th>Belgium</th>\n",
              "      <td>11.3</td>\n",
              "      <td>30510</td>\n",
              "      <td>Antwerp</td>\n",
              "      <td>370.370370</td>\n",
              "      <td>1.355755</td>\n",
              "    </tr>\n",
              "    <tr>\n",
              "      <th>France</th>\n",
              "      <td>64.3</td>\n",
              "      <td>671308</td>\n",
              "      <td>Paris</td>\n",
              "      <td>95.783158</td>\n",
              "      <td>0.350618</td>\n",
              "    </tr>\n",
              "    <tr>\n",
              "      <th>Germany</th>\n",
              "      <td>81.3</td>\n",
              "      <td>357050</td>\n",
              "      <td>Berlin</td>\n",
              "      <td>227.699202</td>\n",
              "      <td>0.833502</td>\n",
              "    </tr>\n",
              "    <tr>\n",
              "      <th>Netherlands</th>\n",
              "      <td>16.9</td>\n",
              "      <td>41526</td>\n",
              "      <td>Amsterdam</td>\n",
              "      <td>406.973944</td>\n",
              "      <td>1.489744</td>\n",
              "    </tr>\n",
              "    <tr>\n",
              "      <th>United Kingdom</th>\n",
              "      <td>64.9</td>\n",
              "      <td>244820</td>\n",
              "      <td>Cambridge</td>\n",
              "      <td>265.092721</td>\n",
              "      <td>0.970382</td>\n",
              "    </tr>\n",
              "  </tbody>\n",
              "</table>\n",
              "</div>"
            ],
            "text/plain": [
              "                population    area    capital     density  density_ratio\n",
              "country                                                                 \n",
              "Belgium               11.3   30510    Antwerp  370.370370       1.355755\n",
              "France                64.3  671308      Paris   95.783158       0.350618\n",
              "Germany               81.3  357050     Berlin  227.699202       0.833502\n",
              "Netherlands           16.9   41526  Amsterdam  406.973944       1.489744\n",
              "United Kingdom        64.9  244820  Cambridge  265.092721       0.970382"
            ]
          },
          "metadata": {
            "tags": []
          },
          "execution_count": 92
        }
      ]
    },
    {
      "cell_type": "code",
      "metadata": {
        "id": "kPfLTDou7eIQ",
        "colab": {
          "base_uri": "https://localhost:8080/"
        },
        "outputId": "7fa9d4d6-0238-4d7e-911e-75230fa6eda7"
      },
      "source": [
        "countries[countries['capital'] == 'Antwerp']['capital'] = 'Brussels' "
      ],
      "execution_count": 93,
      "outputs": [
        {
          "output_type": "stream",
          "text": [
            "/usr/local/lib/python3.7/dist-packages/ipykernel_launcher.py:1: SettingWithCopyWarning: \n",
            "A value is trying to be set on a copy of a slice from a DataFrame.\n",
            "Try using .loc[row_indexer,col_indexer] = value instead\n",
            "\n",
            "See the caveats in the documentation: https://pandas.pydata.org/pandas-docs/stable/user_guide/indexing.html#returning-a-view-versus-a-copy\n",
            "  \"\"\"Entry point for launching an IPython kernel.\n"
          ],
          "name": "stderr"
        }
      ]
    },
    {
      "cell_type": "code",
      "metadata": {
        "id": "SpW8Ka_C7eIS",
        "colab": {
          "base_uri": "https://localhost:8080/",
          "height": 228
        },
        "outputId": "a3256624-babc-44fc-e49d-f94b32a2e48a"
      },
      "source": [
        "countries"
      ],
      "execution_count": 94,
      "outputs": [
        {
          "output_type": "execute_result",
          "data": {
            "text/html": [
              "<div>\n",
              "<style scoped>\n",
              "    .dataframe tbody tr th:only-of-type {\n",
              "        vertical-align: middle;\n",
              "    }\n",
              "\n",
              "    .dataframe tbody tr th {\n",
              "        vertical-align: top;\n",
              "    }\n",
              "\n",
              "    .dataframe thead th {\n",
              "        text-align: right;\n",
              "    }\n",
              "</style>\n",
              "<table border=\"1\" class=\"dataframe\">\n",
              "  <thead>\n",
              "    <tr style=\"text-align: right;\">\n",
              "      <th></th>\n",
              "      <th>population</th>\n",
              "      <th>area</th>\n",
              "      <th>capital</th>\n",
              "      <th>density</th>\n",
              "      <th>density_ratio</th>\n",
              "    </tr>\n",
              "    <tr>\n",
              "      <th>country</th>\n",
              "      <th></th>\n",
              "      <th></th>\n",
              "      <th></th>\n",
              "      <th></th>\n",
              "      <th></th>\n",
              "    </tr>\n",
              "  </thead>\n",
              "  <tbody>\n",
              "    <tr>\n",
              "      <th>Belgium</th>\n",
              "      <td>11.3</td>\n",
              "      <td>30510</td>\n",
              "      <td>Antwerp</td>\n",
              "      <td>370.370370</td>\n",
              "      <td>1.355755</td>\n",
              "    </tr>\n",
              "    <tr>\n",
              "      <th>France</th>\n",
              "      <td>64.3</td>\n",
              "      <td>671308</td>\n",
              "      <td>Paris</td>\n",
              "      <td>95.783158</td>\n",
              "      <td>0.350618</td>\n",
              "    </tr>\n",
              "    <tr>\n",
              "      <th>Germany</th>\n",
              "      <td>81.3</td>\n",
              "      <td>357050</td>\n",
              "      <td>Berlin</td>\n",
              "      <td>227.699202</td>\n",
              "      <td>0.833502</td>\n",
              "    </tr>\n",
              "    <tr>\n",
              "      <th>Netherlands</th>\n",
              "      <td>16.9</td>\n",
              "      <td>41526</td>\n",
              "      <td>Amsterdam</td>\n",
              "      <td>406.973944</td>\n",
              "      <td>1.489744</td>\n",
              "    </tr>\n",
              "    <tr>\n",
              "      <th>United Kingdom</th>\n",
              "      <td>64.9</td>\n",
              "      <td>244820</td>\n",
              "      <td>Cambridge</td>\n",
              "      <td>265.092721</td>\n",
              "      <td>0.970382</td>\n",
              "    </tr>\n",
              "  </tbody>\n",
              "</table>\n",
              "</div>"
            ],
            "text/plain": [
              "                population    area    capital     density  density_ratio\n",
              "country                                                                 \n",
              "Belgium               11.3   30510    Antwerp  370.370370       1.355755\n",
              "France                64.3  671308      Paris   95.783158       0.350618\n",
              "Germany               81.3  357050     Berlin  227.699202       0.833502\n",
              "Netherlands           16.9   41526  Amsterdam  406.973944       1.489744\n",
              "United Kingdom        64.9  244820  Cambridge  265.092721       0.970382"
            ]
          },
          "metadata": {
            "tags": []
          },
          "execution_count": 94
        }
      ]
    },
    {
      "cell_type": "markdown",
      "metadata": {
        "id": "cUUZQ6Ac7eIZ"
      },
      "source": [
        "How to avoid this?\n",
        "\n",
        "* Use `loc` instead of chained indexing if possible!\n",
        "* Or `copy` explicitly if you don't want to change the original data."
      ]
    },
    {
      "cell_type": "markdown",
      "metadata": {
        "collapsed": true,
        "id": "QAUMalcq7eIa"
      },
      "source": [
        "## More exercises!"
      ]
    },
    {
      "cell_type": "markdown",
      "metadata": {
        "id": "T4Z7YBVW7eIa"
      },
      "source": [
        "For the quick ones among you, here are some more exercises with some larger dataframe with film data. These exercises are based on the [PyCon tutorial of Brandon Rhodes](https://github.com/brandon-rhodes/pycon-pandas-tutorial/) (so all credit to him!) and the datasets he prepared for that. You can download these data from here: [`titles.csv`](https://drive.google.com/open?id=0B3G70MlBnCgKajNMa1pfSzN6Q3M) and [`cast.csv`](https://drive.google.com/open?id=0B3G70MlBnCgKal9UYTJSR2ZhSW8) and put them in the `/data` folder."
      ]
    },
    {
      "cell_type": "code",
      "metadata": {
        "id": "cISz0gzt7eIb",
        "colab": {
          "base_uri": "https://localhost:8080/",
          "height": 198
        },
        "outputId": "e5595be9-e461-46a7-8351-c73c9eda5632"
      },
      "source": [
        "cast = pd.read_csv('data/cast.csv')\n",
        "cast.head()"
      ],
      "execution_count": 95,
      "outputs": [
        {
          "output_type": "execute_result",
          "data": {
            "text/html": [
              "<div>\n",
              "<style scoped>\n",
              "    .dataframe tbody tr th:only-of-type {\n",
              "        vertical-align: middle;\n",
              "    }\n",
              "\n",
              "    .dataframe tbody tr th {\n",
              "        vertical-align: top;\n",
              "    }\n",
              "\n",
              "    .dataframe thead th {\n",
              "        text-align: right;\n",
              "    }\n",
              "</style>\n",
              "<table border=\"1\" class=\"dataframe\">\n",
              "  <thead>\n",
              "    <tr style=\"text-align: right;\">\n",
              "      <th></th>\n",
              "      <th>title</th>\n",
              "      <th>year</th>\n",
              "      <th>name</th>\n",
              "      <th>type</th>\n",
              "      <th>character</th>\n",
              "      <th>n</th>\n",
              "    </tr>\n",
              "  </thead>\n",
              "  <tbody>\n",
              "    <tr>\n",
              "      <th>0</th>\n",
              "      <td>Suuri illusioni</td>\n",
              "      <td>1985</td>\n",
              "      <td>Homo $</td>\n",
              "      <td>actor</td>\n",
              "      <td>Guests</td>\n",
              "      <td>22.0</td>\n",
              "    </tr>\n",
              "    <tr>\n",
              "      <th>1</th>\n",
              "      <td>Gangsta Rap: The Glockumentary</td>\n",
              "      <td>2007</td>\n",
              "      <td>Too $hort</td>\n",
              "      <td>actor</td>\n",
              "      <td>Himself</td>\n",
              "      <td>NaN</td>\n",
              "    </tr>\n",
              "    <tr>\n",
              "      <th>2</th>\n",
              "      <td>Menace II Society</td>\n",
              "      <td>1993</td>\n",
              "      <td>Too $hort</td>\n",
              "      <td>actor</td>\n",
              "      <td>Lew-Loc</td>\n",
              "      <td>27.0</td>\n",
              "    </tr>\n",
              "    <tr>\n",
              "      <th>3</th>\n",
              "      <td>Porndogs: The Adventures of Sadie</td>\n",
              "      <td>2009</td>\n",
              "      <td>Too $hort</td>\n",
              "      <td>actor</td>\n",
              "      <td>Bosco</td>\n",
              "      <td>3.0</td>\n",
              "    </tr>\n",
              "    <tr>\n",
              "      <th>4</th>\n",
              "      <td>Stop Pepper Palmer</td>\n",
              "      <td>2014</td>\n",
              "      <td>Too $hort</td>\n",
              "      <td>actor</td>\n",
              "      <td>Himself</td>\n",
              "      <td>NaN</td>\n",
              "    </tr>\n",
              "  </tbody>\n",
              "</table>\n",
              "</div>"
            ],
            "text/plain": [
              "                               title  year       name   type character     n\n",
              "0                    Suuri illusioni  1985     Homo $  actor    Guests  22.0\n",
              "1     Gangsta Rap: The Glockumentary  2007  Too $hort  actor   Himself   NaN\n",
              "2                  Menace II Society  1993  Too $hort  actor   Lew-Loc  27.0\n",
              "3  Porndogs: The Adventures of Sadie  2009  Too $hort  actor     Bosco   3.0\n",
              "4                 Stop Pepper Palmer  2014  Too $hort  actor   Himself   NaN"
            ]
          },
          "metadata": {
            "tags": []
          },
          "execution_count": 95
        }
      ]
    },
    {
      "cell_type": "code",
      "metadata": {
        "id": "fEMETMqA7eId",
        "colab": {
          "base_uri": "https://localhost:8080/",
          "height": 198
        },
        "outputId": "d4a2dca3-161b-4985-ecf0-3fffdc018f3e"
      },
      "source": [
        "titles = pd.read_csv('data/titles.csv')\n",
        "titles.head()"
      ],
      "execution_count": 96,
      "outputs": [
        {
          "output_type": "execute_result",
          "data": {
            "text/html": [
              "<div>\n",
              "<style scoped>\n",
              "    .dataframe tbody tr th:only-of-type {\n",
              "        vertical-align: middle;\n",
              "    }\n",
              "\n",
              "    .dataframe tbody tr th {\n",
              "        vertical-align: top;\n",
              "    }\n",
              "\n",
              "    .dataframe thead th {\n",
              "        text-align: right;\n",
              "    }\n",
              "</style>\n",
              "<table border=\"1\" class=\"dataframe\">\n",
              "  <thead>\n",
              "    <tr style=\"text-align: right;\">\n",
              "      <th></th>\n",
              "      <th>title</th>\n",
              "      <th>year</th>\n",
              "    </tr>\n",
              "  </thead>\n",
              "  <tbody>\n",
              "    <tr>\n",
              "      <th>0</th>\n",
              "      <td>The Rising Son</td>\n",
              "      <td>1990</td>\n",
              "    </tr>\n",
              "    <tr>\n",
              "      <th>1</th>\n",
              "      <td>Ashes of Kukulcan</td>\n",
              "      <td>2016</td>\n",
              "    </tr>\n",
              "    <tr>\n",
              "      <th>2</th>\n",
              "      <td>The Thousand Plane Raid</td>\n",
              "      <td>1969</td>\n",
              "    </tr>\n",
              "    <tr>\n",
              "      <th>3</th>\n",
              "      <td>Crucea de piatra</td>\n",
              "      <td>1993</td>\n",
              "    </tr>\n",
              "    <tr>\n",
              "      <th>4</th>\n",
              "      <td>The 86</td>\n",
              "      <td>2015</td>\n",
              "    </tr>\n",
              "  </tbody>\n",
              "</table>\n",
              "</div>"
            ],
            "text/plain": [
              "                     title  year\n",
              "0           The Rising Son  1990\n",
              "1        Ashes of Kukulcan  2016\n",
              "2  The Thousand Plane Raid  1969\n",
              "3         Crucea de piatra  1993\n",
              "4                   The 86  2015"
            ]
          },
          "metadata": {
            "tags": []
          },
          "execution_count": 96
        }
      ]
    },
    {
      "cell_type": "markdown",
      "metadata": {
        "id": "QPD6Ars97eIg"
      },
      "source": [
        "<div class=\"alert alert-success\">\n",
        "    <b>EXERCISE</b>: How many movies are listed in the titles dataframe?\n",
        "</div>"
      ]
    },
    {
      "cell_type": "code",
      "metadata": {
        "clear_cell": true,
        "id": "gWN2Su8G7eIg",
        "colab": {
          "base_uri": "https://localhost:8080/"
        },
        "outputId": "8150124a-9e51-4bcc-c488-a255f0a6db23"
      },
      "source": [
        "len(titles['title'].unique())\r\n",
        "\r\n"
      ],
      "execution_count": 97,
      "outputs": [
        {
          "output_type": "execute_result",
          "data": {
            "text/plain": [
              "197578"
            ]
          },
          "metadata": {
            "tags": []
          },
          "execution_count": 97
        }
      ]
    },
    {
      "cell_type": "markdown",
      "metadata": {
        "id": "rXknJ0-Z7eIj"
      },
      "source": [
        "<div class=\"alert alert-success\">\n",
        "    <b>EXERCISE</b>: What are the earliest two films listed in the titles dataframe?\n",
        "</div>"
      ]
    },
    {
      "cell_type": "code",
      "metadata": {
        "clear_cell": true,
        "id": "EPx4ZOsb7eIl",
        "colab": {
          "base_uri": "https://localhost:8080/"
        },
        "outputId": "57c7f8fd-1dba-49a8-b35c-5182ac4a3a7f"
      },
      "source": [
        "titles['year'].nsmallest(2)"
      ],
      "execution_count": 98,
      "outputs": [
        {
          "output_type": "execute_result",
          "data": {
            "text/plain": [
              "165182    1894\n",
              "85708     1897\n",
              "Name: year, dtype: int64"
            ]
          },
          "metadata": {
            "tags": []
          },
          "execution_count": 98
        }
      ]
    },
    {
      "cell_type": "markdown",
      "metadata": {
        "id": "LOuOhMwU7eIn"
      },
      "source": [
        "<div class=\"alert alert-success\">\n",
        "    <b>EXERCISE</b>: How many movies have the title \"Hamlet\"?\n",
        "</div>"
      ]
    },
    {
      "cell_type": "code",
      "metadata": {
        "clear_cell": true,
        "id": "9uTl7ws37eIo",
        "colab": {
          "base_uri": "https://localhost:8080/"
        },
        "outputId": "e6914eeb-3c81-4b2f-f346-75c201872fc2"
      },
      "source": [
        "d = titles.loc[titles['title'] == 'Hamlet']\r\n",
        "d.count()"
      ],
      "execution_count": 99,
      "outputs": [
        {
          "output_type": "execute_result",
          "data": {
            "text/plain": [
              "title    19\n",
              "year     19\n",
              "dtype: int64"
            ]
          },
          "metadata": {
            "tags": []
          },
          "execution_count": 99
        }
      ]
    },
    {
      "cell_type": "markdown",
      "metadata": {
        "id": "fhihiW3v7eIr"
      },
      "source": [
        "<div class=\"alert alert-success\">\n",
        "    <b>EXERCISE</b>: List all of the \"Treasure Island\" movies from earliest to most recent.\n",
        "</div>"
      ]
    },
    {
      "cell_type": "code",
      "metadata": {
        "clear_cell": true,
        "id": "nlT--WU17eIs",
        "colab": {
          "base_uri": "https://localhost:8080/",
          "height": 288
        },
        "outputId": "7472cd06-0af0-4875-f7a1-a85b2cde13a9"
      },
      "source": [
        "d = titles.loc[titles['title'] == 'Treasure Island'].sort_values('year')\r\n",
        "d"
      ],
      "execution_count": 100,
      "outputs": [
        {
          "output_type": "execute_result",
          "data": {
            "text/html": [
              "<div>\n",
              "<style scoped>\n",
              "    .dataframe tbody tr th:only-of-type {\n",
              "        vertical-align: middle;\n",
              "    }\n",
              "\n",
              "    .dataframe tbody tr th {\n",
              "        vertical-align: top;\n",
              "    }\n",
              "\n",
              "    .dataframe thead th {\n",
              "        text-align: right;\n",
              "    }\n",
              "</style>\n",
              "<table border=\"1\" class=\"dataframe\">\n",
              "  <thead>\n",
              "    <tr style=\"text-align: right;\">\n",
              "      <th></th>\n",
              "      <th>title</th>\n",
              "      <th>year</th>\n",
              "    </tr>\n",
              "  </thead>\n",
              "  <tbody>\n",
              "    <tr>\n",
              "      <th>191379</th>\n",
              "      <td>Treasure Island</td>\n",
              "      <td>1918</td>\n",
              "    </tr>\n",
              "    <tr>\n",
              "      <th>47769</th>\n",
              "      <td>Treasure Island</td>\n",
              "      <td>1920</td>\n",
              "    </tr>\n",
              "    <tr>\n",
              "      <th>192917</th>\n",
              "      <td>Treasure Island</td>\n",
              "      <td>1934</td>\n",
              "    </tr>\n",
              "    <tr>\n",
              "      <th>90175</th>\n",
              "      <td>Treasure Island</td>\n",
              "      <td>1950</td>\n",
              "    </tr>\n",
              "    <tr>\n",
              "      <th>104714</th>\n",
              "      <td>Treasure Island</td>\n",
              "      <td>1972</td>\n",
              "    </tr>\n",
              "    <tr>\n",
              "      <th>103646</th>\n",
              "      <td>Treasure Island</td>\n",
              "      <td>1973</td>\n",
              "    </tr>\n",
              "    <tr>\n",
              "      <th>190792</th>\n",
              "      <td>Treasure Island</td>\n",
              "      <td>1985</td>\n",
              "    </tr>\n",
              "    <tr>\n",
              "      <th>166675</th>\n",
              "      <td>Treasure Island</td>\n",
              "      <td>1999</td>\n",
              "    </tr>\n",
              "  </tbody>\n",
              "</table>\n",
              "</div>"
            ],
            "text/plain": [
              "                  title  year\n",
              "191379  Treasure Island  1918\n",
              "47769   Treasure Island  1920\n",
              "192917  Treasure Island  1934\n",
              "90175   Treasure Island  1950\n",
              "104714  Treasure Island  1972\n",
              "103646  Treasure Island  1973\n",
              "190792  Treasure Island  1985\n",
              "166675  Treasure Island  1999"
            ]
          },
          "metadata": {
            "tags": []
          },
          "execution_count": 100
        }
      ]
    },
    {
      "cell_type": "markdown",
      "metadata": {
        "id": "-pNyGfTR7eIt"
      },
      "source": [
        "<div class=\"alert alert-success\">\n",
        "    <b>EXERCISE</b>: How many movies were made from 1950 through 1959?\n",
        "</div>"
      ]
    },
    {
      "cell_type": "code",
      "metadata": {
        "clear_cell": true,
        "id": "81z8UPk07eIu",
        "colab": {
          "base_uri": "https://localhost:8080/",
          "height": 407
        },
        "outputId": "c3f753b8-55c7-41cb-b587-7e480357368b"
      },
      "source": [
        "d = titles[(titles['year'] >= 1950 ) & (titles['year']<=1959)]\r\n",
        "d"
      ],
      "execution_count": 101,
      "outputs": [
        {
          "output_type": "execute_result",
          "data": {
            "text/html": [
              "<div>\n",
              "<style scoped>\n",
              "    .dataframe tbody tr th:only-of-type {\n",
              "        vertical-align: middle;\n",
              "    }\n",
              "\n",
              "    .dataframe tbody tr th {\n",
              "        vertical-align: top;\n",
              "    }\n",
              "\n",
              "    .dataframe thead th {\n",
              "        text-align: right;\n",
              "    }\n",
              "</style>\n",
              "<table border=\"1\" class=\"dataframe\">\n",
              "  <thead>\n",
              "    <tr style=\"text-align: right;\">\n",
              "      <th></th>\n",
              "      <th>title</th>\n",
              "      <th>year</th>\n",
              "    </tr>\n",
              "  </thead>\n",
              "  <tbody>\n",
              "    <tr>\n",
              "      <th>9</th>\n",
              "      <td>Women's Prison</td>\n",
              "      <td>1955</td>\n",
              "    </tr>\n",
              "    <tr>\n",
              "      <th>37</th>\n",
              "      <td>La momia azteca contra el robot humano</td>\n",
              "      <td>1958</td>\n",
              "    </tr>\n",
              "    <tr>\n",
              "      <th>86</th>\n",
              "      <td>Botta e risposta</td>\n",
              "      <td>1950</td>\n",
              "    </tr>\n",
              "    <tr>\n",
              "      <th>88</th>\n",
              "      <td>Perdeu-se um Marido</td>\n",
              "      <td>1957</td>\n",
              "    </tr>\n",
              "    <tr>\n",
              "      <th>106</th>\n",
              "      <td>Qiu yu can hua</td>\n",
              "      <td>1953</td>\n",
              "    </tr>\n",
              "    <tr>\n",
              "      <th>...</th>\n",
              "      <td>...</td>\n",
              "      <td>...</td>\n",
              "    </tr>\n",
              "    <tr>\n",
              "      <th>215856</th>\n",
              "      <td>Tischlein, deck dich</td>\n",
              "      <td>1956</td>\n",
              "    </tr>\n",
              "    <tr>\n",
              "      <th>215890</th>\n",
              "      <td>Some Like It Hot</td>\n",
              "      <td>1959</td>\n",
              "    </tr>\n",
              "    <tr>\n",
              "      <th>215915</th>\n",
              "      <td>Black Widow</td>\n",
              "      <td>1951</td>\n",
              "    </tr>\n",
              "    <tr>\n",
              "      <th>215919</th>\n",
              "      <td>Encrucijada</td>\n",
              "      <td>1956</td>\n",
              "    </tr>\n",
              "    <tr>\n",
              "      <th>215945</th>\n",
              "      <td>Te sigo esperando</td>\n",
              "      <td>1952</td>\n",
              "    </tr>\n",
              "  </tbody>\n",
              "</table>\n",
              "<p>12120 rows × 2 columns</p>\n",
              "</div>"
            ],
            "text/plain": [
              "                                         title  year\n",
              "9                               Women's Prison  1955\n",
              "37      La momia azteca contra el robot humano  1958\n",
              "86                            Botta e risposta  1950\n",
              "88                         Perdeu-se um Marido  1957\n",
              "106                             Qiu yu can hua  1953\n",
              "...                                        ...   ...\n",
              "215856                    Tischlein, deck dich  1956\n",
              "215890                        Some Like It Hot  1959\n",
              "215915                             Black Widow  1951\n",
              "215919                             Encrucijada  1956\n",
              "215945                       Te sigo esperando  1952\n",
              "\n",
              "[12120 rows x 2 columns]"
            ]
          },
          "metadata": {
            "tags": []
          },
          "execution_count": 101
        }
      ]
    },
    {
      "cell_type": "code",
      "metadata": {
        "clear_cell": true,
        "id": "j1ZaWqnU7eIw",
        "colab": {
          "base_uri": "https://localhost:8080/",
          "height": 198
        },
        "outputId": "c688b453-34dc-43f4-9111-6e66cbf9f7bb"
      },
      "source": [
        "cast.head()"
      ],
      "execution_count": 102,
      "outputs": [
        {
          "output_type": "execute_result",
          "data": {
            "text/html": [
              "<div>\n",
              "<style scoped>\n",
              "    .dataframe tbody tr th:only-of-type {\n",
              "        vertical-align: middle;\n",
              "    }\n",
              "\n",
              "    .dataframe tbody tr th {\n",
              "        vertical-align: top;\n",
              "    }\n",
              "\n",
              "    .dataframe thead th {\n",
              "        text-align: right;\n",
              "    }\n",
              "</style>\n",
              "<table border=\"1\" class=\"dataframe\">\n",
              "  <thead>\n",
              "    <tr style=\"text-align: right;\">\n",
              "      <th></th>\n",
              "      <th>title</th>\n",
              "      <th>year</th>\n",
              "      <th>name</th>\n",
              "      <th>type</th>\n",
              "      <th>character</th>\n",
              "      <th>n</th>\n",
              "    </tr>\n",
              "  </thead>\n",
              "  <tbody>\n",
              "    <tr>\n",
              "      <th>0</th>\n",
              "      <td>Suuri illusioni</td>\n",
              "      <td>1985</td>\n",
              "      <td>Homo $</td>\n",
              "      <td>actor</td>\n",
              "      <td>Guests</td>\n",
              "      <td>22.0</td>\n",
              "    </tr>\n",
              "    <tr>\n",
              "      <th>1</th>\n",
              "      <td>Gangsta Rap: The Glockumentary</td>\n",
              "      <td>2007</td>\n",
              "      <td>Too $hort</td>\n",
              "      <td>actor</td>\n",
              "      <td>Himself</td>\n",
              "      <td>NaN</td>\n",
              "    </tr>\n",
              "    <tr>\n",
              "      <th>2</th>\n",
              "      <td>Menace II Society</td>\n",
              "      <td>1993</td>\n",
              "      <td>Too $hort</td>\n",
              "      <td>actor</td>\n",
              "      <td>Lew-Loc</td>\n",
              "      <td>27.0</td>\n",
              "    </tr>\n",
              "    <tr>\n",
              "      <th>3</th>\n",
              "      <td>Porndogs: The Adventures of Sadie</td>\n",
              "      <td>2009</td>\n",
              "      <td>Too $hort</td>\n",
              "      <td>actor</td>\n",
              "      <td>Bosco</td>\n",
              "      <td>3.0</td>\n",
              "    </tr>\n",
              "    <tr>\n",
              "      <th>4</th>\n",
              "      <td>Stop Pepper Palmer</td>\n",
              "      <td>2014</td>\n",
              "      <td>Too $hort</td>\n",
              "      <td>actor</td>\n",
              "      <td>Himself</td>\n",
              "      <td>NaN</td>\n",
              "    </tr>\n",
              "  </tbody>\n",
              "</table>\n",
              "</div>"
            ],
            "text/plain": [
              "                               title  year       name   type character     n\n",
              "0                    Suuri illusioni  1985     Homo $  actor    Guests  22.0\n",
              "1     Gangsta Rap: The Glockumentary  2007  Too $hort  actor   Himself   NaN\n",
              "2                  Menace II Society  1993  Too $hort  actor   Lew-Loc  27.0\n",
              "3  Porndogs: The Adventures of Sadie  2009  Too $hort  actor     Bosco   3.0\n",
              "4                 Stop Pepper Palmer  2014  Too $hort  actor   Himself   NaN"
            ]
          },
          "metadata": {
            "tags": []
          },
          "execution_count": 102
        }
      ]
    },
    {
      "cell_type": "markdown",
      "metadata": {
        "id": "M6Us8rJW7eIy"
      },
      "source": [
        "<div class=\"alert alert-success\">\n",
        "    <b>EXERCISE</b>: How many roles in the movie \"Inception\" are NOT ranked by an \"n\" value?\n",
        "</div>"
      ]
    },
    {
      "cell_type": "code",
      "metadata": {
        "clear_cell": true,
        "id": "kjgRwmd17eIy",
        "colab": {
          "base_uri": "https://localhost:8080/",
          "height": 708
        },
        "outputId": "0dda6bb1-2c94-45ab-d5a7-467c42b44c76"
      },
      "source": [
        "\r\n",
        "d = cast[(cast['title']=='Inception') & (cast['n'].isnull())]\r\n",
        "d['type'].unique()"
      ],
      "execution_count": 106,
      "outputs": [
        {
          "output_type": "execute_result",
          "data": {
            "text/html": [
              "<div>\n",
              "<style scoped>\n",
              "    .dataframe tbody tr th:only-of-type {\n",
              "        vertical-align: middle;\n",
              "    }\n",
              "\n",
              "    .dataframe tbody tr th {\n",
              "        vertical-align: top;\n",
              "    }\n",
              "\n",
              "    .dataframe thead th {\n",
              "        text-align: right;\n",
              "    }\n",
              "</style>\n",
              "<table border=\"1\" class=\"dataframe\">\n",
              "  <thead>\n",
              "    <tr style=\"text-align: right;\">\n",
              "      <th></th>\n",
              "      <th>title</th>\n",
              "      <th>year</th>\n",
              "      <th>name</th>\n",
              "      <th>type</th>\n",
              "      <th>character</th>\n",
              "      <th>n</th>\n",
              "    </tr>\n",
              "  </thead>\n",
              "  <tbody>\n",
              "    <tr>\n",
              "      <th>86093</th>\n",
              "      <td>Inception</td>\n",
              "      <td>2010</td>\n",
              "      <td>Michael (III) August</td>\n",
              "      <td>actor</td>\n",
              "      <td>LAX Passenger</td>\n",
              "      <td>NaN</td>\n",
              "    </tr>\n",
              "    <tr>\n",
              "      <th>174676</th>\n",
              "      <td>Inception</td>\n",
              "      <td>2010</td>\n",
              "      <td>Ken Bhan</td>\n",
              "      <td>actor</td>\n",
              "      <td>Mombasan Gambler</td>\n",
              "      <td>NaN</td>\n",
              "    </tr>\n",
              "    <tr>\n",
              "      <th>333474</th>\n",
              "      <td>Inception</td>\n",
              "      <td>2010</td>\n",
              "      <td>John Ceallach</td>\n",
              "      <td>actor</td>\n",
              "      <td>LAX Passenger</td>\n",
              "      <td>NaN</td>\n",
              "    </tr>\n",
              "    <tr>\n",
              "      <th>610905</th>\n",
              "      <td>Inception</td>\n",
              "      <td>2010</td>\n",
              "      <td>Seve Esposito</td>\n",
              "      <td>actor</td>\n",
              "      <td>Italian Gambler</td>\n",
              "      <td>NaN</td>\n",
              "    </tr>\n",
              "    <tr>\n",
              "      <th>631993</th>\n",
              "      <td>Inception</td>\n",
              "      <td>2010</td>\n",
              "      <td>Zachary Christopher Fay</td>\n",
              "      <td>actor</td>\n",
              "      <td>Extra</td>\n",
              "      <td>NaN</td>\n",
              "    </tr>\n",
              "    <tr>\n",
              "      <th>747030</th>\n",
              "      <td>Inception</td>\n",
              "      <td>2010</td>\n",
              "      <td>Daniel Girondeaud</td>\n",
              "      <td>actor</td>\n",
              "      <td>Bridge Sub Con</td>\n",
              "      <td>NaN</td>\n",
              "    </tr>\n",
              "    <tr>\n",
              "      <th>900363</th>\n",
              "      <td>Inception</td>\n",
              "      <td>2010</td>\n",
              "      <td>Andrew Hoagland</td>\n",
              "      <td>actor</td>\n",
              "      <td>Pedestrian</td>\n",
              "      <td>NaN</td>\n",
              "    </tr>\n",
              "    <tr>\n",
              "      <th>979629</th>\n",
              "      <td>Inception</td>\n",
              "      <td>2010</td>\n",
              "      <td>Charles Jarrell</td>\n",
              "      <td>actor</td>\n",
              "      <td>Hotel Guest</td>\n",
              "      <td>NaN</td>\n",
              "    </tr>\n",
              "    <tr>\n",
              "      <th>991536</th>\n",
              "      <td>Inception</td>\n",
              "      <td>2010</td>\n",
              "      <td>Seong-hwan Jo</td>\n",
              "      <td>actor</td>\n",
              "      <td>Japanese Landing Crew</td>\n",
              "      <td>NaN</td>\n",
              "    </tr>\n",
              "    <tr>\n",
              "      <th>1001735</th>\n",
              "      <td>Inception</td>\n",
              "      <td>2010</td>\n",
              "      <td>Alonzo F. Jones</td>\n",
              "      <td>actor</td>\n",
              "      <td>Mombasan Casino Staff</td>\n",
              "      <td>NaN</td>\n",
              "    </tr>\n",
              "    <tr>\n",
              "      <th>1062541</th>\n",
              "      <td>Inception</td>\n",
              "      <td>2010</td>\n",
              "      <td>Mobin Khan</td>\n",
              "      <td>actor</td>\n",
              "      <td>Mombasa Casino Cashier</td>\n",
              "      <td>NaN</td>\n",
              "    </tr>\n",
              "    <tr>\n",
              "      <th>1114025</th>\n",
              "      <td>Inception</td>\n",
              "      <td>2010</td>\n",
              "      <td>Shunsaku Kud?</td>\n",
              "      <td>actor</td>\n",
              "      <td>Saito's Bodyguard Officer</td>\n",
              "      <td>NaN</td>\n",
              "    </tr>\n",
              "    <tr>\n",
              "      <th>1156558</th>\n",
              "      <td>Inception</td>\n",
              "      <td>2010</td>\n",
              "      <td>John (IX) Lawson</td>\n",
              "      <td>actor</td>\n",
              "      <td>Street Person</td>\n",
              "      <td>NaN</td>\n",
              "    </tr>\n",
              "    <tr>\n",
              "      <th>1170866</th>\n",
              "      <td>Inception</td>\n",
              "      <td>2010</td>\n",
              "      <td>Jean-Christophe Leger</td>\n",
              "      <td>actor</td>\n",
              "      <td>French Student</td>\n",
              "      <td>NaN</td>\n",
              "    </tr>\n",
              "    <tr>\n",
              "      <th>1487576</th>\n",
              "      <td>Inception</td>\n",
              "      <td>2010</td>\n",
              "      <td>Fran?ois-Marie Nivon</td>\n",
              "      <td>actor</td>\n",
              "      <td>A Passer-By</td>\n",
              "      <td>NaN</td>\n",
              "    </tr>\n",
              "    <tr>\n",
              "      <th>1639251</th>\n",
              "      <td>Inception</td>\n",
              "      <td>2010</td>\n",
              "      <td>Scott Pretty</td>\n",
              "      <td>actor</td>\n",
              "      <td>Pedestrian</td>\n",
              "      <td>NaN</td>\n",
              "    </tr>\n",
              "    <tr>\n",
              "      <th>1714523</th>\n",
              "      <td>Inception</td>\n",
              "      <td>2010</td>\n",
              "      <td>Benjamin (II) Riley</td>\n",
              "      <td>actor</td>\n",
              "      <td>Bridge Sub Con</td>\n",
              "      <td>NaN</td>\n",
              "    </tr>\n",
              "    <tr>\n",
              "      <th>1784459</th>\n",
              "      <td>Inception</td>\n",
              "      <td>2010</td>\n",
              "      <td>Norman Saleet</td>\n",
              "      <td>actor</td>\n",
              "      <td>Airport Patron</td>\n",
              "      <td>NaN</td>\n",
              "    </tr>\n",
              "    <tr>\n",
              "      <th>1896914</th>\n",
              "      <td>Inception</td>\n",
              "      <td>2010</td>\n",
              "      <td>Colin (XXV) Smith</td>\n",
              "      <td>actor</td>\n",
              "      <td>Airport Patron</td>\n",
              "      <td>NaN</td>\n",
              "    </tr>\n",
              "    <tr>\n",
              "      <th>1995368</th>\n",
              "      <td>Inception</td>\n",
              "      <td>2010</td>\n",
              "      <td>Affan Tareen</td>\n",
              "      <td>actor</td>\n",
              "      <td>Denison</td>\n",
              "      <td>NaN</td>\n",
              "    </tr>\n",
              "    <tr>\n",
              "      <th>2484263</th>\n",
              "      <td>Inception</td>\n",
              "      <td>2010</td>\n",
              "      <td>Youlanda Davis</td>\n",
              "      <td>actress</td>\n",
              "      <td>Mombasan Cashier</td>\n",
              "      <td>NaN</td>\n",
              "    </tr>\n",
              "    <tr>\n",
              "      <th>2617691</th>\n",
              "      <td>Inception</td>\n",
              "      <td>2010</td>\n",
              "      <td>Natalie Goldwin</td>\n",
              "      <td>actress</td>\n",
              "      <td>LAX Passenger</td>\n",
              "      <td>NaN</td>\n",
              "    </tr>\n",
              "  </tbody>\n",
              "</table>\n",
              "</div>"
            ],
            "text/plain": [
              "             title  year  ...                  character   n\n",
              "86093    Inception  2010  ...              LAX Passenger NaN\n",
              "174676   Inception  2010  ...           Mombasan Gambler NaN\n",
              "333474   Inception  2010  ...              LAX Passenger NaN\n",
              "610905   Inception  2010  ...            Italian Gambler NaN\n",
              "631993   Inception  2010  ...                      Extra NaN\n",
              "747030   Inception  2010  ...             Bridge Sub Con NaN\n",
              "900363   Inception  2010  ...                 Pedestrian NaN\n",
              "979629   Inception  2010  ...                Hotel Guest NaN\n",
              "991536   Inception  2010  ...      Japanese Landing Crew NaN\n",
              "1001735  Inception  2010  ...      Mombasan Casino Staff NaN\n",
              "1062541  Inception  2010  ...     Mombasa Casino Cashier NaN\n",
              "1114025  Inception  2010  ...  Saito's Bodyguard Officer NaN\n",
              "1156558  Inception  2010  ...              Street Person NaN\n",
              "1170866  Inception  2010  ...             French Student NaN\n",
              "1487576  Inception  2010  ...                A Passer-By NaN\n",
              "1639251  Inception  2010  ...                 Pedestrian NaN\n",
              "1714523  Inception  2010  ...             Bridge Sub Con NaN\n",
              "1784459  Inception  2010  ...             Airport Patron NaN\n",
              "1896914  Inception  2010  ...             Airport Patron NaN\n",
              "1995368  Inception  2010  ...                    Denison NaN\n",
              "2484263  Inception  2010  ...           Mombasan Cashier NaN\n",
              "2617691  Inception  2010  ...              LAX Passenger NaN\n",
              "\n",
              "[22 rows x 6 columns]"
            ]
          },
          "metadata": {
            "tags": []
          },
          "execution_count": 106
        }
      ]
    },
    {
      "cell_type": "markdown",
      "metadata": {
        "id": "GQ5Zmf3t7eI0"
      },
      "source": [
        "<div class=\"alert alert-success\">\n",
        "    <b>EXERCISE</b>: But how many roles in the movie \"Inception\" did receive an \"n\" value?\n",
        "</div>"
      ]
    },
    {
      "cell_type": "code",
      "metadata": {
        "clear_cell": true,
        "id": "tr8PZ39b7eI0",
        "colab": {
          "base_uri": "https://localhost:8080/"
        },
        "outputId": "0c094da6-6336-4332-ec12-638bc3d84556"
      },
      "source": [
        "d = cast[(cast['title']=='Inception') & (cast['n'].notnull())]\r\n",
        "d.count()"
      ],
      "execution_count": 104,
      "outputs": [
        {
          "output_type": "execute_result",
          "data": {
            "text/plain": [
              "title        51\n",
              "year         51\n",
              "name         51\n",
              "type         51\n",
              "character    51\n",
              "n            51\n",
              "dtype: int64"
            ]
          },
          "metadata": {
            "tags": []
          },
          "execution_count": 104
        }
      ]
    },
    {
      "cell_type": "markdown",
      "metadata": {
        "id": "7rPVj9Z97eI2"
      },
      "source": [
        "<div class=\"alert alert-success\">\n",
        "    <b>EXERCISE</b>: Display the cast of \"North by Northwest\" in their correct \"n\"-value order, ignoring roles that did not earn a numeric \"n\" value.\n",
        "</div>"
      ]
    },
    {
      "cell_type": "code",
      "metadata": {
        "clear_cell": true,
        "id": "nR9tP-7s7eI3",
        "colab": {
          "base_uri": "https://localhost:8080/",
          "height": 528
        },
        "outputId": "41d8a33e-eea3-448a-9c2b-2edddc28caa2"
      },
      "source": [
        "d = cast.loc[(cast['title']=='North by Northwest') & (cast['n'].notnull())]\r\n",
        "d.sort_values('n')"
      ],
      "execution_count": 110,
      "outputs": [
        {
          "output_type": "execute_result",
          "data": {
            "text/html": [
              "<div>\n",
              "<style scoped>\n",
              "    .dataframe tbody tr th:only-of-type {\n",
              "        vertical-align: middle;\n",
              "    }\n",
              "\n",
              "    .dataframe tbody tr th {\n",
              "        vertical-align: top;\n",
              "    }\n",
              "\n",
              "    .dataframe thead th {\n",
              "        text-align: right;\n",
              "    }\n",
              "</style>\n",
              "<table border=\"1\" class=\"dataframe\">\n",
              "  <thead>\n",
              "    <tr style=\"text-align: right;\">\n",
              "      <th></th>\n",
              "      <th>title</th>\n",
              "      <th>year</th>\n",
              "      <th>name</th>\n",
              "      <th>type</th>\n",
              "      <th>character</th>\n",
              "      <th>n</th>\n",
              "    </tr>\n",
              "  </thead>\n",
              "  <tbody>\n",
              "    <tr>\n",
              "      <th>778278</th>\n",
              "      <td>North by Northwest</td>\n",
              "      <td>1959</td>\n",
              "      <td>Cary Grant</td>\n",
              "      <td>actor</td>\n",
              "      <td>Roger O. Thornhill</td>\n",
              "      <td>1.0</td>\n",
              "    </tr>\n",
              "    <tr>\n",
              "      <th>3104905</th>\n",
              "      <td>North by Northwest</td>\n",
              "      <td>1959</td>\n",
              "      <td>Eva Marie Saint</td>\n",
              "      <td>actress</td>\n",
              "      <td>Eve Kendall</td>\n",
              "      <td>2.0</td>\n",
              "    </tr>\n",
              "    <tr>\n",
              "      <th>1300582</th>\n",
              "      <td>North by Northwest</td>\n",
              "      <td>1959</td>\n",
              "      <td>James Mason</td>\n",
              "      <td>actor</td>\n",
              "      <td>Phillip Vandamm</td>\n",
              "      <td>3.0</td>\n",
              "    </tr>\n",
              "    <tr>\n",
              "      <th>2794420</th>\n",
              "      <td>North by Northwest</td>\n",
              "      <td>1959</td>\n",
              "      <td>Jessie Royce Landis</td>\n",
              "      <td>actress</td>\n",
              "      <td>Clara Thornhill</td>\n",
              "      <td>4.0</td>\n",
              "    </tr>\n",
              "    <tr>\n",
              "      <th>317310</th>\n",
              "      <td>North by Northwest</td>\n",
              "      <td>1959</td>\n",
              "      <td>Leo G. Carroll</td>\n",
              "      <td>actor</td>\n",
              "      <td>The Professor</td>\n",
              "      <td>5.0</td>\n",
              "    </tr>\n",
              "    <tr>\n",
              "      <th>2702399</th>\n",
              "      <td>North by Northwest</td>\n",
              "      <td>1959</td>\n",
              "      <td>Josephine Hutchinson</td>\n",
              "      <td>actress</td>\n",
              "      <td>Mrs. Townsend</td>\n",
              "      <td>6.0</td>\n",
              "    </tr>\n",
              "    <tr>\n",
              "      <th>1513974</th>\n",
              "      <td>North by Northwest</td>\n",
              "      <td>1959</td>\n",
              "      <td>Philip Ober</td>\n",
              "      <td>actor</td>\n",
              "      <td>Lester Townsend</td>\n",
              "      <td>7.0</td>\n",
              "    </tr>\n",
              "    <tr>\n",
              "      <th>1137555</th>\n",
              "      <td>North by Northwest</td>\n",
              "      <td>1959</td>\n",
              "      <td>Martin Landau</td>\n",
              "      <td>actor</td>\n",
              "      <td>Leonard</td>\n",
              "      <td>8.0</td>\n",
              "    </tr>\n",
              "    <tr>\n",
              "      <th>2181363</th>\n",
              "      <td>North by Northwest</td>\n",
              "      <td>1959</td>\n",
              "      <td>Adam Williams</td>\n",
              "      <td>actor</td>\n",
              "      <td>Valerian</td>\n",
              "      <td>9.0</td>\n",
              "    </tr>\n",
              "    <tr>\n",
              "      <th>1616877</th>\n",
              "      <td>North by Northwest</td>\n",
              "      <td>1959</td>\n",
              "      <td>Edward Platt</td>\n",
              "      <td>actor</td>\n",
              "      <td>Victor Larrabee</td>\n",
              "      <td>10.0</td>\n",
              "    </tr>\n",
              "    <tr>\n",
              "      <th>594433</th>\n",
              "      <td>North by Northwest</td>\n",
              "      <td>1959</td>\n",
              "      <td>Robert Ellenstein</td>\n",
              "      <td>actor</td>\n",
              "      <td>Licht</td>\n",
              "      <td>11.0</td>\n",
              "    </tr>\n",
              "    <tr>\n",
              "      <th>2046317</th>\n",
              "      <td>North by Northwest</td>\n",
              "      <td>1959</td>\n",
              "      <td>Les Tremayne</td>\n",
              "      <td>actor</td>\n",
              "      <td>Auctioneer</td>\n",
              "      <td>12.0</td>\n",
              "    </tr>\n",
              "    <tr>\n",
              "      <th>413825</th>\n",
              "      <td>North by Northwest</td>\n",
              "      <td>1959</td>\n",
              "      <td>Philip Coolidge</td>\n",
              "      <td>actor</td>\n",
              "      <td>Dr. Cross</td>\n",
              "      <td>13.0</td>\n",
              "    </tr>\n",
              "    <tr>\n",
              "      <th>1347170</th>\n",
              "      <td>North by Northwest</td>\n",
              "      <td>1959</td>\n",
              "      <td>Patrick McVey</td>\n",
              "      <td>actor</td>\n",
              "      <td>Sergeant Flamm</td>\n",
              "      <td>14.0</td>\n",
              "    </tr>\n",
              "    <tr>\n",
              "      <th>182129</th>\n",
              "      <td>North by Northwest</td>\n",
              "      <td>1959</td>\n",
              "      <td>Edward Binns</td>\n",
              "      <td>actor</td>\n",
              "      <td>Captain Junket</td>\n",
              "      <td>15.0</td>\n",
              "    </tr>\n",
              "    <tr>\n",
              "      <th>1235786</th>\n",
              "      <td>North by Northwest</td>\n",
              "      <td>1959</td>\n",
              "      <td>Ken Lynch</td>\n",
              "      <td>actor</td>\n",
              "      <td>Charley - Chicago Policeman</td>\n",
              "      <td>16.0</td>\n",
              "    </tr>\n",
              "  </tbody>\n",
              "</table>\n",
              "</div>"
            ],
            "text/plain": [
              "                      title  year  ...                    character     n\n",
              "778278   North by Northwest  1959  ...           Roger O. Thornhill   1.0\n",
              "3104905  North by Northwest  1959  ...                  Eve Kendall   2.0\n",
              "1300582  North by Northwest  1959  ...              Phillip Vandamm   3.0\n",
              "2794420  North by Northwest  1959  ...              Clara Thornhill   4.0\n",
              "317310   North by Northwest  1959  ...                The Professor   5.0\n",
              "2702399  North by Northwest  1959  ...                Mrs. Townsend   6.0\n",
              "1513974  North by Northwest  1959  ...              Lester Townsend   7.0\n",
              "1137555  North by Northwest  1959  ...                      Leonard   8.0\n",
              "2181363  North by Northwest  1959  ...                     Valerian   9.0\n",
              "1616877  North by Northwest  1959  ...              Victor Larrabee  10.0\n",
              "594433   North by Northwest  1959  ...                        Licht  11.0\n",
              "2046317  North by Northwest  1959  ...                   Auctioneer  12.0\n",
              "413825   North by Northwest  1959  ...                    Dr. Cross  13.0\n",
              "1347170  North by Northwest  1959  ...               Sergeant Flamm  14.0\n",
              "182129   North by Northwest  1959  ...               Captain Junket  15.0\n",
              "1235786  North by Northwest  1959  ...  Charley - Chicago Policeman  16.0\n",
              "\n",
              "[16 rows x 6 columns]"
            ]
          },
          "metadata": {
            "tags": []
          },
          "execution_count": 110
        }
      ]
    },
    {
      "cell_type": "markdown",
      "metadata": {
        "id": "X2LC9vF47eI4"
      },
      "source": [
        "<div class=\"alert alert-success\">\n",
        "    <b>EXERCISE</b>: How many roles were credited in the silent 1921 version of Hamlet?\n",
        "</div>"
      ]
    },
    {
      "cell_type": "code",
      "metadata": {
        "clear_cell": true,
        "id": "6tOULll27eI5",
        "colab": {
          "base_uri": "https://localhost:8080/",
          "height": 318
        },
        "outputId": "5da16cb7-19f1-43ed-97dc-cf346da26381"
      },
      "source": [
        "d = cast.loc[(cast['title']== 'Hamlet' ) & (cast['year']== 1921)]\r\n",
        "d"
      ],
      "execution_count": 119,
      "outputs": [
        {
          "output_type": "execute_result",
          "data": {
            "text/html": [
              "<div>\n",
              "<style scoped>\n",
              "    .dataframe tbody tr th:only-of-type {\n",
              "        vertical-align: middle;\n",
              "    }\n",
              "\n",
              "    .dataframe tbody tr th {\n",
              "        vertical-align: top;\n",
              "    }\n",
              "\n",
              "    .dataframe thead th {\n",
              "        text-align: right;\n",
              "    }\n",
              "</style>\n",
              "<table border=\"1\" class=\"dataframe\">\n",
              "  <thead>\n",
              "    <tr style=\"text-align: right;\">\n",
              "      <th></th>\n",
              "      <th>title</th>\n",
              "      <th>year</th>\n",
              "      <th>name</th>\n",
              "      <th>type</th>\n",
              "      <th>character</th>\n",
              "      <th>n</th>\n",
              "    </tr>\n",
              "  </thead>\n",
              "  <tbody>\n",
              "    <tr>\n",
              "      <th>6710</th>\n",
              "      <td>Hamlet</td>\n",
              "      <td>1921</td>\n",
              "      <td>Fritz Achterberg</td>\n",
              "      <td>actor</td>\n",
              "      <td>Fortinbras,</td>\n",
              "      <td>9.0</td>\n",
              "    </tr>\n",
              "    <tr>\n",
              "      <th>408456</th>\n",
              "      <td>Hamlet</td>\n",
              "      <td>1921</td>\n",
              "      <td>Paul Conradi</td>\n",
              "      <td>actor</td>\n",
              "      <td>K?nig Hamlet</td>\n",
              "      <td>2.0</td>\n",
              "    </tr>\n",
              "    <tr>\n",
              "      <th>495468</th>\n",
              "      <td>Hamlet</td>\n",
              "      <td>1921</td>\n",
              "      <td>Anton De Verdier</td>\n",
              "      <td>actor</td>\n",
              "      <td>Laertes</td>\n",
              "      <td>7.0</td>\n",
              "    </tr>\n",
              "    <tr>\n",
              "      <th>1015046</th>\n",
              "      <td>Hamlet</td>\n",
              "      <td>1921</td>\n",
              "      <td>Hans Junkermann</td>\n",
              "      <td>actor</td>\n",
              "      <td>Polonius</td>\n",
              "      <td>6.0</td>\n",
              "    </tr>\n",
              "    <tr>\n",
              "      <th>1948795</th>\n",
              "      <td>Hamlet</td>\n",
              "      <td>1921</td>\n",
              "      <td>Heinz Stieda</td>\n",
              "      <td>actor</td>\n",
              "      <td>Horatio</td>\n",
              "      <td>5.0</td>\n",
              "    </tr>\n",
              "    <tr>\n",
              "      <th>2116906</th>\n",
              "      <td>Hamlet</td>\n",
              "      <td>1921</td>\n",
              "      <td>Eduard von Winterstein</td>\n",
              "      <td>actor</td>\n",
              "      <td>Claudius</td>\n",
              "      <td>4.0</td>\n",
              "    </tr>\n",
              "    <tr>\n",
              "      <th>2370048</th>\n",
              "      <td>Hamlet</td>\n",
              "      <td>1921</td>\n",
              "      <td>Mathilde Brandt</td>\n",
              "      <td>actress</td>\n",
              "      <td>K?nigin Gertrude</td>\n",
              "      <td>3.0</td>\n",
              "    </tr>\n",
              "    <tr>\n",
              "      <th>2713980</th>\n",
              "      <td>Hamlet</td>\n",
              "      <td>1921</td>\n",
              "      <td>Lilly Jacobson</td>\n",
              "      <td>actress</td>\n",
              "      <td>Ophelia</td>\n",
              "      <td>8.0</td>\n",
              "    </tr>\n",
              "    <tr>\n",
              "      <th>2964897</th>\n",
              "      <td>Hamlet</td>\n",
              "      <td>1921</td>\n",
              "      <td>Asta Nielsen</td>\n",
              "      <td>actress</td>\n",
              "      <td>Hamlet</td>\n",
              "      <td>1.0</td>\n",
              "    </tr>\n",
              "  </tbody>\n",
              "</table>\n",
              "</div>"
            ],
            "text/plain": [
              "          title  year                    name     type         character    n\n",
              "6710     Hamlet  1921        Fritz Achterberg    actor       Fortinbras,  9.0\n",
              "408456   Hamlet  1921            Paul Conradi    actor      K?nig Hamlet  2.0\n",
              "495468   Hamlet  1921        Anton De Verdier    actor           Laertes  7.0\n",
              "1015046  Hamlet  1921         Hans Junkermann    actor          Polonius  6.0\n",
              "1948795  Hamlet  1921            Heinz Stieda    actor           Horatio  5.0\n",
              "2116906  Hamlet  1921  Eduard von Winterstein    actor          Claudius  4.0\n",
              "2370048  Hamlet  1921         Mathilde Brandt  actress  K?nigin Gertrude  3.0\n",
              "2713980  Hamlet  1921          Lilly Jacobson  actress           Ophelia  8.0\n",
              "2964897  Hamlet  1921            Asta Nielsen  actress            Hamlet  1.0"
            ]
          },
          "metadata": {
            "tags": []
          },
          "execution_count": 119
        }
      ]
    },
    {
      "cell_type": "markdown",
      "metadata": {
        "id": "tISSBNw87eI8"
      },
      "source": [
        "<div class=\"alert alert-success\">\n",
        "    <b>EXERCISE</b>: List the supporting roles (having n=2) played by Cary Grant in the 1940s, in order by year.\n",
        "</div>"
      ]
    },
    {
      "cell_type": "code",
      "metadata": {
        "clear_cell": true,
        "id": "BVMKo15u7eI8"
      },
      "source": [
        "d = cast.loc[(cast['name']== 'Cary Grant' ) & (cast['year'] >= 1940) & (cast['year'] <= 1940) & (cast['n']== 2)].sort_values('year')"
      ],
      "execution_count": 122,
      "outputs": []
    },
    {
      "cell_type": "code",
      "metadata": {
        "id": "4JpgUVHD7eI-",
        "colab": {
          "base_uri": "https://localhost:8080/",
          "height": 108
        },
        "outputId": "98543cdb-a624-414f-c7be-c5b0ed7a9202"
      },
      "source": [
        "d"
      ],
      "execution_count": 121,
      "outputs": [
        {
          "output_type": "execute_result",
          "data": {
            "text/html": [
              "<div>\n",
              "<style scoped>\n",
              "    .dataframe tbody tr th:only-of-type {\n",
              "        vertical-align: middle;\n",
              "    }\n",
              "\n",
              "    .dataframe tbody tr th {\n",
              "        vertical-align: top;\n",
              "    }\n",
              "\n",
              "    .dataframe thead th {\n",
              "        text-align: right;\n",
              "    }\n",
              "</style>\n",
              "<table border=\"1\" class=\"dataframe\">\n",
              "  <thead>\n",
              "    <tr style=\"text-align: right;\">\n",
              "      <th></th>\n",
              "      <th>title</th>\n",
              "      <th>year</th>\n",
              "      <th>name</th>\n",
              "      <th>type</th>\n",
              "      <th>character</th>\n",
              "      <th>n</th>\n",
              "    </tr>\n",
              "  </thead>\n",
              "  <tbody>\n",
              "    <tr>\n",
              "      <th>778275</th>\n",
              "      <td>My Favorite Wife</td>\n",
              "      <td>1940</td>\n",
              "      <td>Cary Grant</td>\n",
              "      <td>actor</td>\n",
              "      <td>Nick</td>\n",
              "      <td>2.0</td>\n",
              "    </tr>\n",
              "    <tr>\n",
              "      <th>778285</th>\n",
              "      <td>Penny Serenade</td>\n",
              "      <td>1941</td>\n",
              "      <td>Cary Grant</td>\n",
              "      <td>actor</td>\n",
              "      <td>Roger Adams</td>\n",
              "      <td>2.0</td>\n",
              "    </tr>\n",
              "  </tbody>\n",
              "</table>\n",
              "</div>"
            ],
            "text/plain": [
              "                   title  year        name   type    character    n\n",
              "778275  My Favorite Wife  1940  Cary Grant  actor         Nick  2.0\n",
              "778285    Penny Serenade  1941  Cary Grant  actor  Roger Adams  2.0"
            ]
          },
          "metadata": {
            "tags": []
          },
          "execution_count": 121
        }
      ]
    },
    {
      "cell_type": "code",
      "metadata": {
        "id": "98z7-VmHA04D"
      },
      "source": [
        ""
      ],
      "execution_count": null,
      "outputs": []
    }
  ]
}