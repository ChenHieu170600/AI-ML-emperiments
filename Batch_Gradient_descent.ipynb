{
  "nbformat": 4,
  "nbformat_minor": 0,
  "metadata": {
    "colab": {
      "name": "Batch Gradient descent.ipynb",
      "provenance": [],
      "authorship_tag": "ABX9TyPsVO3M9gWvUNHW1BHsQYWd",
      "include_colab_link": true
    },
    "kernelspec": {
      "name": "python3",
      "display_name": "Python 3"
    },
    "language_info": {
      "name": "python"
    }
  },
  "cells": [
    {
      "cell_type": "markdown",
      "metadata": {
        "id": "view-in-github",
        "colab_type": "text"
      },
      "source": [
        "<a href=\"https://colab.research.google.com/github/weeblord2030/AI-ML-emperiments/blob/main/Batch_Gradient_descent.ipynb\" target=\"_parent\"><img src=\"https://colab.research.google.com/assets/colab-badge.svg\" alt=\"Open In Colab\"/></a>"
      ]
    },
    {
      "cell_type": "code",
      "metadata": {
        "id": "B4RgIKhrIHdF"
      },
      "source": [
        "from __future__ import division, print_function, unicode_literals\n",
        "import math\n",
        "import numpy as np \n",
        "import matplotlib.pyplot as plt"
      ],
      "execution_count": 40,
      "outputs": []
    },
    {
      "cell_type": "code",
      "metadata": {
        "id": "lnoTWrDOKvGU"
      },
      "source": [
        "def grad(x):\n",
        "  return 2*x + 5*np.cos(x)\n",
        "\n",
        "def cost(x):\n",
        "  return x**2 + 5*np.sin(x)\n",
        "\n",
        "def myGD1(eta, x0):\n",
        "  x = [x0]\n",
        "  for it in range(1000):\n",
        "    x_new = x[-1]- eta*grad(x[-1])\n",
        "    if abs(grad(x_new))< 1e-3:\n",
        "      break\n",
        "    x.append(x_new)\n",
        "  return (x, it)"
      ],
      "execution_count": 41,
      "outputs": []
    },
    {
      "cell_type": "code",
      "metadata": {
        "colab": {
          "base_uri": "https://localhost:8080/"
        },
        "id": "8Ft4OEv2MPr5",
        "outputId": "c43374f4-5bbf-4c21-e466-18c2b975b342"
      },
      "source": [
        "(x1, it1) = myGD1(.001, -5)\n",
        "(x2, it2) = myGD1(.1, 5)\n",
        "print('Solution x1 = %f, cost = %f, obtained after %d iterations'%(x1[-1], cost(x1[-1]), it1))\n",
        "print('Solution x2 = %f, cost = %f, obtained after %d iterations'%(x2[-1], cost(x2[-1]), it2))"
      ],
      "execution_count": 42,
      "outputs": [
        {
          "output_type": "stream",
          "text": [
            "Solution x1 = -1.119227, cost = -3.246148, obtained after 999 iterations\n",
            "Solution x2 = -1.110341, cost = -3.246394, obtained after 29 iterations\n"
          ],
          "name": "stdout"
        }
      ]
    },
    {
      "cell_type": "code",
      "metadata": {
        "id": "Epy9__ShMSi4",
        "colab": {
          "base_uri": "https://localhost:8080/",
          "height": 286
        },
        "outputId": "bf4f3680-dc2f-401f-c9b4-b5afa6db0e83"
      },
      "source": [
        "X= np.random.randn(1000,1)\n",
        "y= 4+3*X+0.2*np.random.randn(1000,1)\n",
        "\n",
        "one = np.ones((X.shape[0],1))\n",
        "Xbar = np.concatenate((one, X), axis = 1)\n",
        "\n",
        "A = np.dot(Xbar.T, Xbar)\n",
        "b = np.dot(Xbar.T, y)\n",
        "w_lr = np.dot(np.linalg.pinv(A), b)\n",
        "\n",
        "print(\"solution found by formula:\", w_lr.T)\n",
        "\n",
        "w = w_lr\n",
        "w_0= w[0][0]\n",
        "w_1 = w[1][0]\n",
        "x0 = np.linspace(0,1,2, endpoint = True)\n",
        "y0 = w_0 + w_1*x0\n",
        "#draw the fitting line \n",
        "\n",
        "plt.plot(X.T,y.T, 'b.')\n",
        "plt.plot(x0, y0,'y', linewidth = 2)\n",
        "plt.axis([0, 1, 0, 10])\n",
        "plt.show()"
      ],
      "execution_count": 43,
      "outputs": [
        {
          "output_type": "stream",
          "text": [
            "solution found by formula: [[4.00296689 3.0046505 ]]\n"
          ],
          "name": "stdout"
        },
        {
          "output_type": "display_data",
          "data": {
            "image/png": "[encoded data removed]",
            "text/plain": [
              "<Figure size 432x288 with 1 Axes>"
            ]
          },
          "metadata": {
            "tags": [],
            "needs_background": "light"
          }
        }
      ]
    },
    {
      "cell_type": "code",
      "metadata": {
        "colab": {
          "base_uri": "https://localhost:8080/"
        },
        "id": "3EQotuvEYmO5",
        "outputId": "79cd9634-5764-4ef4-a2c3-c369c2690cfe"
      },
      "source": [
        "w_lr"
      ],
      "execution_count": 44,
      "outputs": [
        {
          "output_type": "execute_result",
          "data": {
            "text/plain": [
              "array([[4.00296689],\n",
              "       [3.0046505 ]])"
            ]
          },
          "metadata": {
            "tags": []
          },
          "execution_count": 44
        }
      ]
    },
    {
      "cell_type": "code",
      "metadata": {
        "id": "q3nWSZo5YyL1"
      },
      "source": [
        "def grad(w):\n",
        "  N = Xbar.shape[0]\n",
        "  return 1/N*Xbar.T@(Xbar@w-y)\n",
        "def cost(w):\n",
        "  N = Xbar.shape[0]\n",
        "  return 0.5/N* np.linalg.norm(y-Xbar.dot(w),2)**2 \n"
      ],
      "execution_count": 45,
      "outputs": []
    },
    {
      "cell_type": "code",
      "metadata": {
        "colab": {
          "base_uri": "https://localhost:8080/"
        },
        "id": "Uw6_R8A0N7yV",
        "outputId": "113bdf7c-66c3-449d-ce61-5cb1039d0b39"
      },
      "source": [
        "def numerical_grad(w,cost):\n",
        "  eps = 1e-4\n",
        "  g = np.zeros_like(w)\n",
        "  for i in range(len(w)):\n",
        "    w_p = w.copy()\n",
        "    w_n = w.copy()\n",
        "    w_p[i] += eps\n",
        "    w_n[i] -= eps\n",
        "    g[i] = (cost(w_p) - cost(w_n))/(2*eps)\n",
        "  return g \n",
        "def check_grad(w, cost, grad):\n",
        "  w = np.random.rand(w.shape[0], w.shape[1])\n",
        "  grad1 = grad(w)\n",
        "  grad2 = numerical_grad(w,cost)\n",
        "  return True if np.linalg.norm(grad1 -grad2) <1e-6 else False\n",
        "print('Checking gradient...', check_grad(np.random.rand(2,1), cost, grad))\n"
      ],
      "execution_count": 46,
      "outputs": [
        {
          "output_type": "stream",
          "text": [
            "Checking gradient... True\n"
          ],
          "name": "stdout"
        }
      ]
    },
    {
      "cell_type": "code",
      "metadata": {
        "colab": {
          "base_uri": "https://localhost:8080/"
        },
        "id": "zEZ7iC_zN8Ue",
        "outputId": "6dba1765-2c5a-4096-ea20-3ffc260f3dbb"
      },
      "source": [
        "def myGD(w_init, grad, eta):\n",
        "  w = [w_init]\n",
        "  for it in range(100):\n",
        "    w_new = w[-1] - eta*grad(w[-1])\n",
        "    if np.linalg.norm(grad(w_new))/len(w_new) < 1e-3:\n",
        "      break\n",
        "    w.append(w_new)\n",
        "  return (w,it)\n",
        "w_init = np.array([[2],[1]])\n",
        "(w1,it1)= myGD(w_init, grad, 1)\n",
        "print('solution found by GD : w = ', w1[-1].T, ',\\n after %d iterations.' %(it1+1))\n"
      ],
      "execution_count": 47,
      "outputs": [
        {
          "output_type": "stream",
          "text": [
            "solution found by GD : w =  [[4.00017005 3.00007091]] ,\n",
            " after 3 iterations.\n"
          ],
          "name": "stdout"
        }
      ]
    },
    {
      "cell_type": "code",
      "metadata": {
        "id": "2qBXTk4hZG1y"
      },
      "source": [
        ""
      ],
      "execution_count": 47,
      "outputs": []
    }
  ]
}