{
  "nbformat": 4,
  "nbformat_minor": 0,
  "metadata": {
    "kernelspec": {
      "display_name": "Python 3",
      "language": "python",
      "name": "python3"
    },
    "language_info": {
      "codemirror_mode": {
        "name": "ipython",
        "version": 3
      },
      "file_extension": ".py",
      "mimetype": "text/x-python",
      "name": "python",
      "nbconvert_exporter": "python",
      "pygments_lexer": "ipython3",
      "version": "3.6.3"
    },
    "colab": {
      "name": "lab7_Real_Estate_LabPractice Answer .ipynb",
      "provenance": [],
      "collapsed_sections": [
        "oX57rYucwpdE"
      ]
    }
  },
  "cells": [
    {
      "cell_type": "markdown",
      "metadata": {
        "id": "17yOyLx_wpb3"
      },
      "source": [
        "# 1. The project description\n",
        "## 1.1 Problem Context\n",
        "\n",
        "* Real Estate Investment Trust (REIT) invests in houses, apartments, and condos(complex of buildings) within a small county in New York state.\n",
        "* They try to predict the fair transaction price of a property before it's sold.\n",
        "* They do so to calibrate their internal pricing models and keep a pulse on the market.\n",
        "\n",
        "## 1.2 Problem Statement\n",
        "Suppose that the REIT has hired you to find a data-driven approach to valuing properties.\n",
        "* They currently have an untapped dataset of transaction prices for previous properties on the market.\n",
        "* The data was collected in 2016.\n",
        "* Your task is to build a real-estate pricing model using that dataset.\n",
        "* If you can build a model to predict transaction prices with an average error of under US Dollars 70,000, the client will be very satisfied with the resultant model and continue to go with the project.\n",
        "\n",
        "## 1.3 Objectives and Constraints\n",
        "* Deliverable: Trained model file\n",
        "* Win condition: Avg. prediction error < \\$70,000\n",
        "* Model Interpretability will be useful\n",
        "* No latency requirement"
      ]
    },
    {
      "cell_type": "markdown",
      "metadata": {
        "id": "RY68wcN4wpcC"
      },
      "source": [
        "# 2. Machine Learning Problem\n",
        "## 2.1 Data Overview\n",
        "\n",
        "For this project:\n",
        "1. The dataset has 1883 observations in the county where the REIT operates.\n",
        "2. Each observation is for the transaction of one property only.\n",
        "3. Each transaction was between \\$200,000 and \\$800,000.\n",
        "\n",
        "#### Target Variable\n",
        "* 'tx_price' - Transaction price in USD\n",
        "\n",
        "#### Features of the data:\n",
        "\n",
        "Public records:\n",
        "* 'tx_year' - Year the transaction took place\n",
        "* 'property_tax' - Monthly property tax\n",
        "* 'insurance' - Cost of monthly homeowner's insurance\n",
        "\n",
        "Property characteristics:\n",
        "* 'beds' - Number of bedrooms\n",
        "* 'baths' - Number of bathrooms\n",
        "* 'sqft' - Total floor area in squared feet\n",
        "* 'lot_size' - Total outside area in squared feet\n",
        "* 'year_built' - Year property was built\n",
        "* 'active_life' - Number of gyms, yoga studios, and sports venues within 1 mile\n",
        "* 'basement' - Does the property have a basement?\n",
        "* 'exterior_walls' - The material used for constructing walls of the house\n",
        "* 'roof' - The material used for constructing the roof\n",
        "\n",
        "Location convenience scores:\n",
        "* 'restaurants' - Number of restaurants within 1 mile\n",
        "* 'groceries' - Number of grocery stores within 1 mile\n",
        "* 'nightlife' - Number of nightlife venues within 1 mile\n",
        "* 'cafes' - Number of cafes within 1 mile\n",
        "* 'shopping' - Number of stores within 1 mile\n",
        "* 'arts_entertainment' - Number of arts and entertainment venues within 1 mile\n",
        "* 'beauty_spas' - Number of beauty and spa locations within 1 mile\n",
        "* 'active_life' - Number of gyms, yoga studios, and sports venues within 1 mile\n",
        "\n",
        "Neighborhood demographics:\n",
        "* 'median_age' - Median age of the neighborhood\n",
        "* 'married' - Percent of neighborhood who are married\n",
        "* 'college_grad' - Percent of neighborhood who graduated college\n",
        "\n",
        "Schools:\n",
        "* 'num_schools' - Number of public schools within district\n",
        "* 'median_school' - Median score of the public schools within district, on the range 1 - 10\n",
        "\n",
        "## 2.2 Mapping project statement to ML problem\n",
        "### 2.2.1 Type of Machine Learning Problem\n",
        "First, we can easily see that is a regression problem, where given the above set of features, we need to predict the transaction price of the house.\n",
        "\n",
        "### 2.2.2 Performance Metric (KPI)\n",
        "**Since it is a regression problem, we will use the following regression metrics:**\n",
        "#### 2.2.2.1 Root Mean Squared Error (RMSE)"
      ]
    },
    {
      "cell_type": "markdown",
      "metadata": {
        "id": "Sw1lUKVywpcE"
      },
      "source": [
        "#### 2.2.2.2 R-squared\n",
        "\n",
        "\n",
        "Just remember the value of R suared must be at least greater than 0 and 1 in the best case"
      ]
    },
    {
      "cell_type": "markdown",
      "metadata": {
        "id": "3ATaIHAcwpcE"
      },
      "source": [
        "#### 2.2.2.3 Mean Absolute Error (MAE):\n",
        "\n",
        "* Remember, our win-condition for this project is predicting within \\$70,000 of true transaction prices, on average.\n",
        "* Mean absolute error (or MAE) is the average absolute difference between predicted and actual values for our target variable. That exactly aligns with the terms of our win condition!\n",
        "* So we're aiming to get MAE below 70,000"
      ]
    },
    {
      "cell_type": "markdown",
      "metadata": {
        "id": "3srXOj2awpcF"
      },
      "source": [
        "## Train-Test Splits\n",
        "**80-20**"
      ]
    },
    {
      "cell_type": "markdown",
      "metadata": {
        "id": "JToV93LswpcF"
      },
      "source": [
        "# 1. Exploratory data analysis"
      ]
    },
    {
      "cell_type": "markdown",
      "metadata": {
        "id": "0qOMD0cGwpcG"
      },
      "source": [
        "#### Import the libraries"
      ]
    },
    {
      "cell_type": "code",
      "metadata": {
        "id": "exmOaoahwpcG"
      },
      "source": [
        "# for numerical computing\n",
        "import numpy as np\n",
        "\n",
        "# for dataframes\n",
        "import pandas as pd\n",
        "\n",
        "# for easier visualization\n",
        "import seaborn as sns\n",
        "\n",
        "# for visualization and to display plots\n",
        "from matplotlib import pyplot as plt\n",
        "%matplotlib inline\n",
        "\n",
        "# import color maps\n",
        "from matplotlib.colors import ListedColormap\n",
        "\n",
        "# Ignore Warnings\n",
        "import warnings\n",
        "warnings.filterwarnings(\"ignore\")\n",
        "\n",
        "from math import sqrt\n",
        "\n",
        "# to split train and test set\n",
        "from sklearn.model_selection import train_test_split\n",
        "\n",
        "# to perform hyperparameter tuning\n",
        "from sklearn.model_selection import GridSearchCV\n",
        "from sklearn.model_selection import RandomizedSearchCV\n",
        "\n",
        "from sklearn.linear_model import Ridge  # Linear Regression + L2 regularization\n",
        "from sklearn.linear_model import Lasso  # Linear Regression + L1 regularization\n",
        "from sklearn.svm import SVR # Support Vector Regressor\n",
        "from sklearn.ensemble import RandomForestRegressor\n",
        "from sklearn.neighbors import KNeighborsRegressor \n",
        "from sklearn.model_selection import cross_val_score\n",
        "from sklearn.tree import DecisionTreeRegressor\n",
        "\n",
        "# Evaluation Metrics\n",
        "from sklearn.metrics import mean_squared_error as mse\n",
        "from sklearn.metrics import r2_score as rs\n",
        "from sklearn.metrics import mean_absolute_error as mae\n",
        "\n",
        "#import xgboost\n",
        "import os\n",
        "mingw_path = 'C:\\\\Program Files\\\\mingw-w64\\\\x86_64-7.2.0-posix-seh-rt_v5-rev0\\\\mingw64\\\\bin'\n",
        "os.environ['PATH'] = mingw_path + ';' + os.environ['PATH']\n",
        "from xgboost import XGBRegressor\n",
        "from xgboost import plot_importance  # to plot feature importance\n",
        "\n",
        "# to save the final model on disk\n",
        "from sklearn.externals import joblib"
      ],
      "execution_count": 85,
      "outputs": []
    },
    {
      "cell_type": "code",
      "metadata": {
        "collapsed": true,
        "id": "9App5WBnwpcI"
      },
      "source": [
        "np.set_printoptions(precision=2, suppress=True) #for printing floating point numbers upto  precision 2"
      ],
      "execution_count": 86,
      "outputs": []
    },
    {
      "cell_type": "markdown",
      "metadata": {
        "id": "VdmpIXoCwpcJ"
      },
      "source": [
        "1.1. Load real estate data from CSV in your Drive"
      ]
    },
    {
      "cell_type": "code",
      "metadata": {
        "id": "dzrN8MkyyR8e",
        "colab": {
          "base_uri": "https://localhost:8080/",
          "height": 394
        },
        "outputId": "822fc500-fb08-471b-a70a-ae971cca1749"
      },
      "source": [
        "df = pd.read_csv('real_estate_data.csv')\n",
        "df.head()"
      ],
      "execution_count": 87,
      "outputs": [
        {
          "output_type": "execute_result",
          "data": {
            "text/html": [
              "<div>\n",
              "<style scoped>\n",
              "    .dataframe tbody tr th:only-of-type {\n",
              "        vertical-align: middle;\n",
              "    }\n",
              "\n",
              "    .dataframe tbody tr th {\n",
              "        vertical-align: top;\n",
              "    }\n",
              "\n",
              "    .dataframe thead th {\n",
              "        text-align: right;\n",
              "    }\n",
              "</style>\n",
              "<table border=\"1\" class=\"dataframe\">\n",
              "  <thead>\n",
              "    <tr style=\"text-align: right;\">\n",
              "      <th></th>\n",
              "      <th>tx_price</th>\n",
              "      <th>beds</th>\n",
              "      <th>baths</th>\n",
              "      <th>sqft</th>\n",
              "      <th>year_built</th>\n",
              "      <th>lot_size</th>\n",
              "      <th>property_type</th>\n",
              "      <th>exterior_walls</th>\n",
              "      <th>roof</th>\n",
              "      <th>basement</th>\n",
              "      <th>restaurants</th>\n",
              "      <th>groceries</th>\n",
              "      <th>nightlife</th>\n",
              "      <th>cafes</th>\n",
              "      <th>shopping</th>\n",
              "      <th>arts_entertainment</th>\n",
              "      <th>beauty_spas</th>\n",
              "      <th>active_life</th>\n",
              "      <th>median_age</th>\n",
              "      <th>married</th>\n",
              "      <th>college_grad</th>\n",
              "      <th>property_tax</th>\n",
              "      <th>insurance</th>\n",
              "      <th>median_school</th>\n",
              "      <th>num_schools</th>\n",
              "      <th>tx_year</th>\n",
              "    </tr>\n",
              "  </thead>\n",
              "  <tbody>\n",
              "    <tr>\n",
              "      <th>0</th>\n",
              "      <td>295850</td>\n",
              "      <td>1</td>\n",
              "      <td>1</td>\n",
              "      <td>584</td>\n",
              "      <td>2013</td>\n",
              "      <td>0</td>\n",
              "      <td>Apartment / Condo / Townhouse</td>\n",
              "      <td>Wood Siding</td>\n",
              "      <td>NaN</td>\n",
              "      <td>NaN</td>\n",
              "      <td>107</td>\n",
              "      <td>9</td>\n",
              "      <td>30</td>\n",
              "      <td>19</td>\n",
              "      <td>89</td>\n",
              "      <td>6</td>\n",
              "      <td>47</td>\n",
              "      <td>58</td>\n",
              "      <td>33.0</td>\n",
              "      <td>65.0</td>\n",
              "      <td>84.0</td>\n",
              "      <td>234.0</td>\n",
              "      <td>81.0</td>\n",
              "      <td>9.0</td>\n",
              "      <td>3.0</td>\n",
              "      <td>2013</td>\n",
              "    </tr>\n",
              "    <tr>\n",
              "      <th>1</th>\n",
              "      <td>216500</td>\n",
              "      <td>1</td>\n",
              "      <td>1</td>\n",
              "      <td>612</td>\n",
              "      <td>1965</td>\n",
              "      <td>0</td>\n",
              "      <td>Apartment / Condo / Townhouse</td>\n",
              "      <td>Brick</td>\n",
              "      <td>Composition Shingle</td>\n",
              "      <td>1.0</td>\n",
              "      <td>105</td>\n",
              "      <td>15</td>\n",
              "      <td>6</td>\n",
              "      <td>13</td>\n",
              "      <td>87</td>\n",
              "      <td>2</td>\n",
              "      <td>26</td>\n",
              "      <td>14</td>\n",
              "      <td>39.0</td>\n",
              "      <td>73.0</td>\n",
              "      <td>69.0</td>\n",
              "      <td>169.0</td>\n",
              "      <td>51.0</td>\n",
              "      <td>3.0</td>\n",
              "      <td>3.0</td>\n",
              "      <td>2006</td>\n",
              "    </tr>\n",
              "    <tr>\n",
              "      <th>2</th>\n",
              "      <td>279900</td>\n",
              "      <td>1</td>\n",
              "      <td>1</td>\n",
              "      <td>615</td>\n",
              "      <td>1963</td>\n",
              "      <td>0</td>\n",
              "      <td>Apartment / Condo / Townhouse</td>\n",
              "      <td>Wood Siding</td>\n",
              "      <td>NaN</td>\n",
              "      <td>NaN</td>\n",
              "      <td>183</td>\n",
              "      <td>13</td>\n",
              "      <td>31</td>\n",
              "      <td>30</td>\n",
              "      <td>101</td>\n",
              "      <td>10</td>\n",
              "      <td>74</td>\n",
              "      <td>62</td>\n",
              "      <td>28.0</td>\n",
              "      <td>15.0</td>\n",
              "      <td>86.0</td>\n",
              "      <td>216.0</td>\n",
              "      <td>74.0</td>\n",
              "      <td>8.0</td>\n",
              "      <td>3.0</td>\n",
              "      <td>2012</td>\n",
              "    </tr>\n",
              "    <tr>\n",
              "      <th>3</th>\n",
              "      <td>379900</td>\n",
              "      <td>1</td>\n",
              "      <td>1</td>\n",
              "      <td>618</td>\n",
              "      <td>2000</td>\n",
              "      <td>33541</td>\n",
              "      <td>Apartment / Condo / Townhouse</td>\n",
              "      <td>Wood Siding</td>\n",
              "      <td>NaN</td>\n",
              "      <td>NaN</td>\n",
              "      <td>198</td>\n",
              "      <td>9</td>\n",
              "      <td>38</td>\n",
              "      <td>25</td>\n",
              "      <td>127</td>\n",
              "      <td>11</td>\n",
              "      <td>72</td>\n",
              "      <td>83</td>\n",
              "      <td>36.0</td>\n",
              "      <td>25.0</td>\n",
              "      <td>91.0</td>\n",
              "      <td>265.0</td>\n",
              "      <td>92.0</td>\n",
              "      <td>9.0</td>\n",
              "      <td>3.0</td>\n",
              "      <td>2005</td>\n",
              "    </tr>\n",
              "    <tr>\n",
              "      <th>4</th>\n",
              "      <td>340000</td>\n",
              "      <td>1</td>\n",
              "      <td>1</td>\n",
              "      <td>634</td>\n",
              "      <td>1992</td>\n",
              "      <td>0</td>\n",
              "      <td>Apartment / Condo / Townhouse</td>\n",
              "      <td>Brick</td>\n",
              "      <td>NaN</td>\n",
              "      <td>NaN</td>\n",
              "      <td>149</td>\n",
              "      <td>7</td>\n",
              "      <td>22</td>\n",
              "      <td>20</td>\n",
              "      <td>83</td>\n",
              "      <td>10</td>\n",
              "      <td>50</td>\n",
              "      <td>73</td>\n",
              "      <td>37.0</td>\n",
              "      <td>20.0</td>\n",
              "      <td>75.0</td>\n",
              "      <td>88.0</td>\n",
              "      <td>30.0</td>\n",
              "      <td>9.0</td>\n",
              "      <td>3.0</td>\n",
              "      <td>2002</td>\n",
              "    </tr>\n",
              "  </tbody>\n",
              "</table>\n",
              "</div>"
            ],
            "text/plain": [
              "   tx_price  beds  baths  sqft  ...  insurance  median_school num_schools tx_year\n",
              "0    295850     1      1   584  ...       81.0            9.0         3.0    2013\n",
              "1    216500     1      1   612  ...       51.0            3.0         3.0    2006\n",
              "2    279900     1      1   615  ...       74.0            8.0         3.0    2012\n",
              "3    379900     1      1   618  ...       92.0            9.0         3.0    2005\n",
              "4    340000     1      1   634  ...       30.0            9.0         3.0    2002\n",
              "\n",
              "[5 rows x 26 columns]"
            ]
          },
          "metadata": {
            "tags": []
          },
          "execution_count": 87
        }
      ]
    },
    {
      "cell_type": "code",
      "metadata": {
        "id": "wF12ftX9yTYN"
      },
      "source": [
        ""
      ],
      "execution_count": 87,
      "outputs": []
    },
    {
      "cell_type": "code",
      "metadata": {
        "collapsed": true,
        "id": "9iXA4tYxwpcJ"
      },
      "source": [
        ""
      ],
      "execution_count": 87,
      "outputs": []
    },
    {
      "cell_type": "markdown",
      "metadata": {
        "id": "tNOI77H-wpcJ"
      },
      "source": [
        "1.2. Display the dimensions of the dataset."
      ]
    },
    {
      "cell_type": "code",
      "metadata": {
        "id": "45UEN_78wpcK",
        "colab": {
          "base_uri": "https://localhost:8080/"
        },
        "outputId": "4eb940af-04a6-419e-d36b-f54f89794bf4"
      },
      "source": [
        "df.shape"
      ],
      "execution_count": 88,
      "outputs": [
        {
          "output_type": "execute_result",
          "data": {
            "text/plain": [
              "(1883, 26)"
            ]
          },
          "metadata": {
            "tags": []
          },
          "execution_count": 88
        }
      ]
    },
    {
      "cell_type": "markdown",
      "metadata": {
        "id": "X3WmIhU-wpcL"
      },
      "source": [
        "1.3. Print out the columns of the dataset"
      ]
    },
    {
      "cell_type": "code",
      "metadata": {
        "id": "k_-CDEEywpcM",
        "colab": {
          "base_uri": "https://localhost:8080/"
        },
        "outputId": "eb43e1dd-af9e-431b-807b-9606781c3c07"
      },
      "source": [
        "df.columns"
      ],
      "execution_count": 89,
      "outputs": [
        {
          "output_type": "execute_result",
          "data": {
            "text/plain": [
              "Index(['tx_price', 'beds', 'baths', 'sqft', 'year_built', 'lot_size',\n",
              "       'property_type', 'exterior_walls', 'roof', 'basement', 'restaurants',\n",
              "       'groceries', 'nightlife', 'cafes', 'shopping', 'arts_entertainment',\n",
              "       'beauty_spas', 'active_life', 'median_age', 'married', 'college_grad',\n",
              "       'property_tax', 'insurance', 'median_school', 'num_schools', 'tx_year'],\n",
              "      dtype='object')"
            ]
          },
          "metadata": {
            "tags": []
          },
          "execution_count": 89
        }
      ]
    },
    {
      "cell_type": "markdown",
      "metadata": {
        "id": "68tagtAVwpcM"
      },
      "source": [
        "1.4. Display the first 5 rows to see example observations."
      ]
    },
    {
      "cell_type": "code",
      "metadata": {
        "id": "_RGkEJiiwpcM",
        "colab": {
          "base_uri": "https://localhost:8080/",
          "height": 394
        },
        "outputId": "6964b233-84ab-4264-a3bc-7a3015ce19e9"
      },
      "source": [
        "df.head(5)"
      ],
      "execution_count": 90,
      "outputs": [
        {
          "output_type": "execute_result",
          "data": {
            "text/html": [
              "<div>\n",
              "<style scoped>\n",
              "    .dataframe tbody tr th:only-of-type {\n",
              "        vertical-align: middle;\n",
              "    }\n",
              "\n",
              "    .dataframe tbody tr th {\n",
              "        vertical-align: top;\n",
              "    }\n",
              "\n",
              "    .dataframe thead th {\n",
              "        text-align: right;\n",
              "    }\n",
              "</style>\n",
              "<table border=\"1\" class=\"dataframe\">\n",
              "  <thead>\n",
              "    <tr style=\"text-align: right;\">\n",
              "      <th></th>\n",
              "      <th>tx_price</th>\n",
              "      <th>beds</th>\n",
              "      <th>baths</th>\n",
              "      <th>sqft</th>\n",
              "      <th>year_built</th>\n",
              "      <th>lot_size</th>\n",
              "      <th>property_type</th>\n",
              "      <th>exterior_walls</th>\n",
              "      <th>roof</th>\n",
              "      <th>basement</th>\n",
              "      <th>restaurants</th>\n",
              "      <th>groceries</th>\n",
              "      <th>nightlife</th>\n",
              "      <th>cafes</th>\n",
              "      <th>shopping</th>\n",
              "      <th>arts_entertainment</th>\n",
              "      <th>beauty_spas</th>\n",
              "      <th>active_life</th>\n",
              "      <th>median_age</th>\n",
              "      <th>married</th>\n",
              "      <th>college_grad</th>\n",
              "      <th>property_tax</th>\n",
              "      <th>insurance</th>\n",
              "      <th>median_school</th>\n",
              "      <th>num_schools</th>\n",
              "      <th>tx_year</th>\n",
              "    </tr>\n",
              "  </thead>\n",
              "  <tbody>\n",
              "    <tr>\n",
              "      <th>0</th>\n",
              "      <td>295850</td>\n",
              "      <td>1</td>\n",
              "      <td>1</td>\n",
              "      <td>584</td>\n",
              "      <td>2013</td>\n",
              "      <td>0</td>\n",
              "      <td>Apartment / Condo / Townhouse</td>\n",
              "      <td>Wood Siding</td>\n",
              "      <td>NaN</td>\n",
              "      <td>NaN</td>\n",
              "      <td>107</td>\n",
              "      <td>9</td>\n",
              "      <td>30</td>\n",
              "      <td>19</td>\n",
              "      <td>89</td>\n",
              "      <td>6</td>\n",
              "      <td>47</td>\n",
              "      <td>58</td>\n",
              "      <td>33.0</td>\n",
              "      <td>65.0</td>\n",
              "      <td>84.0</td>\n",
              "      <td>234.0</td>\n",
              "      <td>81.0</td>\n",
              "      <td>9.0</td>\n",
              "      <td>3.0</td>\n",
              "      <td>2013</td>\n",
              "    </tr>\n",
              "    <tr>\n",
              "      <th>1</th>\n",
              "      <td>216500</td>\n",
              "      <td>1</td>\n",
              "      <td>1</td>\n",
              "      <td>612</td>\n",
              "      <td>1965</td>\n",
              "      <td>0</td>\n",
              "      <td>Apartment / Condo / Townhouse</td>\n",
              "      <td>Brick</td>\n",
              "      <td>Composition Shingle</td>\n",
              "      <td>1.0</td>\n",
              "      <td>105</td>\n",
              "      <td>15</td>\n",
              "      <td>6</td>\n",
              "      <td>13</td>\n",
              "      <td>87</td>\n",
              "      <td>2</td>\n",
              "      <td>26</td>\n",
              "      <td>14</td>\n",
              "      <td>39.0</td>\n",
              "      <td>73.0</td>\n",
              "      <td>69.0</td>\n",
              "      <td>169.0</td>\n",
              "      <td>51.0</td>\n",
              "      <td>3.0</td>\n",
              "      <td>3.0</td>\n",
              "      <td>2006</td>\n",
              "    </tr>\n",
              "    <tr>\n",
              "      <th>2</th>\n",
              "      <td>279900</td>\n",
              "      <td>1</td>\n",
              "      <td>1</td>\n",
              "      <td>615</td>\n",
              "      <td>1963</td>\n",
              "      <td>0</td>\n",
              "      <td>Apartment / Condo / Townhouse</td>\n",
              "      <td>Wood Siding</td>\n",
              "      <td>NaN</td>\n",
              "      <td>NaN</td>\n",
              "      <td>183</td>\n",
              "      <td>13</td>\n",
              "      <td>31</td>\n",
              "      <td>30</td>\n",
              "      <td>101</td>\n",
              "      <td>10</td>\n",
              "      <td>74</td>\n",
              "      <td>62</td>\n",
              "      <td>28.0</td>\n",
              "      <td>15.0</td>\n",
              "      <td>86.0</td>\n",
              "      <td>216.0</td>\n",
              "      <td>74.0</td>\n",
              "      <td>8.0</td>\n",
              "      <td>3.0</td>\n",
              "      <td>2012</td>\n",
              "    </tr>\n",
              "    <tr>\n",
              "      <th>3</th>\n",
              "      <td>379900</td>\n",
              "      <td>1</td>\n",
              "      <td>1</td>\n",
              "      <td>618</td>\n",
              "      <td>2000</td>\n",
              "      <td>33541</td>\n",
              "      <td>Apartment / Condo / Townhouse</td>\n",
              "      <td>Wood Siding</td>\n",
              "      <td>NaN</td>\n",
              "      <td>NaN</td>\n",
              "      <td>198</td>\n",
              "      <td>9</td>\n",
              "      <td>38</td>\n",
              "      <td>25</td>\n",
              "      <td>127</td>\n",
              "      <td>11</td>\n",
              "      <td>72</td>\n",
              "      <td>83</td>\n",
              "      <td>36.0</td>\n",
              "      <td>25.0</td>\n",
              "      <td>91.0</td>\n",
              "      <td>265.0</td>\n",
              "      <td>92.0</td>\n",
              "      <td>9.0</td>\n",
              "      <td>3.0</td>\n",
              "      <td>2005</td>\n",
              "    </tr>\n",
              "    <tr>\n",
              "      <th>4</th>\n",
              "      <td>340000</td>\n",
              "      <td>1</td>\n",
              "      <td>1</td>\n",
              "      <td>634</td>\n",
              "      <td>1992</td>\n",
              "      <td>0</td>\n",
              "      <td>Apartment / Condo / Townhouse</td>\n",
              "      <td>Brick</td>\n",
              "      <td>NaN</td>\n",
              "      <td>NaN</td>\n",
              "      <td>149</td>\n",
              "      <td>7</td>\n",
              "      <td>22</td>\n",
              "      <td>20</td>\n",
              "      <td>83</td>\n",
              "      <td>10</td>\n",
              "      <td>50</td>\n",
              "      <td>73</td>\n",
              "      <td>37.0</td>\n",
              "      <td>20.0</td>\n",
              "      <td>75.0</td>\n",
              "      <td>88.0</td>\n",
              "      <td>30.0</td>\n",
              "      <td>9.0</td>\n",
              "      <td>3.0</td>\n",
              "      <td>2002</td>\n",
              "    </tr>\n",
              "  </tbody>\n",
              "</table>\n",
              "</div>"
            ],
            "text/plain": [
              "   tx_price  beds  baths  sqft  ...  insurance  median_school num_schools tx_year\n",
              "0    295850     1      1   584  ...       81.0            9.0         3.0    2013\n",
              "1    216500     1      1   612  ...       51.0            3.0         3.0    2006\n",
              "2    279900     1      1   615  ...       74.0            8.0         3.0    2012\n",
              "3    379900     1      1   618  ...       92.0            9.0         3.0    2005\n",
              "4    340000     1      1   634  ...       30.0            9.0         3.0    2002\n",
              "\n",
              "[5 rows x 26 columns]"
            ]
          },
          "metadata": {
            "tags": []
          },
          "execution_count": 90
        }
      ]
    },
    {
      "cell_type": "markdown",
      "metadata": {
        "id": "k66tYGeSwpcN"
      },
      "source": [
        "1.5. Some features are numeric and some are categorical. Filtering the categorical features:"
      ]
    },
    {
      "cell_type": "code",
      "metadata": {
        "id": "0yQGhH_QwpcR",
        "colab": {
          "base_uri": "https://localhost:8080/",
          "height": 419
        },
        "outputId": "44776c04-d47a-44cf-bccb-d6ee7ec971ab"
      },
      "source": [
        "df.select_dtypes(include=['object'])"
      ],
      "execution_count": 91,
      "outputs": [
        {
          "output_type": "execute_result",
          "data": {
            "text/html": [
              "<div>\n",
              "<style scoped>\n",
              "    .dataframe tbody tr th:only-of-type {\n",
              "        vertical-align: middle;\n",
              "    }\n",
              "\n",
              "    .dataframe tbody tr th {\n",
              "        vertical-align: top;\n",
              "    }\n",
              "\n",
              "    .dataframe thead th {\n",
              "        text-align: right;\n",
              "    }\n",
              "</style>\n",
              "<table border=\"1\" class=\"dataframe\">\n",
              "  <thead>\n",
              "    <tr style=\"text-align: right;\">\n",
              "      <th></th>\n",
              "      <th>property_type</th>\n",
              "      <th>exterior_walls</th>\n",
              "      <th>roof</th>\n",
              "    </tr>\n",
              "  </thead>\n",
              "  <tbody>\n",
              "    <tr>\n",
              "      <th>0</th>\n",
              "      <td>Apartment / Condo / Townhouse</td>\n",
              "      <td>Wood Siding</td>\n",
              "      <td>NaN</td>\n",
              "    </tr>\n",
              "    <tr>\n",
              "      <th>1</th>\n",
              "      <td>Apartment / Condo / Townhouse</td>\n",
              "      <td>Brick</td>\n",
              "      <td>Composition Shingle</td>\n",
              "    </tr>\n",
              "    <tr>\n",
              "      <th>2</th>\n",
              "      <td>Apartment / Condo / Townhouse</td>\n",
              "      <td>Wood Siding</td>\n",
              "      <td>NaN</td>\n",
              "    </tr>\n",
              "    <tr>\n",
              "      <th>3</th>\n",
              "      <td>Apartment / Condo / Townhouse</td>\n",
              "      <td>Wood Siding</td>\n",
              "      <td>NaN</td>\n",
              "    </tr>\n",
              "    <tr>\n",
              "      <th>4</th>\n",
              "      <td>Apartment / Condo / Townhouse</td>\n",
              "      <td>Brick</td>\n",
              "      <td>NaN</td>\n",
              "    </tr>\n",
              "    <tr>\n",
              "      <th>...</th>\n",
              "      <td>...</td>\n",
              "      <td>...</td>\n",
              "      <td>...</td>\n",
              "    </tr>\n",
              "    <tr>\n",
              "      <th>1878</th>\n",
              "      <td>Single-Family</td>\n",
              "      <td>Stucco</td>\n",
              "      <td>Composition Shingle</td>\n",
              "    </tr>\n",
              "    <tr>\n",
              "      <th>1879</th>\n",
              "      <td>Single-Family</td>\n",
              "      <td>Brick</td>\n",
              "      <td>Composition Shingle</td>\n",
              "    </tr>\n",
              "    <tr>\n",
              "      <th>1880</th>\n",
              "      <td>Single-Family</td>\n",
              "      <td>Metal</td>\n",
              "      <td>Composition Shingle</td>\n",
              "    </tr>\n",
              "    <tr>\n",
              "      <th>1881</th>\n",
              "      <td>Single-Family</td>\n",
              "      <td>Siding (Alum/Vinyl)</td>\n",
              "      <td>Asphalt</td>\n",
              "    </tr>\n",
              "    <tr>\n",
              "      <th>1882</th>\n",
              "      <td>Single-Family</td>\n",
              "      <td>Brick</td>\n",
              "      <td>Composition Shingle</td>\n",
              "    </tr>\n",
              "  </tbody>\n",
              "</table>\n",
              "<p>1883 rows × 3 columns</p>\n",
              "</div>"
            ],
            "text/plain": [
              "                      property_type       exterior_walls                 roof\n",
              "0     Apartment / Condo / Townhouse          Wood Siding                  NaN\n",
              "1     Apartment / Condo / Townhouse                Brick  Composition Shingle\n",
              "2     Apartment / Condo / Townhouse          Wood Siding                  NaN\n",
              "3     Apartment / Condo / Townhouse          Wood Siding                  NaN\n",
              "4     Apartment / Condo / Townhouse                Brick                  NaN\n",
              "...                             ...                  ...                  ...\n",
              "1878                  Single-Family               Stucco  Composition Shingle\n",
              "1879                  Single-Family                Brick  Composition Shingle\n",
              "1880                  Single-Family                Metal  Composition Shingle\n",
              "1881                  Single-Family  Siding (Alum/Vinyl)              Asphalt\n",
              "1882                  Single-Family                Brick  Composition Shingle\n",
              "\n",
              "[1883 rows x 3 columns]"
            ]
          },
          "metadata": {
            "tags": []
          },
          "execution_count": 91
        }
      ]
    },
    {
      "cell_type": "markdown",
      "metadata": {
        "id": "h2LS4w7fwpcR"
      },
      "source": [
        "## Distributions of numeric features\n",
        "1.6. One of the most enlightening data exploration tasks is plotting the distributions of your features. Plot all histograms"
      ]
    },
    {
      "cell_type": "code",
      "metadata": {
        "scrolled": true,
        "colab": {
          "base_uri": "https://localhost:8080/",
          "height": 879
        },
        "id": "GpFSwoKhwpcR",
        "outputId": "82a1e48e-fc70-49f9-b2be-fc02ed75cae5"
      },
      "source": [
        "_=df.hist(figsize=(25,15))"
      ],
      "execution_count": 92,
      "outputs": [
        {
          "output_type": "display_data",
          "data": {
            "image/png": "[encoded data removed]",
            "text/plain": [
              "<Figure size 1800x1080 with 25 Axes>"
            ]
          },
          "metadata": {
            "tags": [],
            "needs_background": "light"
          }
        }
      ]
    },
    {
      "cell_type": "markdown",
      "metadata": {
        "id": "URl5j5pewpcS"
      },
      "source": [
        "**Observations:**\n",
        "We can make out quite a few observations:\n",
        "\n",
        "For example, consider the histogram for num_schools:\n",
        "* More than 1500 houses have 3 schools with a mile\n",
        "\n",
        "Consider the histogram for sqft:\n",
        "* More than 400 houses have area within 2000 sqft\n",
        "* Very few houses have area more than 5000 sqft\n",
        "\n",
        "Consider the histogram for beds:\n",
        "* Over 600 houses have 4 bedrooms, and similar number of houses have 3 bedrooms.\n",
        "* Less than 100 houses have one bedroom and so on.\n",
        "\n",
        "Also, look at the plot for the 'year_built' feature:\n",
        "* The last bin in the histogram represents the range 2010-2020.\n",
        "* Since this dataset was pulled in 2016, we should not have properties built in 2019.\n",
        "* A property built after 2016 would be a measurement error.\n",
        "* However, because of the 10-year bins, it's hard to tell if there's a measurement error just from the plot above."
      ]
    },
    {
      "cell_type": "markdown",
      "metadata": {
        "id": "X8VopsEqwpcS"
      },
      "source": [
        "1.7. Display summary statistics for the numerical features."
      ]
    },
    {
      "cell_type": "code",
      "metadata": {
        "id": "5mxsqzkLwpcT",
        "colab": {
          "base_uri": "https://localhost:8080/",
          "height": 317
        },
        "outputId": "c7c861d8-68f1-4d0a-af7b-820e2bd143be"
      },
      "source": [
        "df.describe()"
      ],
      "execution_count": 93,
      "outputs": [
        {
          "output_type": "execute_result",
          "data": {
            "text/html": [
              "<div>\n",
              "<style scoped>\n",
              "    .dataframe tbody tr th:only-of-type {\n",
              "        vertical-align: middle;\n",
              "    }\n",
              "\n",
              "    .dataframe tbody tr th {\n",
              "        vertical-align: top;\n",
              "    }\n",
              "\n",
              "    .dataframe thead th {\n",
              "        text-align: right;\n",
              "    }\n",
              "</style>\n",
              "<table border=\"1\" class=\"dataframe\">\n",
              "  <thead>\n",
              "    <tr style=\"text-align: right;\">\n",
              "      <th></th>\n",
              "      <th>tx_price</th>\n",
              "      <th>beds</th>\n",
              "      <th>baths</th>\n",
              "      <th>sqft</th>\n",
              "      <th>year_built</th>\n",
              "      <th>lot_size</th>\n",
              "      <th>basement</th>\n",
              "      <th>restaurants</th>\n",
              "      <th>groceries</th>\n",
              "      <th>nightlife</th>\n",
              "      <th>cafes</th>\n",
              "      <th>shopping</th>\n",
              "      <th>arts_entertainment</th>\n",
              "      <th>beauty_spas</th>\n",
              "      <th>active_life</th>\n",
              "      <th>median_age</th>\n",
              "      <th>married</th>\n",
              "      <th>college_grad</th>\n",
              "      <th>property_tax</th>\n",
              "      <th>insurance</th>\n",
              "      <th>median_school</th>\n",
              "      <th>num_schools</th>\n",
              "      <th>tx_year</th>\n",
              "    </tr>\n",
              "  </thead>\n",
              "  <tbody>\n",
              "    <tr>\n",
              "      <th>count</th>\n",
              "      <td>1883.000000</td>\n",
              "      <td>1883.000000</td>\n",
              "      <td>1883.000000</td>\n",
              "      <td>1883.000000</td>\n",
              "      <td>1883.000000</td>\n",
              "      <td>1.883000e+03</td>\n",
              "      <td>1657.0</td>\n",
              "      <td>1883.000000</td>\n",
              "      <td>1883.000000</td>\n",
              "      <td>1883.000000</td>\n",
              "      <td>1883.000000</td>\n",
              "      <td>1883.000000</td>\n",
              "      <td>1883.000000</td>\n",
              "      <td>1883.000000</td>\n",
              "      <td>1883.000000</td>\n",
              "      <td>1883.000000</td>\n",
              "      <td>1883.000000</td>\n",
              "      <td>1883.000000</td>\n",
              "      <td>1883.000000</td>\n",
              "      <td>1883.000000</td>\n",
              "      <td>1883.000000</td>\n",
              "      <td>1883.000000</td>\n",
              "      <td>1883.000000</td>\n",
              "    </tr>\n",
              "    <tr>\n",
              "      <th>mean</th>\n",
              "      <td>422839.807754</td>\n",
              "      <td>3.420605</td>\n",
              "      <td>2.579926</td>\n",
              "      <td>2329.398832</td>\n",
              "      <td>1982.963887</td>\n",
              "      <td>1.339262e+04</td>\n",
              "      <td>1.0</td>\n",
              "      <td>40.210303</td>\n",
              "      <td>4.505045</td>\n",
              "      <td>5.074881</td>\n",
              "      <td>5.325013</td>\n",
              "      <td>40.802443</td>\n",
              "      <td>3.394052</td>\n",
              "      <td>23.416888</td>\n",
              "      <td>15.835369</td>\n",
              "      <td>38.601168</td>\n",
              "      <td>69.091875</td>\n",
              "      <td>65.085502</td>\n",
              "      <td>466.777483</td>\n",
              "      <td>140.454063</td>\n",
              "      <td>6.502921</td>\n",
              "      <td>2.793415</td>\n",
              "      <td>2007.111524</td>\n",
              "    </tr>\n",
              "    <tr>\n",
              "      <th>std</th>\n",
              "      <td>151462.593276</td>\n",
              "      <td>1.068554</td>\n",
              "      <td>0.945576</td>\n",
              "      <td>1336.991858</td>\n",
              "      <td>20.295945</td>\n",
              "      <td>4.494930e+04</td>\n",
              "      <td>0.0</td>\n",
              "      <td>46.867012</td>\n",
              "      <td>4.491029</td>\n",
              "      <td>8.464668</td>\n",
              "      <td>7.539309</td>\n",
              "      <td>53.539296</td>\n",
              "      <td>4.699787</td>\n",
              "      <td>25.776916</td>\n",
              "      <td>17.667717</td>\n",
              "      <td>6.634110</td>\n",
              "      <td>19.659767</td>\n",
              "      <td>16.953165</td>\n",
              "      <td>231.656645</td>\n",
              "      <td>72.929765</td>\n",
              "      <td>1.996109</td>\n",
              "      <td>0.505358</td>\n",
              "      <td>5.196898</td>\n",
              "    </tr>\n",
              "    <tr>\n",
              "      <th>min</th>\n",
              "      <td>200000.000000</td>\n",
              "      <td>1.000000</td>\n",
              "      <td>1.000000</td>\n",
              "      <td>500.000000</td>\n",
              "      <td>1880.000000</td>\n",
              "      <td>0.000000e+00</td>\n",
              "      <td>1.0</td>\n",
              "      <td>0.000000</td>\n",
              "      <td>0.000000</td>\n",
              "      <td>0.000000</td>\n",
              "      <td>0.000000</td>\n",
              "      <td>0.000000</td>\n",
              "      <td>0.000000</td>\n",
              "      <td>0.000000</td>\n",
              "      <td>0.000000</td>\n",
              "      <td>22.000000</td>\n",
              "      <td>11.000000</td>\n",
              "      <td>5.000000</td>\n",
              "      <td>88.000000</td>\n",
              "      <td>30.000000</td>\n",
              "      <td>1.000000</td>\n",
              "      <td>1.000000</td>\n",
              "      <td>1993.000000</td>\n",
              "    </tr>\n",
              "    <tr>\n",
              "      <th>25%</th>\n",
              "      <td>300000.000000</td>\n",
              "      <td>3.000000</td>\n",
              "      <td>2.000000</td>\n",
              "      <td>1345.000000</td>\n",
              "      <td>1970.000000</td>\n",
              "      <td>1.542000e+03</td>\n",
              "      <td>1.0</td>\n",
              "      <td>7.000000</td>\n",
              "      <td>1.000000</td>\n",
              "      <td>0.000000</td>\n",
              "      <td>0.000000</td>\n",
              "      <td>6.000000</td>\n",
              "      <td>0.000000</td>\n",
              "      <td>4.000000</td>\n",
              "      <td>4.000000</td>\n",
              "      <td>33.000000</td>\n",
              "      <td>58.000000</td>\n",
              "      <td>54.000000</td>\n",
              "      <td>320.000000</td>\n",
              "      <td>94.000000</td>\n",
              "      <td>5.000000</td>\n",
              "      <td>3.000000</td>\n",
              "      <td>2004.000000</td>\n",
              "    </tr>\n",
              "    <tr>\n",
              "      <th>50%</th>\n",
              "      <td>392000.000000</td>\n",
              "      <td>3.000000</td>\n",
              "      <td>3.000000</td>\n",
              "      <td>1907.000000</td>\n",
              "      <td>1986.000000</td>\n",
              "      <td>6.098000e+03</td>\n",
              "      <td>1.0</td>\n",
              "      <td>23.000000</td>\n",
              "      <td>3.000000</td>\n",
              "      <td>2.000000</td>\n",
              "      <td>3.000000</td>\n",
              "      <td>22.000000</td>\n",
              "      <td>2.000000</td>\n",
              "      <td>15.000000</td>\n",
              "      <td>10.000000</td>\n",
              "      <td>38.000000</td>\n",
              "      <td>73.000000</td>\n",
              "      <td>66.000000</td>\n",
              "      <td>426.000000</td>\n",
              "      <td>125.000000</td>\n",
              "      <td>7.000000</td>\n",
              "      <td>3.000000</td>\n",
              "      <td>2007.000000</td>\n",
              "    </tr>\n",
              "    <tr>\n",
              "      <th>75%</th>\n",
              "      <td>525000.000000</td>\n",
              "      <td>4.000000</td>\n",
              "      <td>3.000000</td>\n",
              "      <td>3005.000000</td>\n",
              "      <td>2000.000000</td>\n",
              "      <td>1.176100e+04</td>\n",
              "      <td>1.0</td>\n",
              "      <td>58.000000</td>\n",
              "      <td>7.000000</td>\n",
              "      <td>6.000000</td>\n",
              "      <td>6.000000</td>\n",
              "      <td>51.000000</td>\n",
              "      <td>5.000000</td>\n",
              "      <td>35.000000</td>\n",
              "      <td>21.000000</td>\n",
              "      <td>43.000000</td>\n",
              "      <td>84.000000</td>\n",
              "      <td>78.000000</td>\n",
              "      <td>569.000000</td>\n",
              "      <td>169.000000</td>\n",
              "      <td>8.000000</td>\n",
              "      <td>3.000000</td>\n",
              "      <td>2011.000000</td>\n",
              "    </tr>\n",
              "    <tr>\n",
              "      <th>max</th>\n",
              "      <td>800000.000000</td>\n",
              "      <td>5.000000</td>\n",
              "      <td>6.000000</td>\n",
              "      <td>8450.000000</td>\n",
              "      <td>2015.000000</td>\n",
              "      <td>1.220551e+06</td>\n",
              "      <td>1.0</td>\n",
              "      <td>266.000000</td>\n",
              "      <td>24.000000</td>\n",
              "      <td>54.000000</td>\n",
              "      <td>47.000000</td>\n",
              "      <td>340.000000</td>\n",
              "      <td>35.000000</td>\n",
              "      <td>177.000000</td>\n",
              "      <td>94.000000</td>\n",
              "      <td>69.000000</td>\n",
              "      <td>100.000000</td>\n",
              "      <td>100.000000</td>\n",
              "      <td>4508.000000</td>\n",
              "      <td>1374.000000</td>\n",
              "      <td>10.000000</td>\n",
              "      <td>4.000000</td>\n",
              "      <td>2016.000000</td>\n",
              "    </tr>\n",
              "  </tbody>\n",
              "</table>\n",
              "</div>"
            ],
            "text/plain": [
              "            tx_price         beds  ...  num_schools      tx_year\n",
              "count    1883.000000  1883.000000  ...  1883.000000  1883.000000\n",
              "mean   422839.807754     3.420605  ...     2.793415  2007.111524\n",
              "std    151462.593276     1.068554  ...     0.505358     5.196898\n",
              "min    200000.000000     1.000000  ...     1.000000  1993.000000\n",
              "25%    300000.000000     3.000000  ...     3.000000  2004.000000\n",
              "50%    392000.000000     3.000000  ...     3.000000  2007.000000\n",
              "75%    525000.000000     4.000000  ...     3.000000  2011.000000\n",
              "max    800000.000000     5.000000  ...     4.000000  2016.000000\n",
              "\n",
              "[8 rows x 23 columns]"
            ]
          },
          "metadata": {
            "tags": []
          },
          "execution_count": 93
        }
      ]
    },
    {
      "cell_type": "markdown",
      "metadata": {
        "id": "ok1KtlSBwpcT"
      },
      "source": [
        "**Obeservation:**\n",
        "* Look at the 'year_built' column, we can see that its max value is 2015.\n",
        "* The 'basement' feature has some missing values, also its standard deviation is 0.0, while its min and max are both 1.0. Maybe this is a feature that should be binary consisting values 0 and 1."
      ]
    },
    {
      "cell_type": "markdown",
      "metadata": {
        "id": "EGS7RSXcwpcT"
      },
      "source": [
        "## Distributions of categorical features\n",
        "1.8. Display summary statistics for categorical features."
      ]
    },
    {
      "cell_type": "code",
      "metadata": {
        "colab": {
          "base_uri": "https://localhost:8080/",
          "height": 173
        },
        "id": "DZudftW5wpcU",
        "outputId": "ea162e91-023f-49d2-f977-3f7f8bb5bd56"
      },
      "source": [
        "df.select_dtypes(include=['object']).describe()"
      ],
      "execution_count": 94,
      "outputs": [
        {
          "output_type": "execute_result",
          "data": {
            "text/html": [
              "<div>\n",
              "<style scoped>\n",
              "    .dataframe tbody tr th:only-of-type {\n",
              "        vertical-align: middle;\n",
              "    }\n",
              "\n",
              "    .dataframe tbody tr th {\n",
              "        vertical-align: top;\n",
              "    }\n",
              "\n",
              "    .dataframe thead th {\n",
              "        text-align: right;\n",
              "    }\n",
              "</style>\n",
              "<table border=\"1\" class=\"dataframe\">\n",
              "  <thead>\n",
              "    <tr style=\"text-align: right;\">\n",
              "      <th></th>\n",
              "      <th>property_type</th>\n",
              "      <th>exterior_walls</th>\n",
              "      <th>roof</th>\n",
              "    </tr>\n",
              "  </thead>\n",
              "  <tbody>\n",
              "    <tr>\n",
              "      <th>count</th>\n",
              "      <td>1883</td>\n",
              "      <td>1660</td>\n",
              "      <td>1529</td>\n",
              "    </tr>\n",
              "    <tr>\n",
              "      <th>unique</th>\n",
              "      <td>2</td>\n",
              "      <td>16</td>\n",
              "      <td>16</td>\n",
              "    </tr>\n",
              "    <tr>\n",
              "      <th>top</th>\n",
              "      <td>Single-Family</td>\n",
              "      <td>Brick</td>\n",
              "      <td>Composition Shingle</td>\n",
              "    </tr>\n",
              "    <tr>\n",
              "      <th>freq</th>\n",
              "      <td>1080</td>\n",
              "      <td>687</td>\n",
              "      <td>1179</td>\n",
              "    </tr>\n",
              "  </tbody>\n",
              "</table>\n",
              "</div>"
            ],
            "text/plain": [
              "        property_type exterior_walls                 roof\n",
              "count            1883           1660                 1529\n",
              "unique              2             16                   16\n",
              "top     Single-Family          Brick  Composition Shingle\n",
              "freq             1080            687                 1179"
            ]
          },
          "metadata": {
            "tags": []
          },
          "execution_count": 94
        }
      ]
    },
    {
      "cell_type": "markdown",
      "metadata": {
        "id": "_47LpyPWwpcV"
      },
      "source": [
        "**Observation:**\n",
        "* 'exterior_walls' and 'roof' have missing values\n",
        "* There are 16 unique classes for 'exterior_walls' and 'roof'\n",
        "* The most frequent element for exterior_walls is 'Brick'and it has come 687 times."
      ]
    },
    {
      "cell_type": "markdown",
      "metadata": {
        "id": "iz2C4CRfwpcV"
      },
      "source": [
        "### Bar plots for categorical Features"
      ]
    },
    {
      "cell_type": "markdown",
      "metadata": {
        "id": "etf1XlfGwpcW"
      },
      "source": [
        "1.9. Plot bar plot for the `exterior_walls` feature."
      ]
    },
    {
      "cell_type": "code",
      "metadata": {
        "colab": {
          "base_uri": "https://localhost:8080/",
          "height": 623
        },
        "id": "-OnxpJciwpcW",
        "outputId": "af421804-05a8-478c-f981-4551c1c50791"
      },
      "source": [
        "plt.figure(figsize=(10,10))\n",
        "sns.countplot(y='exterior_walls', data=df)"
      ],
      "execution_count": 95,
      "outputs": [
        {
          "output_type": "execute_result",
          "data": {
            "text/plain": [
              "<matplotlib.axes._subplots.AxesSubplot at 0x7fe085c59110>"
            ]
          },
          "metadata": {
            "tags": []
          },
          "execution_count": 95
        },
        {
          "output_type": "display_data",
          "data": {
            "image/png": "[encoded data removed]",
            "text/plain": [
              "<Figure size 720x720 with 1 Axes>"
            ]
          },
          "metadata": {
            "tags": [],
            "needs_background": "light"
          }
        }
      ]
    },
    {
      "cell_type": "markdown",
      "metadata": {
        "id": "Ij7819SjwpcW"
      },
      "source": [
        "**Observations:**\n",
        "Take a look at the frequencies of the classes.\n",
        "\n",
        "Several classes are quite prevalent in the dataset. They have long bars. Those include:\n",
        "* 'Brick' shows count of 687 as we get in features and is most frequent\n",
        "* 'Siding (Alum/Vinyl)'\n",
        "* 'Metal'\n",
        "* 'Combination'\n",
        "\n",
        "Some classes have really short bars. For example:\n",
        "* 'Concrete Block'\n",
        "* 'Concrete'\n",
        "* 'Block'\n",
        "* 'Wood Shingle'\n",
        "* others\n",
        "* These don't have many observations, and they are called sparse classes."
      ]
    },
    {
      "cell_type": "markdown",
      "metadata": {
        "id": "EL9yneS5wpcX"
      },
      "source": [
        "1.10. Similarly Plot bar plot for the 'roof' feature."
      ]
    },
    {
      "cell_type": "code",
      "metadata": {
        "colab": {
          "base_uri": "https://localhost:8080/",
          "height": 459
        },
        "id": "xJWcuqPWwpcX",
        "outputId": "c9d13435-ba4e-42f0-b0d8-3af991e0c852"
      },
      "source": [
        "plt.figure(figsize= (8,7))\n",
        "sns.countplot(y ='roof', data = df)"
      ],
      "execution_count": 96,
      "outputs": [
        {
          "output_type": "execute_result",
          "data": {
            "text/plain": [
              "<matplotlib.axes._subplots.AxesSubplot at 0x7fe085c1eb10>"
            ]
          },
          "metadata": {
            "tags": []
          },
          "execution_count": 96
        },
        {
          "output_type": "display_data",
          "data": {
            "image/png": "[encoded data removed]",
            "text/plain": [
              "<Figure size 576x504 with 1 Axes>"
            ]
          },
          "metadata": {
            "tags": [],
            "needs_background": "light"
          }
        }
      ]
    },
    {
      "cell_type": "markdown",
      "metadata": {
        "id": "OlqcjjyewpcX"
      },
      "source": [
        "**Observations:**\n",
        "\n",
        "* The class which has a lasrgest count is Composition Shingle\n",
        "\n",
        "Following are the sparse classes having very small bars/observations:\n",
        "* 'Metal'\n",
        "* 'shake-shingle'\n",
        "* 'composition'"
      ]
    },
    {
      "cell_type": "code",
      "metadata": {
        "colab": {
          "base_uri": "https://localhost:8080/",
          "height": 188
        },
        "id": "4EdTy3ODwpcY",
        "outputId": "ad75f0c0-8d0b-47e6-db83-d2b7d383f3e1"
      },
      "source": [
        "plt.figure(figsize=(4,2))\n",
        "sns.countplot(y='property_type', data=df)"
      ],
      "execution_count": 97,
      "outputs": [
        {
          "output_type": "execute_result",
          "data": {
            "text/plain": [
              "<matplotlib.axes._subplots.AxesSubplot at 0x7fe085ea7290>"
            ]
          },
          "metadata": {
            "tags": []
          },
          "execution_count": 97
        },
        {
          "output_type": "display_data",
          "data": {
            "image/png": "[encoded data removed]",
            "text/plain": [
              "<Figure size 288x144 with 1 Axes>"
            ]
          },
          "metadata": {
            "tags": [],
            "needs_background": "light"
          }
        }
      ]
    },
    {
      "cell_type": "markdown",
      "metadata": {
        "id": "ALtt9Y31wpcY"
      },
      "source": [
        "**Observation**:\n",
        "* Property_type having single family has maximum count greater than 1000\n",
        "* There is no sparse class in property_type"
      ]
    },
    {
      "cell_type": "markdown",
      "metadata": {
        "id": "xuMN7QVFwpcZ"
      },
      "source": [
        "## Sparse Classes\n",
        "Sparse classes are classes in categorical features that have a very small number of observations.\n",
        "\n",
        "They tend to be problematic when we get to building models.\n",
        "* In the best case, they don't influence the model much.\n",
        "* In the worst case, they can cause the model to be overfit.\n",
        "\n",
        "Let's make a mental note to combine or reassign some of these classes later."
      ]
    },
    {
      "cell_type": "markdown",
      "metadata": {
        "id": "H2LG71sMwpcZ"
      },
      "source": [
        "From the above bar plots:\n",
        "\n",
        "**Observations:** In both 'exterior_walls' and 'roof' as well we have many sparse classes"
      ]
    },
    {
      "cell_type": "markdown",
      "metadata": {
        "id": "gR3ULdvgwpcZ"
      },
      "source": [
        "##  Segmentations\n",
        "Segmentations are powerful ways to cut the data to observe the relationship between categorical features and numeric features."
      ]
    },
    {
      "cell_type": "markdown",
      "metadata": {
        "id": "USij9NwCwpcZ"
      },
      "source": [
        "1.11. Segmenting the target variable by key categorical features."
      ]
    },
    {
      "cell_type": "code",
      "metadata": {
        "colab": {
          "base_uri": "https://localhost:8080/",
          "height": 297
        },
        "id": "gzDXmstcXiAP",
        "outputId": "699d0aa4-433a-4c80-977e-aba0f580e1f9"
      },
      "source": [
        "sns.boxplot(y ='property_type', x = 'tx_price', data = df, orient= 'h')"
      ],
      "execution_count": 98,
      "outputs": [
        {
          "output_type": "execute_result",
          "data": {
            "text/plain": [
              "<matplotlib.axes._subplots.AxesSubplot at 0x7fe085e9ac10>"
            ]
          },
          "metadata": {
            "tags": []
          },
          "execution_count": 98
        },
        {
          "output_type": "display_data",
          "data": {
            "image/png": "[encoded data removed]",
            "text/plain": [
              "<Figure size 432x288 with 1 Axes>"
            ]
          },
          "metadata": {
            "tags": [],
            "needs_background": "light"
          }
        }
      ]
    },
    {
      "cell_type": "markdown",
      "metadata": {
        "id": "UH13CSKjwpca"
      },
      "source": [
        "**Observation:** In general, it looks like single family homes are more expensive."
      ]
    },
    {
      "cell_type": "markdown",
      "metadata": {
        "id": "F8eVvamcwpca"
      },
      "source": [
        "1.12. Let's compare the two property types across other features as well"
      ]
    },
    {
      "cell_type": "code",
      "metadata": {
        "colab": {
          "base_uri": "https://localhost:8080/",
          "height": 196
        },
        "id": "Feebc6e5Yh2V",
        "outputId": "36d6fcb1-836d-4199-a937-0abf7dbef827"
      },
      "source": [
        "df.groupby('property_type').mean()"
      ],
      "execution_count": 99,
      "outputs": [
        {
          "output_type": "execute_result",
          "data": {
            "text/html": [
              "<div>\n",
              "<style scoped>\n",
              "    .dataframe tbody tr th:only-of-type {\n",
              "        vertical-align: middle;\n",
              "    }\n",
              "\n",
              "    .dataframe tbody tr th {\n",
              "        vertical-align: top;\n",
              "    }\n",
              "\n",
              "    .dataframe thead th {\n",
              "        text-align: right;\n",
              "    }\n",
              "</style>\n",
              "<table border=\"1\" class=\"dataframe\">\n",
              "  <thead>\n",
              "    <tr style=\"text-align: right;\">\n",
              "      <th></th>\n",
              "      <th>tx_price</th>\n",
              "      <th>beds</th>\n",
              "      <th>baths</th>\n",
              "      <th>sqft</th>\n",
              "      <th>year_built</th>\n",
              "      <th>lot_size</th>\n",
              "      <th>basement</th>\n",
              "      <th>restaurants</th>\n",
              "      <th>groceries</th>\n",
              "      <th>nightlife</th>\n",
              "      <th>cafes</th>\n",
              "      <th>shopping</th>\n",
              "      <th>arts_entertainment</th>\n",
              "      <th>beauty_spas</th>\n",
              "      <th>active_life</th>\n",
              "      <th>median_age</th>\n",
              "      <th>married</th>\n",
              "      <th>college_grad</th>\n",
              "      <th>property_tax</th>\n",
              "      <th>insurance</th>\n",
              "      <th>median_school</th>\n",
              "      <th>num_schools</th>\n",
              "      <th>tx_year</th>\n",
              "    </tr>\n",
              "    <tr>\n",
              "      <th>property_type</th>\n",
              "      <th></th>\n",
              "      <th></th>\n",
              "      <th></th>\n",
              "      <th></th>\n",
              "      <th></th>\n",
              "      <th></th>\n",
              "      <th></th>\n",
              "      <th></th>\n",
              "      <th></th>\n",
              "      <th></th>\n",
              "      <th></th>\n",
              "      <th></th>\n",
              "      <th></th>\n",
              "      <th></th>\n",
              "      <th></th>\n",
              "      <th></th>\n",
              "      <th></th>\n",
              "      <th></th>\n",
              "      <th></th>\n",
              "      <th></th>\n",
              "      <th></th>\n",
              "      <th></th>\n",
              "      <th></th>\n",
              "    </tr>\n",
              "  </thead>\n",
              "  <tbody>\n",
              "    <tr>\n",
              "      <th>Apartment / Condo / Townhouse</th>\n",
              "      <td>366614.034869</td>\n",
              "      <td>2.601494</td>\n",
              "      <td>2.200498</td>\n",
              "      <td>1513.727273</td>\n",
              "      <td>1988.936488</td>\n",
              "      <td>3944.239103</td>\n",
              "      <td>1.0</td>\n",
              "      <td>58.418431</td>\n",
              "      <td>5.919054</td>\n",
              "      <td>7.855542</td>\n",
              "      <td>8.037360</td>\n",
              "      <td>57.631382</td>\n",
              "      <td>4.840598</td>\n",
              "      <td>32.087173</td>\n",
              "      <td>22.410959</td>\n",
              "      <td>37.199253</td>\n",
              "      <td>57.534247</td>\n",
              "      <td>66.372354</td>\n",
              "      <td>346.261519</td>\n",
              "      <td>105.652553</td>\n",
              "      <td>6.382316</td>\n",
              "      <td>2.831880</td>\n",
              "      <td>2007.941469</td>\n",
              "    </tr>\n",
              "    <tr>\n",
              "      <th>Single-Family</th>\n",
              "      <td>464644.711111</td>\n",
              "      <td>4.029630</td>\n",
              "      <td>2.862037</td>\n",
              "      <td>2935.865741</td>\n",
              "      <td>1978.523148</td>\n",
              "      <td>20417.666667</td>\n",
              "      <td>1.0</td>\n",
              "      <td>26.672222</td>\n",
              "      <td>3.453704</td>\n",
              "      <td>3.007407</td>\n",
              "      <td>3.308333</td>\n",
              "      <td>28.289815</td>\n",
              "      <td>2.318519</td>\n",
              "      <td>16.970370</td>\n",
              "      <td>10.946296</td>\n",
              "      <td>39.643519</td>\n",
              "      <td>77.685185</td>\n",
              "      <td>64.128704</td>\n",
              "      <td>556.383333</td>\n",
              "      <td>166.329630</td>\n",
              "      <td>6.592593</td>\n",
              "      <td>2.764815</td>\n",
              "      <td>2006.494444</td>\n",
              "    </tr>\n",
              "  </tbody>\n",
              "</table>\n",
              "</div>"
            ],
            "text/plain": [
              "                                    tx_price  ...      tx_year\n",
              "property_type                                 ...             \n",
              "Apartment / Condo / Townhouse  366614.034869  ...  2007.941469\n",
              "Single-Family                  464644.711111  ...  2006.494444\n",
              "\n",
              "[2 rows x 23 columns]"
            ]
          },
          "metadata": {
            "tags": []
          },
          "execution_count": 99
        }
      ]
    },
    {
      "cell_type": "markdown",
      "metadata": {
        "id": "BF7rfJCAwpcb"
      },
      "source": [
        "**Observations**:\n",
        "* Property having single-family is larger in sqft area.It also has more bedrooms than other property-type.\n",
        "* Apartment/townhouse has larger lots than the property having single-family.\n",
        "* Apartmenr/condo/Townhouse type of property is in areas with more restaurants,nightlife options,more grocery stores,shopping stores,active_life(gym,sports,yoga studios)\n",
        "* Property_type such as apartments,Condo,Townhouse is more crowded and so have more fascilities but smaller in sqft area so have lesser price whereas property-type having single-family are generally large in size and has lesser fascilities as less crowded. "
      ]
    },
    {
      "cell_type": "markdown",
      "metadata": {
        "id": "2OI-7sInwpcb"
      },
      "source": [
        "1.13. Segment 'sqft' by 'property_type' and plot the boxplots."
      ]
    },
    {
      "cell_type": "code",
      "metadata": {
        "colab": {
          "base_uri": "https://localhost:8080/",
          "height": 296
        },
        "id": "Qmznd8Pzwpcb",
        "outputId": "9aa52fb5-979f-463a-df11-eeb97ab737c1"
      },
      "source": [
        "sns.boxplot(orient='h', x ='sqft', y= 'property_type', data= df)"
      ],
      "execution_count": 100,
      "outputs": [
        {
          "output_type": "execute_result",
          "data": {
            "text/plain": [
              "<matplotlib.axes._subplots.AxesSubplot at 0x7fe085e28c10>"
            ]
          },
          "metadata": {
            "tags": []
          },
          "execution_count": 100
        },
        {
          "output_type": "display_data",
          "data": {
            "image/png": "[encoded data removed]",
            "text/plain": [
              "<Figure size 432x288 with 1 Axes>"
            ]
          },
          "metadata": {
            "tags": [],
            "needs_background": "light"
          }
        }
      ]
    },
    {
      "cell_type": "markdown",
      "metadata": {
        "id": "-WUBxHlQwpcc"
      },
      "source": [
        "After producing the plot, consider these questions:\n",
        "* property-type single family is larger, on average.\n",
        "* Property-type single family has greater variance in sizes.\n",
        "* Sqft area of Apartment type property lies between 1000 to 2000 and have no much variation.It always has area lesser than single-family houses"
      ]
    },
    {
      "cell_type": "markdown",
      "metadata": {
        "id": "mEt6WIP2wpcc"
      },
      "source": [
        "1.14. Segment by property_type and display the means and standard deviations within each class"
      ]
    },
    {
      "cell_type": "code",
      "metadata": {
        "colab": {
          "base_uri": "https://localhost:8080/",
          "height": 227
        },
        "id": "H-jAwk__wpcc",
        "outputId": "3bf40c5f-1bfc-48ad-b106-74e3fe8878e1"
      },
      "source": [
        "df.groupby('property_type').agg(['mean', 'std'])"
      ],
      "execution_count": 101,
      "outputs": [
        {
          "output_type": "execute_result",
          "data": {
            "text/html": [
              "<div>\n",
              "<style scoped>\n",
              "    .dataframe tbody tr th:only-of-type {\n",
              "        vertical-align: middle;\n",
              "    }\n",
              "\n",
              "    .dataframe tbody tr th {\n",
              "        vertical-align: top;\n",
              "    }\n",
              "\n",
              "    .dataframe thead tr th {\n",
              "        text-align: left;\n",
              "    }\n",
              "\n",
              "    .dataframe thead tr:last-of-type th {\n",
              "        text-align: right;\n",
              "    }\n",
              "</style>\n",
              "<table border=\"1\" class=\"dataframe\">\n",
              "  <thead>\n",
              "    <tr>\n",
              "      <th></th>\n",
              "      <th colspan=\"2\" halign=\"left\">tx_price</th>\n",
              "      <th colspan=\"2\" halign=\"left\">beds</th>\n",
              "      <th colspan=\"2\" halign=\"left\">baths</th>\n",
              "      <th colspan=\"2\" halign=\"left\">sqft</th>\n",
              "      <th colspan=\"2\" halign=\"left\">year_built</th>\n",
              "      <th colspan=\"2\" halign=\"left\">lot_size</th>\n",
              "      <th colspan=\"2\" halign=\"left\">basement</th>\n",
              "      <th colspan=\"2\" halign=\"left\">restaurants</th>\n",
              "      <th colspan=\"2\" halign=\"left\">groceries</th>\n",
              "      <th colspan=\"2\" halign=\"left\">nightlife</th>\n",
              "      <th colspan=\"2\" halign=\"left\">cafes</th>\n",
              "      <th colspan=\"2\" halign=\"left\">shopping</th>\n",
              "      <th colspan=\"2\" halign=\"left\">arts_entertainment</th>\n",
              "      <th colspan=\"2\" halign=\"left\">beauty_spas</th>\n",
              "      <th colspan=\"2\" halign=\"left\">active_life</th>\n",
              "      <th colspan=\"2\" halign=\"left\">median_age</th>\n",
              "      <th colspan=\"2\" halign=\"left\">married</th>\n",
              "      <th colspan=\"2\" halign=\"left\">college_grad</th>\n",
              "      <th colspan=\"2\" halign=\"left\">property_tax</th>\n",
              "      <th colspan=\"2\" halign=\"left\">insurance</th>\n",
              "      <th colspan=\"2\" halign=\"left\">median_school</th>\n",
              "      <th colspan=\"2\" halign=\"left\">num_schools</th>\n",
              "      <th colspan=\"2\" halign=\"left\">tx_year</th>\n",
              "    </tr>\n",
              "    <tr>\n",
              "      <th></th>\n",
              "      <th>mean</th>\n",
              "      <th>std</th>\n",
              "      <th>mean</th>\n",
              "      <th>std</th>\n",
              "      <th>mean</th>\n",
              "      <th>std</th>\n",
              "      <th>mean</th>\n",
              "      <th>std</th>\n",
              "      <th>mean</th>\n",
              "      <th>std</th>\n",
              "      <th>mean</th>\n",
              "      <th>std</th>\n",
              "      <th>mean</th>\n",
              "      <th>std</th>\n",
              "      <th>mean</th>\n",
              "      <th>std</th>\n",
              "      <th>mean</th>\n",
              "      <th>std</th>\n",
              "      <th>mean</th>\n",
              "      <th>std</th>\n",
              "      <th>mean</th>\n",
              "      <th>std</th>\n",
              "      <th>mean</th>\n",
              "      <th>std</th>\n",
              "      <th>mean</th>\n",
              "      <th>std</th>\n",
              "      <th>mean</th>\n",
              "      <th>std</th>\n",
              "      <th>mean</th>\n",
              "      <th>std</th>\n",
              "      <th>mean</th>\n",
              "      <th>std</th>\n",
              "      <th>mean</th>\n",
              "      <th>std</th>\n",
              "      <th>mean</th>\n",
              "      <th>std</th>\n",
              "      <th>mean</th>\n",
              "      <th>std</th>\n",
              "      <th>mean</th>\n",
              "      <th>std</th>\n",
              "      <th>mean</th>\n",
              "      <th>std</th>\n",
              "      <th>mean</th>\n",
              "      <th>std</th>\n",
              "      <th>mean</th>\n",
              "      <th>std</th>\n",
              "    </tr>\n",
              "    <tr>\n",
              "      <th>property_type</th>\n",
              "      <th></th>\n",
              "      <th></th>\n",
              "      <th></th>\n",
              "      <th></th>\n",
              "      <th></th>\n",
              "      <th></th>\n",
              "      <th></th>\n",
              "      <th></th>\n",
              "      <th></th>\n",
              "      <th></th>\n",
              "      <th></th>\n",
              "      <th></th>\n",
              "      <th></th>\n",
              "      <th></th>\n",
              "      <th></th>\n",
              "      <th></th>\n",
              "      <th></th>\n",
              "      <th></th>\n",
              "      <th></th>\n",
              "      <th></th>\n",
              "      <th></th>\n",
              "      <th></th>\n",
              "      <th></th>\n",
              "      <th></th>\n",
              "      <th></th>\n",
              "      <th></th>\n",
              "      <th></th>\n",
              "      <th></th>\n",
              "      <th></th>\n",
              "      <th></th>\n",
              "      <th></th>\n",
              "      <th></th>\n",
              "      <th></th>\n",
              "      <th></th>\n",
              "      <th></th>\n",
              "      <th></th>\n",
              "      <th></th>\n",
              "      <th></th>\n",
              "      <th></th>\n",
              "      <th></th>\n",
              "      <th></th>\n",
              "      <th></th>\n",
              "      <th></th>\n",
              "      <th></th>\n",
              "      <th></th>\n",
              "      <th></th>\n",
              "    </tr>\n",
              "  </thead>\n",
              "  <tbody>\n",
              "    <tr>\n",
              "      <th>Apartment / Condo / Townhouse</th>\n",
              "      <td>366614.034869</td>\n",
              "      <td>121784.490486</td>\n",
              "      <td>2.601494</td>\n",
              "      <td>0.810220</td>\n",
              "      <td>2.200498</td>\n",
              "      <td>0.815009</td>\n",
              "      <td>1513.727273</td>\n",
              "      <td>556.286650</td>\n",
              "      <td>1988.936488</td>\n",
              "      <td>15.513640</td>\n",
              "      <td>3944.239103</td>\n",
              "      <td>44284.168767</td>\n",
              "      <td>1.0</td>\n",
              "      <td>0.0</td>\n",
              "      <td>58.418431</td>\n",
              "      <td>54.343594</td>\n",
              "      <td>5.919054</td>\n",
              "      <td>4.645774</td>\n",
              "      <td>7.855542</td>\n",
              "      <td>10.643816</td>\n",
              "      <td>8.037360</td>\n",
              "      <td>9.077038</td>\n",
              "      <td>57.631382</td>\n",
              "      <td>61.852299</td>\n",
              "      <td>4.840598</td>\n",
              "      <td>5.234834</td>\n",
              "      <td>32.087173</td>\n",
              "      <td>26.910443</td>\n",
              "      <td>22.410959</td>\n",
              "      <td>21.058178</td>\n",
              "      <td>37.199253</td>\n",
              "      <td>6.906584</td>\n",
              "      <td>57.534247</td>\n",
              "      <td>20.372706</td>\n",
              "      <td>66.372354</td>\n",
              "      <td>17.095874</td>\n",
              "      <td>346.261519</td>\n",
              "      <td>142.292282</td>\n",
              "      <td>105.652553</td>\n",
              "      <td>47.118015</td>\n",
              "      <td>6.382316</td>\n",
              "      <td>1.941998</td>\n",
              "      <td>2.831880</td>\n",
              "      <td>0.455370</td>\n",
              "      <td>2007.941469</td>\n",
              "      <td>4.099487</td>\n",
              "    </tr>\n",
              "    <tr>\n",
              "      <th>Single-Family</th>\n",
              "      <td>464644.711111</td>\n",
              "      <td>157758.739013</td>\n",
              "      <td>4.029630</td>\n",
              "      <td>0.795639</td>\n",
              "      <td>2.862037</td>\n",
              "      <td>0.937551</td>\n",
              "      <td>2935.865741</td>\n",
              "      <td>1422.871169</td>\n",
              "      <td>1978.523148</td>\n",
              "      <td>22.210582</td>\n",
              "      <td>20417.666667</td>\n",
              "      <td>44165.529302</td>\n",
              "      <td>1.0</td>\n",
              "      <td>0.0</td>\n",
              "      <td>26.672222</td>\n",
              "      <td>34.726416</td>\n",
              "      <td>3.453704</td>\n",
              "      <td>4.067285</td>\n",
              "      <td>3.007407</td>\n",
              "      <td>5.543822</td>\n",
              "      <td>3.308333</td>\n",
              "      <td>5.325053</td>\n",
              "      <td>28.289815</td>\n",
              "      <td>42.292313</td>\n",
              "      <td>2.318519</td>\n",
              "      <td>3.929691</td>\n",
              "      <td>16.970370</td>\n",
              "      <td>22.872112</td>\n",
              "      <td>10.946296</td>\n",
              "      <td>12.599296</td>\n",
              "      <td>39.643519</td>\n",
              "      <td>6.225732</td>\n",
              "      <td>77.685185</td>\n",
              "      <td>13.868205</td>\n",
              "      <td>64.128704</td>\n",
              "      <td>16.790347</td>\n",
              "      <td>556.383333</td>\n",
              "      <td>244.351559</td>\n",
              "      <td>166.329630</td>\n",
              "      <td>77.816022</td>\n",
              "      <td>6.592593</td>\n",
              "      <td>2.031663</td>\n",
              "      <td>2.764815</td>\n",
              "      <td>0.537959</td>\n",
              "      <td>2006.494444</td>\n",
              "      <td>5.807059</td>\n",
              "    </tr>\n",
              "  </tbody>\n",
              "</table>\n",
              "</div>"
            ],
            "text/plain": [
              "                                    tx_price  ...   tx_year\n",
              "                                        mean  ...       std\n",
              "property_type                                 ...          \n",
              "Apartment / Condo / Townhouse  366614.034869  ...  4.099487\n",
              "Single-Family                  464644.711111  ...  5.807059\n",
              "\n",
              "[2 rows x 46 columns]"
            ]
          },
          "metadata": {
            "tags": []
          },
          "execution_count": 101
        }
      ]
    },
    {
      "cell_type": "markdown",
      "metadata": {
        "id": "aWPsbmMgwpcc"
      },
      "source": [
        "## Correlations\n",
        "* Finally, let's take a look at the relationships between numeric features and other numeric features.\n",
        "* ***Correlation*** is a value between -1 and 1 that represents how closely values for two separate features move in unison.\n",
        "* Positive correlation means that as one feature increases, the other increases; eg. a child's age and her height.\n",
        "* Negative correlation means that as one feature increases, the other decreases; eg. hours spent studying and number of parties attended.\n",
        "* Correlations near -1 or 1 indicate a strong relationship.\n",
        "* Those closer to 0 indicate a weak relationship.\n",
        "* 0 indicates no relationship."
      ]
    },
    {
      "cell_type": "markdown",
      "metadata": {
        "id": "y7vIFfV3TM_N"
      },
      "source": [
        "1.15. Print out the correlation of the data"
      ]
    },
    {
      "cell_type": "code",
      "metadata": {
        "colab": {
          "base_uri": "https://localhost:8080/",
          "height": 782
        },
        "id": "CMfkYjIbaAQF",
        "outputId": "4db5fcc2-b338-4cb2-cdd5-1e4c076ecb87"
      },
      "source": [
        "df.corr()"
      ],
      "execution_count": 102,
      "outputs": [
        {
          "output_type": "execute_result",
          "data": {
            "text/html": [
              "<div>\n",
              "<style scoped>\n",
              "    .dataframe tbody tr th:only-of-type {\n",
              "        vertical-align: middle;\n",
              "    }\n",
              "\n",
              "    .dataframe tbody tr th {\n",
              "        vertical-align: top;\n",
              "    }\n",
              "\n",
              "    .dataframe thead th {\n",
              "        text-align: right;\n",
              "    }\n",
              "</style>\n",
              "<table border=\"1\" class=\"dataframe\">\n",
              "  <thead>\n",
              "    <tr style=\"text-align: right;\">\n",
              "      <th></th>\n",
              "      <th>tx_price</th>\n",
              "      <th>beds</th>\n",
              "      <th>baths</th>\n",
              "      <th>sqft</th>\n",
              "      <th>year_built</th>\n",
              "      <th>lot_size</th>\n",
              "      <th>basement</th>\n",
              "      <th>restaurants</th>\n",
              "      <th>groceries</th>\n",
              "      <th>nightlife</th>\n",
              "      <th>cafes</th>\n",
              "      <th>shopping</th>\n",
              "      <th>arts_entertainment</th>\n",
              "      <th>beauty_spas</th>\n",
              "      <th>active_life</th>\n",
              "      <th>median_age</th>\n",
              "      <th>married</th>\n",
              "      <th>college_grad</th>\n",
              "      <th>property_tax</th>\n",
              "      <th>insurance</th>\n",
              "      <th>median_school</th>\n",
              "      <th>num_schools</th>\n",
              "      <th>tx_year</th>\n",
              "    </tr>\n",
              "  </thead>\n",
              "  <tbody>\n",
              "    <tr>\n",
              "      <th>tx_price</th>\n",
              "      <td>1.000000</td>\n",
              "      <td>0.384046</td>\n",
              "      <td>0.389375</td>\n",
              "      <td>0.469573</td>\n",
              "      <td>0.033138</td>\n",
              "      <td>0.130558</td>\n",
              "      <td>NaN</td>\n",
              "      <td>-0.038027</td>\n",
              "      <td>-0.094314</td>\n",
              "      <td>0.009361</td>\n",
              "      <td>-0.001398</td>\n",
              "      <td>-0.038246</td>\n",
              "      <td>-0.021076</td>\n",
              "      <td>-0.054349</td>\n",
              "      <td>-0.001165</td>\n",
              "      <td>0.126335</td>\n",
              "      <td>0.200494</td>\n",
              "      <td>0.268577</td>\n",
              "      <td>0.535148</td>\n",
              "      <td>0.532947</td>\n",
              "      <td>0.175762</td>\n",
              "      <td>-0.014380</td>\n",
              "      <td>0.108782</td>\n",
              "    </tr>\n",
              "    <tr>\n",
              "      <th>beds</th>\n",
              "      <td>0.384046</td>\n",
              "      <td>1.000000</td>\n",
              "      <td>0.644572</td>\n",
              "      <td>0.691039</td>\n",
              "      <td>-0.011844</td>\n",
              "      <td>0.164399</td>\n",
              "      <td>NaN</td>\n",
              "      <td>-0.495834</td>\n",
              "      <td>-0.421412</td>\n",
              "      <td>-0.440844</td>\n",
              "      <td>-0.464289</td>\n",
              "      <td>-0.388670</td>\n",
              "      <td>-0.442168</td>\n",
              "      <td>-0.419832</td>\n",
              "      <td>-0.486957</td>\n",
              "      <td>0.133711</td>\n",
              "      <td>0.643240</td>\n",
              "      <td>-0.082354</td>\n",
              "      <td>0.547643</td>\n",
              "      <td>0.485776</td>\n",
              "      <td>0.137309</td>\n",
              "      <td>-0.124359</td>\n",
              "      <td>-0.174081</td>\n",
              "    </tr>\n",
              "    <tr>\n",
              "      <th>baths</th>\n",
              "      <td>0.389375</td>\n",
              "      <td>0.644572</td>\n",
              "      <td>1.000000</td>\n",
              "      <td>0.682060</td>\n",
              "      <td>0.206141</td>\n",
              "      <td>0.132976</td>\n",
              "      <td>NaN</td>\n",
              "      <td>-0.350210</td>\n",
              "      <td>-0.340024</td>\n",
              "      <td>-0.306686</td>\n",
              "      <td>-0.316836</td>\n",
              "      <td>-0.259603</td>\n",
              "      <td>-0.305885</td>\n",
              "      <td>-0.282008</td>\n",
              "      <td>-0.329736</td>\n",
              "      <td>0.095844</td>\n",
              "      <td>0.442225</td>\n",
              "      <td>0.016097</td>\n",
              "      <td>0.525776</td>\n",
              "      <td>0.475430</td>\n",
              "      <td>0.163365</td>\n",
              "      <td>-0.088299</td>\n",
              "      <td>-0.132110</td>\n",
              "    </tr>\n",
              "    <tr>\n",
              "      <th>sqft</th>\n",
              "      <td>0.469573</td>\n",
              "      <td>0.691039</td>\n",
              "      <td>0.682060</td>\n",
              "      <td>1.000000</td>\n",
              "      <td>0.254589</td>\n",
              "      <td>0.246016</td>\n",
              "      <td>NaN</td>\n",
              "      <td>-0.353759</td>\n",
              "      <td>-0.371167</td>\n",
              "      <td>-0.281540</td>\n",
              "      <td>-0.300969</td>\n",
              "      <td>-0.275586</td>\n",
              "      <td>-0.293402</td>\n",
              "      <td>-0.310465</td>\n",
              "      <td>-0.332663</td>\n",
              "      <td>0.109811</td>\n",
              "      <td>0.480167</td>\n",
              "      <td>0.065343</td>\n",
              "      <td>0.660264</td>\n",
              "      <td>0.594049</td>\n",
              "      <td>0.220669</td>\n",
              "      <td>-0.102032</td>\n",
              "      <td>-0.236190</td>\n",
              "    </tr>\n",
              "    <tr>\n",
              "      <th>year_built</th>\n",
              "      <td>0.033138</td>\n",
              "      <td>-0.011844</td>\n",
              "      <td>0.206141</td>\n",
              "      <td>0.254589</td>\n",
              "      <td>1.000000</td>\n",
              "      <td>0.000068</td>\n",
              "      <td>NaN</td>\n",
              "      <td>-0.106948</td>\n",
              "      <td>-0.222443</td>\n",
              "      <td>-0.080006</td>\n",
              "      <td>-0.102209</td>\n",
              "      <td>-0.121684</td>\n",
              "      <td>-0.195141</td>\n",
              "      <td>-0.163670</td>\n",
              "      <td>-0.134919</td>\n",
              "      <td>-0.237152</td>\n",
              "      <td>0.038208</td>\n",
              "      <td>-0.014204</td>\n",
              "      <td>-0.046504</td>\n",
              "      <td>-0.109521</td>\n",
              "      <td>0.155835</td>\n",
              "      <td>-0.188106</td>\n",
              "      <td>-0.043301</td>\n",
              "    </tr>\n",
              "    <tr>\n",
              "      <th>lot_size</th>\n",
              "      <td>0.130558</td>\n",
              "      <td>0.164399</td>\n",
              "      <td>0.132976</td>\n",
              "      <td>0.246016</td>\n",
              "      <td>0.000068</td>\n",
              "      <td>1.000000</td>\n",
              "      <td>NaN</td>\n",
              "      <td>-0.113887</td>\n",
              "      <td>-0.118574</td>\n",
              "      <td>-0.072224</td>\n",
              "      <td>-0.098182</td>\n",
              "      <td>-0.116560</td>\n",
              "      <td>-0.067189</td>\n",
              "      <td>-0.121075</td>\n",
              "      <td>-0.092668</td>\n",
              "      <td>0.099140</td>\n",
              "      <td>0.122028</td>\n",
              "      <td>-0.030725</td>\n",
              "      <td>0.165800</td>\n",
              "      <td>0.146579</td>\n",
              "      <td>0.096551</td>\n",
              "      <td>-0.031535</td>\n",
              "      <td>-0.048207</td>\n",
              "    </tr>\n",
              "    <tr>\n",
              "      <th>basement</th>\n",
              "      <td>NaN</td>\n",
              "      <td>NaN</td>\n",
              "      <td>NaN</td>\n",
              "      <td>NaN</td>\n",
              "      <td>NaN</td>\n",
              "      <td>NaN</td>\n",
              "      <td>NaN</td>\n",
              "      <td>NaN</td>\n",
              "      <td>NaN</td>\n",
              "      <td>NaN</td>\n",
              "      <td>NaN</td>\n",
              "      <td>NaN</td>\n",
              "      <td>NaN</td>\n",
              "      <td>NaN</td>\n",
              "      <td>NaN</td>\n",
              "      <td>NaN</td>\n",
              "      <td>NaN</td>\n",
              "      <td>NaN</td>\n",
              "      <td>NaN</td>\n",
              "      <td>NaN</td>\n",
              "      <td>NaN</td>\n",
              "      <td>NaN</td>\n",
              "      <td>NaN</td>\n",
              "    </tr>\n",
              "    <tr>\n",
              "      <th>restaurants</th>\n",
              "      <td>-0.038027</td>\n",
              "      <td>-0.495834</td>\n",
              "      <td>-0.350210</td>\n",
              "      <td>-0.353759</td>\n",
              "      <td>-0.106948</td>\n",
              "      <td>-0.113887</td>\n",
              "      <td>NaN</td>\n",
              "      <td>1.000000</td>\n",
              "      <td>0.701462</td>\n",
              "      <td>0.926675</td>\n",
              "      <td>0.937616</td>\n",
              "      <td>0.818815</td>\n",
              "      <td>0.726907</td>\n",
              "      <td>0.867829</td>\n",
              "      <td>0.881799</td>\n",
              "      <td>-0.063816</td>\n",
              "      <td>-0.615584</td>\n",
              "      <td>0.214260</td>\n",
              "      <td>-0.100821</td>\n",
              "      <td>-0.019925</td>\n",
              "      <td>-0.068425</td>\n",
              "      <td>0.251171</td>\n",
              "      <td>0.044739</td>\n",
              "    </tr>\n",
              "    <tr>\n",
              "      <th>groceries</th>\n",
              "      <td>-0.094314</td>\n",
              "      <td>-0.421412</td>\n",
              "      <td>-0.340024</td>\n",
              "      <td>-0.371167</td>\n",
              "      <td>-0.222443</td>\n",
              "      <td>-0.118574</td>\n",
              "      <td>NaN</td>\n",
              "      <td>0.701462</td>\n",
              "      <td>1.000000</td>\n",
              "      <td>0.565003</td>\n",
              "      <td>0.602857</td>\n",
              "      <td>0.526356</td>\n",
              "      <td>0.502837</td>\n",
              "      <td>0.626850</td>\n",
              "      <td>0.574532</td>\n",
              "      <td>-0.022377</td>\n",
              "      <td>-0.508793</td>\n",
              "      <td>-0.006025</td>\n",
              "      <td>-0.159506</td>\n",
              "      <td>-0.093974</td>\n",
              "      <td>-0.354553</td>\n",
              "      <td>0.272856</td>\n",
              "      <td>0.115674</td>\n",
              "    </tr>\n",
              "    <tr>\n",
              "      <th>nightlife</th>\n",
              "      <td>0.009361</td>\n",
              "      <td>-0.440844</td>\n",
              "      <td>-0.306686</td>\n",
              "      <td>-0.281540</td>\n",
              "      <td>-0.080006</td>\n",
              "      <td>-0.072224</td>\n",
              "      <td>NaN</td>\n",
              "      <td>0.926675</td>\n",
              "      <td>0.565003</td>\n",
              "      <td>1.000000</td>\n",
              "      <td>0.923901</td>\n",
              "      <td>0.743321</td>\n",
              "      <td>0.703038</td>\n",
              "      <td>0.777461</td>\n",
              "      <td>0.858836</td>\n",
              "      <td>-0.028611</td>\n",
              "      <td>-0.568811</td>\n",
              "      <td>0.253717</td>\n",
              "      <td>-0.054386</td>\n",
              "      <td>0.024551</td>\n",
              "      <td>-0.036948</td>\n",
              "      <td>0.196399</td>\n",
              "      <td>0.027495</td>\n",
              "    </tr>\n",
              "    <tr>\n",
              "      <th>cafes</th>\n",
              "      <td>-0.001398</td>\n",
              "      <td>-0.464289</td>\n",
              "      <td>-0.316836</td>\n",
              "      <td>-0.300969</td>\n",
              "      <td>-0.102209</td>\n",
              "      <td>-0.098182</td>\n",
              "      <td>NaN</td>\n",
              "      <td>0.937616</td>\n",
              "      <td>0.602857</td>\n",
              "      <td>0.923901</td>\n",
              "      <td>1.000000</td>\n",
              "      <td>0.837058</td>\n",
              "      <td>0.694575</td>\n",
              "      <td>0.822541</td>\n",
              "      <td>0.826648</td>\n",
              "      <td>0.026400</td>\n",
              "      <td>-0.581850</td>\n",
              "      <td>0.266652</td>\n",
              "      <td>-0.044410</td>\n",
              "      <td>0.036502</td>\n",
              "      <td>-0.027868</td>\n",
              "      <td>0.224312</td>\n",
              "      <td>0.013558</td>\n",
              "    </tr>\n",
              "    <tr>\n",
              "      <th>shopping</th>\n",
              "      <td>-0.038246</td>\n",
              "      <td>-0.388670</td>\n",
              "      <td>-0.259603</td>\n",
              "      <td>-0.275586</td>\n",
              "      <td>-0.121684</td>\n",
              "      <td>-0.116560</td>\n",
              "      <td>NaN</td>\n",
              "      <td>0.818815</td>\n",
              "      <td>0.526356</td>\n",
              "      <td>0.743321</td>\n",
              "      <td>0.837058</td>\n",
              "      <td>1.000000</td>\n",
              "      <td>0.653803</td>\n",
              "      <td>0.860987</td>\n",
              "      <td>0.678515</td>\n",
              "      <td>0.032339</td>\n",
              "      <td>-0.454072</td>\n",
              "      <td>0.177383</td>\n",
              "      <td>-0.040556</td>\n",
              "      <td>0.018846</td>\n",
              "      <td>-0.048058</td>\n",
              "      <td>0.228988</td>\n",
              "      <td>-0.000324</td>\n",
              "    </tr>\n",
              "    <tr>\n",
              "      <th>arts_entertainment</th>\n",
              "      <td>-0.021076</td>\n",
              "      <td>-0.442168</td>\n",
              "      <td>-0.305885</td>\n",
              "      <td>-0.293402</td>\n",
              "      <td>-0.195141</td>\n",
              "      <td>-0.067189</td>\n",
              "      <td>NaN</td>\n",
              "      <td>0.726907</td>\n",
              "      <td>0.502837</td>\n",
              "      <td>0.703038</td>\n",
              "      <td>0.694575</td>\n",
              "      <td>0.653803</td>\n",
              "      <td>1.000000</td>\n",
              "      <td>0.757860</td>\n",
              "      <td>0.800994</td>\n",
              "      <td>-0.014640</td>\n",
              "      <td>-0.554533</td>\n",
              "      <td>0.239129</td>\n",
              "      <td>-0.066346</td>\n",
              "      <td>0.015380</td>\n",
              "      <td>-0.138266</td>\n",
              "      <td>0.214163</td>\n",
              "      <td>0.034356</td>\n",
              "    </tr>\n",
              "    <tr>\n",
              "      <th>beauty_spas</th>\n",
              "      <td>-0.054349</td>\n",
              "      <td>-0.419832</td>\n",
              "      <td>-0.282008</td>\n",
              "      <td>-0.310465</td>\n",
              "      <td>-0.163670</td>\n",
              "      <td>-0.121075</td>\n",
              "      <td>NaN</td>\n",
              "      <td>0.867829</td>\n",
              "      <td>0.626850</td>\n",
              "      <td>0.777461</td>\n",
              "      <td>0.822541</td>\n",
              "      <td>0.860987</td>\n",
              "      <td>0.757860</td>\n",
              "      <td>1.000000</td>\n",
              "      <td>0.785920</td>\n",
              "      <td>-0.002961</td>\n",
              "      <td>-0.510331</td>\n",
              "      <td>0.177066</td>\n",
              "      <td>-0.057293</td>\n",
              "      <td>0.010980</td>\n",
              "      <td>-0.098727</td>\n",
              "      <td>0.262651</td>\n",
              "      <td>0.008066</td>\n",
              "    </tr>\n",
              "    <tr>\n",
              "      <th>active_life</th>\n",
              "      <td>-0.001165</td>\n",
              "      <td>-0.486957</td>\n",
              "      <td>-0.329736</td>\n",
              "      <td>-0.332663</td>\n",
              "      <td>-0.134919</td>\n",
              "      <td>-0.092668</td>\n",
              "      <td>NaN</td>\n",
              "      <td>0.881799</td>\n",
              "      <td>0.574532</td>\n",
              "      <td>0.858836</td>\n",
              "      <td>0.826648</td>\n",
              "      <td>0.678515</td>\n",
              "      <td>0.800994</td>\n",
              "      <td>0.785920</td>\n",
              "      <td>1.000000</td>\n",
              "      <td>-0.081159</td>\n",
              "      <td>-0.632052</td>\n",
              "      <td>0.323985</td>\n",
              "      <td>-0.057646</td>\n",
              "      <td>0.030911</td>\n",
              "      <td>0.007675</td>\n",
              "      <td>0.235246</td>\n",
              "      <td>0.028759</td>\n",
              "    </tr>\n",
              "    <tr>\n",
              "      <th>median_age</th>\n",
              "      <td>0.126335</td>\n",
              "      <td>0.133711</td>\n",
              "      <td>0.095844</td>\n",
              "      <td>0.109811</td>\n",
              "      <td>-0.237152</td>\n",
              "      <td>0.099140</td>\n",
              "      <td>NaN</td>\n",
              "      <td>-0.063816</td>\n",
              "      <td>-0.022377</td>\n",
              "      <td>-0.028611</td>\n",
              "      <td>0.026400</td>\n",
              "      <td>0.032339</td>\n",
              "      <td>-0.014640</td>\n",
              "      <td>-0.002961</td>\n",
              "      <td>-0.081159</td>\n",
              "      <td>1.000000</td>\n",
              "      <td>0.045555</td>\n",
              "      <td>0.169749</td>\n",
              "      <td>0.215435</td>\n",
              "      <td>0.232503</td>\n",
              "      <td>-0.002861</td>\n",
              "      <td>0.071455</td>\n",
              "      <td>-0.118490</td>\n",
              "    </tr>\n",
              "    <tr>\n",
              "      <th>married</th>\n",
              "      <td>0.200494</td>\n",
              "      <td>0.643240</td>\n",
              "      <td>0.442225</td>\n",
              "      <td>0.480167</td>\n",
              "      <td>0.038208</td>\n",
              "      <td>0.122028</td>\n",
              "      <td>NaN</td>\n",
              "      <td>-0.615584</td>\n",
              "      <td>-0.508793</td>\n",
              "      <td>-0.568811</td>\n",
              "      <td>-0.581850</td>\n",
              "      <td>-0.454072</td>\n",
              "      <td>-0.554533</td>\n",
              "      <td>-0.510331</td>\n",
              "      <td>-0.632052</td>\n",
              "      <td>0.045555</td>\n",
              "      <td>1.000000</td>\n",
              "      <td>-0.143461</td>\n",
              "      <td>0.305330</td>\n",
              "      <td>0.233701</td>\n",
              "      <td>0.169439</td>\n",
              "      <td>-0.212870</td>\n",
              "      <td>-0.134787</td>\n",
              "    </tr>\n",
              "    <tr>\n",
              "      <th>college_grad</th>\n",
              "      <td>0.268577</td>\n",
              "      <td>-0.082354</td>\n",
              "      <td>0.016097</td>\n",
              "      <td>0.065343</td>\n",
              "      <td>-0.014204</td>\n",
              "      <td>-0.030725</td>\n",
              "      <td>NaN</td>\n",
              "      <td>0.214260</td>\n",
              "      <td>-0.006025</td>\n",
              "      <td>0.253717</td>\n",
              "      <td>0.266652</td>\n",
              "      <td>0.177383</td>\n",
              "      <td>0.239129</td>\n",
              "      <td>0.177066</td>\n",
              "      <td>0.323985</td>\n",
              "      <td>0.169749</td>\n",
              "      <td>-0.143461</td>\n",
              "      <td>1.000000</td>\n",
              "      <td>0.287933</td>\n",
              "      <td>0.326057</td>\n",
              "      <td>0.400306</td>\n",
              "      <td>0.049756</td>\n",
              "      <td>-0.189932</td>\n",
              "    </tr>\n",
              "    <tr>\n",
              "      <th>property_tax</th>\n",
              "      <td>0.535148</td>\n",
              "      <td>0.547643</td>\n",
              "      <td>0.525776</td>\n",
              "      <td>0.660264</td>\n",
              "      <td>-0.046504</td>\n",
              "      <td>0.165800</td>\n",
              "      <td>NaN</td>\n",
              "      <td>-0.100821</td>\n",
              "      <td>-0.159506</td>\n",
              "      <td>-0.054386</td>\n",
              "      <td>-0.044410</td>\n",
              "      <td>-0.040556</td>\n",
              "      <td>-0.066346</td>\n",
              "      <td>-0.057293</td>\n",
              "      <td>-0.057646</td>\n",
              "      <td>0.215435</td>\n",
              "      <td>0.305330</td>\n",
              "      <td>0.287933</td>\n",
              "      <td>1.000000</td>\n",
              "      <td>0.984724</td>\n",
              "      <td>0.237455</td>\n",
              "      <td>0.037342</td>\n",
              "      <td>-0.257703</td>\n",
              "    </tr>\n",
              "    <tr>\n",
              "      <th>insurance</th>\n",
              "      <td>0.532947</td>\n",
              "      <td>0.485776</td>\n",
              "      <td>0.475430</td>\n",
              "      <td>0.594049</td>\n",
              "      <td>-0.109521</td>\n",
              "      <td>0.146579</td>\n",
              "      <td>NaN</td>\n",
              "      <td>-0.019925</td>\n",
              "      <td>-0.093974</td>\n",
              "      <td>0.024551</td>\n",
              "      <td>0.036502</td>\n",
              "      <td>0.018846</td>\n",
              "      <td>0.015380</td>\n",
              "      <td>0.010980</td>\n",
              "      <td>0.030911</td>\n",
              "      <td>0.232503</td>\n",
              "      <td>0.233701</td>\n",
              "      <td>0.326057</td>\n",
              "      <td>0.984724</td>\n",
              "      <td>1.000000</td>\n",
              "      <td>0.234889</td>\n",
              "      <td>0.056985</td>\n",
              "      <td>-0.254706</td>\n",
              "    </tr>\n",
              "    <tr>\n",
              "      <th>median_school</th>\n",
              "      <td>0.175762</td>\n",
              "      <td>0.137309</td>\n",
              "      <td>0.163365</td>\n",
              "      <td>0.220669</td>\n",
              "      <td>0.155835</td>\n",
              "      <td>0.096551</td>\n",
              "      <td>NaN</td>\n",
              "      <td>-0.068425</td>\n",
              "      <td>-0.354553</td>\n",
              "      <td>-0.036948</td>\n",
              "      <td>-0.027868</td>\n",
              "      <td>-0.048058</td>\n",
              "      <td>-0.138266</td>\n",
              "      <td>-0.098727</td>\n",
              "      <td>0.007675</td>\n",
              "      <td>-0.002861</td>\n",
              "      <td>0.169439</td>\n",
              "      <td>0.400306</td>\n",
              "      <td>0.237455</td>\n",
              "      <td>0.234889</td>\n",
              "      <td>1.000000</td>\n",
              "      <td>-0.145572</td>\n",
              "      <td>-0.167141</td>\n",
              "    </tr>\n",
              "    <tr>\n",
              "      <th>num_schools</th>\n",
              "      <td>-0.014380</td>\n",
              "      <td>-0.124359</td>\n",
              "      <td>-0.088299</td>\n",
              "      <td>-0.102032</td>\n",
              "      <td>-0.188106</td>\n",
              "      <td>-0.031535</td>\n",
              "      <td>NaN</td>\n",
              "      <td>0.251171</td>\n",
              "      <td>0.272856</td>\n",
              "      <td>0.196399</td>\n",
              "      <td>0.224312</td>\n",
              "      <td>0.228988</td>\n",
              "      <td>0.214163</td>\n",
              "      <td>0.262651</td>\n",
              "      <td>0.235246</td>\n",
              "      <td>0.071455</td>\n",
              "      <td>-0.212870</td>\n",
              "      <td>0.049756</td>\n",
              "      <td>0.037342</td>\n",
              "      <td>0.056985</td>\n",
              "      <td>-0.145572</td>\n",
              "      <td>1.000000</td>\n",
              "      <td>0.007361</td>\n",
              "    </tr>\n",
              "    <tr>\n",
              "      <th>tx_year</th>\n",
              "      <td>0.108782</td>\n",
              "      <td>-0.174081</td>\n",
              "      <td>-0.132110</td>\n",
              "      <td>-0.236190</td>\n",
              "      <td>-0.043301</td>\n",
              "      <td>-0.048207</td>\n",
              "      <td>NaN</td>\n",
              "      <td>0.044739</td>\n",
              "      <td>0.115674</td>\n",
              "      <td>0.027495</td>\n",
              "      <td>0.013558</td>\n",
              "      <td>-0.000324</td>\n",
              "      <td>0.034356</td>\n",
              "      <td>0.008066</td>\n",
              "      <td>0.028759</td>\n",
              "      <td>-0.118490</td>\n",
              "      <td>-0.134787</td>\n",
              "      <td>-0.189932</td>\n",
              "      <td>-0.257703</td>\n",
              "      <td>-0.254706</td>\n",
              "      <td>-0.167141</td>\n",
              "      <td>0.007361</td>\n",
              "      <td>1.000000</td>\n",
              "    </tr>\n",
              "  </tbody>\n",
              "</table>\n",
              "</div>"
            ],
            "text/plain": [
              "                    tx_price      beds  ...  num_schools   tx_year\n",
              "tx_price            1.000000  0.384046  ...    -0.014380  0.108782\n",
              "beds                0.384046  1.000000  ...    -0.124359 -0.174081\n",
              "baths               0.389375  0.644572  ...    -0.088299 -0.132110\n",
              "sqft                0.469573  0.691039  ...    -0.102032 -0.236190\n",
              "year_built          0.033138 -0.011844  ...    -0.188106 -0.043301\n",
              "lot_size            0.130558  0.164399  ...    -0.031535 -0.048207\n",
              "basement                 NaN       NaN  ...          NaN       NaN\n",
              "restaurants        -0.038027 -0.495834  ...     0.251171  0.044739\n",
              "groceries          -0.094314 -0.421412  ...     0.272856  0.115674\n",
              "nightlife           0.009361 -0.440844  ...     0.196399  0.027495\n",
              "cafes              -0.001398 -0.464289  ...     0.224312  0.013558\n",
              "shopping           -0.038246 -0.388670  ...     0.228988 -0.000324\n",
              "arts_entertainment -0.021076 -0.442168  ...     0.214163  0.034356\n",
              "beauty_spas        -0.054349 -0.419832  ...     0.262651  0.008066\n",
              "active_life        -0.001165 -0.486957  ...     0.235246  0.028759\n",
              "median_age          0.126335  0.133711  ...     0.071455 -0.118490\n",
              "married             0.200494  0.643240  ...    -0.212870 -0.134787\n",
              "college_grad        0.268577 -0.082354  ...     0.049756 -0.189932\n",
              "property_tax        0.535148  0.547643  ...     0.037342 -0.257703\n",
              "insurance           0.532947  0.485776  ...     0.056985 -0.254706\n",
              "median_school       0.175762  0.137309  ...    -0.145572 -0.167141\n",
              "num_schools        -0.014380 -0.124359  ...     1.000000  0.007361\n",
              "tx_year             0.108782 -0.174081  ...     0.007361  1.000000\n",
              "\n",
              "[23 rows x 23 columns]"
            ]
          },
          "metadata": {
            "tags": []
          },
          "execution_count": 102
        }
      ]
    },
    {
      "cell_type": "markdown",
      "metadata": {
        "id": "zEu1alzqwpcd"
      },
      "source": [
        "#### A lot of numbers make things difficult to read. So let's visualize this.\n",
        "But first, it's important to notice that the correlations for 'basement' all show as NaN. This is expected because right now that feature doesn't vary at all (its standard deviation is 0), as we saw all the way back in step 2. We'll fix this later."
      ]
    },
    {
      "cell_type": "markdown",
      "metadata": {
        "id": "xoM556SlTdpL"
      },
      "source": [
        "1.16. Show the heatmap of the correlation"
      ]
    },
    {
      "cell_type": "code",
      "metadata": {
        "colab": {
          "base_uri": "https://localhost:8080/",
          "height": 579
        },
        "id": "QsYB1N1Ewpcd",
        "outputId": "ce6413a2-bdf6-4517-fb6c-8d0b6a17d074"
      },
      "source": [
        "\n",
        "plt.figure(figsize=(20,15))\n",
        "sns.heatmap(df.corr())"
      ],
      "execution_count": 103,
      "outputs": [
        {
          "output_type": "execute_result",
          "data": {
            "text/plain": [
              "<matplotlib.axes._subplots.AxesSubplot at 0x7fe085fd5250>"
            ]
          },
          "metadata": {
            "tags": []
          },
          "execution_count": 103
        },
        {
          "output_type": "display_data",
          "data": {
            "image/png": "[encoded data removed]",
            "text/plain": [
              "<Figure size 1440x1080 with 2 Axes>"
            ]
          },
          "metadata": {
            "tags": [],
            "needs_background": "light"
          }
        }
      ]
    },
    {
      "cell_type": "markdown",
      "metadata": {
        "id": "L9BGekvcwpcd"
      },
      "source": [
        "**What to look for?**\n",
        "* The colorbar on the right explains the meaning of the heatmap - Dark colors indicate **strong negative correlations** and light colors indicate **strong positive correlations**.\n",
        "* Perhaps the most helpful way to interpret this correlation heatmap is to first find features that are correlated with our target variable by scanning the first column.\n",
        "* In this case, it doesn't look like many features are strongly correlated with the target variable.\n",
        "\n",
        "* Example: there is a strong negative correlation between beds and restaurants, or gloceries and median_schools.\n",
        "* There is a weak positive correlation between 'tx_price' and 'property_tax'."
      ]
    },
    {
      "cell_type": "code",
      "metadata": {
        "colab": {
          "base_uri": "https://localhost:8080/",
          "height": 678
        },
        "id": "dq7Hj-yNwpce",
        "outputId": "493798ee-a572-4e81-bf45-b7bef87b4d26"
      },
      "source": [
        "mask=np.zeros_like(df.corr())\n",
        "mask[np.triu_indices_from(mask)] = True\n",
        "plt.figure(figsize=(10,10))\n",
        "with sns.axes_style(\"white\"):\n",
        "    ax = sns.heatmap(df.corr()*100, mask=mask, fmt='.0f', annot=True, lw=1, cmap=ListedColormap(['green', 'yellow', 'red','blue']))"
      ],
      "execution_count": 104,
      "outputs": [
        {
          "output_type": "display_data",
          "data": {
            "image/png": "[encoded data removed]",
            "text/plain": [
              "<Figure size 720x720 with 2 Axes>"
            ]
          },
          "metadata": {
            "tags": [],
            "needs_background": "light"
          }
        }
      ]
    },
    {
      "cell_type": "markdown",
      "metadata": {
        "id": "9aVxipRwwpce"
      },
      "source": [
        "# Data Cleaning"
      ]
    },
    {
      "cell_type": "markdown",
      "metadata": {
        "id": "oi-6HxQOwpce"
      },
      "source": [
        "1.17. Dropping the duplicates (De-duplication)\n"
      ]
    },
    {
      "cell_type": "code",
      "metadata": {
        "id": "ydk--WtTwpcf",
        "colab": {
          "base_uri": "https://localhost:8080/",
          "height": 694
        },
        "outputId": "ac23df70-7afc-48e6-bf68-826c08b06f5f"
      },
      "source": [
        "df.drop_duplicates()"
      ],
      "execution_count": 105,
      "outputs": [
        {
          "output_type": "execute_result",
          "data": {
            "text/html": [
              "<div>\n",
              "<style scoped>\n",
              "    .dataframe tbody tr th:only-of-type {\n",
              "        vertical-align: middle;\n",
              "    }\n",
              "\n",
              "    .dataframe tbody tr th {\n",
              "        vertical-align: top;\n",
              "    }\n",
              "\n",
              "    .dataframe thead th {\n",
              "        text-align: right;\n",
              "    }\n",
              "</style>\n",
              "<table border=\"1\" class=\"dataframe\">\n",
              "  <thead>\n",
              "    <tr style=\"text-align: right;\">\n",
              "      <th></th>\n",
              "      <th>tx_price</th>\n",
              "      <th>beds</th>\n",
              "      <th>baths</th>\n",
              "      <th>sqft</th>\n",
              "      <th>year_built</th>\n",
              "      <th>lot_size</th>\n",
              "      <th>property_type</th>\n",
              "      <th>exterior_walls</th>\n",
              "      <th>roof</th>\n",
              "      <th>basement</th>\n",
              "      <th>restaurants</th>\n",
              "      <th>groceries</th>\n",
              "      <th>nightlife</th>\n",
              "      <th>cafes</th>\n",
              "      <th>shopping</th>\n",
              "      <th>arts_entertainment</th>\n",
              "      <th>beauty_spas</th>\n",
              "      <th>active_life</th>\n",
              "      <th>median_age</th>\n",
              "      <th>married</th>\n",
              "      <th>college_grad</th>\n",
              "      <th>property_tax</th>\n",
              "      <th>insurance</th>\n",
              "      <th>median_school</th>\n",
              "      <th>num_schools</th>\n",
              "      <th>tx_year</th>\n",
              "    </tr>\n",
              "  </thead>\n",
              "  <tbody>\n",
              "    <tr>\n",
              "      <th>0</th>\n",
              "      <td>295850</td>\n",
              "      <td>1</td>\n",
              "      <td>1</td>\n",
              "      <td>584</td>\n",
              "      <td>2013</td>\n",
              "      <td>0</td>\n",
              "      <td>Apartment / Condo / Townhouse</td>\n",
              "      <td>Wood Siding</td>\n",
              "      <td>NaN</td>\n",
              "      <td>NaN</td>\n",
              "      <td>107</td>\n",
              "      <td>9</td>\n",
              "      <td>30</td>\n",
              "      <td>19</td>\n",
              "      <td>89</td>\n",
              "      <td>6</td>\n",
              "      <td>47</td>\n",
              "      <td>58</td>\n",
              "      <td>33.0</td>\n",
              "      <td>65.0</td>\n",
              "      <td>84.0</td>\n",
              "      <td>234.0</td>\n",
              "      <td>81.0</td>\n",
              "      <td>9.0</td>\n",
              "      <td>3.0</td>\n",
              "      <td>2013</td>\n",
              "    </tr>\n",
              "    <tr>\n",
              "      <th>1</th>\n",
              "      <td>216500</td>\n",
              "      <td>1</td>\n",
              "      <td>1</td>\n",
              "      <td>612</td>\n",
              "      <td>1965</td>\n",
              "      <td>0</td>\n",
              "      <td>Apartment / Condo / Townhouse</td>\n",
              "      <td>Brick</td>\n",
              "      <td>Composition Shingle</td>\n",
              "      <td>1.0</td>\n",
              "      <td>105</td>\n",
              "      <td>15</td>\n",
              "      <td>6</td>\n",
              "      <td>13</td>\n",
              "      <td>87</td>\n",
              "      <td>2</td>\n",
              "      <td>26</td>\n",
              "      <td>14</td>\n",
              "      <td>39.0</td>\n",
              "      <td>73.0</td>\n",
              "      <td>69.0</td>\n",
              "      <td>169.0</td>\n",
              "      <td>51.0</td>\n",
              "      <td>3.0</td>\n",
              "      <td>3.0</td>\n",
              "      <td>2006</td>\n",
              "    </tr>\n",
              "    <tr>\n",
              "      <th>2</th>\n",
              "      <td>279900</td>\n",
              "      <td>1</td>\n",
              "      <td>1</td>\n",
              "      <td>615</td>\n",
              "      <td>1963</td>\n",
              "      <td>0</td>\n",
              "      <td>Apartment / Condo / Townhouse</td>\n",
              "      <td>Wood Siding</td>\n",
              "      <td>NaN</td>\n",
              "      <td>NaN</td>\n",
              "      <td>183</td>\n",
              "      <td>13</td>\n",
              "      <td>31</td>\n",
              "      <td>30</td>\n",
              "      <td>101</td>\n",
              "      <td>10</td>\n",
              "      <td>74</td>\n",
              "      <td>62</td>\n",
              "      <td>28.0</td>\n",
              "      <td>15.0</td>\n",
              "      <td>86.0</td>\n",
              "      <td>216.0</td>\n",
              "      <td>74.0</td>\n",
              "      <td>8.0</td>\n",
              "      <td>3.0</td>\n",
              "      <td>2012</td>\n",
              "    </tr>\n",
              "    <tr>\n",
              "      <th>3</th>\n",
              "      <td>379900</td>\n",
              "      <td>1</td>\n",
              "      <td>1</td>\n",
              "      <td>618</td>\n",
              "      <td>2000</td>\n",
              "      <td>33541</td>\n",
              "      <td>Apartment / Condo / Townhouse</td>\n",
              "      <td>Wood Siding</td>\n",
              "      <td>NaN</td>\n",
              "      <td>NaN</td>\n",
              "      <td>198</td>\n",
              "      <td>9</td>\n",
              "      <td>38</td>\n",
              "      <td>25</td>\n",
              "      <td>127</td>\n",
              "      <td>11</td>\n",
              "      <td>72</td>\n",
              "      <td>83</td>\n",
              "      <td>36.0</td>\n",
              "      <td>25.0</td>\n",
              "      <td>91.0</td>\n",
              "      <td>265.0</td>\n",
              "      <td>92.0</td>\n",
              "      <td>9.0</td>\n",
              "      <td>3.0</td>\n",
              "      <td>2005</td>\n",
              "    </tr>\n",
              "    <tr>\n",
              "      <th>4</th>\n",
              "      <td>340000</td>\n",
              "      <td>1</td>\n",
              "      <td>1</td>\n",
              "      <td>634</td>\n",
              "      <td>1992</td>\n",
              "      <td>0</td>\n",
              "      <td>Apartment / Condo / Townhouse</td>\n",
              "      <td>Brick</td>\n",
              "      <td>NaN</td>\n",
              "      <td>NaN</td>\n",
              "      <td>149</td>\n",
              "      <td>7</td>\n",
              "      <td>22</td>\n",
              "      <td>20</td>\n",
              "      <td>83</td>\n",
              "      <td>10</td>\n",
              "      <td>50</td>\n",
              "      <td>73</td>\n",
              "      <td>37.0</td>\n",
              "      <td>20.0</td>\n",
              "      <td>75.0</td>\n",
              "      <td>88.0</td>\n",
              "      <td>30.0</td>\n",
              "      <td>9.0</td>\n",
              "      <td>3.0</td>\n",
              "      <td>2002</td>\n",
              "    </tr>\n",
              "    <tr>\n",
              "      <th>...</th>\n",
              "      <td>...</td>\n",
              "      <td>...</td>\n",
              "      <td>...</td>\n",
              "      <td>...</td>\n",
              "      <td>...</td>\n",
              "      <td>...</td>\n",
              "      <td>...</td>\n",
              "      <td>...</td>\n",
              "      <td>...</td>\n",
              "      <td>...</td>\n",
              "      <td>...</td>\n",
              "      <td>...</td>\n",
              "      <td>...</td>\n",
              "      <td>...</td>\n",
              "      <td>...</td>\n",
              "      <td>...</td>\n",
              "      <td>...</td>\n",
              "      <td>...</td>\n",
              "      <td>...</td>\n",
              "      <td>...</td>\n",
              "      <td>...</td>\n",
              "      <td>...</td>\n",
              "      <td>...</td>\n",
              "      <td>...</td>\n",
              "      <td>...</td>\n",
              "      <td>...</td>\n",
              "    </tr>\n",
              "    <tr>\n",
              "      <th>1878</th>\n",
              "      <td>385000</td>\n",
              "      <td>5</td>\n",
              "      <td>6</td>\n",
              "      <td>6381</td>\n",
              "      <td>2004</td>\n",
              "      <td>224334</td>\n",
              "      <td>Single-Family</td>\n",
              "      <td>Stucco</td>\n",
              "      <td>Composition Shingle</td>\n",
              "      <td>1.0</td>\n",
              "      <td>0</td>\n",
              "      <td>0</td>\n",
              "      <td>0</td>\n",
              "      <td>0</td>\n",
              "      <td>3</td>\n",
              "      <td>0</td>\n",
              "      <td>0</td>\n",
              "      <td>1</td>\n",
              "      <td>46.0</td>\n",
              "      <td>76.0</td>\n",
              "      <td>87.0</td>\n",
              "      <td>1250.0</td>\n",
              "      <td>381.0</td>\n",
              "      <td>10.0</td>\n",
              "      <td>3.0</td>\n",
              "      <td>2002</td>\n",
              "    </tr>\n",
              "    <tr>\n",
              "      <th>1879</th>\n",
              "      <td>690000</td>\n",
              "      <td>5</td>\n",
              "      <td>6</td>\n",
              "      <td>6501</td>\n",
              "      <td>1956</td>\n",
              "      <td>23086</td>\n",
              "      <td>Single-Family</td>\n",
              "      <td>Brick</td>\n",
              "      <td>Composition Shingle</td>\n",
              "      <td>1.0</td>\n",
              "      <td>45</td>\n",
              "      <td>7</td>\n",
              "      <td>5</td>\n",
              "      <td>7</td>\n",
              "      <td>41</td>\n",
              "      <td>3</td>\n",
              "      <td>61</td>\n",
              "      <td>11</td>\n",
              "      <td>42.0</td>\n",
              "      <td>73.0</td>\n",
              "      <td>61.0</td>\n",
              "      <td>1553.0</td>\n",
              "      <td>473.0</td>\n",
              "      <td>9.0</td>\n",
              "      <td>3.0</td>\n",
              "      <td>2015</td>\n",
              "    </tr>\n",
              "    <tr>\n",
              "      <th>1880</th>\n",
              "      <td>600000</td>\n",
              "      <td>5</td>\n",
              "      <td>6</td>\n",
              "      <td>7064</td>\n",
              "      <td>1995</td>\n",
              "      <td>217800</td>\n",
              "      <td>Single-Family</td>\n",
              "      <td>Metal</td>\n",
              "      <td>Composition Shingle</td>\n",
              "      <td>1.0</td>\n",
              "      <td>5</td>\n",
              "      <td>1</td>\n",
              "      <td>1</td>\n",
              "      <td>1</td>\n",
              "      <td>8</td>\n",
              "      <td>2</td>\n",
              "      <td>1</td>\n",
              "      <td>2</td>\n",
              "      <td>43.0</td>\n",
              "      <td>87.0</td>\n",
              "      <td>66.0</td>\n",
              "      <td>942.0</td>\n",
              "      <td>287.0</td>\n",
              "      <td>8.0</td>\n",
              "      <td>1.0</td>\n",
              "      <td>1999</td>\n",
              "    </tr>\n",
              "    <tr>\n",
              "      <th>1881</th>\n",
              "      <td>759900</td>\n",
              "      <td>5</td>\n",
              "      <td>6</td>\n",
              "      <td>7500</td>\n",
              "      <td>2006</td>\n",
              "      <td>8886</td>\n",
              "      <td>Single-Family</td>\n",
              "      <td>Siding (Alum/Vinyl)</td>\n",
              "      <td>Asphalt</td>\n",
              "      <td>1.0</td>\n",
              "      <td>18</td>\n",
              "      <td>2</td>\n",
              "      <td>4</td>\n",
              "      <td>0</td>\n",
              "      <td>5</td>\n",
              "      <td>1</td>\n",
              "      <td>8</td>\n",
              "      <td>6</td>\n",
              "      <td>43.0</td>\n",
              "      <td>61.0</td>\n",
              "      <td>51.0</td>\n",
              "      <td>803.0</td>\n",
              "      <td>245.0</td>\n",
              "      <td>5.0</td>\n",
              "      <td>2.0</td>\n",
              "      <td>2009</td>\n",
              "    </tr>\n",
              "    <tr>\n",
              "      <th>1882</th>\n",
              "      <td>735000</td>\n",
              "      <td>5</td>\n",
              "      <td>6</td>\n",
              "      <td>7515</td>\n",
              "      <td>1958</td>\n",
              "      <td>10497</td>\n",
              "      <td>Single-Family</td>\n",
              "      <td>Brick</td>\n",
              "      <td>Composition Shingle</td>\n",
              "      <td>1.0</td>\n",
              "      <td>0</td>\n",
              "      <td>0</td>\n",
              "      <td>0</td>\n",
              "      <td>1</td>\n",
              "      <td>2</td>\n",
              "      <td>2</td>\n",
              "      <td>0</td>\n",
              "      <td>5</td>\n",
              "      <td>37.0</td>\n",
              "      <td>80.0</td>\n",
              "      <td>86.0</td>\n",
              "      <td>1459.0</td>\n",
              "      <td>444.0</td>\n",
              "      <td>9.0</td>\n",
              "      <td>3.0</td>\n",
              "      <td>2015</td>\n",
              "    </tr>\n",
              "  </tbody>\n",
              "</table>\n",
              "<p>1883 rows × 26 columns</p>\n",
              "</div>"
            ],
            "text/plain": [
              "      tx_price  beds  baths  ...  median_school  num_schools  tx_year\n",
              "0       295850     1      1  ...            9.0          3.0     2013\n",
              "1       216500     1      1  ...            3.0          3.0     2006\n",
              "2       279900     1      1  ...            8.0          3.0     2012\n",
              "3       379900     1      1  ...            9.0          3.0     2005\n",
              "4       340000     1      1  ...            9.0          3.0     2002\n",
              "...        ...   ...    ...  ...            ...          ...      ...\n",
              "1878    385000     5      6  ...           10.0          3.0     2002\n",
              "1879    690000     5      6  ...            9.0          3.0     2015\n",
              "1880    600000     5      6  ...            8.0          1.0     1999\n",
              "1881    759900     5      6  ...            5.0          2.0     2009\n",
              "1882    735000     5      6  ...            9.0          3.0     2015\n",
              "\n",
              "[1883 rows x 26 columns]"
            ]
          },
          "metadata": {
            "tags": []
          },
          "execution_count": 105
        }
      ]
    },
    {
      "cell_type": "markdown",
      "metadata": {
        "id": "B2eQVQguwpcf"
      },
      "source": [
        "It looks like we didn't have any duplicates in our original dataset. Even so, it's a good idea to check this as an easy first step for cleaning your dataset."
      ]
    },
    {
      "cell_type": "markdown",
      "metadata": {
        "id": "0gB7ov0Qwpcf"
      },
      "source": [
        "## Fix structural errors\n",
        "* The basement feature has some nan values, to handle them:"
      ]
    },
    {
      "cell_type": "code",
      "metadata": {
        "colab": {
          "base_uri": "https://localhost:8080/"
        },
        "id": "5rDnOPeowpcf",
        "outputId": "3cea0908-3df6-494c-fa84-b4c975971d54"
      },
      "source": [
        "df.basement.unique()"
      ],
      "execution_count": 106,
      "outputs": [
        {
          "output_type": "execute_result",
          "data": {
            "text/plain": [
              "array([nan,  1.])"
            ]
          },
          "metadata": {
            "tags": []
          },
          "execution_count": 106
        }
      ]
    },
    {
      "cell_type": "markdown",
      "metadata": {
        "id": "Js-CFy4cwpcg"
      },
      "source": [
        "* Even though NaN represents \"missing\" values, those are actually meant to indicate properties without basements.\n",
        "* Fill missing 'basement' values with the value 0 to turn 'basement' into a true indicator variable."
      ]
    },
    {
      "cell_type": "code",
      "metadata": {
        "collapsed": true,
        "id": "g3CLkAxpwpcg"
      },
      "source": [
        "df.basement.fillna(0, inplace=True)"
      ],
      "execution_count": 107,
      "outputs": []
    },
    {
      "cell_type": "code",
      "metadata": {
        "colab": {
          "base_uri": "https://localhost:8080/"
        },
        "id": "w8aVx6rvwpcg",
        "outputId": "18b453f8-d5d7-4b1e-8653-aece00b69000"
      },
      "source": [
        "df.basement.unique()"
      ],
      "execution_count": 108,
      "outputs": [
        {
          "output_type": "execute_result",
          "data": {
            "text/plain": [
              "array([0., 1.])"
            ]
          },
          "metadata": {
            "tags": []
          },
          "execution_count": 108
        }
      ]
    },
    {
      "cell_type": "markdown",
      "metadata": {
        "id": "4u8kPPJ6wpcj"
      },
      "source": [
        "##  Typos and capitalization"
      ]
    },
    {
      "cell_type": "markdown",
      "metadata": {
        "id": "Qut-SrqGT9qe"
      },
      "source": [
        "1.18. Plot the Class distributions for `roof` (counter plot)"
      ]
    },
    {
      "cell_type": "code",
      "metadata": {
        "colab": {
          "base_uri": "https://localhost:8080/",
          "height": 296
        },
        "id": "88JL3YZpwpcj",
        "outputId": "30782689-9ed8-48ad-93e2-16fa40431d79"
      },
      "source": [
        "# Class distributions for 'roof'\n",
        "sns.countplot(y='roof', data=df)"
      ],
      "execution_count": 109,
      "outputs": [
        {
          "output_type": "execute_result",
          "data": {
            "text/plain": [
              "<matplotlib.axes._subplots.AxesSubplot at 0x7fe0862a8310>"
            ]
          },
          "metadata": {
            "tags": []
          },
          "execution_count": 109
        },
        {
          "output_type": "display_data",
          "data": {
            "image/png": "[encoded data removed]",
            "text/plain": [
              "<Figure size 432x288 with 1 Axes>"
            ]
          },
          "metadata": {
            "tags": [],
            "needs_background": "light"
          }
        }
      ]
    },
    {
      "cell_type": "markdown",
      "metadata": {
        "id": "xmnAQaR7wpcj"
      },
      "source": [
        "Using this plot, we can easily catch typos and inconsistent capitalization. For example:\n",
        "* 'composition' should be 'Composition'\n",
        "* 'asphalt' should be 'Asphalt'\n",
        "* 'shake-shingle' should be 'Shake Shingle'\n",
        "* 'asphalt,shake-shingle' could probably just be 'Shake Shingle'"
      ]
    },
    {
      "cell_type": "code",
      "metadata": {
        "collapsed": true,
        "id": "Bwd-XCzhwpck"
      },
      "source": [
        "df.roof.replace('composition', 'Composition', inplace=True)\n",
        "df.roof.replace('asphalt', 'Asphalt', inplace=True)\n",
        "df.roof.replace(['shake-shingle', 'asphalt,shake-shingle'], 'Shake Shingle', inplace=True)"
      ],
      "execution_count": 110,
      "outputs": []
    },
    {
      "cell_type": "markdown",
      "metadata": {
        "id": "pQmQ6vgEUTZe"
      },
      "source": [
        "1.19. Plot the Class distributions for roof after the modifications (counter plot)"
      ]
    },
    {
      "cell_type": "code",
      "metadata": {
        "colab": {
          "base_uri": "https://localhost:8080/",
          "height": 296
        },
        "id": "PBDCfH-7wpck",
        "outputId": "9a8acdf0-1e84-4327-dd65-6bb237e4229f"
      },
      "source": [
        "# Class distribution for 'roof' after the modifications\n",
        "sns.countplot(y='roof', data=df)"
      ],
      "execution_count": 111,
      "outputs": [
        {
          "output_type": "execute_result",
          "data": {
            "text/plain": [
              "<matplotlib.axes._subplots.AxesSubplot at 0x7fe0862d0ed0>"
            ]
          },
          "metadata": {
            "tags": []
          },
          "execution_count": 111
        },
        {
          "output_type": "display_data",
          "data": {
            "image/png": "[encoded data removed]",
            "text/plain": [
              "<Figure size 432x288 with 1 Axes>"
            ]
          },
          "metadata": {
            "tags": [],
            "needs_background": "light"
          }
        }
      ]
    },
    {
      "cell_type": "markdown",
      "metadata": {
        "id": "fN-J_ZTkwpcl"
      },
      "source": [
        "##  Mislabeled classes\n",
        "Finally, we'll check for classes that are labeled as separate classes when they should really be the same.\n",
        "* e.g. If 'N/A' and 'Not Applicable' appear as two separate classes, we should combine them.\n",
        "* let's plot the class distributions for 'exterior_walls':"
      ]
    },
    {
      "cell_type": "code",
      "metadata": {
        "colab": {
          "base_uri": "https://localhost:8080/",
          "height": 296
        },
        "id": "8X10wlNLwpcm",
        "outputId": "d6e219a2-6df1-4e3a-ed8b-1256f4c29fd6"
      },
      "source": [
        "sns.countplot(y='exterior_walls', data=df)"
      ],
      "execution_count": 112,
      "outputs": [
        {
          "output_type": "execute_result",
          "data": {
            "text/plain": [
              "<matplotlib.axes._subplots.AxesSubplot at 0x7fe085f7e510>"
            ]
          },
          "metadata": {
            "tags": []
          },
          "execution_count": 112
        },
        {
          "output_type": "display_data",
          "data": {
            "image/png": "[encoded data removed]",
            "text/plain": [
              "<Figure size 432x288 with 1 Axes>"
            ]
          },
          "metadata": {
            "tags": [],
            "needs_background": "light"
          }
        }
      ]
    },
    {
      "cell_type": "markdown",
      "metadata": {
        "id": "H-K75FF_wpcm"
      },
      "source": [
        "Using that chart, we can easily catch mislabeled classes. For example\n",
        "* 'Rock, Stone' should be 'Masonry'\n",
        "* 'Concrete' and 'Block' should both just be 'Concrete Block'"
      ]
    },
    {
      "cell_type": "code",
      "metadata": {
        "colab": {
          "base_uri": "https://localhost:8080/",
          "height": 296
        },
        "id": "AvHJhZL8wpcn",
        "outputId": "4fe7efc3-031d-4fb5-a6db-9d125da3d76c"
      },
      "source": [
        "df.exterior_walls.replace(['Rock, Stone'], 'Masonry', inplace=True)\n",
        "df.exterior_walls.replace(['Concrete', 'Block'], 'Concrete Block', inplace=True)\n",
        "sns.countplot(y='exterior_walls', data=df)"
      ],
      "execution_count": 113,
      "outputs": [
        {
          "output_type": "execute_result",
          "data": {
            "text/plain": [
              "<matplotlib.axes._subplots.AxesSubplot at 0x7fe0864b1090>"
            ]
          },
          "metadata": {
            "tags": []
          },
          "execution_count": 113
        },
        {
          "output_type": "display_data",
          "data": {
            "image/png": "[encoded data removed]",
            "text/plain": [
              "<Figure size 432x288 with 1 Axes>"
            ]
          },
          "metadata": {
            "tags": [],
            "needs_background": "light"
          }
        }
      ]
    },
    {
      "cell_type": "markdown",
      "metadata": {
        "id": "kGzNf3WPwpcn"
      },
      "source": [
        "## Removing Outliers\n",
        "* Outliers can cause problems with certain types of models.\n",
        "* Boxplots are a nice way to detect outliers\n",
        "* Let's start with a box plot of your target variable, since that's what you're actually trying to predict."
      ]
    },
    {
      "cell_type": "code",
      "metadata": {
        "colab": {
          "base_uri": "https://localhost:8080/",
          "height": 297
        },
        "id": "IlJggMADwpcn",
        "outputId": "ab351a8d-c0ed-45e1-e27f-a0870f034253"
      },
      "source": [
        "sns.boxplot(df.tx_price)"
      ],
      "execution_count": 114,
      "outputs": [
        {
          "output_type": "execute_result",
          "data": {
            "text/plain": [
              "<matplotlib.axes._subplots.AxesSubplot at 0x7fe085f7e650>"
            ]
          },
          "metadata": {
            "tags": []
          },
          "execution_count": 114
        },
        {
          "output_type": "display_data",
          "data": {
            "image/png": "[encoded data removed]",
            "text/plain": [
              "<Figure size 432x288 with 1 Axes>"
            ]
          },
          "metadata": {
            "tags": [],
            "needs_background": "light"
          }
        }
      ]
    },
    {
      "cell_type": "markdown",
      "metadata": {
        "id": "8kxcgIFOwpcn"
      },
      "source": [
        "**Interpretation**\n",
        "\n",
        "* The two vertical bars on the ends are the min and max values. All properties sold for between \\$200,000 and \\$800,000.\n",
        "* The box in the middle is the interquartile range (25th percentile to 75th percentile).\n",
        "* Half of all observations fall in that box.\n",
        "* Finally, the vertical bar in the middle of the box is the median."
      ]
    },
    {
      "cell_type": "code",
      "metadata": {
        "colab": {
          "base_uri": "https://localhost:8080/",
          "height": 296
        },
        "id": "zH11HNCowpco",
        "outputId": "4ff0de1f-1416-4596-db21-83a8f8a94018"
      },
      "source": [
        "## Checking outliers in number of bedrooms\n",
        "sns.boxplot(df.beds)"
      ],
      "execution_count": 115,
      "outputs": [
        {
          "output_type": "execute_result",
          "data": {
            "text/plain": [
              "<matplotlib.axes._subplots.AxesSubplot at 0x7fe0863e3910>"
            ]
          },
          "metadata": {
            "tags": []
          },
          "execution_count": 115
        },
        {
          "output_type": "display_data",
          "data": {
            "image/png": "[encoded data removed]",
            "text/plain": [
              "<Figure size 432x288 with 1 Axes>"
            ]
          },
          "metadata": {
            "tags": [],
            "needs_background": "light"
          }
        }
      ]
    },
    {
      "cell_type": "code",
      "metadata": {
        "colab": {
          "base_uri": "https://localhost:8080/",
          "height": 296
        },
        "id": "O3u4JdDywpco",
        "outputId": "6ee18ec0-e7b4-4911-8891-050e8e15d4c1"
      },
      "source": [
        "## Checking outliers in size of the house\n",
        "sns.boxplot(df.sqft)"
      ],
      "execution_count": 116,
      "outputs": [
        {
          "output_type": "execute_result",
          "data": {
            "text/plain": [
              "<matplotlib.axes._subplots.AxesSubplot at 0x7fe08651fc10>"
            ]
          },
          "metadata": {
            "tags": []
          },
          "execution_count": 116
        },
        {
          "output_type": "display_data",
          "data": {
            "image/png": "[encoded data removed]",
            "text/plain": [
              "<Figure size 432x288 with 1 Axes>"
            ]
          },
          "metadata": {
            "tags": [],
            "needs_background": "light"
          }
        }
      ]
    },
    {
      "cell_type": "code",
      "metadata": {
        "colab": {
          "base_uri": "https://localhost:8080/",
          "height": 297
        },
        "id": "K4u8R3XLwpco",
        "outputId": "4aee2354-20bd-4f98-f584-a5f3eaeaaf81"
      },
      "source": [
        "## Checking outliers in lot size\n",
        "sns.boxplot(df.lot_size)"
      ],
      "execution_count": 117,
      "outputs": [
        {
          "output_type": "execute_result",
          "data": {
            "text/plain": [
              "<matplotlib.axes._subplots.AxesSubplot at 0x7fe086836710>"
            ]
          },
          "metadata": {
            "tags": []
          },
          "execution_count": 117
        },
        {
          "output_type": "display_data",
          "data": {
            "image/png": "[encoded data removed]",
            "text/plain": [
              "<Figure size 432x288 with 1 Axes>"
            ]
          },
          "metadata": {
            "tags": [],
            "needs_background": "light"
          }
        }
      ]
    },
    {
      "cell_type": "markdown",
      "metadata": {
        "id": "ljgLRJJGwpco"
      },
      "source": [
        "Look at the dot on the extreme right. This might indicate some erroneous point.\n",
        "\n",
        "Let's look at the largest 5 lot sizes just to confirm."
      ]
    },
    {
      "cell_type": "code",
      "metadata": {
        "colab": {
          "base_uri": "https://localhost:8080/"
        },
        "id": "zkMrWC2Wwpcp",
        "outputId": "a7d36b14-f10c-46ce-d655-90652b3e4f43"
      },
      "source": [
        "df.lot_size.sort_values(ascending=False).head()"
      ],
      "execution_count": 118,
      "outputs": [
        {
          "output_type": "execute_result",
          "data": {
            "text/plain": [
              "102     1220551\n",
              "1111     436471\n",
              "1876     436035\n",
              "1832     436035\n",
              "1115     435600\n",
              "Name: lot_size, dtype: int64"
            ]
          },
          "metadata": {
            "tags": []
          },
          "execution_count": 118
        }
      ]
    },
    {
      "cell_type": "markdown",
      "metadata": {
        "id": "5M1UvfBSwpcp"
      },
      "source": [
        "The largest property has a lot_size of 1,220,551 sqft. The next largest has a lot_size of only 436,471 sqft.\n",
        "\n",
        "Because it's unlikely the REIT will ever invest in properties with lots that large, and because it's the only one in the dataset, let's remove it so it doesn't interfere with our ability to model normal size properties."
      ]
    },
    {
      "cell_type": "markdown",
      "metadata": {
        "id": "c0zos3t2U6f8"
      },
      "source": [
        "1.20. Remove observations with lot_size greater than 500,000 sqft."
      ]
    },
    {
      "cell_type": "code",
      "metadata": {
        "id": "dRec-d8vwpcp"
      },
      "source": [
        "## Remove observations with lot_size greater than 500,000 sqft.\n",
        "df = df[df['sqft']<500000]"
      ],
      "execution_count": 119,
      "outputs": []
    },
    {
      "cell_type": "code",
      "metadata": {
        "colab": {
          "base_uri": "https://localhost:8080/",
          "height": 297
        },
        "id": "q0IrTy0Rwpcq",
        "outputId": "141962f8-c1f4-45cb-c81b-eed93f274106"
      },
      "source": [
        "## Plotting the boxplot of lot size after the change\n",
        "sns.boxplot(df.lot_size)"
      ],
      "execution_count": 120,
      "outputs": [
        {
          "output_type": "execute_result",
          "data": {
            "text/plain": [
              "<matplotlib.axes._subplots.AxesSubplot at 0x7fe085d87fd0>"
            ]
          },
          "metadata": {
            "tags": []
          },
          "execution_count": 120
        },
        {
          "output_type": "display_data",
          "data": {
            "image/png": "[encoded data removed]",
            "text/plain": [
              "<Figure size 432x288 with 1 Axes>"
            ]
          },
          "metadata": {
            "tags": [],
            "needs_background": "light"
          }
        }
      ]
    },
    {
      "cell_type": "markdown",
      "metadata": {
        "id": "Nz9v3U-Ewpcq"
      },
      "source": [
        "**Note:** Even though visually the plot looks the same but the x-axis dimensions have changed"
      ]
    },
    {
      "cell_type": "markdown",
      "metadata": {
        "id": "TWTv2vqjwpcq"
      },
      "source": [
        "##  Label missing categorical data\n",
        "You cannot simply ignore missing values in your dataset. You must handle them in some way for the very practical reason that Scikit-Learn algorithms do not accept missing values."
      ]
    },
    {
      "cell_type": "markdown",
      "metadata": {
        "id": "NRjPS-KaUsg-"
      },
      "source": [
        "1.21. Display number of missing values by categorical feature"
      ]
    },
    {
      "cell_type": "code",
      "metadata": {
        "id": "nkPXURfFwpcr",
        "colab": {
          "base_uri": "https://localhost:8080/"
        },
        "outputId": "a6e8c1a2-58b0-4261-8c54-3640d70435d3"
      },
      "source": [
        "# Display number of missing values by categorical feature\n",
        "df.select_dtypes(include=['object']).isnull().sum()"
      ],
      "execution_count": 121,
      "outputs": [
        {
          "output_type": "execute_result",
          "data": {
            "text/plain": [
              "property_type       0\n",
              "exterior_walls    223\n",
              "roof              354\n",
              "dtype: int64"
            ]
          },
          "metadata": {
            "tags": []
          },
          "execution_count": 121
        }
      ]
    },
    {
      "cell_type": "markdown",
      "metadata": {
        "id": "KWZ_MMvnwpcr"
      },
      "source": [
        "#### The best way to handle missing data for categorical features is to simply label them as 'Missing'"
      ]
    },
    {
      "cell_type": "code",
      "metadata": {
        "colab": {
          "base_uri": "https://localhost:8080/"
        },
        "id": "TrEMTehHwpcr",
        "outputId": "0258485e-bfdd-4d37-f08f-a800c4d3ca16"
      },
      "source": [
        "df['exterior_walls'] = df['exterior_walls'].fillna('Missing')\n",
        "df['roof'] = df['roof'].fillna('Missing')\n",
        "df.select_dtypes(include=['object']).isnull().sum()"
      ],
      "execution_count": 122,
      "outputs": [
        {
          "output_type": "execute_result",
          "data": {
            "text/plain": [
              "property_type     0\n",
              "exterior_walls    0\n",
              "roof              0\n",
              "dtype: int64"
            ]
          },
          "metadata": {
            "tags": []
          },
          "execution_count": 122
        }
      ]
    },
    {
      "cell_type": "markdown",
      "metadata": {
        "id": "BHDPhSYKwpcr"
      },
      "source": [
        "## 4.7 Flag and fill missing numeric data"
      ]
    },
    {
      "cell_type": "markdown",
      "metadata": {
        "id": "z80foXPcVOxM"
      },
      "source": [
        "1.21. Display number of missing values by numeric feature"
      ]
    },
    {
      "cell_type": "code",
      "metadata": {
        "id": "UCzfsVBHwpcs",
        "colab": {
          "base_uri": "https://localhost:8080/"
        },
        "outputId": "ccb7234f-a4c5-47b0-8c4e-741ab6171650"
      },
      "source": [
        "# Display number of missing values by numeric feature\n",
        "df.select_dtypes(exclude=['object']).isnull().sum()"
      ],
      "execution_count": 123,
      "outputs": [
        {
          "output_type": "execute_result",
          "data": {
            "text/plain": [
              "tx_price              0\n",
              "beds                  0\n",
              "baths                 0\n",
              "sqft                  0\n",
              "year_built            0\n",
              "lot_size              0\n",
              "basement              0\n",
              "restaurants           0\n",
              "groceries             0\n",
              "nightlife             0\n",
              "cafes                 0\n",
              "shopping              0\n",
              "arts_entertainment    0\n",
              "beauty_spas           0\n",
              "active_life           0\n",
              "median_age            0\n",
              "married               0\n",
              "college_grad          0\n",
              "property_tax          0\n",
              "insurance             0\n",
              "median_school         0\n",
              "num_schools           0\n",
              "tx_year               0\n",
              "dtype: int64"
            ]
          },
          "metadata": {
            "tags": []
          },
          "execution_count": 123
        }
      ]
    },
    {
      "cell_type": "markdown",
      "metadata": {
        "id": "6RWzAA2dwpcs"
      },
      "source": [
        "Well, it looks like we don't have any numerical features with missing values in this dataset."
      ]
    },
    {
      "cell_type": "markdown",
      "metadata": {
        "id": "jbs2buijwpcs"
      },
      "source": [
        "### Before we move on to the next module, let's save the new dataframe we worked hard to clean.\n",
        "This makes sure we don't have to re-do all the cleaning after clossing the session"
      ]
    },
    {
      "cell_type": "markdown",
      "metadata": {
        "id": "99rhwrbFVWDb"
      },
      "source": [
        "1.22. Save cleaned dataframe to new file"
      ]
    },
    {
      "cell_type": "code",
      "metadata": {
        "collapsed": true,
        "id": "aSflYIJywpcs"
      },
      "source": [
        "# Save cleaned dataframe to new file\n",
        "#df.to_csv('real_estate_data_clean.csv')"
      ],
      "execution_count": 124,
      "outputs": []
    },
    {
      "cell_type": "markdown",
      "metadata": {
        "id": "bIgwIt_ewpcs"
      },
      "source": [
        "#  Feature Engineering"
      ]
    },
    {
      "cell_type": "markdown",
      "metadata": {
        "id": "uyOO1EY9wpct"
      },
      "source": [
        "##  Indicator variables"
      ]
    },
    {
      "cell_type": "markdown",
      "metadata": {
        "id": "K-a6b-KBwpct"
      },
      "source": [
        "* For example, let's say you knew that homes with 2 bedrooms and 2 bathrooms are especially popular for investors.\n",
        "* Maybe you suspect these types of properties command premium prices. (You don't need to know for sure.)\n",
        "* Create an indicator variable to flag properties with 2 beds and 2 baths and name it 'two_and_two'."
      ]
    },
    {
      "cell_type": "code",
      "metadata": {
        "collapsed": true,
        "id": "_dr8-ZFnwpct"
      },
      "source": [
        "df['two_and_two'] = ((df.beds == 2) & (df.baths == 2)).astype(int)"
      ],
      "execution_count": 125,
      "outputs": []
    },
    {
      "cell_type": "code",
      "metadata": {
        "colab": {
          "base_uri": "https://localhost:8080/"
        },
        "id": "5VbaHwaKwpct",
        "outputId": "5929508d-fc9b-46e3-b5f9-6109904fe383"
      },
      "source": [
        "# Display percent of rows where two_and_two == 1\n",
        "df[df['two_and_two']==1].shape[0]/df.shape[0]"
      ],
      "execution_count": 126,
      "outputs": [
        {
          "output_type": "execute_result",
          "data": {
            "text/plain": [
              "0.09453000531067446"
            ]
          },
          "metadata": {
            "tags": []
          },
          "execution_count": 126
        }
      ]
    },
    {
      "cell_type": "markdown",
      "metadata": {
        "id": "UHIxb__zwpct"
      },
      "source": [
        "The interpretation is that almost 9.5% of the observations in our dataset were for properties with 2 beds and 2 baths."
      ]
    },
    {
      "cell_type": "markdown",
      "metadata": {
        "id": "CykcsKBUwpcu"
      },
      "source": [
        "People might also not take much interest in old properties.Lets figure it out."
      ]
    },
    {
      "cell_type": "code",
      "metadata": {
        "collapsed": true,
        "id": "XQsGMLCXwpcu"
      },
      "source": [
        "df['old_properties'] = (df['year_built'] < 1980) .astype(int)"
      ],
      "execution_count": 127,
      "outputs": []
    },
    {
      "cell_type": "code",
      "metadata": {
        "colab": {
          "base_uri": "https://localhost:8080/"
        },
        "id": "zqveGVUfwpcu",
        "outputId": "f03dc8d3-a708-44c4-ae90-a8645d98140d"
      },
      "source": [
        "# Display percent of rows where old_properties == 1\n",
        "df[df['old_properties']==1].shape[0]/df.shape[0]"
      ],
      "execution_count": 128,
      "outputs": [
        {
          "output_type": "execute_result",
          "data": {
            "text/plain": [
              "0.3786510886882634"
            ]
          },
          "metadata": {
            "tags": []
          },
          "execution_count": 128
        }
      ]
    },
    {
      "cell_type": "markdown",
      "metadata": {
        "id": "wHh9sVepwpcu"
      },
      "source": [
        "Create a new feature containing tax and insurance which a propery holder will have to pay monthly"
      ]
    },
    {
      "cell_type": "code",
      "metadata": {
        "collapsed": true,
        "id": "jkso_0fIwpcu"
      },
      "source": [
        "df['tax_and_insurance'] = df.property_tax + df.insurance"
      ],
      "execution_count": 129,
      "outputs": []
    },
    {
      "cell_type": "markdown",
      "metadata": {
        "id": "mwH1saruwpcv"
      },
      "source": [
        "The interpretation is that almost 9.5% of the observations in our dataset were for properties with 2 beds and 2 baths."
      ]
    },
    {
      "cell_type": "markdown",
      "metadata": {
        "id": "zJ0YiNLewpcv"
      },
      "source": [
        "### Example: housing market recession\n",
        "According to data from Zillow, the lowest housing prices were from 2010 to end of 2013 (country-wide)."
      ]
    },
    {
      "cell_type": "markdown",
      "metadata": {
        "id": "1K0e3SWpwpcv"
      },
      "source": [
        "1.23. Create a new feature called 'during_recession' to indicate if a transaction falls between 2010 and 2013"
      ]
    },
    {
      "cell_type": "code",
      "metadata": {
        "collapsed": true,
        "id": "KiagcWVXwpcv"
      },
      "source": [
        "df['during_recession'] = ((df.tx_year >= 2010) & (df.tx_year <= 2013)).astype(int)\n"
      ],
      "execution_count": 151,
      "outputs": []
    },
    {
      "cell_type": "markdown",
      "metadata": {
        "id": "LERe_wezVydO"
      },
      "source": [
        "1.24. Print percent of transactions where during_recession == 1"
      ]
    },
    {
      "cell_type": "code",
      "metadata": {
        "id": "Ea6jUFAdwpcv",
        "colab": {
          "base_uri": "https://localhost:8080/"
        },
        "outputId": "d60db0de-3752-49d0-c754-7206a261482a"
      },
      "source": [
        "# Print percent of transactions where during_recession == 1\n",
        "df[df['during_recession']==1].shape[0]/df.shape[0]"
      ],
      "execution_count": 152,
      "outputs": [
        {
          "output_type": "execute_result",
          "data": {
            "text/plain": [
              "0.27812113720642767"
            ]
          },
          "metadata": {
            "tags": []
          },
          "execution_count": 152
        }
      ]
    },
    {
      "cell_type": "markdown",
      "metadata": {
        "id": "rOmWMPvqwpcw"
      },
      "source": [
        "## Interaction features\n"
      ]
    },
    {
      "cell_type": "code",
      "metadata": {
        "collapsed": true,
        "id": "pJswzK6Swpcw"
      },
      "source": [
        "# Create a property age feature\n",
        "df['property_age'] = df.tx_year - df.year_built"
      ],
      "execution_count": 132,
      "outputs": []
    },
    {
      "cell_type": "markdown",
      "metadata": {
        "id": "6aC79XhHwpcx"
      },
      "source": [
        "**Note:** 'property_age' denotes the age of the property when it was sold and not how old it is today, since we want to predict the price at the time when the property is sold.\n",
        "\n",
        "Sanity Check: It's always nice to do a quick sanity check after creating a feature, which could save you headaches down the road. For example, 'property_age' should never be less than 0, right?"
      ]
    },
    {
      "cell_type": "code",
      "metadata": {
        "id": "oBJtkjluwpcx",
        "colab": {
          "base_uri": "https://localhost:8080/"
        },
        "outputId": "086d092d-77eb-4571-93dd-45d3b6d74418"
      },
      "source": [
        "print(df.property_age.min())"
      ],
      "execution_count": 133,
      "outputs": [
        {
          "output_type": "stream",
          "text": [
            "-8\n"
          ],
          "name": "stdout"
        }
      ]
    },
    {
      "cell_type": "markdown",
      "metadata": {
        "id": "CRJ4leWIwpcx"
      },
      "source": [
        "Nice find. Something is definitely wrong. Age of property can never be negative.\n",
        "\n",
        "1.24. Number of observations with 'property_age' < 0"
      ]
    },
    {
      "cell_type": "code",
      "metadata": {
        "id": "6UGudWzSwpcx",
        "colab": {
          "base_uri": "https://localhost:8080/"
        },
        "outputId": "a223c3b8-1a87-4108-e27f-0b12ea907b1d"
      },
      "source": [
        "# Number of observations with 'property_age' < 0\n",
        "(df['property_age']<0).count()"
      ],
      "execution_count": 134,
      "outputs": [
        {
          "output_type": "execute_result",
          "data": {
            "text/plain": [
              "1883"
            ]
          },
          "metadata": {
            "tags": []
          },
          "execution_count": 134
        }
      ]
    },
    {
      "cell_type": "markdown",
      "metadata": {
        "id": "Fm228b_dwpcy"
      },
      "source": [
        "* On second thought, it's possible that some home owners bought houses before the construction company built them.\n",
        "* This is not uncommon, especially with single-family homes.\n",
        "* However, for this problem, **we are only interested in houses that already exist** because the REIT only buys existing ones!"
      ]
    },
    {
      "cell_type": "markdown",
      "metadata": {
        "id": "So7o7N3oWLbS"
      },
      "source": [
        "1.25. Remove rows where property_age is less than 0"
      ]
    },
    {
      "cell_type": "code",
      "metadata": {
        "id": "v2nkN2Fnwpcy"
      },
      "source": [
        "# Remove rows where property_age is less than 0\n",
        "df = df[df['property_age']>0]"
      ],
      "execution_count": 135,
      "outputs": []
    },
    {
      "cell_type": "markdown",
      "metadata": {
        "id": "d9-s6Ufpwpcy"
      },
      "source": [
        "Now, let's add another interaction feature. How about the number of quality schools nearby?\n",
        "* We know the number of schools nearby \n",
        "* We also have their median quality score\n",
        "* Let's use this and create a new feature"
      ]
    },
    {
      "cell_type": "code",
      "metadata": {
        "collapsed": true,
        "id": "wRol5IZIwpcz"
      },
      "source": [
        "# Create a school score feature that num_schools * median_school\n",
        "df['school_score'] = df.num_schools * df.median_school"
      ],
      "execution_count": 136,
      "outputs": []
    },
    {
      "cell_type": "code",
      "metadata": {
        "id": "L9elG7CVwpcz",
        "colab": {
          "base_uri": "https://localhost:8080/"
        },
        "outputId": "2f7f5153-3baf-406a-df1a-fd8f9c1eba64"
      },
      "source": [
        "# Display median school score\n",
        "df.school_score.median()"
      ],
      "execution_count": 137,
      "outputs": [
        {
          "output_type": "execute_result",
          "data": {
            "text/plain": [
              "18.0"
            ]
          },
          "metadata": {
            "tags": []
          },
          "execution_count": 137
        }
      ]
    },
    {
      "cell_type": "markdown",
      "metadata": {
        "id": "cB_UEDA7wpcz"
      },
      "source": [
        "*  As we can see almost all properties have basement, this feature won't affect the price of the property much, so we can remove it "
      ]
    },
    {
      "cell_type": "code",
      "metadata": {
        "id": "UtjZxLufwpcz",
        "colab": {
          "base_uri": "https://localhost:8080/",
          "height": 296
        },
        "outputId": "a587984d-0fc3-4de6-e6c5-0941aa814838"
      },
      "source": [
        "sns.countplot(y='basement', data=df)"
      ],
      "execution_count": 138,
      "outputs": [
        {
          "output_type": "execute_result",
          "data": {
            "text/plain": [
              "<matplotlib.axes._subplots.AxesSubplot at 0x7fe085e37350>"
            ]
          },
          "metadata": {
            "tags": []
          },
          "execution_count": 138
        },
        {
          "output_type": "display_data",
          "data": {
            "image/png": "[encoded data removed]",
            "text/plain": [
              "<Figure size 432x288 with 1 Axes>"
            ]
          },
          "metadata": {
            "tags": [],
            "needs_background": "light"
          }
        }
      ]
    },
    {
      "cell_type": "code",
      "metadata": {
        "collapsed": true,
        "id": "o6ryalCawpc0"
      },
      "source": [
        "#dropping the basement column\n",
        "df = df.drop(['basement'], axis=1) "
      ],
      "execution_count": 139,
      "outputs": []
    },
    {
      "cell_type": "markdown",
      "metadata": {
        "id": "APaLGOq3wpc0"
      },
      "source": [
        "* We can also delete some features which are less useful\n",
        "* If we looked at the histogram of nightlife, almost all properties have nightlife within a mile also it has a poor relation with price of property(refer correlation part) so this feature might not be much useful do let's drop it."
      ]
    },
    {
      "cell_type": "code",
      "metadata": {
        "collapsed": true,
        "id": "V-vFYuMZwpc0"
      },
      "source": [
        "df = df.drop(['nightlife'], axis=1) "
      ],
      "execution_count": 140,
      "outputs": []
    },
    {
      "cell_type": "markdown",
      "metadata": {
        "id": "DT7ZFPoNwpc0"
      },
      "source": [
        "##  Handling Sparse Classes\n",
        "The easiest way to check for sparse classes is simply by plotting the distributions of your categorical features. We already did this during exploratory analysis, but since we've done some data cleaning since then, let's plot them again."
      ]
    },
    {
      "cell_type": "code",
      "metadata": {
        "id": "FDaRR1ICwpc0",
        "colab": {
          "base_uri": "https://localhost:8080/",
          "height": 296
        },
        "outputId": "df77139f-3118-4412-a3fe-e73f9852256a"
      },
      "source": [
        "# Bar plot for exterior_walls\n",
        "sns.countplot(y='exterior_walls', data=df)"
      ],
      "execution_count": 141,
      "outputs": [
        {
          "output_type": "execute_result",
          "data": {
            "text/plain": [
              "<matplotlib.axes._subplots.AxesSubplot at 0x7fe0862b9910>"
            ]
          },
          "metadata": {
            "tags": []
          },
          "execution_count": 141
        },
        {
          "output_type": "display_data",
          "data": {
            "image/png": "[encoded data removed]",
            "text/plain": [
              "<Figure size 432x288 with 1 Axes>"
            ]
          },
          "metadata": {
            "tags": [],
            "needs_background": "light"
          }
        }
      ]
    },
    {
      "cell_type": "markdown",
      "metadata": {
        "id": "pJmdHa6Owpc1"
      },
      "source": [
        "Group 'Wood Siding', 'Wood Shingle', and 'Wood' together. Label all of them as 'Wood'."
      ]
    },
    {
      "cell_type": "code",
      "metadata": {
        "collapsed": true,
        "id": "2IeL6MFiwpc1"
      },
      "source": [
        "df.exterior_walls.replace(['Wood Siding', 'Wood Shingle', 'Wood'], 'Wood', inplace=True)"
      ],
      "execution_count": 142,
      "outputs": []
    },
    {
      "cell_type": "markdown",
      "metadata": {
        "id": "llk-ytfdwpc1"
      },
      "source": [
        "Next, we can group the remaining sparse classes into a single 'Other' class, even though there's already an 'Other' class.<br>\n",
        "Let's label 'Stucco', 'Other', 'Asbestos shingle', 'Concrete Block', and 'Masonry' as 'Other':"
      ]
    },
    {
      "cell_type": "code",
      "metadata": {
        "collapsed": true,
        "id": "Sxdh1fpVwpc2"
      },
      "source": [
        "other_exterior_walls = ['Concrete Block', 'Stucco', 'Masonry', 'Other', 'Asbestos shingle']\n",
        "df.exterior_walls.replace(other_exterior_walls, 'Other', inplace=True)"
      ],
      "execution_count": 143,
      "outputs": []
    },
    {
      "cell_type": "markdown",
      "metadata": {
        "id": "pI09jjXiwpc2"
      },
      "source": [
        "Finally, now that we've grouped together sparse classes, let's look at the bar plot for exterior walls again."
      ]
    },
    {
      "cell_type": "code",
      "metadata": {
        "id": "huuJ9u2-wpc2",
        "colab": {
          "base_uri": "https://localhost:8080/",
          "height": 296
        },
        "outputId": "02dc8041-f4ab-4f8d-cefb-930b2dddf5c1"
      },
      "source": [
        "sns.countplot(y='exterior_walls', data=df)"
      ],
      "execution_count": 144,
      "outputs": [
        {
          "output_type": "execute_result",
          "data": {
            "text/plain": [
              "<matplotlib.axes._subplots.AxesSubplot at 0x7fe08b23b110>"
            ]
          },
          "metadata": {
            "tags": []
          },
          "execution_count": 144
        },
        {
          "output_type": "display_data",
          "data": {
            "image/png": "[encoded data removed]",
            "text/plain": [
              "<Figure size 432x288 with 1 Axes>"
            ]
          },
          "metadata": {
            "tags": [],
            "needs_background": "light"
          }
        }
      ]
    },
    {
      "cell_type": "markdown",
      "metadata": {
        "id": "ZrkxUug4wpc2"
      },
      "source": [
        "Similarly we check for 'roof'"
      ]
    },
    {
      "cell_type": "code",
      "metadata": {
        "id": "P4GZYMPPwpc2",
        "colab": {
          "base_uri": "https://localhost:8080/",
          "height": 296
        },
        "outputId": "dc1b21e2-2ca5-462b-ffb9-aae9bf8dd097"
      },
      "source": [
        "sns.countplot(y='roof', data=df)"
      ],
      "execution_count": 145,
      "outputs": [
        {
          "output_type": "execute_result",
          "data": {
            "text/plain": [
              "<matplotlib.axes._subplots.AxesSubplot at 0x7fe08b386d50>"
            ]
          },
          "metadata": {
            "tags": []
          },
          "execution_count": 145
        },
        {
          "output_type": "display_data",
          "data": {
            "image/png": "[encoded data removed]",
            "text/plain": [
              "<Figure size 432x288 with 1 Axes>"
            ]
          },
          "metadata": {
            "tags": [],
            "needs_background": "light"
          }
        }
      ]
    },
    {
      "cell_type": "markdown",
      "metadata": {
        "id": "WbAEIjD5wpc3"
      },
      "source": [
        "Group 'Composition' and 'Wood Shake/ Shingles' into the 'Composition Shingle' class."
      ]
    },
    {
      "cell_type": "code",
      "metadata": {
        "collapsed": true,
        "id": "Bn0-YwdTwpc3"
      },
      "source": [
        "df.roof.replace(['Composition', 'Wood Shake/ Shingles'], 'Composition Shingle', inplace=True)"
      ],
      "execution_count": 146,
      "outputs": []
    },
    {
      "cell_type": "markdown",
      "metadata": {
        "id": "6gx78pb-wpc3"
      },
      "source": [
        "Next, let's group remaining sparse classes into a single 'Other' class.\n",
        "\n",
        "Label 'Other', 'Gravel/Rock', 'Roll Composition', 'Slate', 'Built-up', 'Asbestos', and 'Metal' as 'Other'."
      ]
    },
    {
      "cell_type": "code",
      "metadata": {
        "collapsed": true,
        "id": "hRUnOLolwpc3"
      },
      "source": [
        "other_roof = ['Other', 'Gravel/Rock', 'Roll Composition', 'Slate', 'Built-up', 'Asbestos', 'Metal']\n",
        "df.roof.replace(other_roof, 'Other', inplace=True)"
      ],
      "execution_count": 147,
      "outputs": []
    },
    {
      "cell_type": "markdown",
      "metadata": {
        "id": "b8uFkh6fwpc3"
      },
      "source": [
        "Finally, display bar plot again."
      ]
    },
    {
      "cell_type": "code",
      "metadata": {
        "id": "vrssFU3dwpc3",
        "colab": {
          "base_uri": "https://localhost:8080/",
          "height": 296
        },
        "outputId": "b67e4c0c-4ba3-4cbc-feb7-671da240b85e"
      },
      "source": [
        "sns.countplot(y='roof', data=df)"
      ],
      "execution_count": 148,
      "outputs": [
        {
          "output_type": "execute_result",
          "data": {
            "text/plain": [
              "<matplotlib.axes._subplots.AxesSubplot at 0x7fe08b0b43d0>"
            ]
          },
          "metadata": {
            "tags": []
          },
          "execution_count": 148
        },
        {
          "output_type": "display_data",
          "data": {
            "image/png": "[encoded data removed]",
            "text/plain": [
              "<Figure size 432x288 with 1 Axes>"
            ]
          },
          "metadata": {
            "tags": [],
            "needs_background": "light"
          }
        }
      ]
    },
    {
      "cell_type": "markdown",
      "metadata": {
        "id": "t0xj5K9Xwpc4"
      },
      "source": [
        "**Now these plots look much nicer**"
      ]
    },
    {
      "cell_type": "markdown",
      "metadata": {
        "id": "OjDJwnpCwpc4"
      },
      "source": [
        "## Encode dummy variables (One Hot Encoding)\n",
        "* Machine learning algorithms cannot directly handle categorical features. Specifically, they cannot handle text values.\n",
        "* Therefore, we need to create dummy variables for our categorical features.\n",
        "* *Dummy variables* are a set of binary (0 or 1) features that each represent a single class from a categorical feature."
      ]
    },
    {
      "cell_type": "markdown",
      "metadata": {
        "id": "y7cCp5kKXCYo"
      },
      "source": [
        "1.26. Create a new dataframe with dummy variables for for our categorical features."
      ]
    },
    {
      "cell_type": "code",
      "metadata": {
        "collapsed": true,
        "id": "hzDB-QTAwpc4"
      },
      "source": [
        "# Create a new dataframe with dummy variables for for our categorical features.\n",
        "df = pd.get_dummies(df, columns=['exterior_walls', 'roof', 'property_type'])\n",
        "\n",
        "\n"
      ],
      "execution_count": 153,
      "outputs": []
    },
    {
      "cell_type": "markdown",
      "metadata": {
        "id": "tm-ZqX5uwpc4"
      },
      "source": [
        "**Note:** There are many ways to perform one-hot encoding, you can also use LabelEncoder and OneHotEncoder classes in SKLEARN or use the above pandas function."
      ]
    },
    {
      "cell_type": "code",
      "metadata": {
        "id": "LeTFwhm6wpc4",
        "colab": {
          "base_uri": "https://localhost:8080/",
          "height": 241
        },
        "outputId": "071215e9-9fa5-4c72-9139-273d35819f59"
      },
      "source": [
        "df.head()"
      ],
      "execution_count": 154,
      "outputs": [
        {
          "output_type": "execute_result",
          "data": {
            "text/html": [
              "<div>\n",
              "<style scoped>\n",
              "    .dataframe tbody tr th:only-of-type {\n",
              "        vertical-align: middle;\n",
              "    }\n",
              "\n",
              "    .dataframe tbody tr th {\n",
              "        vertical-align: top;\n",
              "    }\n",
              "\n",
              "    .dataframe thead th {\n",
              "        text-align: right;\n",
              "    }\n",
              "</style>\n",
              "<table border=\"1\" class=\"dataframe\">\n",
              "  <thead>\n",
              "    <tr style=\"text-align: right;\">\n",
              "      <th></th>\n",
              "      <th>tx_price</th>\n",
              "      <th>beds</th>\n",
              "      <th>baths</th>\n",
              "      <th>sqft</th>\n",
              "      <th>year_built</th>\n",
              "      <th>lot_size</th>\n",
              "      <th>restaurants</th>\n",
              "      <th>groceries</th>\n",
              "      <th>cafes</th>\n",
              "      <th>shopping</th>\n",
              "      <th>arts_entertainment</th>\n",
              "      <th>beauty_spas</th>\n",
              "      <th>active_life</th>\n",
              "      <th>median_age</th>\n",
              "      <th>married</th>\n",
              "      <th>college_grad</th>\n",
              "      <th>property_tax</th>\n",
              "      <th>insurance</th>\n",
              "      <th>median_school</th>\n",
              "      <th>num_schools</th>\n",
              "      <th>tx_year</th>\n",
              "      <th>two_and_two</th>\n",
              "      <th>old_properties</th>\n",
              "      <th>tax_and_insurance</th>\n",
              "      <th>during_recession</th>\n",
              "      <th>property_age</th>\n",
              "      <th>school_score</th>\n",
              "      <th>exterior_walls_Brick</th>\n",
              "      <th>exterior_walls_Brick veneer</th>\n",
              "      <th>exterior_walls_Combination</th>\n",
              "      <th>exterior_walls_Metal</th>\n",
              "      <th>exterior_walls_Missing</th>\n",
              "      <th>exterior_walls_Other</th>\n",
              "      <th>exterior_walls_Siding (Alum/Vinyl)</th>\n",
              "      <th>exterior_walls_Wood</th>\n",
              "      <th>roof_Asphalt</th>\n",
              "      <th>roof_Composition Shingle</th>\n",
              "      <th>roof_Missing</th>\n",
              "      <th>roof_Other</th>\n",
              "      <th>roof_Shake Shingle</th>\n",
              "      <th>property_type_Apartment / Condo / Townhouse</th>\n",
              "      <th>property_type_Single-Family</th>\n",
              "    </tr>\n",
              "  </thead>\n",
              "  <tbody>\n",
              "    <tr>\n",
              "      <th>1</th>\n",
              "      <td>216500</td>\n",
              "      <td>1</td>\n",
              "      <td>1</td>\n",
              "      <td>612</td>\n",
              "      <td>1965</td>\n",
              "      <td>0</td>\n",
              "      <td>105</td>\n",
              "      <td>15</td>\n",
              "      <td>13</td>\n",
              "      <td>87</td>\n",
              "      <td>2</td>\n",
              "      <td>26</td>\n",
              "      <td>14</td>\n",
              "      <td>39.0</td>\n",
              "      <td>73.0</td>\n",
              "      <td>69.0</td>\n",
              "      <td>169.0</td>\n",
              "      <td>51.0</td>\n",
              "      <td>3.0</td>\n",
              "      <td>3.0</td>\n",
              "      <td>2006</td>\n",
              "      <td>0</td>\n",
              "      <td>1</td>\n",
              "      <td>220.0</td>\n",
              "      <td>0</td>\n",
              "      <td>41</td>\n",
              "      <td>9.0</td>\n",
              "      <td>1</td>\n",
              "      <td>0</td>\n",
              "      <td>0</td>\n",
              "      <td>0</td>\n",
              "      <td>0</td>\n",
              "      <td>0</td>\n",
              "      <td>0</td>\n",
              "      <td>0</td>\n",
              "      <td>0</td>\n",
              "      <td>1</td>\n",
              "      <td>0</td>\n",
              "      <td>0</td>\n",
              "      <td>0</td>\n",
              "      <td>1</td>\n",
              "      <td>0</td>\n",
              "    </tr>\n",
              "    <tr>\n",
              "      <th>2</th>\n",
              "      <td>279900</td>\n",
              "      <td>1</td>\n",
              "      <td>1</td>\n",
              "      <td>615</td>\n",
              "      <td>1963</td>\n",
              "      <td>0</td>\n",
              "      <td>183</td>\n",
              "      <td>13</td>\n",
              "      <td>30</td>\n",
              "      <td>101</td>\n",
              "      <td>10</td>\n",
              "      <td>74</td>\n",
              "      <td>62</td>\n",
              "      <td>28.0</td>\n",
              "      <td>15.0</td>\n",
              "      <td>86.0</td>\n",
              "      <td>216.0</td>\n",
              "      <td>74.0</td>\n",
              "      <td>8.0</td>\n",
              "      <td>3.0</td>\n",
              "      <td>2012</td>\n",
              "      <td>0</td>\n",
              "      <td>1</td>\n",
              "      <td>290.0</td>\n",
              "      <td>1</td>\n",
              "      <td>49</td>\n",
              "      <td>24.0</td>\n",
              "      <td>0</td>\n",
              "      <td>0</td>\n",
              "      <td>0</td>\n",
              "      <td>0</td>\n",
              "      <td>0</td>\n",
              "      <td>0</td>\n",
              "      <td>0</td>\n",
              "      <td>1</td>\n",
              "      <td>0</td>\n",
              "      <td>0</td>\n",
              "      <td>1</td>\n",
              "      <td>0</td>\n",
              "      <td>0</td>\n",
              "      <td>1</td>\n",
              "      <td>0</td>\n",
              "    </tr>\n",
              "    <tr>\n",
              "      <th>3</th>\n",
              "      <td>379900</td>\n",
              "      <td>1</td>\n",
              "      <td>1</td>\n",
              "      <td>618</td>\n",
              "      <td>2000</td>\n",
              "      <td>33541</td>\n",
              "      <td>198</td>\n",
              "      <td>9</td>\n",
              "      <td>25</td>\n",
              "      <td>127</td>\n",
              "      <td>11</td>\n",
              "      <td>72</td>\n",
              "      <td>83</td>\n",
              "      <td>36.0</td>\n",
              "      <td>25.0</td>\n",
              "      <td>91.0</td>\n",
              "      <td>265.0</td>\n",
              "      <td>92.0</td>\n",
              "      <td>9.0</td>\n",
              "      <td>3.0</td>\n",
              "      <td>2005</td>\n",
              "      <td>0</td>\n",
              "      <td>0</td>\n",
              "      <td>357.0</td>\n",
              "      <td>0</td>\n",
              "      <td>5</td>\n",
              "      <td>27.0</td>\n",
              "      <td>0</td>\n",
              "      <td>0</td>\n",
              "      <td>0</td>\n",
              "      <td>0</td>\n",
              "      <td>0</td>\n",
              "      <td>0</td>\n",
              "      <td>0</td>\n",
              "      <td>1</td>\n",
              "      <td>0</td>\n",
              "      <td>0</td>\n",
              "      <td>1</td>\n",
              "      <td>0</td>\n",
              "      <td>0</td>\n",
              "      <td>1</td>\n",
              "      <td>0</td>\n",
              "    </tr>\n",
              "    <tr>\n",
              "      <th>4</th>\n",
              "      <td>340000</td>\n",
              "      <td>1</td>\n",
              "      <td>1</td>\n",
              "      <td>634</td>\n",
              "      <td>1992</td>\n",
              "      <td>0</td>\n",
              "      <td>149</td>\n",
              "      <td>7</td>\n",
              "      <td>20</td>\n",
              "      <td>83</td>\n",
              "      <td>10</td>\n",
              "      <td>50</td>\n",
              "      <td>73</td>\n",
              "      <td>37.0</td>\n",
              "      <td>20.0</td>\n",
              "      <td>75.0</td>\n",
              "      <td>88.0</td>\n",
              "      <td>30.0</td>\n",
              "      <td>9.0</td>\n",
              "      <td>3.0</td>\n",
              "      <td>2002</td>\n",
              "      <td>0</td>\n",
              "      <td>0</td>\n",
              "      <td>118.0</td>\n",
              "      <td>0</td>\n",
              "      <td>10</td>\n",
              "      <td>27.0</td>\n",
              "      <td>1</td>\n",
              "      <td>0</td>\n",
              "      <td>0</td>\n",
              "      <td>0</td>\n",
              "      <td>0</td>\n",
              "      <td>0</td>\n",
              "      <td>0</td>\n",
              "      <td>0</td>\n",
              "      <td>0</td>\n",
              "      <td>0</td>\n",
              "      <td>1</td>\n",
              "      <td>0</td>\n",
              "      <td>0</td>\n",
              "      <td>1</td>\n",
              "      <td>0</td>\n",
              "    </tr>\n",
              "    <tr>\n",
              "      <th>5</th>\n",
              "      <td>265000</td>\n",
              "      <td>1</td>\n",
              "      <td>1</td>\n",
              "      <td>641</td>\n",
              "      <td>1947</td>\n",
              "      <td>0</td>\n",
              "      <td>146</td>\n",
              "      <td>10</td>\n",
              "      <td>27</td>\n",
              "      <td>86</td>\n",
              "      <td>9</td>\n",
              "      <td>60</td>\n",
              "      <td>52</td>\n",
              "      <td>28.0</td>\n",
              "      <td>15.0</td>\n",
              "      <td>86.0</td>\n",
              "      <td>168.0</td>\n",
              "      <td>58.0</td>\n",
              "      <td>8.0</td>\n",
              "      <td>3.0</td>\n",
              "      <td>2004</td>\n",
              "      <td>0</td>\n",
              "      <td>1</td>\n",
              "      <td>226.0</td>\n",
              "      <td>0</td>\n",
              "      <td>57</td>\n",
              "      <td>24.0</td>\n",
              "      <td>1</td>\n",
              "      <td>0</td>\n",
              "      <td>0</td>\n",
              "      <td>0</td>\n",
              "      <td>0</td>\n",
              "      <td>0</td>\n",
              "      <td>0</td>\n",
              "      <td>0</td>\n",
              "      <td>0</td>\n",
              "      <td>0</td>\n",
              "      <td>1</td>\n",
              "      <td>0</td>\n",
              "      <td>0</td>\n",
              "      <td>1</td>\n",
              "      <td>0</td>\n",
              "    </tr>\n",
              "  </tbody>\n",
              "</table>\n",
              "</div>"
            ],
            "text/plain": [
              "   tx_price  ...  property_type_Single-Family\n",
              "1    216500  ...                            0\n",
              "2    279900  ...                            0\n",
              "3    379900  ...                            0\n",
              "4    340000  ...                            0\n",
              "5    265000  ...                            0\n",
              "\n",
              "[5 rows x 42 columns]"
            ]
          },
          "metadata": {
            "tags": []
          },
          "execution_count": 154
        }
      ]
    },
    {
      "cell_type": "markdown",
      "metadata": {
        "id": "R3mTJtYiwpc5"
      },
      "source": [
        "##  Remove unused or redundant features\n",
        "* Redundant features would typically be those that have been **replaced by other features** that you've added.\n",
        "* For example, since we used 'tx_year' and 'year_built' to create the 'property_age' feature, we might consider removing them.\n"
      ]
    },
    {
      "cell_type": "code",
      "metadata": {
        "collapsed": true,
        "id": "gtltis3Owpc5"
      },
      "source": [
        "# Drop 'tx_year' and 'year_built' from the dataset\n",
        "df = df.drop(['tx_year', 'year_built'], axis=1)  ## axis=1 because we are dropping columns."
      ],
      "execution_count": 155,
      "outputs": []
    },
    {
      "cell_type": "markdown",
      "metadata": {
        "id": "4G3Qnc4bwpc5"
      },
      "source": [
        "* Also remove 'property_tax' and 'insurance' as we have combined them in 'tax_and _insurance'"
      ]
    },
    {
      "cell_type": "code",
      "metadata": {
        "collapsed": true,
        "id": "swvS9k_jwpc5"
      },
      "source": [
        "df = df.drop(['property_tax', 'insurance'], axis=1)  ## axis=1 because we are dropping columns."
      ],
      "execution_count": 156,
      "outputs": []
    },
    {
      "cell_type": "markdown",
      "metadata": {
        "id": "kvFG96WAwpc5"
      },
      "source": [
        "Finally, before we move on to the next module, let's save our new DataFrame we that augmented through feature engineering. We'll call it the analytical base table because we'll be building our models on it.\n",
        "* Remember to set the argument index=None to save only the data."
      ]
    },
    {
      "cell_type": "code",
      "metadata": {
        "collapsed": true,
        "id": "QgqksZ1Rwpc5"
      },
      "source": [
        "# Save analytical base table\n",
        "df.to_csv('analytical_base_table.csv', index=None)"
      ],
      "execution_count": 161,
      "outputs": []
    },
    {
      "cell_type": "markdown",
      "metadata": {
        "id": "pPMxTagrwpc6"
      },
      "source": [
        "# Machine Learning Models\n",
        "## Data Preparation"
      ]
    },
    {
      "cell_type": "code",
      "metadata": {
        "collapsed": true,
        "id": "pK6Ivr0pwpc6",
        "colab": {
          "base_uri": "https://localhost:8080/",
          "height": 408
        },
        "outputId": "76bf159a-1134-4d15-8755-2a2b3133629d"
      },
      "source": [
        "df = pd.read_csv(\"analytical_base_table.csv\")"
      ],
      "execution_count": 159,
      "outputs": [
        {
          "output_type": "error",
          "ename": "FileNotFoundError",
          "evalue": "ignored",
          "traceback": [
            "\u001b[0;31m---------------------------------------------------------------------------\u001b[0m",
            "\u001b[0;31mFileNotFoundError\u001b[0m                         Traceback (most recent call last)",
            "\u001b[0;32m<ipython-input-159-c1b2570db94a>\u001b[0m in \u001b[0;36m<module>\u001b[0;34m()\u001b[0m\n\u001b[0;32m----> 1\u001b[0;31m \u001b[0mdf\u001b[0m \u001b[0;34m=\u001b[0m \u001b[0mpd\u001b[0m\u001b[0;34m.\u001b[0m\u001b[0mread_csv\u001b[0m\u001b[0;34m(\u001b[0m\u001b[0;34m\"Files/analytical_base_table.csv\"\u001b[0m\u001b[0;34m)\u001b[0m\u001b[0;34m\u001b[0m\u001b[0;34m\u001b[0m\u001b[0m\n\u001b[0m",
            "\u001b[0;32m/usr/local/lib/python3.7/dist-packages/pandas/io/parsers.py\u001b[0m in \u001b[0;36mread_csv\u001b[0;34m(filepath_or_buffer, sep, delimiter, header, names, index_col, usecols, squeeze, prefix, mangle_dupe_cols, dtype, engine, converters, true_values, false_values, skipinitialspace, skiprows, skipfooter, nrows, na_values, keep_default_na, na_filter, verbose, skip_blank_lines, parse_dates, infer_datetime_format, keep_date_col, date_parser, dayfirst, cache_dates, iterator, chunksize, compression, thousands, decimal, lineterminator, quotechar, quoting, doublequote, escapechar, comment, encoding, dialect, error_bad_lines, warn_bad_lines, delim_whitespace, low_memory, memory_map, float_precision)\u001b[0m\n\u001b[1;32m    686\u001b[0m     )\n\u001b[1;32m    687\u001b[0m \u001b[0;34m\u001b[0m\u001b[0m\n\u001b[0;32m--> 688\u001b[0;31m     \u001b[0;32mreturn\u001b[0m \u001b[0m_read\u001b[0m\u001b[0;34m(\u001b[0m\u001b[0mfilepath_or_buffer\u001b[0m\u001b[0;34m,\u001b[0m \u001b[0mkwds\u001b[0m\u001b[0;34m)\u001b[0m\u001b[0;34m\u001b[0m\u001b[0;34m\u001b[0m\u001b[0m\n\u001b[0m\u001b[1;32m    689\u001b[0m \u001b[0;34m\u001b[0m\u001b[0m\n\u001b[1;32m    690\u001b[0m \u001b[0;34m\u001b[0m\u001b[0m\n",
            "\u001b[0;32m/usr/local/lib/python3.7/dist-packages/pandas/io/parsers.py\u001b[0m in \u001b[0;36m_read\u001b[0;34m(filepath_or_buffer, kwds)\u001b[0m\n\u001b[1;32m    452\u001b[0m \u001b[0;34m\u001b[0m\u001b[0m\n\u001b[1;32m    453\u001b[0m     \u001b[0;31m# Create the parser.\u001b[0m\u001b[0;34m\u001b[0m\u001b[0;34m\u001b[0m\u001b[0;34m\u001b[0m\u001b[0m\n\u001b[0;32m--> 454\u001b[0;31m     \u001b[0mparser\u001b[0m \u001b[0;34m=\u001b[0m \u001b[0mTextFileReader\u001b[0m\u001b[0;34m(\u001b[0m\u001b[0mfp_or_buf\u001b[0m\u001b[0;34m,\u001b[0m \u001b[0;34m**\u001b[0m\u001b[0mkwds\u001b[0m\u001b[0;34m)\u001b[0m\u001b[0;34m\u001b[0m\u001b[0;34m\u001b[0m\u001b[0m\n\u001b[0m\u001b[1;32m    455\u001b[0m \u001b[0;34m\u001b[0m\u001b[0m\n\u001b[1;32m    456\u001b[0m     \u001b[0;32mif\u001b[0m \u001b[0mchunksize\u001b[0m \u001b[0;32mor\u001b[0m \u001b[0miterator\u001b[0m\u001b[0;34m:\u001b[0m\u001b[0;34m\u001b[0m\u001b[0;34m\u001b[0m\u001b[0m\n",
            "\u001b[0;32m/usr/local/lib/python3.7/dist-packages/pandas/io/parsers.py\u001b[0m in \u001b[0;36m__init__\u001b[0;34m(self, f, engine, **kwds)\u001b[0m\n\u001b[1;32m    946\u001b[0m             \u001b[0mself\u001b[0m\u001b[0;34m.\u001b[0m\u001b[0moptions\u001b[0m\u001b[0;34m[\u001b[0m\u001b[0;34m\"has_index_names\"\u001b[0m\u001b[0;34m]\u001b[0m \u001b[0;34m=\u001b[0m \u001b[0mkwds\u001b[0m\u001b[0;34m[\u001b[0m\u001b[0;34m\"has_index_names\"\u001b[0m\u001b[0;34m]\u001b[0m\u001b[0;34m\u001b[0m\u001b[0;34m\u001b[0m\u001b[0m\n\u001b[1;32m    947\u001b[0m \u001b[0;34m\u001b[0m\u001b[0m\n\u001b[0;32m--> 948\u001b[0;31m         \u001b[0mself\u001b[0m\u001b[0;34m.\u001b[0m\u001b[0m_make_engine\u001b[0m\u001b[0;34m(\u001b[0m\u001b[0mself\u001b[0m\u001b[0;34m.\u001b[0m\u001b[0mengine\u001b[0m\u001b[0;34m)\u001b[0m\u001b[0;34m\u001b[0m\u001b[0;34m\u001b[0m\u001b[0m\n\u001b[0m\u001b[1;32m    949\u001b[0m \u001b[0;34m\u001b[0m\u001b[0m\n\u001b[1;32m    950\u001b[0m     \u001b[0;32mdef\u001b[0m \u001b[0mclose\u001b[0m\u001b[0;34m(\u001b[0m\u001b[0mself\u001b[0m\u001b[0;34m)\u001b[0m\u001b[0;34m:\u001b[0m\u001b[0;34m\u001b[0m\u001b[0;34m\u001b[0m\u001b[0m\n",
            "\u001b[0;32m/usr/local/lib/python3.7/dist-packages/pandas/io/parsers.py\u001b[0m in \u001b[0;36m_make_engine\u001b[0;34m(self, engine)\u001b[0m\n\u001b[1;32m   1178\u001b[0m     \u001b[0;32mdef\u001b[0m \u001b[0m_make_engine\u001b[0m\u001b[0;34m(\u001b[0m\u001b[0mself\u001b[0m\u001b[0;34m,\u001b[0m \u001b[0mengine\u001b[0m\u001b[0;34m=\u001b[0m\u001b[0;34m\"c\"\u001b[0m\u001b[0;34m)\u001b[0m\u001b[0;34m:\u001b[0m\u001b[0;34m\u001b[0m\u001b[0;34m\u001b[0m\u001b[0m\n\u001b[1;32m   1179\u001b[0m         \u001b[0;32mif\u001b[0m \u001b[0mengine\u001b[0m \u001b[0;34m==\u001b[0m \u001b[0;34m\"c\"\u001b[0m\u001b[0;34m:\u001b[0m\u001b[0;34m\u001b[0m\u001b[0;34m\u001b[0m\u001b[0m\n\u001b[0;32m-> 1180\u001b[0;31m             \u001b[0mself\u001b[0m\u001b[0;34m.\u001b[0m\u001b[0m_engine\u001b[0m \u001b[0;34m=\u001b[0m \u001b[0mCParserWrapper\u001b[0m\u001b[0;34m(\u001b[0m\u001b[0mself\u001b[0m\u001b[0;34m.\u001b[0m\u001b[0mf\u001b[0m\u001b[0;34m,\u001b[0m \u001b[0;34m**\u001b[0m\u001b[0mself\u001b[0m\u001b[0;34m.\u001b[0m\u001b[0moptions\u001b[0m\u001b[0;34m)\u001b[0m\u001b[0;34m\u001b[0m\u001b[0;34m\u001b[0m\u001b[0m\n\u001b[0m\u001b[1;32m   1181\u001b[0m         \u001b[0;32melse\u001b[0m\u001b[0;34m:\u001b[0m\u001b[0;34m\u001b[0m\u001b[0;34m\u001b[0m\u001b[0m\n\u001b[1;32m   1182\u001b[0m             \u001b[0;32mif\u001b[0m \u001b[0mengine\u001b[0m \u001b[0;34m==\u001b[0m \u001b[0;34m\"python\"\u001b[0m\u001b[0;34m:\u001b[0m\u001b[0;34m\u001b[0m\u001b[0;34m\u001b[0m\u001b[0m\n",
            "\u001b[0;32m/usr/local/lib/python3.7/dist-packages/pandas/io/parsers.py\u001b[0m in \u001b[0;36m__init__\u001b[0;34m(self, src, **kwds)\u001b[0m\n\u001b[1;32m   2008\u001b[0m         \u001b[0mkwds\u001b[0m\u001b[0;34m[\u001b[0m\u001b[0;34m\"usecols\"\u001b[0m\u001b[0;34m]\u001b[0m \u001b[0;34m=\u001b[0m \u001b[0mself\u001b[0m\u001b[0;34m.\u001b[0m\u001b[0musecols\u001b[0m\u001b[0;34m\u001b[0m\u001b[0;34m\u001b[0m\u001b[0m\n\u001b[1;32m   2009\u001b[0m \u001b[0;34m\u001b[0m\u001b[0m\n\u001b[0;32m-> 2010\u001b[0;31m         \u001b[0mself\u001b[0m\u001b[0;34m.\u001b[0m\u001b[0m_reader\u001b[0m \u001b[0;34m=\u001b[0m \u001b[0mparsers\u001b[0m\u001b[0;34m.\u001b[0m\u001b[0mTextReader\u001b[0m\u001b[0;34m(\u001b[0m\u001b[0msrc\u001b[0m\u001b[0;34m,\u001b[0m \u001b[0;34m**\u001b[0m\u001b[0mkwds\u001b[0m\u001b[0;34m)\u001b[0m\u001b[0;34m\u001b[0m\u001b[0;34m\u001b[0m\u001b[0m\n\u001b[0m\u001b[1;32m   2011\u001b[0m         \u001b[0mself\u001b[0m\u001b[0;34m.\u001b[0m\u001b[0munnamed_cols\u001b[0m \u001b[0;34m=\u001b[0m \u001b[0mself\u001b[0m\u001b[0;34m.\u001b[0m\u001b[0m_reader\u001b[0m\u001b[0;34m.\u001b[0m\u001b[0munnamed_cols\u001b[0m\u001b[0;34m\u001b[0m\u001b[0;34m\u001b[0m\u001b[0m\n\u001b[1;32m   2012\u001b[0m \u001b[0;34m\u001b[0m\u001b[0m\n",
            "\u001b[0;32mpandas/_libs/parsers.pyx\u001b[0m in \u001b[0;36mpandas._libs.parsers.TextReader.__cinit__\u001b[0;34m()\u001b[0m\n",
            "\u001b[0;32mpandas/_libs/parsers.pyx\u001b[0m in \u001b[0;36mpandas._libs.parsers.TextReader._setup_parser_source\u001b[0;34m()\u001b[0m\n",
            "\u001b[0;31mFileNotFoundError\u001b[0m: [Errno 2] No such file or directory: 'Files/analytical_base_table.csv'"
          ]
        }
      ]
    },
    {
      "cell_type": "code",
      "metadata": {
        "id": "Cv5UH6D9wpc6",
        "colab": {
          "base_uri": "https://localhost:8080/"
        },
        "outputId": "5b3261ae-d6a7-4f9e-c568-1e8b78c5dca4"
      },
      "source": [
        "print(df.shape)"
      ],
      "execution_count": 162,
      "outputs": [
        {
          "output_type": "stream",
          "text": [
            "(1618, 38)\n"
          ],
          "name": "stdout"
        }
      ]
    },
    {
      "cell_type": "code",
      "metadata": {
        "colab": {
          "base_uri": "https://localhost:8080/",
          "height": 241
        },
        "id": "JVGPhMl6ZJYU",
        "outputId": "f4627ac8-9f05-4faa-d64d-6be2664a3aee"
      },
      "source": [
        "df.head()"
      ],
      "execution_count": 163,
      "outputs": [
        {
          "output_type": "execute_result",
          "data": {
            "text/html": [
              "<div>\n",
              "<style scoped>\n",
              "    .dataframe tbody tr th:only-of-type {\n",
              "        vertical-align: middle;\n",
              "    }\n",
              "\n",
              "    .dataframe tbody tr th {\n",
              "        vertical-align: top;\n",
              "    }\n",
              "\n",
              "    .dataframe thead th {\n",
              "        text-align: right;\n",
              "    }\n",
              "</style>\n",
              "<table border=\"1\" class=\"dataframe\">\n",
              "  <thead>\n",
              "    <tr style=\"text-align: right;\">\n",
              "      <th></th>\n",
              "      <th>tx_price</th>\n",
              "      <th>beds</th>\n",
              "      <th>baths</th>\n",
              "      <th>sqft</th>\n",
              "      <th>lot_size</th>\n",
              "      <th>restaurants</th>\n",
              "      <th>groceries</th>\n",
              "      <th>cafes</th>\n",
              "      <th>shopping</th>\n",
              "      <th>arts_entertainment</th>\n",
              "      <th>beauty_spas</th>\n",
              "      <th>active_life</th>\n",
              "      <th>median_age</th>\n",
              "      <th>married</th>\n",
              "      <th>college_grad</th>\n",
              "      <th>median_school</th>\n",
              "      <th>num_schools</th>\n",
              "      <th>two_and_two</th>\n",
              "      <th>old_properties</th>\n",
              "      <th>tax_and_insurance</th>\n",
              "      <th>during_recession</th>\n",
              "      <th>property_age</th>\n",
              "      <th>school_score</th>\n",
              "      <th>exterior_walls_Brick</th>\n",
              "      <th>exterior_walls_Brick veneer</th>\n",
              "      <th>exterior_walls_Combination</th>\n",
              "      <th>exterior_walls_Metal</th>\n",
              "      <th>exterior_walls_Missing</th>\n",
              "      <th>exterior_walls_Other</th>\n",
              "      <th>exterior_walls_Siding (Alum/Vinyl)</th>\n",
              "      <th>exterior_walls_Wood</th>\n",
              "      <th>roof_Asphalt</th>\n",
              "      <th>roof_Composition Shingle</th>\n",
              "      <th>roof_Missing</th>\n",
              "      <th>roof_Other</th>\n",
              "      <th>roof_Shake Shingle</th>\n",
              "      <th>property_type_Apartment / Condo / Townhouse</th>\n",
              "      <th>property_type_Single-Family</th>\n",
              "    </tr>\n",
              "  </thead>\n",
              "  <tbody>\n",
              "    <tr>\n",
              "      <th>1</th>\n",
              "      <td>216500</td>\n",
              "      <td>1</td>\n",
              "      <td>1</td>\n",
              "      <td>612</td>\n",
              "      <td>0</td>\n",
              "      <td>105</td>\n",
              "      <td>15</td>\n",
              "      <td>13</td>\n",
              "      <td>87</td>\n",
              "      <td>2</td>\n",
              "      <td>26</td>\n",
              "      <td>14</td>\n",
              "      <td>39.0</td>\n",
              "      <td>73.0</td>\n",
              "      <td>69.0</td>\n",
              "      <td>3.0</td>\n",
              "      <td>3.0</td>\n",
              "      <td>0</td>\n",
              "      <td>1</td>\n",
              "      <td>220.0</td>\n",
              "      <td>0</td>\n",
              "      <td>41</td>\n",
              "      <td>9.0</td>\n",
              "      <td>1</td>\n",
              "      <td>0</td>\n",
              "      <td>0</td>\n",
              "      <td>0</td>\n",
              "      <td>0</td>\n",
              "      <td>0</td>\n",
              "      <td>0</td>\n",
              "      <td>0</td>\n",
              "      <td>0</td>\n",
              "      <td>1</td>\n",
              "      <td>0</td>\n",
              "      <td>0</td>\n",
              "      <td>0</td>\n",
              "      <td>1</td>\n",
              "      <td>0</td>\n",
              "    </tr>\n",
              "    <tr>\n",
              "      <th>2</th>\n",
              "      <td>279900</td>\n",
              "      <td>1</td>\n",
              "      <td>1</td>\n",
              "      <td>615</td>\n",
              "      <td>0</td>\n",
              "      <td>183</td>\n",
              "      <td>13</td>\n",
              "      <td>30</td>\n",
              "      <td>101</td>\n",
              "      <td>10</td>\n",
              "      <td>74</td>\n",
              "      <td>62</td>\n",
              "      <td>28.0</td>\n",
              "      <td>15.0</td>\n",
              "      <td>86.0</td>\n",
              "      <td>8.0</td>\n",
              "      <td>3.0</td>\n",
              "      <td>0</td>\n",
              "      <td>1</td>\n",
              "      <td>290.0</td>\n",
              "      <td>1</td>\n",
              "      <td>49</td>\n",
              "      <td>24.0</td>\n",
              "      <td>0</td>\n",
              "      <td>0</td>\n",
              "      <td>0</td>\n",
              "      <td>0</td>\n",
              "      <td>0</td>\n",
              "      <td>0</td>\n",
              "      <td>0</td>\n",
              "      <td>1</td>\n",
              "      <td>0</td>\n",
              "      <td>0</td>\n",
              "      <td>1</td>\n",
              "      <td>0</td>\n",
              "      <td>0</td>\n",
              "      <td>1</td>\n",
              "      <td>0</td>\n",
              "    </tr>\n",
              "    <tr>\n",
              "      <th>3</th>\n",
              "      <td>379900</td>\n",
              "      <td>1</td>\n",
              "      <td>1</td>\n",
              "      <td>618</td>\n",
              "      <td>33541</td>\n",
              "      <td>198</td>\n",
              "      <td>9</td>\n",
              "      <td>25</td>\n",
              "      <td>127</td>\n",
              "      <td>11</td>\n",
              "      <td>72</td>\n",
              "      <td>83</td>\n",
              "      <td>36.0</td>\n",
              "      <td>25.0</td>\n",
              "      <td>91.0</td>\n",
              "      <td>9.0</td>\n",
              "      <td>3.0</td>\n",
              "      <td>0</td>\n",
              "      <td>0</td>\n",
              "      <td>357.0</td>\n",
              "      <td>0</td>\n",
              "      <td>5</td>\n",
              "      <td>27.0</td>\n",
              "      <td>0</td>\n",
              "      <td>0</td>\n",
              "      <td>0</td>\n",
              "      <td>0</td>\n",
              "      <td>0</td>\n",
              "      <td>0</td>\n",
              "      <td>0</td>\n",
              "      <td>1</td>\n",
              "      <td>0</td>\n",
              "      <td>0</td>\n",
              "      <td>1</td>\n",
              "      <td>0</td>\n",
              "      <td>0</td>\n",
              "      <td>1</td>\n",
              "      <td>0</td>\n",
              "    </tr>\n",
              "    <tr>\n",
              "      <th>4</th>\n",
              "      <td>340000</td>\n",
              "      <td>1</td>\n",
              "      <td>1</td>\n",
              "      <td>634</td>\n",
              "      <td>0</td>\n",
              "      <td>149</td>\n",
              "      <td>7</td>\n",
              "      <td>20</td>\n",
              "      <td>83</td>\n",
              "      <td>10</td>\n",
              "      <td>50</td>\n",
              "      <td>73</td>\n",
              "      <td>37.0</td>\n",
              "      <td>20.0</td>\n",
              "      <td>75.0</td>\n",
              "      <td>9.0</td>\n",
              "      <td>3.0</td>\n",
              "      <td>0</td>\n",
              "      <td>0</td>\n",
              "      <td>118.0</td>\n",
              "      <td>0</td>\n",
              "      <td>10</td>\n",
              "      <td>27.0</td>\n",
              "      <td>1</td>\n",
              "      <td>0</td>\n",
              "      <td>0</td>\n",
              "      <td>0</td>\n",
              "      <td>0</td>\n",
              "      <td>0</td>\n",
              "      <td>0</td>\n",
              "      <td>0</td>\n",
              "      <td>0</td>\n",
              "      <td>0</td>\n",
              "      <td>1</td>\n",
              "      <td>0</td>\n",
              "      <td>0</td>\n",
              "      <td>1</td>\n",
              "      <td>0</td>\n",
              "    </tr>\n",
              "    <tr>\n",
              "      <th>5</th>\n",
              "      <td>265000</td>\n",
              "      <td>1</td>\n",
              "      <td>1</td>\n",
              "      <td>641</td>\n",
              "      <td>0</td>\n",
              "      <td>146</td>\n",
              "      <td>10</td>\n",
              "      <td>27</td>\n",
              "      <td>86</td>\n",
              "      <td>9</td>\n",
              "      <td>60</td>\n",
              "      <td>52</td>\n",
              "      <td>28.0</td>\n",
              "      <td>15.0</td>\n",
              "      <td>86.0</td>\n",
              "      <td>8.0</td>\n",
              "      <td>3.0</td>\n",
              "      <td>0</td>\n",
              "      <td>1</td>\n",
              "      <td>226.0</td>\n",
              "      <td>0</td>\n",
              "      <td>57</td>\n",
              "      <td>24.0</td>\n",
              "      <td>1</td>\n",
              "      <td>0</td>\n",
              "      <td>0</td>\n",
              "      <td>0</td>\n",
              "      <td>0</td>\n",
              "      <td>0</td>\n",
              "      <td>0</td>\n",
              "      <td>0</td>\n",
              "      <td>0</td>\n",
              "      <td>0</td>\n",
              "      <td>1</td>\n",
              "      <td>0</td>\n",
              "      <td>0</td>\n",
              "      <td>1</td>\n",
              "      <td>0</td>\n",
              "    </tr>\n",
              "  </tbody>\n",
              "</table>\n",
              "</div>"
            ],
            "text/plain": [
              "   tx_price  ...  property_type_Single-Family\n",
              "1    216500  ...                            0\n",
              "2    279900  ...                            0\n",
              "3    379900  ...                            0\n",
              "4    340000  ...                            0\n",
              "5    265000  ...                            0\n",
              "\n",
              "[5 rows x 38 columns]"
            ]
          },
          "metadata": {
            "tags": []
          },
          "execution_count": 163
        }
      ]
    },
    {
      "cell_type": "markdown",
      "metadata": {
        "id": "C2EWu8BBwpc6"
      },
      "source": [
        "###  Train and Test Splits\n",
        "1.27. Separate your dataframe into separate objects for the target variable (y) and the input features (X) and perform the train and test split"
      ]
    },
    {
      "cell_type": "code",
      "metadata": {
        "collapsed": true,
        "id": "FMT5CCXGwpc6"
      },
      "source": [
        "# Create separate object for target variable\n",
        "y = df['tx_price']\n",
        "# Create separate object for input features\n",
        "X = df.drop('tx_price', axis = 1)"
      ],
      "execution_count": 165,
      "outputs": []
    },
    {
      "cell_type": "markdown",
      "metadata": {
        "id": "uRALNmyoXY6o"
      },
      "source": [
        "1.28. Split X and y into train and test sets: 80-20"
      ]
    },
    {
      "cell_type": "code",
      "metadata": {
        "collapsed": true,
        "id": "XRNWgrlAwpc7"
      },
      "source": [
        "# Split X and y into train and test sets: 80-20\n",
        "X_train, X_test, y_train, y_test = train_test_split(X, y, random_state= 1, test_size = 0.2)"
      ],
      "execution_count": 168,
      "outputs": []
    },
    {
      "cell_type": "markdown",
      "metadata": {
        "id": "C7ezN-HYwpc7"
      },
      "source": [
        "Let's confirm we have the right number of observations in each subset."
      ]
    },
    {
      "cell_type": "code",
      "metadata": {
        "id": "YsnAXvZmwpc7",
        "colab": {
          "base_uri": "https://localhost:8080/"
        },
        "outputId": "867162bc-71f7-4e8c-ca4d-87d837da6815"
      },
      "source": [
        "print(X_train.shape, X_test.shape, y_train.shape, y_test.shape)"
      ],
      "execution_count": 169,
      "outputs": [
        {
          "output_type": "stream",
          "text": [
            "(1294, 37) (324, 37) (1294,) (324,)\n"
          ],
          "name": "stdout"
        }
      ]
    },
    {
      "cell_type": "markdown",
      "metadata": {
        "id": "sAZbnCdswpc7"
      },
      "source": [
        "### Data standardization\n",
        "* In Data Standardization we perform zero mean centring and unit scaling; i.e. we make the mean of all the features as zero and the standard deviation as 1.\n",
        "* Thus we use **mean** and **standard deviation** of each feature.\n",
        "* It is very important to save the **mean** and **standard deviation** for each of the feature from the **training set**, because we use the same mean and standard deviation in the test set."
      ]
    },
    {
      "cell_type": "code",
      "metadata": {
        "collapsed": true,
        "id": "uXe_0W-Cwpc8"
      },
      "source": [
        "train_mean = X_train.mean()\n",
        "train_std = X_train.std()"
      ],
      "execution_count": 170,
      "outputs": []
    },
    {
      "cell_type": "code",
      "metadata": {
        "collapsed": true,
        "id": "O9CqzCOnwpc8"
      },
      "source": [
        "## Standardize the train data set\n",
        "X_train = (X_train - train_mean) / train_std"
      ],
      "execution_count": 171,
      "outputs": []
    },
    {
      "cell_type": "code",
      "metadata": {
        "id": "whrcGqhzwpc8"
      },
      "source": [
        "## Check for mean and std dev.\n",
        "X_train.describe()"
      ],
      "execution_count": null,
      "outputs": []
    },
    {
      "cell_type": "code",
      "metadata": {
        "collapsed": true,
        "id": "VuZ-MeuTwpc8"
      },
      "source": [
        "## Note: We use train_mean and train_std_dev to standardize test data set\n",
        "X_test = (X_test - train_mean) / train_std"
      ],
      "execution_count": 173,
      "outputs": []
    },
    {
      "cell_type": "code",
      "metadata": {
        "id": "zy6RBUwgwpc8"
      },
      "source": [
        "## Check for mean and std dev. - not exactly 0 and 1\n",
        "X_test.describe()"
      ],
      "execution_count": null,
      "outputs": []
    },
    {
      "cell_type": "markdown",
      "metadata": {
        "id": "j3l3ETfdwpc9"
      },
      "source": [
        "##  Model 1 - Baseline Model\n",
        "* In this model, for every test data point, we will simply predict the average of the train labels as the output.\n",
        "* We will use this simple model to perform hypothesis testing for other complex models."
      ]
    },
    {
      "cell_type": "code",
      "metadata": {
        "collapsed": true,
        "id": "q92FmFWnwpc9"
      },
      "source": [
        "## Predict Train results\n",
        "y_train_pred = np.ones(y_train.shape[0])*y_train.mean()"
      ],
      "execution_count": 175,
      "outputs": []
    },
    {
      "cell_type": "code",
      "metadata": {
        "collapsed": true,
        "id": "lfoxhJ2Awpc9"
      },
      "source": [
        "## Predict Test results\n",
        "y_pred = np.ones(y_test.shape[0])*y_train.mean()"
      ],
      "execution_count": 176,
      "outputs": []
    },
    {
      "cell_type": "code",
      "metadata": {
        "id": "WtBRJ4MPwpc9",
        "colab": {
          "base_uri": "https://localhost:8080/"
        },
        "outputId": "65e62a91-1d5b-4966-9b68-c312d4518e07"
      },
      "source": [
        "from sklearn.metrics import r2_score\n",
        "\n",
        "print(\"Train Results for Baseline Model:\")\n",
        "print(\"*******************************\")\n",
        "print(\"Root mean squared error: \", sqrt(mse(y_train.values, y_train_pred)))\n",
        "print(\"R-squared: \", r2_score(y_train.values, y_train_pred))\n",
        "print(\"Mean Absolute Error: \", mae(y_train.values, y_train_pred))"
      ],
      "execution_count": 177,
      "outputs": [
        {
          "output_type": "stream",
          "text": [
            "Train Results for Baseline Model:\n",
            "*******************************\n",
            "Root mean squared error:  151847.9584622424\n",
            "R-squared:  0.0\n",
            "Mean Absolute Error:  124899.49366353804\n"
          ],
          "name": "stdout"
        }
      ]
    },
    {
      "cell_type": "code",
      "metadata": {
        "id": "WKvHRpqUwpc9",
        "colab": {
          "base_uri": "https://localhost:8080/"
        },
        "outputId": "c9499e94-6435-4d54-bd9c-61d0b4bcd3e6"
      },
      "source": [
        "print(\"Results for Baseline Model:\")\n",
        "print(\"*******************************\")\n",
        "print(\"Root mean squared error: \", sqrt(mse(y_test, y_pred)))\n",
        "print(\"R-squared: \", r2_score(y_test, y_pred))\n",
        "print(\"Mean Absolute Error: \", mae(y_test, y_pred))"
      ],
      "execution_count": 178,
      "outputs": [
        {
          "output_type": "stream",
          "text": [
            "Results for Baseline Model:\n",
            "*******************************\n",
            "Root mean squared error:  153960.64695938196\n",
            "R-squared:  -0.004064239141761572\n",
            "Mean Absolute Error:  128082.0479229874\n"
          ],
          "name": "stdout"
        }
      ]
    },
    {
      "cell_type": "markdown",
      "metadata": {
        "id": "5e2f3xMvwpc-"
      },
      "source": [
        "##  Model-2 Ridge Regression\n",
        "\n",
        "`alpha =  [0.0001, 0.001, 0.01, 0.1, 1, 10, 100, 1000,\n",
        "                                   10000, 100000]`"
      ]
    },
    {
      "cell_type": "code",
      "metadata": {
        "colab": {
          "base_uri": "https://localhost:8080/"
        },
        "id": "v2gtjtrjgKfg",
        "outputId": "5c4c2cde-9600-4e00-a45d-5154d371cd93"
      },
      "source": [
        "tunned = {'alpha' : [0.0001, 0.001, 0.01, 0.1, 1, 10, 100, 1000, 10000, 100000]}\n",
        "type(tunned)"
      ],
      "execution_count": 187,
      "outputs": [
        {
          "output_type": "execute_result",
          "data": {
            "text/plain": [
              "dict"
            ]
          },
          "metadata": {
            "tags": []
          },
          "execution_count": 187
        }
      ]
    },
    {
      "cell_type": "code",
      "metadata": {
        "id": "vn6-s0Chwpc-",
        "colab": {
          "base_uri": "https://localhost:8080/"
        },
        "outputId": "bf40af35-9125-453d-b172-211bf4e1d969"
      },
      "source": [
        "model = GridSearchCV( Ridge(), tunned, scoring='neg_mean_absolute_error', cv = 10, n_jobs=-1)\n",
        "model.fit(X_train, y_train)"
      ],
      "execution_count": 188,
      "outputs": [
        {
          "output_type": "execute_result",
          "data": {
            "text/plain": [
              "GridSearchCV(cv=10, error_score=nan,\n",
              "             estimator=Ridge(alpha=1.0, copy_X=True, fit_intercept=True,\n",
              "                             max_iter=None, normalize=False, random_state=None,\n",
              "                             solver='auto', tol=0.001),\n",
              "             iid='deprecated', n_jobs=-1,\n",
              "             param_grid={'alpha': [0.0001, 0.001, 0.01, 0.1, 1, 10, 100, 1000,\n",
              "                                   10000, 100000]},\n",
              "             pre_dispatch='2*n_jobs', refit=True, return_train_score=False,\n",
              "             scoring='neg_mean_absolute_error', verbose=0)"
            ]
          },
          "metadata": {
            "tags": []
          },
          "execution_count": 188
        }
      ]
    },
    {
      "cell_type": "code",
      "metadata": {
        "id": "EJm-25hRwpc-",
        "colab": {
          "base_uri": "https://localhost:8080/"
        },
        "outputId": "6db95d48-d78f-4024-ca28-e9c2d47eb3ff"
      },
      "source": [
        "model.best_estimator_"
      ],
      "execution_count": 189,
      "outputs": [
        {
          "output_type": "execute_result",
          "data": {
            "text/plain": [
              "Ridge(alpha=100, copy_X=True, fit_intercept=True, max_iter=None,\n",
              "      normalize=False, random_state=None, solver='auto', tol=0.001)"
            ]
          },
          "metadata": {
            "tags": []
          },
          "execution_count": 189
        }
      ]
    },
    {
      "cell_type": "code",
      "metadata": {
        "collapsed": true,
        "id": "MO4j4vNOwpc_"
      },
      "source": [
        "## Predict Train results\n",
        "y_train_pred = model.predict(X_train)"
      ],
      "execution_count": null,
      "outputs": []
    },
    {
      "cell_type": "code",
      "metadata": {
        "collapsed": true,
        "id": "ccU0XQ_Owpc_"
      },
      "source": [
        "## Predict Test results\n",
        "y_pred = model.predict(X_test)"
      ],
      "execution_count": 190,
      "outputs": []
    },
    {
      "cell_type": "code",
      "metadata": {
        "id": "jjUNm25Twpc_",
        "colab": {
          "base_uri": "https://localhost:8080/"
        },
        "outputId": "b8406a85-07ea-4272-8e78-5380494e79f8"
      },
      "source": [
        "print(\"Train Results for Ridge Regression:\")\n",
        "print(\"*******************************\")\n",
        "print(\"Root mean squared error: \", sqrt(mse(y_train.values, y_train_pred)))\n",
        "print(\"R-squared: \", r2_score(y_train.values, y_train_pred))\n",
        "print(\"Mean Absolute Error: \", mae(y_train.values, y_train_pred))"
      ],
      "execution_count": 193,
      "outputs": [
        {
          "output_type": "stream",
          "text": [
            "Train Results for Ridge Regression:\n",
            "*******************************\n",
            "Root mean squared error:  151847.9584622424\n",
            "R-squared:  0.0\n",
            "Mean Absolute Error:  124899.49366353804\n"
          ],
          "name": "stdout"
        }
      ]
    },
    {
      "cell_type": "code",
      "metadata": {
        "id": "_NYC1ur_wpc_",
        "colab": {
          "base_uri": "https://localhost:8080/"
        },
        "outputId": "528fb476-dfdc-4ae2-bc14-ce1cc9891c3e"
      },
      "source": [
        "print(\"Test Results for Ridge Regression:\")\n",
        "print(\"*******************************\")\n",
        "print(\"Root mean squared error: \", sqrt(mse(y_test, y_pred)))\n",
        "print(\"R-squared: \", r2_score(y_test, y_pred))\n",
        "print(\"Mean Absolute Error: \", mae(y_test, y_pred))"
      ],
      "execution_count": 192,
      "outputs": [
        {
          "output_type": "stream",
          "text": [
            "Test Results for Ridge Regression:\n",
            "*******************************\n",
            "Root mean squared error:  114438.69674292195\n",
            "R-squared:  0.4452620831455396\n",
            "Mean Absolute Error:  89469.77586406683\n"
          ],
          "name": "stdout"
        }
      ]
    },
    {
      "cell_type": "markdown",
      "metadata": {
        "id": "goolxsdWwpdA"
      },
      "source": [
        "### Feature Importance"
      ]
    },
    {
      "cell_type": "code",
      "metadata": {
        "id": "efGZowo9wpdA",
        "colab": {
          "base_uri": "https://localhost:8080/"
        },
        "outputId": "525fc3c3-9ae8-41bf-dd27-3dabb911f93e"
      },
      "source": [
        "## Building the model again with the best hyperparameters\n",
        "model = Ridge(alpha=100)\n",
        "model.fit(X_train, y_train)"
      ],
      "execution_count": 195,
      "outputs": [
        {
          "output_type": "execute_result",
          "data": {
            "text/plain": [
              "Ridge(alpha=100, copy_X=True, fit_intercept=True, max_iter=None,\n",
              "      normalize=False, random_state=None, solver='auto', tol=0.001)"
            ]
          },
          "metadata": {
            "tags": []
          },
          "execution_count": 195
        }
      ]
    },
    {
      "cell_type": "code",
      "metadata": {
        "id": "8qxuJovUwpdA",
        "colab": {
          "base_uri": "https://localhost:8080/"
        },
        "outputId": "6ef0086f-ee50-4c7d-f594-b9dbf0a9af8c"
      },
      "source": [
        "indices = np.argsort(-abs(model.coef_))\n",
        "print(\"The features in order of importance are:\")\n",
        "print(50*'-')\n",
        "for feature in X.columns[indices]:\n",
        "    print(feature)"
      ],
      "execution_count": 196,
      "outputs": [
        {
          "output_type": "stream",
          "text": [
            "The features in order of importance are:\n",
            "--------------------------------------------------\n",
            "sqft\n",
            "tax_and_insurance\n",
            "old_properties\n",
            "college_grad\n",
            "property_age\n",
            "beds\n",
            "baths\n",
            "active_life\n",
            "beauty_spas\n",
            "exterior_walls_Missing\n",
            "restaurants\n",
            "cafes\n",
            "exterior_walls_Wood\n",
            "property_type_Apartment / Condo / Townhouse\n",
            "property_type_Single-Family\n",
            "during_recession\n",
            "groceries\n",
            "exterior_walls_Brick\n",
            "exterior_walls_Combination\n",
            "roof_Other\n",
            "median_age\n",
            "exterior_walls_Brick veneer\n",
            "roof_Composition Shingle\n",
            "married\n",
            "exterior_walls_Siding (Alum/Vinyl)\n",
            "lot_size\n",
            "shopping\n",
            "two_and_two\n",
            "roof_Missing\n",
            "arts_entertainment\n",
            "school_score\n",
            "roof_Shake Shingle\n",
            "exterior_walls_Other\n",
            "roof_Asphalt\n",
            "exterior_walls_Metal\n",
            "median_school\n",
            "num_schools\n"
          ],
          "name": "stdout"
        }
      ]
    },
    {
      "cell_type": "markdown",
      "metadata": {
        "id": "7qW1G39bwpdB"
      },
      "source": [
        "##  Model-3 Support Vector Regression\n",
        "With an RBF Kernel"
      ]
    },
    {
      "cell_type": "markdown",
      "metadata": {
        "id": "PcWUbymwYUZp"
      },
      "source": [
        "`C: [0.0001, 0.001, 0.01, 0.1, 1, 10, 100, 1000, 10000, 100000]`"
      ]
    },
    {
      "cell_type": "code",
      "metadata": {
        "id": "JgCsW78JYSzX"
      },
      "source": [
        "tunned={'C': [0.0001, 0.001, 0.01, 0.1, 1, 10, 100, 1000, 10000, 100000]}"
      ],
      "execution_count": 197,
      "outputs": []
    },
    {
      "cell_type": "code",
      "metadata": {
        "id": "H9QoRyR3wpdB",
        "colab": {
          "base_uri": "https://localhost:8080/"
        },
        "outputId": "9fad2856-5ab4-4428-bc3c-d2385bef5fd9"
      },
      "source": [
        "model = GridSearchCV( SVR(), tunned, scoring='neg_mean_absolute_error', cv = 10, n_jobs=-1)\n",
        "model.fit(X_train, y_train)"
      ],
      "execution_count": 206,
      "outputs": [
        {
          "output_type": "execute_result",
          "data": {
            "text/plain": [
              "GridSearchCV(cv=10, error_score=nan,\n",
              "             estimator=SVR(C=1.0, cache_size=200, coef0=0.0, degree=3,\n",
              "                           epsilon=0.1, gamma='scale', kernel='rbf',\n",
              "                           max_iter=-1, shrinking=True, tol=0.001,\n",
              "                           verbose=False),\n",
              "             iid='deprecated', n_jobs=-1,\n",
              "             param_grid={'C': [0.0001, 0.001, 0.01, 0.1, 1, 10, 100, 1000,\n",
              "                               10000, 100000]},\n",
              "             pre_dispatch='2*n_jobs', refit=True, return_train_score=False,\n",
              "             scoring='neg_mean_absolute_error', verbose=0)"
            ]
          },
          "metadata": {
            "tags": []
          },
          "execution_count": 206
        }
      ]
    },
    {
      "cell_type": "code",
      "metadata": {
        "id": "dvkoQeHiwpdC",
        "colab": {
          "base_uri": "https://localhost:8080/"
        },
        "outputId": "d754939c-6ed2-4d85-afbe-a9851149d861"
      },
      "source": [
        "## Building the model again with the best hyperparameters\n",
        "model.best_estimator_\n",
        "model = SVR(C=100000)\n",
        "model.fit(X_train, y_train)"
      ],
      "execution_count": 207,
      "outputs": [
        {
          "output_type": "execute_result",
          "data": {
            "text/plain": [
              "SVR(C=100000, cache_size=200, coef0=0.0, degree=3, epsilon=0.1, gamma='scale',\n",
              "    kernel='rbf', max_iter=-1, shrinking=True, tol=0.001, verbose=False)"
            ]
          },
          "metadata": {
            "tags": []
          },
          "execution_count": 207
        }
      ]
    },
    {
      "cell_type": "code",
      "metadata": {
        "collapsed": true,
        "id": "DnWLquOzwpdC"
      },
      "source": [
        "## Predict Train results\n",
        "y_train_pred = model.predict(X_train)"
      ],
      "execution_count": 208,
      "outputs": []
    },
    {
      "cell_type": "code",
      "metadata": {
        "collapsed": true,
        "id": "SVsA7tbbwpdC"
      },
      "source": [
        "## Predict Test results\n",
        "y_pred = model.predict(X_test)"
      ],
      "execution_count": 209,
      "outputs": []
    },
    {
      "cell_type": "code",
      "metadata": {
        "id": "OG8q27LjwpdC",
        "colab": {
          "base_uri": "https://localhost:8080/"
        },
        "outputId": "84d06872-a40a-4034-a6ce-cf8d6361a6ed"
      },
      "source": [
        "print(\"Train Results for Support Vector Regression:\")\n",
        "print(\"*******************************\")\n",
        "print(\"Root mean squared error: \", sqrt(mse(y_train.values, y_train_pred)))\n",
        "print(\"R-squared: \", r2_score(y_train.values, y_train_pred))\n",
        "print(\"Mean Absolute Error: \", mae(y_train.values, y_train_pred))"
      ],
      "execution_count": 210,
      "outputs": [
        {
          "output_type": "stream",
          "text": [
            "Train Results for Support Vector Regression:\n",
            "*******************************\n",
            "Root mean squared error:  92635.98583585449\n",
            "R-squared:  0.6278298473664891\n",
            "Mean Absolute Error:  61690.17501401375\n"
          ],
          "name": "stdout"
        }
      ]
    },
    {
      "cell_type": "code",
      "metadata": {
        "id": "m3X2vSsBwpdD",
        "colab": {
          "base_uri": "https://localhost:8080/"
        },
        "outputId": "16baaae4-e660-4aa4-a363-bdeffeb36f5e"
      },
      "source": [
        "print(\"Test Results for Support Vector Regression:\")\n",
        "print(\"*******************************\")\n",
        "print(\"Root mean squared error: \", sqrt(mse(y_test, y_pred)))\n",
        "print(\"R-squared: \", r2_score(y_test, y_pred))\n",
        "print(\"Mean Absolute Error: \", mae(y_test, y_pred))"
      ],
      "execution_count": 211,
      "outputs": [
        {
          "output_type": "stream",
          "text": [
            "Test Results for Support Vector Regression:\n",
            "*******************************\n",
            "Root mean squared error:  105597.73583764039\n",
            "R-squared:  0.5276637714685828\n",
            "Mean Absolute Error:  78398.80968807396\n"
          ],
          "name": "stdout"
        }
      ]
    },
    {
      "cell_type": "markdown",
      "metadata": {
        "id": "oX57rYucwpdE"
      },
      "source": [
        "#### Unfortunately getting feature importance from RBF SVM is non trivial"
      ]
    },
    {
      "cell_type": "markdown",
      "metadata": {
        "id": "5nV97qHswpdE"
      },
      "source": [
        "## Model-4 Random Forest Regression"
      ]
    },
    {
      "cell_type": "code",
      "metadata": {
        "id": "NvH0GsiPm26d"
      },
      "source": [
        "tunned = {'n_estimators': [100, 200, 300, 400, 500], 'min_samples_split': [2, 5, 10], 'min_samples_leaf': [1, 2, 4]}"
      ],
      "execution_count": 215,
      "outputs": []
    },
    {
      "cell_type": "code",
      "metadata": {
        "id": "Ntfs6fEwwpdE",
        "colab": {
          "base_uri": "https://localhost:8080/"
        },
        "outputId": "3b7750e7-f027-408b-a54b-780d6e43b441"
      },
      "source": [
        "model = RandomizedSearchCV( RandomForestRegressor(), tunned, n_iter=20 , scoring='neg_mean_absolute_error', cv = 5, n_jobs=-1)\n",
        "model.fit(X_train, y_train)"
      ],
      "execution_count": 227,
      "outputs": [
        {
          "output_type": "execute_result",
          "data": {
            "text/plain": [
              "RandomizedSearchCV(cv=5, error_score=nan,\n",
              "                   estimator=RandomForestRegressor(bootstrap=True,\n",
              "                                                   ccp_alpha=0.0,\n",
              "                                                   criterion='mse',\n",
              "                                                   max_depth=None,\n",
              "                                                   max_features='auto',\n",
              "                                                   max_leaf_nodes=None,\n",
              "                                                   max_samples=None,\n",
              "                                                   min_impurity_decrease=0.0,\n",
              "                                                   min_impurity_split=None,\n",
              "                                                   min_samples_leaf=1,\n",
              "                                                   min_samples_split=2,\n",
              "                                                   min_weight_fraction_leaf=0.0,\n",
              "                                                   n_estimators=100,\n",
              "                                                   n_jobs=None, oob_score=False,\n",
              "                                                   random_state=None, verbose=0,\n",
              "                                                   warm_start=False),\n",
              "                   iid='deprecated', n_iter=20, n_jobs=-1,\n",
              "                   param_distributions={'min_samples_leaf': [1, 2, 4],\n",
              "                                        'min_samples_split': [2, 5, 10],\n",
              "                                        'n_estimators': [100, 200, 300, 400,\n",
              "                                                         500]},\n",
              "                   pre_dispatch='2*n_jobs', random_state=None, refit=True,\n",
              "                   return_train_score=False, scoring='neg_mean_absolute_error',\n",
              "                   verbose=0)"
            ]
          },
          "metadata": {
            "tags": []
          },
          "execution_count": 227
        }
      ]
    },
    {
      "cell_type": "code",
      "metadata": {
        "id": "rnNHrR36wpdE",
        "colab": {
          "base_uri": "https://localhost:8080/"
        },
        "outputId": "87ea6492-94d5-47f0-c59f-5f53edc8196d"
      },
      "source": [
        "model.best_estimator_"
      ],
      "execution_count": 228,
      "outputs": [
        {
          "output_type": "execute_result",
          "data": {
            "text/plain": [
              "RandomForestRegressor(bootstrap=True, ccp_alpha=0.0, criterion='mse',\n",
              "                      max_depth=None, max_features='auto', max_leaf_nodes=None,\n",
              "                      max_samples=None, min_impurity_decrease=0.0,\n",
              "                      min_impurity_split=None, min_samples_leaf=4,\n",
              "                      min_samples_split=10, min_weight_fraction_leaf=0.0,\n",
              "                      n_estimators=200, n_jobs=None, oob_score=False,\n",
              "                      random_state=None, verbose=0, warm_start=False)"
            ]
          },
          "metadata": {
            "tags": []
          },
          "execution_count": 228
        }
      ]
    },
    {
      "cell_type": "code",
      "metadata": {
        "collapsed": true,
        "id": "bQdG6FWmwpdF"
      },
      "source": [
        "## Predict Train results\n",
        "y_train_pred = model.predict(X_train)"
      ],
      "execution_count": 229,
      "outputs": []
    },
    {
      "cell_type": "code",
      "metadata": {
        "collapsed": true,
        "id": "PxUggDjQwpdF"
      },
      "source": [
        "## Predict Test results\n",
        "y_pred = model.predict(X_test)"
      ],
      "execution_count": 230,
      "outputs": []
    },
    {
      "cell_type": "code",
      "metadata": {
        "id": "7rmbI95-wpdF",
        "colab": {
          "base_uri": "https://localhost:8080/"
        },
        "outputId": "eebf93a1-b0ec-480a-8dc7-b91ed044a5ca"
      },
      "source": [
        "print(\"Train Results for Random Forest Regression:\")\n",
        "print(\"*******************************\")\n",
        "print(\"Root mean squared error: \", sqrt(mse(y_train.values, y_train_pred)))\n",
        "print(\"R-squared: \", r2_score(y_train.values, y_train_pred))\n",
        "print(\"Mean Absolute Error: \", mae(y_train.values, y_train_pred))"
      ],
      "execution_count": 223,
      "outputs": [
        {
          "output_type": "stream",
          "text": [
            "Train Results for Random Forest Regression:\n",
            "*******************************\n",
            "Root mean squared error:  61001.21495127266\n",
            "R-squared:  0.8386165278637355\n",
            "Mean Absolute Error:  44315.50208771846\n"
          ],
          "name": "stdout"
        }
      ]
    },
    {
      "cell_type": "code",
      "metadata": {
        "id": "CNVAgjWGwpdF",
        "colab": {
          "base_uri": "https://localhost:8080/"
        },
        "outputId": "61dcac03-6b5a-4f3b-e4af-4baa581ff313"
      },
      "source": [
        "print(\"Test Results for Random Forest Regression:\")\n",
        "print(\"*******************************\")\n",
        "print(\"Root mean squared error: \", sqrt(mse(y_test, y_pred)))\n",
        "print(\"R-squared: \", r2_score(y_test, y_pred))\n",
        "print(\"Mean Absolute Error: \", mae(y_test, y_pred))"
      ],
      "execution_count": 231,
      "outputs": [
        {
          "output_type": "stream",
          "text": [
            "Test Results for Random Forest Regression:\n",
            "*******************************\n",
            "Root mean squared error:  103449.09923262527\n",
            "R-squared:  0.5466898205073222\n",
            "Mean Absolute Error:  77062.27089509412\n"
          ],
          "name": "stdout"
        }
      ]
    },
    {
      "cell_type": "markdown",
      "metadata": {
        "id": "XargCbPxwpdG"
      },
      "source": [
        "### Feature Importance"
      ]
    },
    {
      "cell_type": "code",
      "metadata": {
        "id": "Wqg1MAxTwpdG",
        "colab": {
          "base_uri": "https://localhost:8080/",
          "height": 197
        },
        "outputId": "f10b9e02-cfb0-4666-fcf0-22254573feb0"
      },
      "source": [
        "## Building the model again with the best hyperparameters\n",
        "model = model.best_estimator_\n",
        "model.fit(X_train, y_train)"
      ],
      "execution_count": 233,
      "outputs": [
        {
          "output_type": "error",
          "ename": "AttributeError",
          "evalue": "ignored",
          "traceback": [
            "\u001b[0;31m---------------------------------------------------------------------------\u001b[0m",
            "\u001b[0;31mAttributeError\u001b[0m                            Traceback (most recent call last)",
            "\u001b[0;32m<ipython-input-233-924c8a23416b>\u001b[0m in \u001b[0;36m<module>\u001b[0;34m()\u001b[0m\n\u001b[1;32m      1\u001b[0m \u001b[0;31m## Building the model again with the best hyperparameters\u001b[0m\u001b[0;34m\u001b[0m\u001b[0;34m\u001b[0m\u001b[0;34m\u001b[0m\u001b[0m\n\u001b[0;32m----> 2\u001b[0;31m \u001b[0mmodel\u001b[0m \u001b[0;34m=\u001b[0m \u001b[0mmodel\u001b[0m\u001b[0;34m.\u001b[0m\u001b[0mbest_estimator_\u001b[0m\u001b[0;34m\u001b[0m\u001b[0;34m\u001b[0m\u001b[0m\n\u001b[0m\u001b[1;32m      3\u001b[0m \u001b[0mmodel\u001b[0m\u001b[0;34m.\u001b[0m\u001b[0mfit\u001b[0m\u001b[0;34m(\u001b[0m\u001b[0mX_train\u001b[0m\u001b[0;34m,\u001b[0m \u001b[0my_train\u001b[0m\u001b[0;34m)\u001b[0m\u001b[0;34m\u001b[0m\u001b[0;34m\u001b[0m\u001b[0m\n",
            "\u001b[0;31mAttributeError\u001b[0m: 'RandomForestRegressor' object has no attribute 'best_estimator_'"
          ]
        }
      ]
    },
    {
      "cell_type": "code",
      "metadata": {
        "id": "wMLwR1MCwpdG",
        "colab": {
          "base_uri": "https://localhost:8080/"
        },
        "outputId": "2aff6ef2-ef77-4f64-9306-5e3c8395166f"
      },
      "source": [
        "indices = np.argsort(-model.feature_importances_)\n",
        "print(\"The features in order of importance are:\")\n",
        "print(50*'-')\n",
        "for feature in X.columns[indices]:\n",
        "    print(feature)"
      ],
      "execution_count": 234,
      "outputs": [
        {
          "output_type": "stream",
          "text": [
            "The features in order of importance are:\n",
            "--------------------------------------------------\n",
            "tax_and_insurance\n",
            "property_age\n",
            "sqft\n",
            "lot_size\n",
            "college_grad\n",
            "median_age\n",
            "married\n",
            "during_recession\n",
            "beauty_spas\n",
            "active_life\n",
            "shopping\n",
            "school_score\n",
            "restaurants\n",
            "median_school\n",
            "groceries\n",
            "arts_entertainment\n",
            "old_properties\n",
            "cafes\n",
            "baths\n",
            "beds\n",
            "exterior_walls_Missing\n",
            "exterior_walls_Siding (Alum/Vinyl)\n",
            "exterior_walls_Brick\n",
            "roof_Composition Shingle\n",
            "roof_Missing\n",
            "num_schools\n",
            "roof_Asphalt\n",
            "exterior_walls_Metal\n",
            "exterior_walls_Wood\n",
            "property_type_Apartment / Condo / Townhouse\n",
            "roof_Shake Shingle\n",
            "roof_Other\n",
            "exterior_walls_Brick veneer\n",
            "property_type_Single-Family\n",
            "two_and_two\n",
            "exterior_walls_Combination\n",
            "exterior_walls_Other\n"
          ],
          "name": "stdout"
        }
      ]
    },
    {
      "cell_type": "markdown",
      "metadata": {
        "id": "78EvTgglwpdG"
      },
      "source": [
        "## Model-5 XGBoost Regression"
      ]
    },
    {
      "cell_type": "code",
      "metadata": {
        "id": "a_GMxJaEwpdH",
        "colab": {
          "base_uri": "https://localhost:8080/"
        },
        "outputId": "12ebc448-a758-45f7-f059-599fdde427d4"
      },
      "source": [
        "## Reference for random search on xgboost\n",
        "tuned_params = {'max_depth': [1, 2, 3, 4, 5], 'learning_rate': [0.01, 0.05, 0.1], 'n_estimators': [100, 200, 300, 400, 500], 'reg_lambda': [0.001, 0.1, 1.0, 10.0, 100.0]}\n",
        "model = RandomizedSearchCV(XGBRegressor(), tuned_params, n_iter=20, scoring = 'neg_mean_absolute_error', cv=5, n_jobs=-1)\n",
        "model.fit(X_train, y_train)"
      ],
      "execution_count": 235,
      "outputs": [
        {
          "output_type": "stream",
          "text": [
            "[04:23:18] WARNING: /workspace/src/objective/regression_obj.cu:152: reg:linear is now deprecated in favor of reg:squarederror.\n"
          ],
          "name": "stdout"
        },
        {
          "output_type": "execute_result",
          "data": {
            "text/plain": [
              "RandomizedSearchCV(cv=5, error_score=nan,\n",
              "                   estimator=XGBRegressor(base_score=0.5, booster='gbtree',\n",
              "                                          colsample_bylevel=1,\n",
              "                                          colsample_bynode=1,\n",
              "                                          colsample_bytree=1, gamma=0,\n",
              "                                          importance_type='gain',\n",
              "                                          learning_rate=0.1, max_delta_step=0,\n",
              "                                          max_depth=3, min_child_weight=1,\n",
              "                                          missing=None, n_estimators=100,\n",
              "                                          n_jobs=1, nthread=None,\n",
              "                                          objective='reg:linear',\n",
              "                                          random_state=0, reg_alpha=...\n",
              "                                          seed=None, silent=None, subsample=1,\n",
              "                                          verbosity=1),\n",
              "                   iid='deprecated', n_iter=20, n_jobs=-1,\n",
              "                   param_distributions={'learning_rate': [0.01, 0.05, 0.1],\n",
              "                                        'max_depth': [1, 2, 3, 4, 5],\n",
              "                                        'n_estimators': [100, 200, 300, 400,\n",
              "                                                         500],\n",
              "                                        'reg_lambda': [0.001, 0.1, 1.0, 10.0,\n",
              "                                                       100.0]},\n",
              "                   pre_dispatch='2*n_jobs', random_state=None, refit=True,\n",
              "                   return_train_score=False, scoring='neg_mean_absolute_error',\n",
              "                   verbose=0)"
            ]
          },
          "metadata": {
            "tags": []
          },
          "execution_count": 235
        }
      ]
    },
    {
      "cell_type": "code",
      "metadata": {
        "id": "7oFxd9pAwpdH",
        "colab": {
          "base_uri": "https://localhost:8080/"
        },
        "outputId": "522459e8-6581-407e-a15f-e5823414b37d"
      },
      "source": [
        "model.best_estimator_"
      ],
      "execution_count": 236,
      "outputs": [
        {
          "output_type": "execute_result",
          "data": {
            "text/plain": [
              "XGBRegressor(base_score=0.5, booster='gbtree', colsample_bylevel=1,\n",
              "             colsample_bynode=1, colsample_bytree=1, gamma=0,\n",
              "             importance_type='gain', learning_rate=0.05, max_delta_step=0,\n",
              "             max_depth=2, min_child_weight=1, missing=None, n_estimators=400,\n",
              "             n_jobs=1, nthread=None, objective='reg:linear', random_state=0,\n",
              "             reg_alpha=0, reg_lambda=10.0, scale_pos_weight=1, seed=None,\n",
              "             silent=None, subsample=1, verbosity=1)"
            ]
          },
          "metadata": {
            "tags": []
          },
          "execution_count": 236
        }
      ]
    },
    {
      "cell_type": "code",
      "metadata": {
        "collapsed": true,
        "id": "77hK_1P8wpdH"
      },
      "source": [
        "## Predict Train results\n",
        "y_train_pred = model.predict(X_train)"
      ],
      "execution_count": 237,
      "outputs": []
    },
    {
      "cell_type": "code",
      "metadata": {
        "collapsed": true,
        "id": "vCvK732lwpdI"
      },
      "source": [
        "## Predict Test results\n",
        "y_pred = model.predict(X_test)"
      ],
      "execution_count": 238,
      "outputs": []
    },
    {
      "cell_type": "code",
      "metadata": {
        "id": "NJg9JkUswpdJ",
        "colab": {
          "base_uri": "https://localhost:8080/"
        },
        "outputId": "3ed02abc-79f5-4fa0-d8d1-d4edbf32092f"
      },
      "source": [
        "print(\"Train Results for XGBoost Regression:\")\n",
        "print(\"*******************************\")\n",
        "print(\"Root mean squared error: \", sqrt(mse(y_train.values, y_train_pred)))\n",
        "print(\"R-squared: \", rs(y_train.values, y_train_pred))\n",
        "print(\"Mean Absolute Error: \", mae(y_train.values, y_train_pred))"
      ],
      "execution_count": 239,
      "outputs": [
        {
          "output_type": "stream",
          "text": [
            "Train Results for XGBoost Regression:\n",
            "*******************************\n",
            "Root mean squared error:  86208.39285345361\n",
            "R-squared:  0.6776845060637402\n",
            "Mean Absolute Error:  65138.13094088099\n"
          ],
          "name": "stdout"
        }
      ]
    },
    {
      "cell_type": "code",
      "metadata": {
        "id": "6pggWbSqwpdJ",
        "colab": {
          "base_uri": "https://localhost:8080/"
        },
        "outputId": "74e50aec-2c78-418e-c52c-3c838f6f8bde"
      },
      "source": [
        "print(\"Test Results for XGBoost Regression:\")\n",
        "print(\"*******************************\")\n",
        "print(\"Root mean squared error: \", sqrt(mse(y_test, y_pred)))\n",
        "print(\"R-squared: \", r2_score(y_test, y_pred))\n",
        "print(\"Mean Absolute Error: \", mae(y_test, y_pred))"
      ],
      "execution_count": 240,
      "outputs": [
        {
          "output_type": "stream",
          "text": [
            "Test Results for XGBoost Regression:\n",
            "*******************************\n",
            "Root mean squared error:  102976.89919475702\n",
            "R-squared:  0.5508187023632769\n",
            "Mean Absolute Error:  75468.75414737655\n"
          ],
          "name": "stdout"
        }
      ]
    },
    {
      "cell_type": "markdown",
      "metadata": {
        "id": "sRdXgBvUwpdJ"
      },
      "source": [
        "### Feature Importance"
      ]
    },
    {
      "cell_type": "code",
      "metadata": {
        "id": "bdM1D8xkwpdJ",
        "colab": {
          "base_uri": "https://localhost:8080/"
        },
        "outputId": "b8f1ccd7-eee6-42e3-d594-7de8e5ec8cd6"
      },
      "source": [
        "## Building the model again with the best hyperparameters\n",
        "model = model.best_estimator_\n",
        "model.fit(X_train, y_train)"
      ],
      "execution_count": 241,
      "outputs": [
        {
          "output_type": "stream",
          "text": [
            "[04:23:19] WARNING: /workspace/src/objective/regression_obj.cu:152: reg:linear is now deprecated in favor of reg:squarederror.\n"
          ],
          "name": "stdout"
        },
        {
          "output_type": "execute_result",
          "data": {
            "text/plain": [
              "XGBRegressor(base_score=0.5, booster='gbtree', colsample_bylevel=1,\n",
              "             colsample_bynode=1, colsample_bytree=1, gamma=0,\n",
              "             importance_type='gain', learning_rate=0.05, max_delta_step=0,\n",
              "             max_depth=2, min_child_weight=1, missing=None, n_estimators=400,\n",
              "             n_jobs=1, nthread=None, objective='reg:linear', random_state=0,\n",
              "             reg_alpha=0, reg_lambda=10.0, scale_pos_weight=1, seed=None,\n",
              "             silent=None, subsample=1, verbosity=1)"
            ]
          },
          "metadata": {
            "tags": []
          },
          "execution_count": 241
        }
      ]
    },
    {
      "cell_type": "code",
      "metadata": {
        "collapsed": true,
        "id": "dDFsDmNJwpdK"
      },
      "source": [
        "## Function to include figsize parameter\n",
        "## Reference: https://stackoverflow.com/questions/40081888/xgboost-plot-importance-figure-size\n",
        "def my_plot_importance(booster, figsize, **kwargs): \n",
        "    from matplotlib import pyplot as plt\n",
        "    from xgboost import plot_importance\n",
        "    fig, ax = plt.subplots(1,1,figsize=figsize)\n",
        "    return plot_importance(booster=booster, ax=ax, **kwargs)"
      ],
      "execution_count": 242,
      "outputs": []
    },
    {
      "cell_type": "code",
      "metadata": {
        "id": "oawGVr08wpdK",
        "colab": {
          "base_uri": "https://localhost:8080/",
          "height": 571
        },
        "outputId": "6936fc52-9d98-4b2d-fa3a-048a0172da89"
      },
      "source": [
        "my_plot_importance(model, (10,10))"
      ],
      "execution_count": 243,
      "outputs": [
        {
          "output_type": "execute_result",
          "data": {
            "text/plain": [
              "<matplotlib.axes._subplots.AxesSubplot at 0x7fe0828b25d0>"
            ]
          },
          "metadata": {
            "tags": []
          },
          "execution_count": 243
        },
        {
          "output_type": "display_data",
          "data": {
            "image/png": "[encoded data removed]",
            "text/plain": [
              "<Figure size 720x720 with 1 Axes>"
            ]
          },
          "metadata": {
            "tags": [],
            "needs_background": "light"
          }
        }
      ]
    },
    {
      "cell_type": "markdown",
      "metadata": {
        "id": "SeHEu71EwpdK"
      },
      "source": [
        "## Model-6 Lasso Regression"
      ]
    },
    {
      "cell_type": "markdown",
      "metadata": {
        "id": "EHltRsFbZX0N"
      },
      "source": [
        "`alpha: [0.0001, 0.001, 0.01, 0.1, 1, 10, 100, 1000, 10000, 100000]`"
      ]
    },
    {
      "cell_type": "code",
      "metadata": {
        "id": "5BuKAk-zwpdK",
        "colab": {
          "base_uri": "https://localhost:8080/"
        },
        "outputId": "c317391b-21b7-45d9-b95a-636975bb4a2f"
      },
      "source": [
        "tuned_params = {'alpha': [0.0001, 0.001, 0.01, 0.1, 1, 10, 100, 1000, 10000, 100000]}\n",
        "model = GridSearchCV(Lasso(), tuned_params, scoring = 'neg_mean_absolute_error', cv=20, n_jobs=-1)\n",
        "model.fit(X_train, y_train)"
      ],
      "execution_count": 244,
      "outputs": [
        {
          "output_type": "execute_result",
          "data": {
            "text/plain": [
              "GridSearchCV(cv=20, error_score=nan,\n",
              "             estimator=Lasso(alpha=1.0, copy_X=True, fit_intercept=True,\n",
              "                             max_iter=1000, normalize=False, positive=False,\n",
              "                             precompute=False, random_state=None,\n",
              "                             selection='cyclic', tol=0.0001, warm_start=False),\n",
              "             iid='deprecated', n_jobs=-1,\n",
              "             param_grid={'alpha': [0.0001, 0.001, 0.01, 0.1, 1, 10, 100, 1000,\n",
              "                                   10000, 100000]},\n",
              "             pre_dispatch='2*n_jobs', refit=True, return_train_score=False,\n",
              "             scoring='neg_mean_absolute_error', verbose=0)"
            ]
          },
          "metadata": {
            "tags": []
          },
          "execution_count": 244
        }
      ]
    },
    {
      "cell_type": "code",
      "metadata": {
        "id": "iMcSZQugwpdK",
        "colab": {
          "base_uri": "https://localhost:8080/"
        },
        "outputId": "96d21e23-5e11-48d4-ade9-bd5d8504656a"
      },
      "source": [
        "model.best_estimator_"
      ],
      "execution_count": 245,
      "outputs": [
        {
          "output_type": "execute_result",
          "data": {
            "text/plain": [
              "Lasso(alpha=1000, copy_X=True, fit_intercept=True, max_iter=1000,\n",
              "      normalize=False, positive=False, precompute=False, random_state=None,\n",
              "      selection='cyclic', tol=0.0001, warm_start=False)"
            ]
          },
          "metadata": {
            "tags": []
          },
          "execution_count": 245
        }
      ]
    },
    {
      "cell_type": "code",
      "metadata": {
        "collapsed": true,
        "id": "qJ-X08ePwpdL"
      },
      "source": [
        "## Predict Train results\n",
        "y_train_pred = model.predict(X_train)"
      ],
      "execution_count": 246,
      "outputs": []
    },
    {
      "cell_type": "code",
      "metadata": {
        "collapsed": true,
        "id": "jeOGYDH9wpdL"
      },
      "source": [
        "## Predict Test results\n",
        "y_pred = model.predict(X_test)"
      ],
      "execution_count": 247,
      "outputs": []
    },
    {
      "cell_type": "code",
      "metadata": {
        "id": "4hObXQ4IwpdL",
        "colab": {
          "base_uri": "https://localhost:8080/"
        },
        "outputId": "f922d55d-92fa-49e9-f227-aa014fdd6644"
      },
      "source": [
        "print(\"Train Results for Lasso Regression:\")\n",
        "print(\"*******************************\")\n",
        "print(\"Root mean squared error: \", sqrt(mse(y_train.values, y_train_pred)))\n",
        "print(\"R-squared: \", rs(y_train.values, y_train_pred))\n",
        "print(\"Mean Absolute Error: \", mae(y_train.values, y_train_pred))"
      ],
      "execution_count": 248,
      "outputs": [
        {
          "output_type": "stream",
          "text": [
            "Train Results for Lasso Regression:\n",
            "*******************************\n",
            "Root mean squared error:  114545.85321462691\n",
            "R-squared:  0.4309625778588222\n",
            "Mean Absolute Error:  89000.11926912071\n"
          ],
          "name": "stdout"
        }
      ]
    },
    {
      "cell_type": "code",
      "metadata": {
        "id": "SVFR0t-8wpdL",
        "colab": {
          "base_uri": "https://localhost:8080/"
        },
        "outputId": "7b882688-8012-4ea1-8272-e15ceb7947cd"
      },
      "source": [
        "print(\"Test Results for Lasso Regression:\")\n",
        "print(\"*******************************\")\n",
        "print(\"Root mean squared error: \", sqrt(mse(y_test, y_pred)))\n",
        "print(\"R-squared: \", rs(y_test, y_pred))\n",
        "print(\"Mean Absolute Error: \", mae(y_test, y_pred))"
      ],
      "execution_count": 249,
      "outputs": [
        {
          "output_type": "stream",
          "text": [
            "Test Results for Lasso Regression:\n",
            "*******************************\n",
            "Root mean squared error:  114439.37612570991\n",
            "R-squared:  0.44525549655338215\n",
            "Mean Absolute Error:  89426.60063786453\n"
          ],
          "name": "stdout"
        }
      ]
    },
    {
      "cell_type": "markdown",
      "metadata": {
        "id": "htmSXjyTwpdM"
      },
      "source": [
        "### Feature Importance"
      ]
    },
    {
      "cell_type": "code",
      "metadata": {
        "id": "TAsFSotewpdM",
        "colab": {
          "base_uri": "https://localhost:8080/"
        },
        "outputId": "2156dd7d-0899-4456-862b-2cdb5f108f21"
      },
      "source": [
        "## Building the model again with the best hyperparameters\n",
        "model = Lasso(alpha=1000)\n",
        "model.fit(X_train, y_train)"
      ],
      "execution_count": 250,
      "outputs": [
        {
          "output_type": "execute_result",
          "data": {
            "text/plain": [
              "Lasso(alpha=1000, copy_X=True, fit_intercept=True, max_iter=1000,\n",
              "      normalize=False, positive=False, precompute=False, random_state=None,\n",
              "      selection='cyclic', tol=0.0001, warm_start=False)"
            ]
          },
          "metadata": {
            "tags": []
          },
          "execution_count": 250
        }
      ]
    },
    {
      "cell_type": "code",
      "metadata": {
        "id": "3xgcA0jmwpdM",
        "colab": {
          "base_uri": "https://localhost:8080/"
        },
        "outputId": "4462d9ce-9f03-4008-d290-4d9ec501cbc8"
      },
      "source": [
        "indices = np.argsort(-abs(model.coef_))\n",
        "print(\"The features in order of importance are:\")\n",
        "print(50*'-')\n",
        "for feature in X.columns[indices]:\n",
        "    print(feature)"
      ],
      "execution_count": 251,
      "outputs": [
        {
          "output_type": "stream",
          "text": [
            "The features in order of importance are:\n",
            "--------------------------------------------------\n",
            "sqft\n",
            "old_properties\n",
            "tax_and_insurance\n",
            "college_grad\n",
            "property_age\n",
            "beds\n",
            "property_type_Apartment / Condo / Townhouse\n",
            "baths\n",
            "beauty_spas\n",
            "restaurants\n",
            "exterior_walls_Missing\n",
            "active_life\n",
            "exterior_walls_Wood\n",
            "during_recession\n",
            "exterior_walls_Combination\n",
            "groceries\n",
            "cafes\n",
            "roof_Other\n",
            "roof_Composition Shingle\n",
            "exterior_walls_Brick\n",
            "exterior_walls_Siding (Alum/Vinyl)\n",
            "median_age\n",
            "exterior_walls_Brick veneer\n",
            "married\n",
            "lot_size\n",
            "two_and_two\n",
            "roof_Missing\n",
            "roof_Asphalt\n",
            "roof_Shake Shingle\n",
            "school_score\n",
            "exterior_walls_Metal\n",
            "num_schools\n",
            "median_school\n",
            "arts_entertainment\n",
            "shopping\n",
            "exterior_walls_Other\n",
            "property_type_Single-Family\n"
          ],
          "name": "stdout"
        }
      ]
    },
    {
      "cell_type": "markdown",
      "metadata": {
        "id": "CiROHPKYwpdN"
      },
      "source": [
        "## Model-7 Descision Tree Regression"
      ]
    },
    {
      "cell_type": "code",
      "metadata": {
        "id": "Yl7hJgRywpdN"
      },
      "source": [
        "tuned_params = {'min_samples_split': [2, 3, 4, 5, 7], 'min_samples_leaf': [1, 2, 3, 4, 6], 'max_depth': [2, 3, 4, 5, 6, 7]}\n",
        "model = RandomizedSearchCV(DecisionTreeRegressor(), tuned_params, n_iter=20, scoring = 'neg_mean_absolute_error', cv=10, n_jobs=-1)\n",
        "model.fit(X_train, y_train)"
      ],
      "execution_count": null,
      "outputs": []
    },
    {
      "cell_type": "code",
      "metadata": {
        "id": "lSFhyyXLwpdN",
        "colab": {
          "base_uri": "https://localhost:8080/"
        },
        "outputId": "f9ebec8e-1ab0-4c17-c76d-3dca20c85e1c"
      },
      "source": [
        "model.best_estimator_"
      ],
      "execution_count": 253,
      "outputs": [
        {
          "output_type": "execute_result",
          "data": {
            "text/plain": [
              "DecisionTreeRegressor(ccp_alpha=0.0, criterion='mse', max_depth=4,\n",
              "                      max_features=None, max_leaf_nodes=None,\n",
              "                      min_impurity_decrease=0.0, min_impurity_split=None,\n",
              "                      min_samples_leaf=3, min_samples_split=7,\n",
              "                      min_weight_fraction_leaf=0.0, presort='deprecated',\n",
              "                      random_state=None, splitter='best')"
            ]
          },
          "metadata": {
            "tags": []
          },
          "execution_count": 253
        }
      ]
    },
    {
      "cell_type": "code",
      "metadata": {
        "collapsed": true,
        "id": "wintxL0YwpdN"
      },
      "source": [
        "## Predict Train results\n",
        "y_train_pred = model.predict(X_train)"
      ],
      "execution_count": 254,
      "outputs": []
    },
    {
      "cell_type": "code",
      "metadata": {
        "collapsed": true,
        "id": "SJeDEerRwpdN"
      },
      "source": [
        "## Predict Test results\n",
        "y_pred = model.predict(X_test)"
      ],
      "execution_count": 255,
      "outputs": []
    },
    {
      "cell_type": "code",
      "metadata": {
        "id": "VK5PNGeqwpdO",
        "colab": {
          "base_uri": "https://localhost:8080/"
        },
        "outputId": "2b308fc5-b71e-4cb5-9469-12c1de54cb53"
      },
      "source": [
        "print(\"Train Results for Decision Tree Regression:\")\n",
        "print(\"*******************************\")\n",
        "print(\"Root mean squared error: \", sqrt(mse(y_train.values, y_train_pred)))\n",
        "print(\"R-squared: \", rs(y_train.values, y_train_pred))\n",
        "print(\"Mean Absolute Error: \", mae(y_train.values, y_train_pred))"
      ],
      "execution_count": 256,
      "outputs": [
        {
          "output_type": "stream",
          "text": [
            "Train Results for Decision Tree Regression:\n",
            "*******************************\n",
            "Root mean squared error:  100738.95181946733\n",
            "R-squared:  0.5598740852056506\n",
            "Mean Absolute Error:  75314.89095129052\n"
          ],
          "name": "stdout"
        }
      ]
    },
    {
      "cell_type": "code",
      "metadata": {
        "id": "qQcO63YmwpdO",
        "colab": {
          "base_uri": "https://localhost:8080/"
        },
        "outputId": "7e71280f-f9a5-4e78-8358-4ed9099b247b"
      },
      "source": [
        "print(\"Test Results for Decision Tree Regression:\")\n",
        "print(\"*******************************\")\n",
        "print(\"Root mean squared error: \", sqrt(mse(y_test, y_pred)))\n",
        "print(\"R-squared: \", rs(y_test, y_pred))\n",
        "print(\"Mean Absolute Error: \", mae(y_test, y_pred))"
      ],
      "execution_count": 257,
      "outputs": [
        {
          "output_type": "stream",
          "text": [
            "Test Results for Decision Tree Regression:\n",
            "*******************************\n",
            "Root mean squared error:  108392.91389967181\n",
            "R-squared:  0.502327288957964\n",
            "Mean Absolute Error:  81767.06151367606\n"
          ],
          "name": "stdout"
        }
      ]
    },
    {
      "cell_type": "markdown",
      "metadata": {
        "id": "9K6xuIZ7wpdO"
      },
      "source": [
        "## Model-8 KN Regression"
      ]
    },
    {
      "cell_type": "code",
      "metadata": {
        "id": "gzIzXXuSwpdO",
        "colab": {
          "base_uri": "https://localhost:8080/"
        },
        "outputId": "0eb04973-23d8-44db-b8dd-9bd3b8aa157c"
      },
      "source": [
        "# creating odd list of K for KNN\n",
        "neighbors = list(range(1,100,2))\n",
        "# empty list that will hold cv scores\n",
        "cv_scores = []\n",
        "\n",
        "# perform 10-fold cross validation\n",
        "for k in neighbors:\n",
        "    knn = KNeighborsRegressor(n_neighbors=k)\n",
        "    scores = cross_val_score(knn, X_train,y_train, cv=10, scoring='neg_mean_absolute_error')\n",
        "    cv_scores.append(scores.mean())\n",
        "\n",
        "# changing to misclassification error\n",
        "MSE = [1 - x for x in cv_scores]\n",
        "\n",
        "# determining best k\n",
        "optimal_k = neighbors[MSE.index(min(MSE))]\n",
        "print('\\nThe optimal number of neighbors is %d.' % optimal_k)"
      ],
      "execution_count": 260,
      "outputs": [
        {
          "output_type": "stream",
          "text": [
            "\n",
            "The optimal number of neighbors is 13.\n"
          ],
          "name": "stdout"
        }
      ]
    },
    {
      "cell_type": "code",
      "metadata": {
        "id": "8nHXnXNfwpdP",
        "colab": {
          "base_uri": "https://localhost:8080/"
        },
        "outputId": "d4ed2003-302b-4bb3-e406-55135b8d728e"
      },
      "source": [
        "model = KNeighborsRegressor(n_neighbors = optimal_k)\n",
        "model.fit(X_train, y_train)"
      ],
      "execution_count": 261,
      "outputs": [
        {
          "output_type": "execute_result",
          "data": {
            "text/plain": [
              "KNeighborsRegressor(algorithm='auto', leaf_size=30, metric='minkowski',\n",
              "                    metric_params=None, n_jobs=None, n_neighbors=13, p=2,\n",
              "                    weights='uniform')"
            ]
          },
          "metadata": {
            "tags": []
          },
          "execution_count": 261
        }
      ]
    },
    {
      "cell_type": "code",
      "metadata": {
        "collapsed": true,
        "id": "TFSsB7fIwpdP"
      },
      "source": [
        "## Predict Train results\n",
        "y_train_pred = model.predict(X_train)"
      ],
      "execution_count": 262,
      "outputs": []
    },
    {
      "cell_type": "code",
      "metadata": {
        "collapsed": true,
        "id": "_9yu146YwpdP"
      },
      "source": [
        "## Predict Test results\n",
        "y_pred = model.predict(X_test)"
      ],
      "execution_count": 263,
      "outputs": []
    },
    {
      "cell_type": "code",
      "metadata": {
        "id": "-4xk-hP2wpdP",
        "colab": {
          "base_uri": "https://localhost:8080/"
        },
        "outputId": "aebb93d6-c4c4-4126-e16e-13096c3acf37"
      },
      "source": [
        "print(\"Train Results for KN Regression:\")\n",
        "print(\"*******************************\")\n",
        "print(\"Root mean squared error: \", sqrt(mse(y_train.values, y_train_pred)))\n",
        "print(\"R-squared: \", rs(y_train.values, y_train_pred))\n",
        "print(\"Mean Absolute Error: \", mae(y_train.values, y_train_pred))"
      ],
      "execution_count": 264,
      "outputs": [
        {
          "output_type": "stream",
          "text": [
            "Train Results for KN Regression:\n",
            "*******************************\n",
            "Root mean squared error:  113898.89184141133\n",
            "R-squared:  0.4373723355117849\n",
            "Mean Absolute Error:  89558.8607775532\n"
          ],
          "name": "stdout"
        }
      ]
    },
    {
      "cell_type": "code",
      "metadata": {
        "id": "7cvj5gVFwpdQ",
        "colab": {
          "base_uri": "https://localhost:8080/"
        },
        "outputId": "371c32cf-a479-46e6-b65d-6044d026d99d"
      },
      "source": [
        "print(\"Test Results for KN Regression:\")\n",
        "print(\"*******************************\")\n",
        "print(\"Root mean squared error: \", sqrt(mse(y_test, y_pred)))\n",
        "print(\"R-squared: \", rs(y_test, y_pred))\n",
        "print(\"Mean Absolute Error: \", mae(y_test, y_pred))"
      ],
      "execution_count": 265,
      "outputs": [
        {
          "output_type": "stream",
          "text": [
            "Test Results for KN Regression:\n",
            "*******************************\n",
            "Root mean squared error:  124225.96100660099\n",
            "R-squared:  0.34631762568598934\n",
            "Mean Absolute Error:  97103.99097815763\n"
          ],
          "name": "stdout"
        }
      ]
    },
    {
      "cell_type": "markdown",
      "metadata": {
        "id": "_RGRCaDnwpdQ"
      },
      "source": [
        "## Compare all models"
      ]
    },
    {
      "cell_type": "markdown",
      "metadata": {
        "id": "txSjO_hJwpdR"
      },
      "source": [
        "**What is the winning Model**"
      ]
    },
    {
      "cell_type": "markdown",
      "metadata": {
        "id": "hY546dCDwpdR"
      },
      "source": [
        "# Save the winning model to disk"
      ]
    },
    {
      "cell_type": "code",
      "metadata": {
        "id": "BmndpF29wpdR"
      },
      "source": [
        "win_model = RandomForestRegressor(n_estimators=200, min_samples_split=10, min_samples_leaf=2)\n",
        "win_model.fit(X_train, y_train)\n",
        "with open('rfr_real_estate.pkl', 'wb') as pickle_file:\n",
        "       joblib.dump(win_model, 'rfr_real_estate.pkl') "
      ],
      "execution_count": 266,
      "outputs": []
    }
  ]
}