{
  "nbformat": 4,
  "nbformat_minor": 0,
  "metadata": {
    "kernelspec": {
      "display_name": "Python 3",
      "language": "python",
      "name": "python3"
    },
    "language_info": {
      "codemirror_mode": {
        "name": "ipython",
        "version": 3
      },
      "file_extension": ".py",
      "mimetype": "text/x-python",
      "name": "python",
      "nbconvert_exporter": "python",
      "pygments_lexer": "ipython3",
      "version": "3.5.2"
    },
    "colab": {
      "name": "lab1-pandas-Data structures.ipynb",
      "provenance": [],
      "collapsed_sections": [],
      "toc_visible": true
    }
  },
  "cells": [
    {
      "cell_type": "code",
      "metadata": {
        "id": "6VGZYxPERdDi"
      },
      "source": [
        "import pandas as pd"
      ],
      "execution_count": 2,
      "outputs": []
    },
    {
      "cell_type": "code",
      "metadata": {
        "id": "OOCYkWYvRdDn"
      },
      "source": [
        "%matplotlib inline\n",
        "import numpy as np\n",
        "import matplotlib.pyplot as plt\n",
        "try:\n",
        "    import seaborn\n",
        "except ImportError:\n",
        "    pass"
      ],
      "execution_count": 3,
      "outputs": []
    },
    {
      "cell_type": "markdown",
      "metadata": {
        "id": "2JTHqfWlRdDq"
      },
      "source": [
        "# Tabular data"
      ]
    },
    {
      "cell_type": "code",
      "metadata": {
        "id": "vXUZO2wzRdDq"
      },
      "source": [
        "# Here is just the sample dir, you should correct your dir\n",
        "df = pd.read_csv(\"titanic.csv\")"
      ],
      "execution_count": 4,
      "outputs": []
    },
    {
      "cell_type": "markdown",
      "metadata": {
        "id": "H9VG2_NwmkaS"
      },
      "source": [
        "## Practice 1"
      ]
    },
    {
      "cell_type": "markdown",
      "metadata": {
        "id": "FXkMASrAle6o"
      },
      "source": [
        "**Print out top rows in the data**"
      ]
    },
    {
      "cell_type": "code",
      "metadata": {
        "id": "WXw4HumTl7Y0",
        "colab": {
          "base_uri": "https://localhost:8080/",
          "height": 78
        },
        "outputId": "cd6b0e31-b3e7-410a-f71f-d51a59a8434d"
      },
      "source": [
        "df.head(1)"
      ],
      "execution_count": 5,
      "outputs": [
        {
          "output_type": "execute_result",
          "data": {
            "text/html": [
              "<div>\n",
              "<style scoped>\n",
              "    .dataframe tbody tr th:only-of-type {\n",
              "        vertical-align: middle;\n",
              "    }\n",
              "\n",
              "    .dataframe tbody tr th {\n",
              "        vertical-align: top;\n",
              "    }\n",
              "\n",
              "    .dataframe thead th {\n",
              "        text-align: right;\n",
              "    }\n",
              "</style>\n",
              "<table border=\"1\" class=\"dataframe\">\n",
              "  <thead>\n",
              "    <tr style=\"text-align: right;\">\n",
              "      <th></th>\n",
              "      <th>PassengerId</th>\n",
              "      <th>Survived</th>\n",
              "      <th>Pclass</th>\n",
              "      <th>Name</th>\n",
              "      <th>Sex</th>\n",
              "      <th>Age</th>\n",
              "      <th>SibSp</th>\n",
              "      <th>Parch</th>\n",
              "      <th>Ticket</th>\n",
              "      <th>Fare</th>\n",
              "      <th>Cabin</th>\n",
              "      <th>Embarked</th>\n",
              "    </tr>\n",
              "  </thead>\n",
              "  <tbody>\n",
              "    <tr>\n",
              "      <th>0</th>\n",
              "      <td>1</td>\n",
              "      <td>0</td>\n",
              "      <td>3</td>\n",
              "      <td>Braund, Mr. Owen Harris</td>\n",
              "      <td>male</td>\n",
              "      <td>22.0</td>\n",
              "      <td>1</td>\n",
              "      <td>0</td>\n",
              "      <td>A/5 21171</td>\n",
              "      <td>7.25</td>\n",
              "      <td>NaN</td>\n",
              "      <td>S</td>\n",
              "    </tr>\n",
              "  </tbody>\n",
              "</table>\n",
              "</div>"
            ],
            "text/plain": [
              "   PassengerId  Survived  Pclass  ...  Fare Cabin  Embarked\n",
              "0            1         0       3  ...  7.25   NaN         S\n",
              "\n",
              "[1 rows x 12 columns]"
            ]
          },
          "metadata": {
            "tags": []
          },
          "execution_count": 5
        }
      ]
    },
    {
      "cell_type": "markdown",
      "metadata": {
        "id": "cR1hiKqwRdDx"
      },
      "source": [
        "Starting from reading this dataset, to answering questions about this data in a few lines of code:"
      ]
    },
    {
      "cell_type": "markdown",
      "metadata": {
        "id": "Z0Dt1xZbRdDy"
      },
      "source": [
        "**What is the age distribution of the passengers?**"
      ]
    },
    {
      "cell_type": "code",
      "metadata": {
        "id": "hSkNMcDHRdDy",
        "colab": {
          "base_uri": "https://localhost:8080/",
          "height": 283
        },
        "outputId": "15cd9891-cb87-4ed6-fe2e-20d029f8f7e8"
      },
      "source": [
        "df['Age'].hist()"
      ],
      "execution_count": 6,
      "outputs": [
        {
          "output_type": "execute_result",
          "data": {
            "text/plain": [
              "<matplotlib.axes._subplots.AxesSubplot at 0x7fe322d4dc50>"
            ]
          },
          "metadata": {
            "tags": []
          },
          "execution_count": 6
        },
        {
          "output_type": "display_data",
          "data": {
            "image/png": "[encoded data removed]",
            "text/plain": [
              "<Figure size 432x288 with 1 Axes>"
            ]
          },
          "metadata": {
            "tags": [],
            "needs_background": "light"
          }
        }
      ]
    },
    {
      "cell_type": "markdown",
      "metadata": {
        "id": "7Lm_V4LtRdD1"
      },
      "source": [
        "**How does the survival rate of the passengers differ between sexes?**"
      ]
    },
    {
      "cell_type": "code",
      "metadata": {
        "id": "ZQusrPSURdD2",
        "colab": {
          "base_uri": "https://localhost:8080/",
          "height": 283
        },
        "outputId": "c1f2d24c-2de7-4811-8642-93c56392af7b"
      },
      "source": [
        "d = df.loc[df['Survived'] ==1]\r\n",
        "d['Sex'].hist()"
      ],
      "execution_count": 11,
      "outputs": [
        {
          "output_type": "execute_result",
          "data": {
            "text/plain": [
              "<matplotlib.axes._subplots.AxesSubplot at 0x7fe321497450>"
            ]
          },
          "metadata": {
            "tags": []
          },
          "execution_count": 11
        },
        {
          "output_type": "display_data",
          "data": {
            "image/png": "[encoded data removed]",
            "text/plain": [
              "<Figure size 432x288 with 1 Axes>"
            ]
          },
          "metadata": {
            "tags": [],
            "needs_background": "light"
          }
        }
      ]
    },
    {
      "cell_type": "markdown",
      "metadata": {
        "id": "gpQwb2qpRdD5"
      },
      "source": [
        "**Or how does it differ between the different classes?**"
      ]
    },
    {
      "cell_type": "code",
      "metadata": {
        "id": "Avhkq0MhRdD6",
        "colab": {
          "base_uri": "https://localhost:8080/",
          "height": 283
        },
        "outputId": "e0483b55-6b16-4a57-9da3-33c7c396aa8a"
      },
      "source": [
        "d['Pclass'].hist()"
      ],
      "execution_count": 12,
      "outputs": [
        {
          "output_type": "execute_result",
          "data": {
            "text/plain": [
              "<matplotlib.axes._subplots.AxesSubplot at 0x7fe3219c5d90>"
            ]
          },
          "metadata": {
            "tags": []
          },
          "execution_count": 12
        },
        {
          "output_type": "display_data",
          "data": {
            "image/png": "[encoded data removed]",
            "text/plain": [
              "<Figure size 432x288 with 1 Axes>"
            ]
          },
          "metadata": {
            "tags": [],
            "needs_background": "light"
          }
        }
      ]
    },
    {
      "cell_type": "markdown",
      "metadata": {
        "id": "K8LU4FWsRdD8"
      },
      "source": [
        "**Are young people more likely to survive?**"
      ]
    },
    {
      "cell_type": "code",
      "metadata": {
        "id": "crWMgrakRdD9",
        "colab": {
          "base_uri": "https://localhost:8080/",
          "height": 321
        },
        "outputId": "5e818abc-c547-4d42-b024-c2c92cc7e866"
      },
      "source": [
        "Child_sur= df[df['Age'] < 15]\r\n",
        "c = pd.crosstab(index=Child_sur['Survived'], columns='count')\r\n",
        "c.plot.pie(y ='count',figsize=(5, 5))\r\n",
        "#Yes"
      ],
      "execution_count": 43,
      "outputs": [
        {
          "output_type": "execute_result",
          "data": {
            "text/plain": [
              "<matplotlib.axes._subplots.AxesSubplot at 0x7fe313bdd3d0>"
            ]
          },
          "metadata": {
            "tags": []
          },
          "execution_count": 43
        },
        {
          "output_type": "display_data",
          "data": {
            "image/png": "[encoded data removed]",
            "text/plain": [
              "<Figure size 360x360 with 1 Axes>"
            ]
          },
          "metadata": {
            "tags": []
          }
        }
      ]
    },
    {
      "cell_type": "code",
      "metadata": {
        "id": "UOPtQf0qRdEA"
      },
      "source": [
        ""
      ],
      "execution_count": null,
      "outputs": []
    },
    {
      "cell_type": "markdown",
      "metadata": {
        "id": "B_8KxegNRdED"
      },
      "source": [
        "All the needed functionality for the above examples will be explained throughout this tutorial."
      ]
    },
    {
      "cell_type": "markdown",
      "metadata": {
        "id": "c15U4UkKRdEG"
      },
      "source": [
        "# Data structures\n",
        "\n",
        "Pandas provides two fundamental data objects, for 1D (``Series``) and 2D data (``DataFrame``)."
      ]
    },
    {
      "cell_type": "markdown",
      "metadata": {
        "id": "UOyCsWe6RdEH"
      },
      "source": [
        "## Series\n",
        "\n",
        "A Series is a basic holder for **one-dimensional labeled data**. It can be created much as a NumPy array is created:"
      ]
    },
    {
      "cell_type": "code",
      "metadata": {
        "id": "EcNUUumiRdEH"
      },
      "source": [
        "s = pd.Series([0.1, 0.2, 0.3, 0.4])\n",
        "s"
      ],
      "execution_count": null,
      "outputs": []
    },
    {
      "cell_type": "markdown",
      "metadata": {
        "id": "PFSSgnjFRdEK"
      },
      "source": [
        "### Attributes of a Series: `index` and `values`\n",
        "\n",
        "The series has a built-in concept of an **index**, which by default is the numbers *0* through *N - 1*"
      ]
    },
    {
      "cell_type": "code",
      "metadata": {
        "id": "QLYoZ1xgRdEL",
        "outputId": "b6f80a67-b3a0-4c52-bbdd-3cfded09f388"
      },
      "source": [
        "s.index"
      ],
      "execution_count": null,
      "outputs": [
        {
          "output_type": "execute_result",
          "data": {
            "text/plain": [
              "RangeIndex(start=0, stop=4, step=1)"
            ]
          },
          "metadata": {
            "tags": []
          },
          "execution_count": 11
        }
      ]
    },
    {
      "cell_type": "markdown",
      "metadata": {
        "id": "o2bs2ZpxRdEN"
      },
      "source": [
        "You can access the underlying numpy array representation with the `.values` attribute:"
      ]
    },
    {
      "cell_type": "code",
      "metadata": {
        "id": "bC3_75hkRdEN",
        "outputId": "70e214aa-dd8e-4753-b7aa-d68d6b3fb961"
      },
      "source": [
        "s.values"
      ],
      "execution_count": null,
      "outputs": [
        {
          "output_type": "execute_result",
          "data": {
            "text/plain": [
              "array([ 0.1,  0.2,  0.3,  0.4])"
            ]
          },
          "metadata": {
            "tags": []
          },
          "execution_count": 12
        }
      ]
    },
    {
      "cell_type": "markdown",
      "metadata": {
        "id": "zdENsTIbRdER"
      },
      "source": [
        "We can access series values via the index, just like for NumPy arrays:"
      ]
    },
    {
      "cell_type": "code",
      "metadata": {
        "id": "Iw54e_tRRdES",
        "outputId": "6ee1d51f-7f49-4ec6-f61f-6e056b7f3a56"
      },
      "source": [
        "s[0]"
      ],
      "execution_count": null,
      "outputs": [
        {
          "output_type": "execute_result",
          "data": {
            "text/plain": [
              "0.10000000000000001"
            ]
          },
          "metadata": {
            "tags": []
          },
          "execution_count": 13
        }
      ]
    },
    {
      "cell_type": "markdown",
      "metadata": {
        "id": "u6_FfHIRRdEU"
      },
      "source": [
        "Unlike the NumPy array, though, this index can be something other than integers:"
      ]
    },
    {
      "cell_type": "code",
      "metadata": {
        "id": "iVJ2UN8zRdEV",
        "outputId": "c957ec0a-47c5-44a1-b211-a996bac03afd"
      },
      "source": [
        "s2 = pd.Series(np.arange(4), index=['a', 'b', 'c', 'd'])\n",
        "s2"
      ],
      "execution_count": null,
      "outputs": [
        {
          "output_type": "execute_result",
          "data": {
            "text/plain": [
              "a    0\n",
              "b    1\n",
              "c    2\n",
              "d    3\n",
              "dtype: int64"
            ]
          },
          "metadata": {
            "tags": []
          },
          "execution_count": 14
        }
      ]
    },
    {
      "cell_type": "code",
      "metadata": {
        "id": "S9raEwFDRdEY",
        "outputId": "e3095382-eb12-45eb-c742-d9010f8761d7"
      },
      "source": [
        "s2['c']"
      ],
      "execution_count": null,
      "outputs": [
        {
          "output_type": "execute_result",
          "data": {
            "text/plain": [
              "2"
            ]
          },
          "metadata": {
            "tags": []
          },
          "execution_count": 15
        }
      ]
    },
    {
      "cell_type": "markdown",
      "metadata": {
        "id": "Q1NTNTugRdEb"
      },
      "source": [
        "In this way, a ``Series`` object can be thought of as similar to an ordered dictionary mapping one typed value to another typed value.\n",
        "\n",
        "In fact, it's possible to construct a series directly from a Python dictionary:"
      ]
    },
    {
      "cell_type": "code",
      "metadata": {
        "id": "n1cbosQgRdEc",
        "outputId": "12c3dd6f-d593-4946-d511-6649161d0484"
      },
      "source": [
        "pop_dict = {'Germany': 81.3, \n",
        "            'Belgium': 11.3, \n",
        "            'France': 64.3, \n",
        "            'United Kingdom': 64.9, \n",
        "            'Netherlands': 16.9}\n",
        "population = pd.Series(pop_dict)\n",
        "population"
      ],
      "execution_count": null,
      "outputs": [
        {
          "output_type": "execute_result",
          "data": {
            "text/plain": [
              "Belgium           11.3\n",
              "France            64.3\n",
              "Germany           81.3\n",
              "Netherlands       16.9\n",
              "United Kingdom    64.9\n",
              "dtype: float64"
            ]
          },
          "metadata": {
            "tags": []
          },
          "execution_count": 16
        }
      ]
    },
    {
      "cell_type": "markdown",
      "metadata": {
        "id": "oNCLHxX2RdEe"
      },
      "source": [
        "We can index the populations like a dict as expected:"
      ]
    },
    {
      "cell_type": "code",
      "metadata": {
        "id": "WUuxbuhGRdEf",
        "outputId": "b32fe54b-990a-4904-e8c6-0718f9f0250a"
      },
      "source": [
        "population['France']"
      ],
      "execution_count": null,
      "outputs": [
        {
          "output_type": "execute_result",
          "data": {
            "text/plain": [
              "64.299999999999997"
            ]
          },
          "metadata": {
            "tags": []
          },
          "execution_count": 17
        }
      ]
    },
    {
      "cell_type": "markdown",
      "metadata": {
        "id": "0ELcisRNRdEi"
      },
      "source": [
        "but with the power of numpy arrays:"
      ]
    },
    {
      "cell_type": "code",
      "metadata": {
        "id": "uB3ab8MmRdEj",
        "outputId": "1fcb3be3-efcc-4135-e402-6da231a6b589"
      },
      "source": [
        "population * 1000"
      ],
      "execution_count": null,
      "outputs": [
        {
          "output_type": "execute_result",
          "data": {
            "text/plain": [
              "Belgium           11300.0\n",
              "France            64300.0\n",
              "Germany           81300.0\n",
              "Netherlands       16900.0\n",
              "United Kingdom    64900.0\n",
              "dtype: float64"
            ]
          },
          "metadata": {
            "tags": []
          },
          "execution_count": 18
        }
      ]
    },
    {
      "cell_type": "markdown",
      "metadata": {
        "id": "Uc-Hn8C6RdEm"
      },
      "source": [
        "## DataFrames: Multi-dimensional Data\n",
        "\n",
        "A DataFrame is a **tablular data structure** (multi-dimensional object to hold labeled data) comprised of rows and columns, akin to a spreadsheet, database table, or R's data.frame object. You can think of it as multiple Series object which share the same index.\n"
      ]
    },
    {
      "cell_type": "markdown",
      "metadata": {
        "id": "r_QvzxjuRdEm"
      },
      "source": [
        "One of the most common ways of creating a dataframe is from a dictionary of arrays or lists.\n",
        "\n",
        "Note that in the IPython notebook, the dataframe will display in a rich HTML view:"
      ]
    },
    {
      "cell_type": "code",
      "metadata": {
        "id": "xJw6esGnRdEn",
        "outputId": "7b81f98f-e729-42e0-850c-31f01698099e"
      },
      "source": [
        "data = {'country': ['Belgium', 'France', 'Germany', 'Netherlands', 'United Kingdom'],\n",
        "        'population': [11.3, 64.3, 81.3, 16.9, 64.9],\n",
        "        'area': [30510, 671308, 357050, 41526, 244820],\n",
        "        'capital': ['Brussels', 'Paris', 'Berlin', 'Amsterdam', 'London']}\n",
        "countries = pd.DataFrame(data)\n",
        "countries"
      ],
      "execution_count": null,
      "outputs": [
        {
          "output_type": "execute_result",
          "data": {
            "text/html": [
              "<div>\n",
              "<table border=\"1\" class=\"dataframe\">\n",
              "  <thead>\n",
              "    <tr style=\"text-align: right;\">\n",
              "      <th></th>\n",
              "      <th>area</th>\n",
              "      <th>capital</th>\n",
              "      <th>country</th>\n",
              "      <th>population</th>\n",
              "    </tr>\n",
              "  </thead>\n",
              "  <tbody>\n",
              "    <tr>\n",
              "      <th>0</th>\n",
              "      <td>30510</td>\n",
              "      <td>Brussels</td>\n",
              "      <td>Belgium</td>\n",
              "      <td>11.3</td>\n",
              "    </tr>\n",
              "    <tr>\n",
              "      <th>1</th>\n",
              "      <td>671308</td>\n",
              "      <td>Paris</td>\n",
              "      <td>France</td>\n",
              "      <td>64.3</td>\n",
              "    </tr>\n",
              "    <tr>\n",
              "      <th>2</th>\n",
              "      <td>357050</td>\n",
              "      <td>Berlin</td>\n",
              "      <td>Germany</td>\n",
              "      <td>81.3</td>\n",
              "    </tr>\n",
              "    <tr>\n",
              "      <th>3</th>\n",
              "      <td>41526</td>\n",
              "      <td>Amsterdam</td>\n",
              "      <td>Netherlands</td>\n",
              "      <td>16.9</td>\n",
              "    </tr>\n",
              "    <tr>\n",
              "      <th>4</th>\n",
              "      <td>244820</td>\n",
              "      <td>London</td>\n",
              "      <td>United Kingdom</td>\n",
              "      <td>64.9</td>\n",
              "    </tr>\n",
              "  </tbody>\n",
              "</table>\n",
              "</div>"
            ],
            "text/plain": [
              "     area    capital         country  population\n",
              "0   30510   Brussels         Belgium        11.3\n",
              "1  671308      Paris          France        64.3\n",
              "2  357050     Berlin         Germany        81.3\n",
              "3   41526  Amsterdam     Netherlands        16.9\n",
              "4  244820     London  United Kingdom        64.9"
            ]
          },
          "metadata": {
            "tags": []
          },
          "execution_count": 19
        }
      ]
    },
    {
      "cell_type": "markdown",
      "metadata": {
        "id": "ZsuaZRE7RdEp"
      },
      "source": [
        "### Attributes of the DataFrame\n",
        "\n",
        "A DataFrame has besides a `index` attribute, also a `columns` attribute:"
      ]
    },
    {
      "cell_type": "code",
      "metadata": {
        "id": "uA9UpBT2RdEp",
        "outputId": "887c9181-4693-4dfd-e4db-97ab3dbcb67a"
      },
      "source": [
        "countries.index"
      ],
      "execution_count": null,
      "outputs": [
        {
          "output_type": "execute_result",
          "data": {
            "text/plain": [
              "RangeIndex(start=0, stop=5, step=1)"
            ]
          },
          "metadata": {
            "tags": []
          },
          "execution_count": 20
        }
      ]
    },
    {
      "cell_type": "code",
      "metadata": {
        "id": "Tg55KnTJRdEs",
        "outputId": "5fdeb08d-b4f2-4523-b310-ded4b6f0e9bf"
      },
      "source": [
        "countries.columns"
      ],
      "execution_count": null,
      "outputs": [
        {
          "output_type": "execute_result",
          "data": {
            "text/plain": [
              "Index(['area', 'capital', 'country', 'population'], dtype='object')"
            ]
          },
          "metadata": {
            "tags": []
          },
          "execution_count": 21
        }
      ]
    },
    {
      "cell_type": "markdown",
      "metadata": {
        "id": "aGwbdNFGRdEx"
      },
      "source": [
        "To check the data types of the different columns:"
      ]
    },
    {
      "cell_type": "code",
      "metadata": {
        "id": "m-75_Uc_RdEx",
        "outputId": "462e2f3b-df78-4c03-d5bb-40a2e10557ec"
      },
      "source": [
        "countries.dtypes"
      ],
      "execution_count": null,
      "outputs": [
        {
          "output_type": "execute_result",
          "data": {
            "text/plain": [
              "area            int64\n",
              "capital        object\n",
              "country        object\n",
              "population    float64\n",
              "dtype: object"
            ]
          },
          "metadata": {
            "tags": []
          },
          "execution_count": 22
        }
      ]
    },
    {
      "cell_type": "markdown",
      "metadata": {
        "id": "EB_Zir85RdE1"
      },
      "source": [
        "An overview of that information can be given with the `info()` method:"
      ]
    },
    {
      "cell_type": "code",
      "metadata": {
        "id": "MPZXw0yzRdE1",
        "outputId": "9b90f4df-52c8-4c08-9bd5-106c7223d0a6"
      },
      "source": [
        "countries.info()"
      ],
      "execution_count": null,
      "outputs": [
        {
          "output_type": "stream",
          "text": [
            "<class 'pandas.core.frame.DataFrame'>\n",
            "RangeIndex: 5 entries, 0 to 4\n",
            "Data columns (total 4 columns):\n",
            "area          5 non-null int64\n",
            "capital       5 non-null object\n",
            "country       5 non-null object\n",
            "population    5 non-null float64\n",
            "dtypes: float64(1), int64(1), object(2)\n",
            "memory usage: 240.0+ bytes\n"
          ],
          "name": "stdout"
        }
      ]
    },
    {
      "cell_type": "markdown",
      "metadata": {
        "id": "nMN_BpQfRdE4"
      },
      "source": [
        "Also a DataFrame has a `values` attribute, but attention: when you have heterogeneous data, all values will be upcasted:"
      ]
    },
    {
      "cell_type": "code",
      "metadata": {
        "id": "M11YdNsjRdE4",
        "outputId": "2de8b70d-dfe3-4b8c-9815-1de4f6645c66"
      },
      "source": [
        "countries.values"
      ],
      "execution_count": null,
      "outputs": [
        {
          "output_type": "execute_result",
          "data": {
            "text/plain": [
              "array([[30510, 'Brussels', 'Belgium', 11.3],\n",
              "       [671308, 'Paris', 'France', 64.3],\n",
              "       [357050, 'Berlin', 'Germany', 81.3],\n",
              "       [41526, 'Amsterdam', 'Netherlands', 16.9],\n",
              "       [244820, 'London', 'United Kingdom', 64.9]], dtype=object)"
            ]
          },
          "metadata": {
            "tags": []
          },
          "execution_count": 24
        }
      ]
    },
    {
      "cell_type": "markdown",
      "metadata": {
        "id": "NEp7cMDARdE7"
      },
      "source": [
        "If we don't like what the index looks like, we can reset it and set one of our columns:"
      ]
    },
    {
      "cell_type": "code",
      "metadata": {
        "id": "89yFGPLZRdE8",
        "outputId": "798900c5-dced-4603-fd8d-b8737614c664"
      },
      "source": [
        "countries = countries.set_index('country')\n",
        "countries"
      ],
      "execution_count": null,
      "outputs": [
        {
          "output_type": "execute_result",
          "data": {
            "text/html": [
              "<div>\n",
              "<table border=\"1\" class=\"dataframe\">\n",
              "  <thead>\n",
              "    <tr style=\"text-align: right;\">\n",
              "      <th></th>\n",
              "      <th>area</th>\n",
              "      <th>capital</th>\n",
              "      <th>population</th>\n",
              "    </tr>\n",
              "    <tr>\n",
              "      <th>country</th>\n",
              "      <th></th>\n",
              "      <th></th>\n",
              "      <th></th>\n",
              "    </tr>\n",
              "  </thead>\n",
              "  <tbody>\n",
              "    <tr>\n",
              "      <th>Belgium</th>\n",
              "      <td>30510</td>\n",
              "      <td>Brussels</td>\n",
              "      <td>11.3</td>\n",
              "    </tr>\n",
              "    <tr>\n",
              "      <th>France</th>\n",
              "      <td>671308</td>\n",
              "      <td>Paris</td>\n",
              "      <td>64.3</td>\n",
              "    </tr>\n",
              "    <tr>\n",
              "      <th>Germany</th>\n",
              "      <td>357050</td>\n",
              "      <td>Berlin</td>\n",
              "      <td>81.3</td>\n",
              "    </tr>\n",
              "    <tr>\n",
              "      <th>Netherlands</th>\n",
              "      <td>41526</td>\n",
              "      <td>Amsterdam</td>\n",
              "      <td>16.9</td>\n",
              "    </tr>\n",
              "    <tr>\n",
              "      <th>United Kingdom</th>\n",
              "      <td>244820</td>\n",
              "      <td>London</td>\n",
              "      <td>64.9</td>\n",
              "    </tr>\n",
              "  </tbody>\n",
              "</table>\n",
              "</div>"
            ],
            "text/plain": [
              "                  area    capital  population\n",
              "country                                      \n",
              "Belgium          30510   Brussels        11.3\n",
              "France          671308      Paris        64.3\n",
              "Germany         357050     Berlin        81.3\n",
              "Netherlands      41526  Amsterdam        16.9\n",
              "United Kingdom  244820     London        64.9"
            ]
          },
          "metadata": {
            "tags": []
          },
          "execution_count": 25
        }
      ]
    },
    {
      "cell_type": "markdown",
      "metadata": {
        "id": "qLggpLAbRdE-"
      },
      "source": [
        "To access a Series representing a column in the data, use typical indexing syntax:"
      ]
    },
    {
      "cell_type": "code",
      "metadata": {
        "id": "inIJ_G0KRdE_",
        "outputId": "20324278-2381-4958-ca39-a4b2ab0e3f14"
      },
      "source": [
        "countries['area']"
      ],
      "execution_count": null,
      "outputs": [
        {
          "output_type": "execute_result",
          "data": {
            "text/plain": [
              "country\n",
              "Belgium            30510\n",
              "France            671308\n",
              "Germany           357050\n",
              "Netherlands        41526\n",
              "United Kingdom    244820\n",
              "Name: area, dtype: int64"
            ]
          },
          "metadata": {
            "tags": []
          },
          "execution_count": 26
        }
      ]
    },
    {
      "cell_type": "markdown",
      "metadata": {
        "id": "GV8Hi-GqRdFC"
      },
      "source": [
        "# Basic operations on Series/Dataframes"
      ]
    },
    {
      "cell_type": "markdown",
      "metadata": {
        "id": "dDQbwGdWRdFC"
      },
      "source": [
        "As you play around with DataFrames, you'll notice that many operations which work on NumPy arrays will also work on dataframes.\n"
      ]
    },
    {
      "cell_type": "code",
      "metadata": {
        "id": "uxUzXn16RdFD"
      },
      "source": [
        "# redefining the example objects\n",
        "\n",
        "population = pd.Series({'Germany': 81.3, 'Belgium': 11.3, 'France': 64.3, \n",
        "                        'United Kingdom': 64.9, 'Netherlands': 16.9})\n",
        "\n",
        "countries = pd.DataFrame({'country': ['Belgium', 'France', 'Germany', 'Netherlands', 'United Kingdom'],\n",
        "        'population': [11.3, 64.3, 81.3, 16.9, 64.9],\n",
        "        'area': [30510, 671308, 357050, 41526, 244820],\n",
        "        'capital': ['Brussels', 'Paris', 'Berlin', 'Amsterdam', 'London']})"
      ],
      "execution_count": null,
      "outputs": []
    },
    {
      "cell_type": "markdown",
      "metadata": {
        "id": "m7OLLYxyRdFI"
      },
      "source": [
        "### Elementwise-operations (like numpy)"
      ]
    },
    {
      "cell_type": "markdown",
      "metadata": {
        "id": "X_We-XtIRdFI"
      },
      "source": [
        "Just like with numpy arrays, many operations are element-wise:"
      ]
    },
    {
      "cell_type": "code",
      "metadata": {
        "id": "UJS9QTQoRdFJ",
        "outputId": "0cd38a2d-5edf-43b9-a3c8-6324d485b457"
      },
      "source": [
        "population / 100"
      ],
      "execution_count": null,
      "outputs": [
        {
          "output_type": "execute_result",
          "data": {
            "text/plain": [
              "Belgium           0.113\n",
              "France            0.643\n",
              "Germany           0.813\n",
              "Netherlands       0.169\n",
              "United Kingdom    0.649\n",
              "dtype: float64"
            ]
          },
          "metadata": {
            "tags": []
          },
          "execution_count": 28
        }
      ]
    },
    {
      "cell_type": "code",
      "metadata": {
        "id": "eLFsMi7eRdFL",
        "outputId": "57a1fc74-1e6c-4bd0-dde8-a8c7b4a3c27f"
      },
      "source": [
        "countries['population'] / countries['area']"
      ],
      "execution_count": null,
      "outputs": [
        {
          "output_type": "execute_result",
          "data": {
            "text/plain": [
              "0    0.000370\n",
              "1    0.000096\n",
              "2    0.000228\n",
              "3    0.000407\n",
              "4    0.000265\n",
              "dtype: float64"
            ]
          },
          "metadata": {
            "tags": []
          },
          "execution_count": 29
        }
      ]
    },
    {
      "cell_type": "markdown",
      "metadata": {
        "id": "Ts2zhWs7RdFN"
      },
      "source": [
        "### Alignment! (unlike numpy)\n",
        "\n",
        "Only, pay attention to **alignment**: operations between series will align on the index:  "
      ]
    },
    {
      "cell_type": "code",
      "metadata": {
        "id": "GBtNO02ARdFO"
      },
      "source": [
        "s1 = population[['Belgium', 'France']]\n",
        "s2 = population[['France', 'Germany']]"
      ],
      "execution_count": null,
      "outputs": []
    },
    {
      "cell_type": "code",
      "metadata": {
        "id": "wMbLAsqIRdFS",
        "outputId": "4a2e80f1-8a0a-4810-91e1-a84dade7f1e5"
      },
      "source": [
        "s1"
      ],
      "execution_count": null,
      "outputs": [
        {
          "output_type": "execute_result",
          "data": {
            "text/plain": [
              "Belgium    11.3\n",
              "France     64.3\n",
              "dtype: float64"
            ]
          },
          "metadata": {
            "tags": []
          },
          "execution_count": 31
        }
      ]
    },
    {
      "cell_type": "code",
      "metadata": {
        "id": "fJOy9XY_RdFU",
        "outputId": "c3460656-5dcf-4de8-e4af-1e8b9d30c223"
      },
      "source": [
        "s2"
      ],
      "execution_count": null,
      "outputs": [
        {
          "output_type": "execute_result",
          "data": {
            "text/plain": [
              "France     64.3\n",
              "Germany    81.3\n",
              "dtype: float64"
            ]
          },
          "metadata": {
            "tags": []
          },
          "execution_count": 32
        }
      ]
    },
    {
      "cell_type": "code",
      "metadata": {
        "scrolled": true,
        "id": "DLHRZK_TRdFX",
        "outputId": "790e328c-e9f3-496e-c342-44e4be909fe5"
      },
      "source": [
        "s1 + s2"
      ],
      "execution_count": null,
      "outputs": [
        {
          "output_type": "execute_result",
          "data": {
            "text/plain": [
              "Belgium      NaN\n",
              "France     128.6\n",
              "Germany      NaN\n",
              "dtype: float64"
            ]
          },
          "metadata": {
            "tags": []
          },
          "execution_count": 33
        }
      ]
    },
    {
      "cell_type": "markdown",
      "metadata": {
        "id": "vwQ4U0uxRdFZ"
      },
      "source": [
        "### Reductions (like numpy)"
      ]
    },
    {
      "cell_type": "markdown",
      "metadata": {
        "id": "bP-eQABVRdFZ"
      },
      "source": [
        "The average population number:"
      ]
    },
    {
      "cell_type": "code",
      "metadata": {
        "id": "Zj10Ez0cRdFZ",
        "outputId": "3291c9f6-d073-437f-a582-cf43f2c3b0f7"
      },
      "source": [
        "population.mean()"
      ],
      "execution_count": null,
      "outputs": [
        {
          "output_type": "execute_result",
          "data": {
            "text/plain": [
              "47.739999999999995"
            ]
          },
          "metadata": {
            "tags": []
          },
          "execution_count": 34
        }
      ]
    },
    {
      "cell_type": "markdown",
      "metadata": {
        "id": "dWZKzZEXRdFd"
      },
      "source": [
        "The minimum area:"
      ]
    },
    {
      "cell_type": "code",
      "metadata": {
        "id": "VCkUpcf5RdFd",
        "outputId": "03a3ad6c-7b18-44fe-bd47-f0a46ca5524e"
      },
      "source": [
        "countries['area'].min()"
      ],
      "execution_count": null,
      "outputs": [
        {
          "output_type": "execute_result",
          "data": {
            "text/plain": [
              "30510"
            ]
          },
          "metadata": {
            "tags": []
          },
          "execution_count": 35
        }
      ]
    },
    {
      "cell_type": "markdown",
      "metadata": {
        "id": "PkbTwxu4RdFg"
      },
      "source": [
        "For dataframes, often only the numeric columns are included in the result:"
      ]
    },
    {
      "cell_type": "code",
      "metadata": {
        "id": "2fppX9NbRdFh",
        "outputId": "65613245-cab5-4cb0-bd58-9d299a490721"
      },
      "source": [
        "countries.median()"
      ],
      "execution_count": null,
      "outputs": [
        {
          "output_type": "execute_result",
          "data": {
            "text/plain": [
              "area          244820.0\n",
              "population        64.3\n",
              "dtype: float64"
            ]
          },
          "metadata": {
            "tags": []
          },
          "execution_count": 36
        }
      ]
    },
    {
      "cell_type": "markdown",
      "metadata": {
        "id": "Qdr7gRqWRdFl"
      },
      "source": [
        "## Practice 2\n",
        "\n",
        "**Calculate the population numbers relative to Belgium**\n"
      ]
    },
    {
      "cell_type": "code",
      "metadata": {
        "clear_cell": true,
        "scrolled": true,
        "id": "uYXWuQxZRdFm"
      },
      "source": [
        ""
      ],
      "execution_count": null,
      "outputs": []
    },
    {
      "cell_type": "markdown",
      "metadata": {
        "id": "sN7idsdWRdFp"
      },
      "source": [
        "**Calculate the population density for each country and add this as a new column to the dataframe.**"
      ]
    },
    {
      "cell_type": "code",
      "metadata": {
        "clear_cell": true,
        "scrolled": true,
        "id": "qeJzl5ytRdFp"
      },
      "source": [
        ""
      ],
      "execution_count": null,
      "outputs": []
    },
    {
      "cell_type": "code",
      "metadata": {
        "clear_cell": true,
        "scrolled": true,
        "id": "7x5cywYYRdFs"
      },
      "source": [
        ""
      ],
      "execution_count": null,
      "outputs": []
    },
    {
      "cell_type": "markdown",
      "metadata": {
        "id": "rSxWuwRwRdFv"
      },
      "source": [
        "### Some other useful methods"
      ]
    },
    {
      "cell_type": "markdown",
      "metadata": {
        "id": "BsoDABFlRdFv"
      },
      "source": [
        "Sorting the rows of the DataFrame according to the values in a column:"
      ]
    },
    {
      "cell_type": "code",
      "metadata": {
        "id": "sLwHLj1pRdFw",
        "outputId": "88437f63-5090-477c-c8de-69575b15d595"
      },
      "source": [
        "countries.sort_values('density', ascending=False)"
      ],
      "execution_count": null,
      "outputs": [
        {
          "output_type": "execute_result",
          "data": {
            "text/html": [
              "<div>\n",
              "<table border=\"1\" class=\"dataframe\">\n",
              "  <thead>\n",
              "    <tr style=\"text-align: right;\">\n",
              "      <th></th>\n",
              "      <th>area</th>\n",
              "      <th>capital</th>\n",
              "      <th>country</th>\n",
              "      <th>population</th>\n",
              "      <th>density</th>\n",
              "    </tr>\n",
              "  </thead>\n",
              "  <tbody>\n",
              "    <tr>\n",
              "      <th>3</th>\n",
              "      <td>41526</td>\n",
              "      <td>Amsterdam</td>\n",
              "      <td>Netherlands</td>\n",
              "      <td>16.9</td>\n",
              "      <td>406.973944</td>\n",
              "    </tr>\n",
              "    <tr>\n",
              "      <th>0</th>\n",
              "      <td>30510</td>\n",
              "      <td>Brussels</td>\n",
              "      <td>Belgium</td>\n",
              "      <td>11.3</td>\n",
              "      <td>370.370370</td>\n",
              "    </tr>\n",
              "    <tr>\n",
              "      <th>4</th>\n",
              "      <td>244820</td>\n",
              "      <td>London</td>\n",
              "      <td>United Kingdom</td>\n",
              "      <td>64.9</td>\n",
              "      <td>265.092721</td>\n",
              "    </tr>\n",
              "    <tr>\n",
              "      <th>2</th>\n",
              "      <td>357050</td>\n",
              "      <td>Berlin</td>\n",
              "      <td>Germany</td>\n",
              "      <td>81.3</td>\n",
              "      <td>227.699202</td>\n",
              "    </tr>\n",
              "    <tr>\n",
              "      <th>1</th>\n",
              "      <td>671308</td>\n",
              "      <td>Paris</td>\n",
              "      <td>France</td>\n",
              "      <td>64.3</td>\n",
              "      <td>95.783158</td>\n",
              "    </tr>\n",
              "  </tbody>\n",
              "</table>\n",
              "</div>"
            ],
            "text/plain": [
              "     area    capital         country  population     density\n",
              "3   41526  Amsterdam     Netherlands        16.9  406.973944\n",
              "0   30510   Brussels         Belgium        11.3  370.370370\n",
              "4  244820     London  United Kingdom        64.9  265.092721\n",
              "2  357050     Berlin         Germany        81.3  227.699202\n",
              "1  671308      Paris          France        64.3   95.783158"
            ]
          },
          "metadata": {
            "tags": []
          },
          "execution_count": 40
        }
      ]
    },
    {
      "cell_type": "markdown",
      "metadata": {
        "id": "fEAz7p93RdFy"
      },
      "source": [
        "One useful method to use is the ``describe`` method, which computes summary statistics for each column:"
      ]
    },
    {
      "cell_type": "code",
      "metadata": {
        "id": "MU3rRm1QRdFy",
        "outputId": "ade57fef-e684-479e-9875-6acb64d494c4"
      },
      "source": [
        "countries.describe()"
      ],
      "execution_count": null,
      "outputs": [
        {
          "output_type": "execute_result",
          "data": {
            "text/html": [
              "<div>\n",
              "<table border=\"1\" class=\"dataframe\">\n",
              "  <thead>\n",
              "    <tr style=\"text-align: right;\">\n",
              "      <th></th>\n",
              "      <th>area</th>\n",
              "      <th>population</th>\n",
              "      <th>density</th>\n",
              "    </tr>\n",
              "  </thead>\n",
              "  <tbody>\n",
              "    <tr>\n",
              "      <th>count</th>\n",
              "      <td>5.000000</td>\n",
              "      <td>5.000000</td>\n",
              "      <td>5.000000</td>\n",
              "    </tr>\n",
              "    <tr>\n",
              "      <th>mean</th>\n",
              "      <td>269042.800000</td>\n",
              "      <td>47.740000</td>\n",
              "      <td>273.183879</td>\n",
              "    </tr>\n",
              "    <tr>\n",
              "      <th>std</th>\n",
              "      <td>264012.827994</td>\n",
              "      <td>31.519645</td>\n",
              "      <td>123.440607</td>\n",
              "    </tr>\n",
              "    <tr>\n",
              "      <th>min</th>\n",
              "      <td>30510.000000</td>\n",
              "      <td>11.300000</td>\n",
              "      <td>95.783158</td>\n",
              "    </tr>\n",
              "    <tr>\n",
              "      <th>25%</th>\n",
              "      <td>41526.000000</td>\n",
              "      <td>16.900000</td>\n",
              "      <td>227.699202</td>\n",
              "    </tr>\n",
              "    <tr>\n",
              "      <th>50%</th>\n",
              "      <td>244820.000000</td>\n",
              "      <td>64.300000</td>\n",
              "      <td>265.092721</td>\n",
              "    </tr>\n",
              "    <tr>\n",
              "      <th>75%</th>\n",
              "      <td>357050.000000</td>\n",
              "      <td>64.900000</td>\n",
              "      <td>370.370370</td>\n",
              "    </tr>\n",
              "    <tr>\n",
              "      <th>max</th>\n",
              "      <td>671308.000000</td>\n",
              "      <td>81.300000</td>\n",
              "      <td>406.973944</td>\n",
              "    </tr>\n",
              "  </tbody>\n",
              "</table>\n",
              "</div>"
            ],
            "text/plain": [
              "                area  population     density\n",
              "count       5.000000    5.000000    5.000000\n",
              "mean   269042.800000   47.740000  273.183879\n",
              "std    264012.827994   31.519645  123.440607\n",
              "min     30510.000000   11.300000   95.783158\n",
              "25%     41526.000000   16.900000  227.699202\n",
              "50%    244820.000000   64.300000  265.092721\n",
              "75%    357050.000000   64.900000  370.370370\n",
              "max    671308.000000   81.300000  406.973944"
            ]
          },
          "metadata": {
            "tags": []
          },
          "execution_count": 41
        }
      ]
    },
    {
      "cell_type": "markdown",
      "metadata": {
        "id": "g6JKp9zVRdF0"
      },
      "source": [
        "The `plot` method can be used to quickly visualize the data in different ways:"
      ]
    },
    {
      "cell_type": "code",
      "metadata": {
        "id": "6hRMBSE4RdF0",
        "outputId": "4818533b-053d-4bc6-d9e4-508ee58fd2bb"
      },
      "source": [
        "countries.plot()"
      ],
      "execution_count": null,
      "outputs": [
        {
          "output_type": "execute_result",
          "data": {
            "text/plain": [
              "<matplotlib.axes._subplots.AxesSubplot at 0x7fa70cd3f080>"
            ]
          },
          "metadata": {
            "tags": []
          },
          "execution_count": 42
        },
        {
          "output_type": "display_data",
          "data": {
            "image/png": "[encoded data removed]",
            "text/plain": [
              "<matplotlib.figure.Figure at 0x7fa70cccc048>"
            ]
          },
          "metadata": {
            "tags": []
          }
        }
      ]
    },
    {
      "cell_type": "markdown",
      "metadata": {
        "id": "5alnz_9BRdF3"
      },
      "source": [
        "However, for this dataset, it does not say that much:"
      ]
    },
    {
      "cell_type": "code",
      "metadata": {
        "id": "RR1-DIRwRdF3",
        "outputId": "bf73f968-fa86-4d55-8017-83a05cb92e5d"
      },
      "source": [
        "countries['population'].plot(kind='bar')"
      ],
      "execution_count": null,
      "outputs": [
        {
          "output_type": "execute_result",
          "data": {
            "text/plain": [
              "<matplotlib.axes._subplots.AxesSubplot at 0x7fa70cc213c8>"
            ]
          },
          "metadata": {
            "tags": []
          },
          "execution_count": 43
        },
        {
          "output_type": "display_data",
          "data": {
            "image/png": "[encoded data removed]",
            "text/plain": [
              "<matplotlib.figure.Figure at 0x7fa70cd50a20>"
            ]
          },
          "metadata": {
            "tags": []
          }
        }
      ]
    },
    {
      "cell_type": "markdown",
      "metadata": {
        "id": "T2FF7dNZRdF6"
      },
      "source": [
        "You can play with the `kind` keyword: 'line', 'bar', 'hist', 'density', 'area', 'pie', 'scatter', 'hexbin'"
      ]
    },
    {
      "cell_type": "markdown",
      "metadata": {
        "id": "OpDmGqOpRdF6"
      },
      "source": [
        "## Importing and exporting data"
      ]
    },
    {
      "cell_type": "markdown",
      "metadata": {
        "id": "ltSrPksKRdF6"
      },
      "source": [
        "A wide range of input/output formats are natively supported by pandas:\n",
        "\n",
        "* CSV, text\n",
        "* SQL database\n",
        "* Excel\n",
        "* HDF5\n",
        "* json\n",
        "* html\n",
        "* pickle\n",
        "* ..."
      ]
    },
    {
      "cell_type": "code",
      "metadata": {
        "id": "kWModnk8RdF7"
      },
      "source": [
        "pd.read"
      ],
      "execution_count": null,
      "outputs": []
    },
    {
      "cell_type": "code",
      "metadata": {
        "id": "W_T6t4XtRdF_"
      },
      "source": [
        "states.to"
      ],
      "execution_count": null,
      "outputs": []
    },
    {
      "cell_type": "markdown",
      "metadata": {
        "id": "YpFhxABRRdGB"
      },
      "source": [
        "## Other features\n",
        "\n",
        "* Working with missing data (`.dropna()`, `pd.isnull()`)\n",
        "* Merging and joining (`concat`, `join`)\n",
        "* Grouping: `groupby` functionality\n",
        "* Reshaping (`stack`, `pivot`)\n",
        "* Time series manipulation (resampling, timezones, ..)\n",
        "* Easy plotting"
      ]
    },
    {
      "cell_type": "markdown",
      "metadata": {
        "id": "nlwkBZYiRdGC"
      },
      "source": [
        "There are many, many more interesting operations that can be done on Series and DataFrame objects, but rather than continue using this toy data, we'll instead move to a real-world example, and illustrate some of the advanced concepts along the way.\n",
        "\n",
        "See the next notebooks!"
      ]
    },
    {
      "cell_type": "markdown",
      "metadata": {
        "collapsed": true,
        "id": "pET_vKhxRdGC"
      },
      "source": [
        "## Acknowledgement\n",
        "\n",
        "> *© 2015, Stijn Van Hoey and Joris Van den Bossche  (<mailto:stijnvanhoey@gmail.com>, <mailto:jorisvandenbossche@gmail.com>). Licensed under [CC BY 4.0 Creative Commons](http://creativecommons.org/licenses/by/4.0/)*\n",
        "\n",
        "> This notebook is partly based on material of Jake Vanderplas (https://github.com/jakevdp/OsloWorkshop2014).\n",
        "\n",
        "---"
      ]
    }
  ]
}
